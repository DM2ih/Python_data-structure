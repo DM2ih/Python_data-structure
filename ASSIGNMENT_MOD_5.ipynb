{
  "nbformat": 4,
  "nbformat_minor": 0,
  "metadata": {
    "colab": {
      "provenance": []
    },
    "kernelspec": {
      "name": "python3",
      "display_name": "Python 3"
    },
    "language_info": {
      "name": "python"
    }
  },
  "cells": [
    {
      "cell_type": "markdown",
      "source": [
        "#ASSIGNMENT OF MODULE 5\n",
        "\n",
        "\n",
        "#THEORY QUESTIONS"
      ],
      "metadata": {
        "id": "Xh2ZUwM4kwIb"
      }
    },
    {
      "cell_type": "markdown",
      "source": [
        "1) What is the difference between a function and a method in Python?"
      ],
      "metadata": {
        "id": "S87ZVis6ksAQ"
      }
    },
    {
      "cell_type": "markdown",
      "source": [
        "In Python, both functions and methods are blocks of reusable code designed to perform a specific task. The key difference lies in their association:\n",
        "\n",
        "*   Function: A function is an independent block of code that is defined outside of any class. It can be called directly by its name.​\n",
        "\n",
        "Example:"
      ],
      "metadata": {
        "id": "6d6EkzAAkr8y"
      }
    },
    {
      "cell_type": "code",
      "source": [
        "  def greet(name):\n",
        "      return f\"Hello, {name}!\"\n",
        "\n",
        "  print(greet(\"Alice\"))  # Output: Hello, Alice!\n"
      ],
      "metadata": {
        "colab": {
          "base_uri": "https://localhost:8080/"
        },
        "id": "kpJ_81RVXGEV",
        "outputId": "771bc9e3-9a0b-4d48-a769-f31543313604"
      },
      "execution_count": null,
      "outputs": [
        {
          "output_type": "stream",
          "name": "stdout",
          "text": [
            "Hello, Alice!\n"
          ]
        }
      ]
    },
    {
      "cell_type": "markdown",
      "source": [
        "*   Method: A method is a function that is associated with an object; it is defined within a class and is called on instances of that class. Methods have access to the data contained within the class and can modify the object's state.​\n",
        "\n",
        "Example:"
      ],
      "metadata": {
        "id": "4v5T8G3xXMb_"
      }
    },
    {
      "cell_type": "code",
      "source": [
        "  class Greeter:\n",
        "      def __init__(self, name):\n",
        "          self.name = name\n",
        "\n",
        "      def greet(self):\n",
        "          return f\"Hello, {self.name}!\"\n",
        "\n",
        "  greeter = Greeter(\"Bob\")\n",
        "  print(greeter.greet())  # Output: Hello, Bob!\n"
      ],
      "metadata": {
        "colab": {
          "base_uri": "https://localhost:8080/"
        },
        "id": "mWvsLPqyXeF_",
        "outputId": "995aee75-10a0-4ade-c9a6-4ca6e6b72bf8"
      },
      "execution_count": null,
      "outputs": [
        {
          "output_type": "stream",
          "name": "stdout",
          "text": [
            "Hello, Bob!\n"
          ]
        }
      ]
    },
    {
      "cell_type": "markdown",
      "source": [
        "In this example, greet is a method because it is defined within the Greeter class and operates on an instance of that class"
      ],
      "metadata": {
        "id": "TX6jg7vQXjTy"
      }
    },
    {
      "cell_type": "markdown",
      "source": [
        "2) Explain the concept of function arguments and parameters in Python."
      ],
      "metadata": {
        "id": "RV1JvVFqksbk"
      }
    },
    {
      "cell_type": "markdown",
      "source": [
        "In Python, the terms parameters and arguments are related but distinct:​\n",
        "\n",
        "*   Parameter: A parameter is a variable listed inside the parentheses in the function definition. It acts as a placeholder for the value that will be passed to the function.​\n",
        "\n",
        "*   Argument: An argument is the actual value that is passed to the function when it is called."
      ],
      "metadata": {
        "id": "rtX9gs2skr6V"
      }
    },
    {
      "cell_type": "code",
      "source": [
        "def add(a, b):  # 'a' and 'b' are parameters\n",
        "    return a + b\n",
        "\n",
        "result = add(5, 3)  # 5 and 3 are arguments\n",
        "print(result)  # Output: 8\n"
      ],
      "metadata": {
        "colab": {
          "base_uri": "https://localhost:8080/"
        },
        "id": "YYx5KkIVX7j8",
        "outputId": "4f2bed2b-1bb1-472d-ed9a-f0fcc3ac466f"
      },
      "execution_count": null,
      "outputs": [
        {
          "output_type": "stream",
          "name": "stdout",
          "text": [
            "8\n"
          ]
        }
      ]
    },
    {
      "cell_type": "markdown",
      "source": [
        "In this function, a and b are parameters, while 5 and 3 are the arguments provided during the function call"
      ],
      "metadata": {
        "id": "ufAGr_7PYBtD"
      }
    },
    {
      "cell_type": "markdown",
      "source": [
        "3) What are the different ways to define and call a function in Python?"
      ],
      "metadata": {
        "id": "8VzPY9kNkr3i"
      }
    },
    {
      "cell_type": "markdown",
      "source": [
        "Python allows for various ways to define and call functions:​\n",
        "\n",
        "*   Positional Arguments: Arguments are matched to parameters based on their position.​\n",
        "\n",
        "Example:"
      ],
      "metadata": {
        "id": "LnZgli38kr1F"
      }
    },
    {
      "cell_type": "code",
      "source": [
        "  def describe_pet(animal, name):\n",
        "      print(f\"I have a {animal} named {name}.\")\n",
        "\n",
        "  describe_pet('dog', 'Buddy')\n",
        "  # Output: I have a dog named Buddy.\n"
      ],
      "metadata": {
        "colab": {
          "base_uri": "https://localhost:8080/"
        },
        "id": "BPqB2kkkYS_p",
        "outputId": "c3b3612b-1b09-41bf-f742-f080f490efa1"
      },
      "execution_count": null,
      "outputs": [
        {
          "output_type": "stream",
          "name": "stdout",
          "text": [
            "I have a dog named Buddy.\n"
          ]
        }
      ]
    },
    {
      "cell_type": "markdown",
      "source": [
        "*   Keyword Arguments: Arguments are passed using parameter names, allowing them to be provided in any order.​\n",
        "Wikipedia\n",
        "\n",
        "Example:"
      ],
      "metadata": {
        "id": "Pd95tC5DYXlF"
      }
    },
    {
      "cell_type": "code",
      "source": [
        "  describe_pet(name='Whiskers', animal='cat')\n",
        "  # Output: I have a cat named Whiskers.\n"
      ],
      "metadata": {
        "colab": {
          "base_uri": "https://localhost:8080/"
        },
        "id": "Xv-r1vbmYhaL",
        "outputId": "124f5091-e5e0-46a7-caf0-e725dadb9ba1"
      },
      "execution_count": null,
      "outputs": [
        {
          "output_type": "stream",
          "name": "stdout",
          "text": [
            "I have a cat named Whiskers.\n"
          ]
        }
      ]
    },
    {
      "cell_type": "markdown",
      "source": [
        "*   Default Parameters: Parameters can have default values, which are used if no argument is provided for that parameter.​\n",
        "\n",
        "Example:"
      ],
      "metadata": {
        "id": "cERmvJRRYm33"
      }
    },
    {
      "cell_type": "code",
      "source": [
        "  def describe_pet(animal='dog', name='Rex'):\n",
        "      print(f\"I have a {animal} named {name}.\")\n",
        "\n",
        "  describe_pet()  # Uses default values\n",
        "  # Output: I have a dog named Rex.\n"
      ],
      "metadata": {
        "colab": {
          "base_uri": "https://localhost:8080/"
        },
        "id": "y8gvc8evYwxm",
        "outputId": "69e13913-0935-482f-f698-59f718ba0d0f"
      },
      "execution_count": null,
      "outputs": [
        {
          "output_type": "stream",
          "name": "stdout",
          "text": [
            "I have a dog named Rex.\n"
          ]
        }
      ]
    },
    {
      "cell_type": "markdown",
      "source": [
        "*   Arbitrary Arguments: Functions can accept a variable number of arguments using *args for non-keyword arguments and **kwargs for keyword arguments\n",
        "\n",
        "example:"
      ],
      "metadata": {
        "id": "DtE5sAh8Y3qT"
      }
    },
    {
      "cell_type": "code",
      "source": [
        "  def make_pizza(size, *toppings):\n",
        "      print(f\"Making a {size}-inch pizza with the following toppings:\")\n",
        "      for topping in toppings:\n",
        "          print(f\"- {topping}\")\n",
        "\n",
        "  make_pizza(12, 'pepperoni', 'mushrooms', 'green peppers')\n",
        "  # Output:\n",
        "  # Making a 12-inch pizza with the following toppings:\n",
        "  # - pepperoni\n",
        "  # - mushrooms\n",
        "  # - green peppers\n"
      ],
      "metadata": {
        "colab": {
          "base_uri": "https://localhost:8080/"
        },
        "id": "UQBFfPpdZBsw",
        "outputId": "a7d708e2-08c3-400e-ed81-9359d6ca2ca8"
      },
      "execution_count": null,
      "outputs": [
        {
          "output_type": "stream",
          "name": "stdout",
          "text": [
            "Making a 12-inch pizza with the following toppings:\n",
            "- pepperoni\n",
            "- mushrooms\n",
            "- green peppers\n"
          ]
        }
      ]
    },
    {
      "cell_type": "markdown",
      "source": [
        "4) What is the purpose of the \"return statement in a Python function?"
      ],
      "metadata": {
        "id": "foj2J7yOkryP"
      }
    },
    {
      "cell_type": "markdown",
      "source": [
        "The return statement is used to exit a function and send a value back to the caller. It allows a function to produce an output that can be used elsewhere in the program.​\n",
        "\n",
        "Example:"
      ],
      "metadata": {
        "id": "dxqJ863nkrvb"
      }
    },
    {
      "cell_type": "code",
      "source": [
        "def square(number):\n",
        "    return number * number\n",
        "\n",
        "result = square(4)\n",
        "print(result)  # Output: 16\n"
      ],
      "metadata": {
        "colab": {
          "base_uri": "https://localhost:8080/"
        },
        "id": "v6GXwDZ7ZRIF",
        "outputId": "09ebf7d8-a983-47e0-e284-7df6b0d409ad"
      },
      "execution_count": null,
      "outputs": [
        {
          "output_type": "stream",
          "name": "stdout",
          "text": [
            "16\n"
          ]
        }
      ]
    },
    {
      "cell_type": "markdown",
      "source": [
        "If a function does not have a return statement, it returns None by default.​"
      ],
      "metadata": {
        "id": "MeEv7j0vZVj7"
      }
    },
    {
      "cell_type": "markdown",
      "source": [
        "5) What are iterators in Python and how do they differ from iterables?"
      ],
      "metadata": {
        "id": "43_72Thekrsn"
      }
    },
    {
      "cell_type": "markdown",
      "source": [
        "In Python:​\n",
        "\n",
        "*  Iterable: An iterable is any Python object capable of returning its members one at a time, allowing it to be looped over in a for loop. Common examples include lists, tuples, and strings.​\n",
        "\n",
        "*   Iterator: An iterator is an object that implements the iterator protocol, consisting of the methods __iter__() and __next__(). Iterators produce the next value when called with next() and raise a StopIteration exception when there are no more items to return.​\n",
        "\n",
        "Example:"
      ],
      "metadata": {
        "id": "QxuM8Waskrp5"
      }
    },
    {
      "cell_type": "code",
      "source": [
        "# Iterable\n",
        "my_list = [1, 2, 3]\n",
        "\n",
        "# Creating an iterator from the iterable\n",
        "my_iterator = iter(my_list)\n",
        "\n",
        "print(next(my_iterator))  # Output: 1\n",
        "print(next(my_iterator))  # Output: 2\n",
        "print(next(my_iterator))  # Output: 3\n",
        "# next(my_iterator) would raise StopIteration\n"
      ],
      "metadata": {
        "colab": {
          "base_uri": "https://localhost:8080/"
        },
        "id": "ipsEvhruZjlw",
        "outputId": "26131dc2-ad14-4614-981f-d9a6f2626d3c"
      },
      "execution_count": null,
      "outputs": [
        {
          "output_type": "stream",
          "name": "stdout",
          "text": [
            "1\n",
            "2\n",
            "3\n"
          ]
        }
      ]
    },
    {
      "cell_type": "markdown",
      "source": [
        "All iterators are iterable, but not all iterables are iterators. An iterable can be converted into an iterator using the iter() function."
      ],
      "metadata": {
        "id": "29A40gw6Zrb-"
      }
    },
    {
      "cell_type": "markdown",
      "source": [
        "6) Explain the concept of generators in Python and how they are defined."
      ],
      "metadata": {
        "id": "F6NxQucikrm6"
      }
    },
    {
      "cell_type": "markdown",
      "source": [
        "Generators in Python are a powerful tool for creating iterators that yield items one at a time, allowing for efficient looping over large or even infinite sequences without storing the entire sequence in memory. They are defined using functions that contain the yield keyword. Each time yield is called, the function's state is saved, and the yielded value is returned to the caller. Execution resumes from this state on the next call.​\n",
        "\n",
        "Example:"
      ],
      "metadata": {
        "id": "IAgCyOn1krkP"
      }
    },
    {
      "cell_type": "code",
      "source": [
        "def countdown(num):\n",
        "    print(\"Starting countdown\")\n",
        "    while num > 0:\n",
        "        yield num\n",
        "        num -= 1\n",
        "\n",
        "# Using the generator\n",
        "for number in countdown(5):\n",
        "    print(number)\n"
      ],
      "metadata": {
        "colab": {
          "base_uri": "https://localhost:8080/"
        },
        "id": "EacT9TQ6Z6NN",
        "outputId": "a6113c42-a94e-42ca-c173-0670cf2548dd"
      },
      "execution_count": null,
      "outputs": [
        {
          "output_type": "stream",
          "name": "stdout",
          "text": [
            "Starting countdown\n",
            "5\n",
            "4\n",
            "3\n",
            "2\n",
            "1\n"
          ]
        }
      ]
    },
    {
      "cell_type": "markdown",
      "source": [
        "In this example, the countdown function is a generator that counts down from the given number to 1. Each iteration yields the current value of num and then decrements it. The state of the function is preserved between yields, allowing the countdown to proceed without recomputing previous values."
      ],
      "metadata": {
        "id": "wcdY_aA2aA9T"
      }
    },
    {
      "cell_type": "markdown",
      "source": [
        "7) What are the advantages of using generators over regular functions?"
      ],
      "metadata": {
        "id": "bO2377fPkrhq"
      }
    },
    {
      "cell_type": "markdown",
      "source": [
        "Generators offer several advantages over regular functions, especially when dealing with large datasets or streams of data:​\n",
        "\n",
        "*   Memory Efficiency: Generators yield items one at a time, which means they don't require the entire dataset to be stored in memory. This is particularly beneficial when working with large files or data streams.​\n",
        "\n",
        "*   Lazy Evaluation: Generators compute values on the fly and yield them as needed. This allows for efficient computation, especially when the complete dataset isn't required all at once.​\n",
        "\n",
        "*   Improved Performance: Since generators produce items only when required, they can lead to performance improvements by reducing the overhead associated with creating and storing large data structures."
      ],
      "metadata": {
        "id": "tkTIbHJXkrfB"
      }
    },
    {
      "cell_type": "code",
      "source": [
        "def square_numbers(nums):\n",
        "    for i in nums:\n",
        "        yield i * i\n",
        "\n",
        "my_nums = square_numbers([1, 2, 3, 4, 5])\n",
        "\n",
        "for num in my_nums:\n",
        "    print(num)\n"
      ],
      "metadata": {
        "colab": {
          "base_uri": "https://localhost:8080/"
        },
        "id": "dIDNbaMiaWmv",
        "outputId": "2cc6fe79-182e-4067-892f-8a80e6d969c2"
      },
      "execution_count": null,
      "outputs": [
        {
          "output_type": "stream",
          "name": "stdout",
          "text": [
            "1\n",
            "4\n",
            "9\n",
            "16\n",
            "25\n"
          ]
        }
      ]
    },
    {
      "cell_type": "markdown",
      "source": [
        "In this example, the square_numbers generator computes the square of each number in the input list as needed, without storing the entire list of squared numbers in memory."
      ],
      "metadata": {
        "id": "LzyR6V8Hacav"
      }
    },
    {
      "cell_type": "markdown",
      "source": [
        "8) What is a lambda function in Python and when is it typically used?"
      ],
      "metadata": {
        "id": "S16iQ1p2krbf"
      }
    },
    {
      "cell_type": "markdown",
      "source": [
        "A lambda function in Python is an anonymous, small function defined using the lambda keyword. Lambda functions can have any number of arguments but only one expression. They are used when a simple function is needed for a short period, typically as an argument to higher-order functions that expect a function object.​\n",
        "\n",
        "Syntax:\n",
        "\n",
        "lambda arguments: expression\n",
        "\n",
        "example:"
      ],
      "metadata": {
        "id": "frhNYncRkrVu"
      }
    },
    {
      "cell_type": "code",
      "source": [
        "# Regular function\n",
        "def add(x, y):\n",
        "    return x + y\n",
        "\n",
        "# Equivalent lambda function\n",
        "add_lambda = lambda x, y: x + y\n",
        "\n",
        "print(add(5, 3))         # Output: 8\n",
        "print(add_lambda(5, 3))  # Output: 8\n"
      ],
      "metadata": {
        "colab": {
          "base_uri": "https://localhost:8080/"
        },
        "id": "4KPZyMyfaxF5",
        "outputId": "5c187134-88cb-48d5-a9db-605669dbc091"
      },
      "execution_count": null,
      "outputs": [
        {
          "output_type": "stream",
          "name": "stdout",
          "text": [
            "8\n",
            "8\n"
          ]
        }
      ]
    },
    {
      "cell_type": "markdown",
      "source": [
        "Lambda functions are commonly used with functions like map(), filter(), and sorted() where a small function is required for a short duration.​\n",
        "\n",
        "Example with map():"
      ],
      "metadata": {
        "id": "41KM5fGka5sU"
      }
    },
    {
      "cell_type": "code",
      "source": [
        "numbers = [1, 2, 3, 4, 5]\n",
        "squared = map(lambda x: x ** 2, numbers)\n",
        "print(list(squared))  # Output: [1, 4, 9, 16, 25]\n"
      ],
      "metadata": {
        "colab": {
          "base_uri": "https://localhost:8080/"
        },
        "id": "N-Oq0WHzbCvJ",
        "outputId": "3031f931-1f4c-4f28-8cd6-0a97374dbdb1"
      },
      "execution_count": null,
      "outputs": [
        {
          "output_type": "stream",
          "name": "stdout",
          "text": [
            "[1, 4, 9, 16, 25]\n"
          ]
        }
      ]
    },
    {
      "cell_type": "markdown",
      "source": [
        "In this case, the lambda function squares each element in the numbers list."
      ],
      "metadata": {
        "id": "1CCB3PzFbIaI"
      }
    },
    {
      "cell_type": "markdown",
      "source": [
        "9) Explain the purpose and usage of the 'map() function in Python."
      ],
      "metadata": {
        "id": "4Ca8EXJIkrSv"
      }
    },
    {
      "cell_type": "markdown",
      "source": [
        "The map() function in Python applies a given function to all items in an iterable (such as a list) and returns a map object (an iterator) containing the results. It's used when you want to transform all items in an iterable without writing an explicit loop.​\n",
        "\n",
        "Syntax:\n",
        "\n",
        "map(function, iterable, ...)\n"
      ],
      "metadata": {
        "id": "wnF94vrdkrQp"
      }
    },
    {
      "cell_type": "markdown",
      "source": [
        "*   function: The function to apply to each item.​\n",
        "\n",
        "*   iterable: The iterable whose items the function will be applied to.​\n",
        "\n",
        "Example:"
      ],
      "metadata": {
        "id": "VUTRTXrfbdel"
      }
    },
    {
      "cell_type": "code",
      "source": [
        "def square(x):\n",
        "    return x ** 2\n",
        "\n",
        "numbers = [1, 2, 3, 4, 5]\n",
        "squared_numbers = map(square, numbers)\n",
        "\n",
        "print(list(squared_numbers))  # Output: [1, 4, 9, 16, 25]\n"
      ],
      "metadata": {
        "colab": {
          "base_uri": "https://localhost:8080/"
        },
        "id": "Vv4hxjPQbexX",
        "outputId": "cf4845b4-6b05-4ec7-f325-33e5d0887bc1"
      },
      "execution_count": null,
      "outputs": [
        {
          "output_type": "stream",
          "name": "stdout",
          "text": [
            "[1, 4, 9, 16, 25]\n"
          ]
        }
      ]
    },
    {
      "cell_type": "markdown",
      "source": [
        "In this example, the square function is applied to each element of the numbers list using map(), resulting in a new list of squared numbers."
      ],
      "metadata": {
        "id": "qUG9qJadbolQ"
      }
    },
    {
      "cell_type": "markdown",
      "source": [
        "10) What is the difference between map()\", \"reduce()\", and filter() functions in Python?"
      ],
      "metadata": {
        "id": "nqwztbBBkrOj"
      }
    },
    {
      "cell_type": "markdown",
      "source": [
        "These three functions are fundamental components of functional programming in Python:​\n",
        "\n",
        "*   map(function, iterable): Applies the given function to each item of the iterable and returns an iterator with the results.​  It's used for transforming data.\n",
        "\n",
        "Example:"
      ],
      "metadata": {
        "id": "ahJtGbMokrKe"
      }
    },
    {
      "cell_type": "code",
      "source": [
        "  numbers = [1, 2, 3, 4, 5]\n",
        "  squared = map(lambda x: x ** 2, numbers)\n",
        "  print(list(squared))  # Output: [1, 4, 9, 16, 25]\n"
      ],
      "metadata": {
        "colab": {
          "base_uri": "https://localhost:8080/"
        },
        "id": "qR0h0mlsb-b2",
        "outputId": "84b2b32e-a0bc-4332-ed11-fe917248232a"
      },
      "execution_count": null,
      "outputs": [
        {
          "output_type": "stream",
          "name": "stdout",
          "text": [
            "[1, 4, 9, 16, 25]\n"
          ]
        }
      ]
    },
    {
      "cell_type": "markdown",
      "source": [
        "*   filter(function, iterable): Filters items out of the iterable for which the function returns True, returning an iterator with the remaining items.​  It's used for selecting data.\n",
        "\n",
        "Example:"
      ],
      "metadata": {
        "id": "kpXCWjn-cGIF"
      }
    },
    {
      "cell_type": "code",
      "source": [
        "  numbers = [1, 2, 3, 4, 5, 6]\n",
        "  even_numbers = filter(lambda x: x % 2 == 0, numbers)\n",
        "  print(list(even_numbers))  # Output: [2, 4, 6]\n"
      ],
      "metadata": {
        "colab": {
          "base_uri": "https://localhost:8080/"
        },
        "id": "uDqahDzNcOuY",
        "outputId": "14110ba1-04ce-4ced-c79d-750c1237d174"
      },
      "execution_count": null,
      "outputs": [
        {
          "output_type": "stream",
          "name": "stdout",
          "text": [
            "[2, 4, 6]\n"
          ]
        }
      ]
    },
    {
      "cell_type": "markdown",
      "source": [
        "Here, only the even numbers are selected from the list.​\n",
        "\n",
        "*   reduce(function, iterable, initializer=None): Applies the function cumulatively to the items of the iterable, from left to right, so as to reduce the iterable to a single value. It's used for aggregating data. Unlike map() and filter(), reduce() is not a built-in function in Python 3; it resides in the functools module.​\n",
        "\n",
        "Example:"
      ],
      "metadata": {
        "id": "elN0nRRqc0Ow"
      }
    },
    {
      "cell_type": "code",
      "source": [
        "  from functools import reduce\n",
        "\n",
        "  numbers = [1, 2, 3, 4, 5]\n",
        "  product = reduce(lambda x, y: x * y, numbers)\n",
        "  print(product)  # Output: 120\n"
      ],
      "metadata": {
        "colab": {
          "base_uri": "https://localhost:8080/"
        },
        "id": "qAWbXFc0c7kW",
        "outputId": "3673f63c-acd5-4a86-df5f-de6736493c84"
      },
      "execution_count": null,
      "outputs": [
        {
          "output_type": "stream",
          "name": "stdout",
          "text": [
            "120\n"
          ]
        }
      ]
    },
    {
      "cell_type": "markdown",
      "source": [
        "In this case, the numbers are multiplied together cumulatively to produce the final product.​\n",
        "\n",
        "In summary:​\n",
        "\n",
        "*   map() is used for transforming each element in an iterable.​\n",
        "Python Tutorials – Real Python\n",
        "\n",
        "*   filter() is used for selecting elements from an iterable based on a condition.​\n",
        "\n",
        "*   reduce() is used for aggregating elements in an iterable into a single cumulative value."
      ],
      "metadata": {
        "id": "DTAMYK57dB3a"
      }
    },
    {
      "cell_type": "markdown",
      "source": [
        "11. Using pen & Paper write the internal mechanism for sum operation using reduce function on this given list: (47,11,42,13];\n",
        "\n",
        "(Attach paper image for this answer) in doc or colab notebook."
      ],
      "metadata": {
        "id": "68Zri7N3krG6"
      }
    },
    {
      "cell_type": "markdown",
      "source": [
        "![collabJPG.jpg](data:image/jpeg;base64,/9j/4AAQSkZJRgABAQAAAQABAAD/2wCEAAYGBgYHBgcICAcKCwoLCg8ODAwODxYQERAREBYiFRkVFRkVIh4kHhweJB42KiYmKjY+NDI0PkxERExfWl98fKcBBgYGBgcGBwgIBwoLCgsKDw4MDA4PFhAREBEQFiIVGRUVGRUiHiQeHB4kHjYqJiYqNj40MjQ+TERETF9aX3x8p//CABEIAwYFAAMBIgACEQEDEQH/xAAwAAEBAQEBAQEAAAAAAAAAAAAAAQMEAgUGAQEBAQEBAAAAAAAAAAAAAAAAAQIDBP/aAAwDAQACEAMQAAAC+R6lx6/udGG+vMsMp6hFVnjpnW9z9xbBZYEosFAIWZYnY809IKg9IKlJ65Ok9SwAOfc9IL680qULCs/ZYAAhb5yN5LFAAsFShKAAAVBQVBUoABYCwFgoAAAWWCwACkoSgSgAACyiUSwWAAKSgQUElHjLXM58OjBcs9czHPTOzv8AeehZYfFs9Y9f3tctdeUEAT1y1698eldFwHQ8cx2PHqKlLPUFlE9Q5ds9qj2jw0Hh78hQTA89Xz+2tEsShzdHP00mOB3pYoKlM9MNisfZ6eYezjOz5n0Pm6fS947ZWyxUCZbVBHPth06UZALB6QVKWUJQAABYpKCUASgAAAAsoABAUAAACwVKShALBUoiggB4z0zMMN8Fyz1zMc9M7O7TPQBfi+vPrPq+/pn7vlqVBRnphU15eyuXPbKurDqzjLDv8nFtrDWxFA8exyeejxppNcIuvHsbOLpPWN6Cep6jk18eq8688Oj3yei9OQeNR7pAoIc+fV5rn19ynjx0Rl49b15w2G5cggvk+dv436M9+fSMOr5/caOXaPO3rjNOni7S2MqAUllCUAAqCoKAlEoAJQUgAFgoBCpQAAAAAAABYALASjxnrkY8/RguWWuZllrjXdplsgL8X159Y9X3/fn1ryglRVsCwTPUAAAEFSlSnN72Fx2GV0HjLoHnLamWoPPoebRKFSiAIVKWwUDz6hh0YblQVAqFSxUHp5pUpKGc1Vz+thze9hKQIUAAFQUAAACwVBQAAAAAAVBSFShKAAAPHsSgAAAAlHjPXMx5+jnXLPTMxz1xrt1y1Syl+L78eser9DZdeUEEqpQgqCkKgrzSoKBYLfNKlFgsU8vQj15K8+iLADz69eD0AshLagLZR59Uy9e4EoAEAAL5Ht4p6vkekFAAABKApFEUAAAAAALBYFQUAApAFgAAUSwVKAAAEoASgEB5z1yMufowMc9M1yx2xrs3w2Kg+N78aY9P3rLrzAgAV5vNpWzP1HpBUphpJWliK8Q0sh6Y7FSgFQUF5OrlrTYinKdVzyOqeaPHvlOuY7EZ4nWy1FlKCHIdbDQ9uLtChPFPV4+o8Y9Yx25eoWWKlAFgqUAAAAAWUASgAAACxSAqUAJQCoAAAAFlBCpQQpCgAILLCZ6ZmOHRzLlnp4Mcdsq6t+foLA+Npnrj0/dsuvMACBXH6vvTxNMTbG7HPsGuO/z4+hhMa35uzM28efced+DuPVISjn9ebW9lhydfLXTZYc3Vke+bq566Kyjbn3p8/v5uqmeuEed/PsiYnRYHJ2q4O3n6Dm6efY92eI80rn2krpGXH18vUUQBQAWBUFQVKAAALBQEFAAAAAAKAAAAAAAAAVAWFgVKEpFgBM9M6yw3wjHLXJcsdsa6enm6QD42uO+PT9xLrzVBUqLFXzRUCyl8egw3Hh7GesHj2ACwekFQUF5uinNv6CwVBeTrgsoAsFgZ32AKlAKgy9aBYKByddMdKJYioAKgoALAAqUAWCoAKgAqCoKAAABYKAAAQqUAAAAAAsAoSwAmemdZYb4RjnpkuWO2NdHTy9RQfE3x2x6ft2XXmBFg9SWhCoKCoLfIqC3yPSCpQBYKgqD08j0gqC3zkbvNKlKgqCgPPg1Tye0FAsFQW+aVKLEUhQICwALBUFSgACwVBQAAAEoAAsFQVBQLBQAJRAVBQCFSgAApAACDx78GXP0YGOWuS45bY1r1cvWVCfG2x3x6vtVNeagAWLHN0wnri1roYZnXl6wOq4+o0x25q9XLxXX74uyPQgA84HU5tz1ZSY78x0MqaOTpr3x9fGdlz9R7ecza4+TouWhSHL0Y9VePk/T5q6/Xn1ksoy14zrKZa8nUW+bHoCXGtb4seoFjwe0pTwaQDl6K9JYXx6CK9JYqCgTx7ALAS8ldiIWCp4Pfn1zV03PQqWAKAACKJQIBQAACwAIsHj34rLDfGMM9Mlyx2xNOvj7KoT42+HRn1fbhfMAQlsVebp8HD9HHauP3vmesdsToy2wJ59qvF2WvW3j3gBQZ5dIy1BZR8/6PLWXT56Dg6/GlcGf0pWfL9SZTm19Hv53b6MenPWGO3gac/QZ8XXy6bM8q+j45PMfQ5Onjjszw3rk6svNdG/H1Ze7LlfHvKuHs5OnTeyZMejjrH6PB9AnnTGNSxhy7ZbdyzLl6OTtrne+DTu6JcLFiZ+pXze/l7dPGvD6NPHJtX0eTr+PH2Ob1ib8vRnXVw6e46HF0xl1+NIllgACoKgqUELAAVCgAAEAJ59eDPHbI58tclyy1xPfZxdle4Hxunl6c+j7IvnsAEVKqD080qD1JRfI9PNKgoAACiWCoPV8j0gt80qUAAWBZQDHT0E9ACwJPYx2DP16hYQ9eaWUVBOXo0qc/R8XTt7fPrIqAObTZWGwZ6MjPm6POnWXAU5umypSLA5ve6oqAAAGO0AIoRRKAAAAAAACwoABACefXms8N8Y589Mlzx2xL2cXZXsHxOnm6M+j7SW+dZQLAADzSpQ59q956YmPZwd9LMsvWnP0UTxGqCoKQZ+vnV9NOQ7I5o7L59FSiwVKALBUsALBUFAAAFBCyiwVB6QXP3aIipQAAC8nWri6/QiyKgoAAAFgAAJSwAAAIsKgoAAAAAAAKQAIHn14PGO2JhlrkuWO2I7eHtr3A+N0c3Tn0fZVfPKIFFE8++Cselrp48+vUeejAJr7PmfQw7S8nXyR1VYy+f9Xh06PMHqeeau/1waRrh0YVMeqmmPbx5dVIUCwWUAqUqIqUAAAWUACggBZRYKAAACgAAAqAAAABYKgoACCoKlAJQASwAqCoKgoABCgAAAIHj35M8dsTDHfFcsd8Tz28fZXoHxenm6s+j7Mq+eFF82ypR8r6vzdPpWXLD3oPF9DznvDHcLjrTm192sffumHP304vXXDx7Ixm6vGfQjnuwAAALCpQCoigWCoKACoKgoAAKAAAolBYKQqUWAQsoAAAAAFCAAsAKlEsAAAAAAAKCKJQSgACAebDPLXExx2yXLHbE89nH2V7EfF6+Tsno+tYvnBAqgslKlAAFgqC3zSoLfI9IPTyPSCoKgqUgFgqUAIPSIqUAAqUAWUAAoFkLfNKgoKgqCoKgoAAAAKgqUAAIKBYAAAAFgAAAAWAAAACoKCUEsAHj35rPLbGMMd8Vxy2xPHbxdp6stfG7OLtz3+qsvAEEqoKgqCpSoKgqCoLfI9ILfNKgqUqCoPSBYKBYKgssFgogACoLYKgoFgKAFgoBSUAAAAALAqCgAqCoKgpCoKgoAAAAABCpQQsUAAALAUiwsCwCC+bK8Y65xhjtiuWO2J47eLsPZa+L28Xfnv9Oy3zyeoRZRIenmHt59BloW+R6QVAB5vHpXTfNi3zSpD0gt8j080qD0809IKBYLfNAKgtiKlAJQAWCpQCpRYKACoKlAAAAAAKgqUAqCywAAAsBZQAgpCpQABLBYKgqUAAAAFIsBB59Qzz0zMMd8Fyx2xMu7h7q9WU+N38H0M9/pi8AAs5XUr5vZ46DzfEOXs+f1Vu4e2J6+f2GqWDHOpZ6roq5RRk4d9Opy+Y7Jx+zqZ8R9Pm6OQ6M77NaRb5pUFsFSixCygFSgAAAFSgBQBQLBQACFAAKRYCkWCwVBQWAAIUAACwVBYFgAAAVBQEFAAAAAgIh5y0zMcN8Fyy2xMuzi7T3ZT430/mfVnbvF4ARVTLbIw09WsnTzGXbzq5O7LxXrzrgT3fFe8evSOX11o8+jKoPm/Q5+vTl11RzXpHP46/Jlz9Gxjn2CVIoBQIChYAWCigioLYLAJRZRYKlKlAKAAAAAAAACwLAWUAIKgqUIFgpCgAAAAAAAWBUKgqUIKgAefXk8Z6ZmOG+K5Y7YmPZx9ZpZT4/wBb4/2Z27LF4BVgLAsFSgCwLBYHnPanNPXnTzNBk0pyb6SvN6rlyOscvroHj2QAIVKALBQBFShKLBUpYFQUAACwWwWwVBSgACBQAEoAKQAAFAlEUJRFgBUFIUAAEoAAAAALBUpLBYpAQh5y0zMsN8Fyy1yMOrm6TWynx/tfF+1OvSLyBCKoCCoKgqUIKCvNPTzSoPUg9TzSoAFgqUASch2MNxYKlADLUqIoKlCYm980qCgs8U9ObesZ041veboj0lipQCpQBLAACoKgqCgAAWACgSiLCpSKIsFlAAIohRKCUlAACoCwLABAzz1yMsN8Vxy2xMtsNzewfI+38P7s67ovFYpYKgT1zGzk1rb1jtCXM9Yb81dbKxpz78tadHH1lsReTr5anTh7NUwjo53Lp3a8nVFrnjoT0ZZ781dSyMNJketuPtCjj95Zbd/je4cWnTwV3WespwdvFpvtwfSOXbl6Day5cumfRp8fry227FcnD3cPdpbLlbKAAWKSykWFIFEAUAAAAALAWFQAVAAAAsCykAWCwVBZQABYABAlh5z0zMcd8DLLXJcdctDo9eafI+78H7066LLxWUClgWQ5+nm3r1z7cx0+Hk98X0+WvO3mGGuG9Xp4+rL1XmPXB1c2nV43546Obq+afQ+b0+q29mRcTWynnm3wrrSx5598qy7OfqJeboj1x9eFb0ycPT502vn1lb5px9nN01yutWOvN1Rye3TXzt+seZzeTx3Z6xKQoVBQVBYFQVBSAAACwVBQAAAIFSgAAAABYWAAAAAsFSgAEAlh5z9+DLDfAyy1zXDTP2dN8+q+P9/4H389dJZeIoFFDHYc/vURQsF80UEoLBUHn2EoWBYCwLKLKeeTtHL00EFBzdILBUsefOniufrsFiFgqD08j1fNKlAEABQAoFgAAAWCoABQBAUIACgSiUAAAAABCpQAAAABYKQsogEsPOWuZlhviY56Zrh6g6vXn1Xx/wBB+f8A0GenuWXkBRQACwVBUFIUAACwVKAEoAAAsHp5pUFQVKVBUFvmxUFJVIJjD294HTPntPo3i3y2vmx6SgACwUAFAAAAAAAABUAFBFgBUoSgAAABKAJYWWFAAgUApALABFlePGmZljtjGOema4r5rq9+PR8f9D+f/Q56eoXksVQAARMjZ5pXH2FQVKATP1zV2CFlAAI4vNd9+d9Ap5j1nlyV9L0sLA83iO6+aZ6celdLm0jVxaV1JcqgsuVeefs5dNd6yx+d2XbXnz7Y9+sN8qlhYKlFgqCgAoAAAAAAAAAFgpCyiFAAJULAAqCoLAWAACoFQoAACCwPOemZnhtiY56Zrl59eDr9ePdfI/QfA/QZ6UXkstJQABz6Ma38++MvVzWunHn9GvRlrFLHjm6Ma6VRj7tKUmevg+D4+z56L1+NOYonF3cNdpYYdFOLl+xxaOq3Lj5fr8OnV7Mrwd3DXby9aOPXxrpr40ZeMPWtc22eh759868dXLoN1yCAAKAACoLfIqC2CpQAAAAAQqCoKlAAAAAAAAAAAAAAAFlAEogPOemdZ4b4xjn78Ljnpkdnvx7r5P6H89+hz0ovKKoACpTjvVlXrLpzPXD9DCs+P6HFpfo5b4SrGfjcShhvRKBR447x6fT14+uPXjSxwYfUw0008e8lg9ZaUlguOtBTk9ae6tniNfOCujPPWOCfUz08bYWNs/MGnqwEAAALBQCkURRFEUSoeoFQVKAJRFgAsFQVBQAWAAAAIVKWBLBQAWUSwCkAAB5z0zrPHbGMc9M1yx2xOz149p8v9D+e/QzqGuQAAFQVKAVBfm/SxrUQAsFQVKLBb5pUFQVBb5oIVBSFsxN3Mrp8ZaR589Frn092AFgqIsBYFgqCoKCoKgoFgoACUAsAAAAACwAFgFIACgAAj1BKIoAASwoAAAAACwSwmfvxXjDbKMM9M1xy2xOv3npZ8373wvvToF5gAAAAVBQAAAAAALBPUovkekFSg8HtzWujLxqZt0ZaUUFQVKEoAAAsRUFQV5pUFBUosFSgFQWBUFSgAAAAAAAhQAAALBUFAsABBUFlgKQCwUAAAAhYE8e/FZ47YxjlpmuWO+J0a5a2fP8Au/D+5OgOYUBAVKQFQUFgLBQEFAAAABlp8ztrfLxsZ+tLCwJRUFQVKEFvkenmlSiwBCZ51rPC31plE6GEjovN7NnmxbBb5pbAsoAAABUFAAAikWFSgAAAAAAACwUhSAAAAACykWCoKBBYE8e/FZ5a5Rz565Lnjtib7YbVxfb+N9mbqHOpbYsSKIAyyrpy15DrsRU8nsFTmOpy9JQLPBogoCZHHptvpnqxy2Y6lsoShBQMteI7DnOhOM7rydRQVBZfJg94adduWXr182afUOTLry4t9LOux498ukbWWFlFgsUAAAAAWUlCWCoKAACUAAAAEoAAAAEKAAAAlLAAASwePfis8tcoxy0zXLHbI035+iuX7HyPrzVgzUWWKQEBza3Cujk1zro9Y88d/wA/v+Vp9a4b4MtOKtOrl6xYi4b4mwAHD38lbacfYOPt4zm7+Lv09lwT1iacsw0+lcOjJxd1OLl+vxabzb5UdHZ59w8+qcXrXLTbx61jzya+K68trlzx500z6sI6eV4rp9mTh6vFbjJZQlFgoAAAAAAFQsogKAAAAAAlCUIKAAAABKAAALAAASjz59eazz0zjDLXJcstcj30c3TXN9b5P1Zr0lZCgSyhjsOTz1yvXL15mG1yrxldqnV495eefrHH11AF8eqEoKSOOt5h2l5evI987pFIWD1x9fg9gWC8fZ5LjuMNqAKkPTnla8XRpXL0eadDz6yXzmaeubzW2eukZaAsRUFSgACwWAsoAAAABUAAACwUACWBRAALAAAqFIUAAAAAAHnz78V4y1yjHDbJcstcx1cvTXN9T5n05r0hn1fNSpalCoKgWUA4O7g76ssioKAACoLYL5tJQEKlJQAAAArzmbOcdGfjSsnSOd0CeoioKDLztTDX0AgAAACwKgqUFIsBSUICgAAAAAAAAoCCwABCggKlCUAWCglACwCAB59eTLPXMwx2xXLPXKp1cnWnP9L530Zu3zWbfNLfNr0hKABYKgAAqCpRAUAFQoAAAAADxmbsB687eqw19IqCgAWCoKiKKWIsAlFgqCpQlAAKAAACpQCVCpQQoAAAEolAAAAAAAAAlAAACwLCggAJ59ea8Z6ZxhjviuWWudeOrk6zH6Hz/oZ1UtysHq+aWxZUooAAAAAAVBQAAACFPB7Yw0z00Oe7jPWCoKgqCoKIWCwqpQAnk9oioK4umtURQKhQAAAWBUoQVKALAsFSgAAAAAgBQJRKBBUpAWABYCwUCwUCUQADx78V5y1yjHDfFcs9MzPr5OqvHdxds1YrIFSpUFsV6QVMTdKLBUFQVKALAsolBKfN7eTxp1+8uqFiKlACYHQlAPN4tq96ce5tZcgDm8adjz7gWM+bu4dL1cnYPPpHP48a6dIwWCgFIsAKAAAABZQlAAKgqCoKgAVCoFlAAIoiwAAAAFAFlIoRSAEL49ea8Z65RjjtiueemZl083RTt4+yaFZWCgsEGFae+f1W/H1cVfQuGmXvg7uDTvplnz9nFXX6nqAJ59wtlAMNebqq+fXzT6Lk1NbyejqssSoeeHo5dNO6e4lMuHt5OrTl99HIddMqDkds08eqylBy9XiufrlBznRxa70pkAAAWFAAAAAABUFIWWCyghUoAAQUhUoAsAFASiBYBYFEqFAAAABPPvwePGmZlhvguWeuRlvhtXvr5uqVYSgqQ9FSZ6ZV46OXrrnx7+Wt/nfS5To5NuOvpacnZlPPjwOnz7iKGG4AUOTqx3py9VjH1oOTXZUVEpF4+vPTQQssc93tce20qLMllFlEoJQAQ9IKgAAAFCAlLLCoKlAAAAALAAAAsCoKBKIsKgqUXzQAgoJQAAAWUAAgAEsPGemZjjvguWengy0z9m/VzdK0IAoiyjm6VcPeDx7pMdx54u/nrXXzYoAAAFlEsLLBYKABYKICggCoqvNLLIAWCpQQoBSLCoAKgqUAAlgoAALJQolQoIoIKAlAAAAAACUAAqCpQQsUlgoCUAoCUQAHn1Dxnp4McOjnXLPTMz9efR1dPP0KCCkoiygCy0sFBUFAAsFSgAAAACwWAsFJHqFBFQVFVBYRUFAAsFQVBQCFABUACyiBUFQUAAAAFSkAsCwUBKCFQVBQSoUAACyHpBUAAFABUCoAEFiHnPTMyw3xXHPXMzJXdvjtKKksoCCgAVQLBQAVKAAVBUFQVBYCwVBUFEVFVEUgFEHpEtQlQWwVKAAFgsFShKAAAAAVAUAAAAAAAAWAAAAAsFQAWAsolgqFAvmlgLBUosAAEAlHjx78GXP0YLj49+DOXzX0dctpYEoCxBQQpalAAomfjOuxLFAUQAAADzfm19J59QfP7q9pYLIWKoiwPGPRyadOHRymmPXmae+bpgqABQQoAAFlCUAAAAAAqCyiVCpQBKAABCoKABLBQAAAAEKBYKAABYKlAACAAQ8+Pfgyw3wXLPTwZ+PeZ9PXLUAWUBBTzz6tPO18R7efQBb5pzWetN1ZAWUcPXjlp2MuSPoMsTrvlF4PofP068ejWPi9mX0dPHusAjm6ctaWWAPGHv3p58aUvjx5rz2Z65BAAAoAAAABYFSkqFQUAAACwAAWBUFAgAAAChBUFSkqFAQUAAACykoL5pQJYACFgePPrwZ47YmOfvyueemZ9TTxoRYlApUocj1vWO3vGNJ65TXTDWufp51X3n6Op595ADIz6Ofqrjy6OfT3dBz+uyROHo91th46MuLutLLMlgy1qoqFg831Kt8o9RCpRFIsAFgqCkKgoAAAFgAAAWCkKAgqUEKgqUAAAAAAAAsAAACxQlAAKCUALASwWBLDz49+DPHbExz0zXxnrkfW9+fZFJKUEUHH1T3THcCmfnaHn2Fy1Hm2AolCwAJYKhUoABBCoALKAACFAAAABUABYLBQEFlABKAAAAAAAVAAAABUoAQVKEFSgACUAAAEosFAKAEoAlgAgefHvwZ474rhnpmeM9Mz7PoAQKAoAAAKAACgQLAoJQgLACKCCgAhQgALAUJQQKAAABQgFAAABAUEBQAAAAAAAAAAAAUIACggKAACUJQAAAoAKACAAkDz5DxiLh4DxmH/xAAC/9oADAMBAAIAAwAAACGLydcmU2VXmHXUPVVnXmfUGV2lnUFnEW3dP/Ntvcvc9s/vLN+/aKLL5ar7qKJqILepK5/7uM4LrvLL11Wp3/8A3bZJl51JVpRBVxLpJ1xddBJtt9vdl/PxexzT3HeTTSX/AG40hostvv6kovggu4riovrimhoqxs6QaABm0x414a4zVeeZX7TSV936edebd4R9yUQ41fK2y7Rxu628+zzwikgiuv8AK4IZoLeb76vvK757LcpMTnwY5N2EGNHHE3lF8NdsnEX2kFlXkUFFMV2UNN/v+S72Ncf/APPTf/8Aijggjuutvjhgi9pgkoghvsuswo5dWJlv5abXdbTTcZaaZXfUSdfYcZ2UdWVScQ1/7z5x0o4wo088w9+vvvrnnvtirtvnsrugg4igigjtk+1ZDM8v/wDFke1nGmOFElk3FWefWn8HNXkWscvFWtuusPe8tIMNf+sNcJLLZr4sJrY77J7qoYoYYII4JOatBhhcLL/0mW3lqPdE2H0OlmG8mE/8fPcVXvU3XVlc/wDT3fPPLHz/ALwzgktspv8AsoLa5rr7747Z4orYoUNdWBxtI5u203lGfO3321EXFsOEUel2l03FHEVI3Xhi8/8Afn+f/LHvH7P+Oey3zz+Da6GqCCC2+/fyWuV/u10gmaDvNV9xRt9tFZxtN9NJllBZFdxtBFxlVp5nHDfr/vPLHLjPjLLLby6nH/yvDTeeOSmamO66yGybWkwN6mCut9HNdfVr5x5zXpr7xDZfrNRZNjpD5D/3dvfT3TXFbr9zPjbzTZOrHh173DCCyiO6OG2OO2xbumM9weqPNHjvnNSVrVBvDh//AOVczdw9w4RTd2XRawQ/SZ5f++SxbW8V+ZwJLJm061/jjipnvpggkhvrq1jzGAdns9XSUWbXfY1XcbTRRaSUcbaUXYXTcedX617q7R5/8/bT+yxT3ssgkhl+820khluoultgwhpqE7g7APfqkdfW/wDVXGuX9X0Xvn/kmElWVve9/NIPHOuc5+k8tf8A/R73PDziSn+//fThD2OCCCCfPr3G7KmnCX8QIyjdxhpzt1XJzz1F9Xvn911515PLjv8A6w4Q164ww5/ww89y9/8A/wDmODxNN5hhBV+OCOCDWG2+6OSf2T0IUS6JNvb3jXDZpZDHvtTnFd91JdfzjPzLPPDz3Df/AM65x8490ww40vuzdZfSVPPPgPPPgsoktoqjj0g/EqJv/cWe8cZVaQbdTRSUSfbScfRy89y04w9ww7z8xzz/APMPOf8AHLTJdTB9pxph9hCUs8+/+fiyW+Qninq4dm7lpRf5Fdt9tFpxZh9BlxlNVpTr3vjPTjzXvDbj3/8A9/3z8/zzzRBzUc+TeQRahGAAhtmtkmjmG6lxkOY99TQSz7QTYebSRUYSdWQcZTcXZyx6w5+/2zw8x288+w88zy0z1fS8XaQTRSQQlLDCgksvushnq9luKPHvqYZ6XxSTyaY/Wd/2y09SXRSa+82877929938xww1xz28257z81wxYQHZTXXfnPRAjwqghunjm7gyhr/w8Z9243WbfbW1STYR54RQaU/e074fz4326x2y1www089/+9216QTzSTbRQWcR/AEProrijjvlu+g6tmo/UaaSQZ7XW3R/zS0RTwRaXbRc2+7y3zw0w557z2ww3ww+/wCvst0FOFHHU0XmEWDDwrte4qZqq5sYuL5foM0E1W1v/Fnn1lknGHkFfW2nnl/csut/9/UH18tctMc/8882ONmP8VHUnnGFG7DhAqLP47bYIp/rdpZ8O202Pev9dd++EV9tmWdnUUtPW3V8s9m88+s+1uNP9uucfPvMMteMu3U30333WmDzS45IJZ7o7qOMNa47esW21vteTFMeH0nds+e31HlE8EdnO9/FPXF3++c9M9888f8A7fvFjT5hdJFxld8Uc8KDumKSy62LXauYu7zVxX//AD3scbRQ0UUZaaX+7ca7W6Q7y136+83/AONdO/sc+8/PsN2P/wBRRtBBBd70JACCyym2SiSXbO2wDvfRxxhDFlxxxl5x5xxxlZtd5BJr3lFzXZv/AC/77w9w38ww8/8A/wBP/D19JJBB1hJAVUSCeSz+ui0lr2gs6btNBBrrzBhRhVphB1lxbxlr15H1TftR1pBlLj7nPz/DD/jLDDDB3vFR5Bhld9OMcoy2OnS6iuPXP+KIivJRNFXPt9V5rV7Z7j3Rjd/DfPFdLRxjPRNVPfPT7zHD/jLTzrDTHPd5991JdxywMMe/u++qySqxTK+oODxFNNvZ9t/x/wBY4UZeZ+efSTf/AGkFEfdGF9d9v+8csPdf+dc8sNPf+033HF2EEAQgC9LJK7rrKJ18JZuokkHEXn1+E32k0mEn2U2mU3WcXtEtGF9++889M9/e8MP/APfrX/8A31/5effQQRcUNDAFggsvrvolmCwrnXTbQUQdTUccdaXfbSTQQRTbbz1QSWcUcYwwy/8AMOdv89tfvPPfOPeMeGHXmV3GGEwxTL64IL7qZ7EsrIHX+0H0n1VFGEE0GUFGFMXMW030n20nmHNvwHOd+e8fv/8A/wDzwww29ywwccYTffbRBPPPi1qtpojlqK7ghND2NcSSZb/9Tz9aTQTXZ14SXVa/ez0QUQdURxbS76573/699647zw0xYWaRQUVfPIBNqzsvn/rlhDymuFXjWaef2cza+eRVxXe2c3XUSX0y5++R8ecUVwTdT625w893898503wwYURSSSTUQAAAkwglnzgkqKyquESlPVTc1XYbVc/GaWbf8VxfVwdd+4QRUTXeawS3bzy08736w0Q98z/+cbRQVcaVZdPJhlk17vigpF2mpMRgydWTaUZ1TUcMXZfYReYUccfXf8RXbXYWYc403/3zy+9+4/wx09//AG3FUG1XlSDxjrK4fLp676rO6Vn2q7wUEGk3nEUl2F2UHHHnXHuc28FHWU1/GNP+c8utP8MN/wDbDnLXTv5FRlx15xkEAAKz2/22C6y8ryYc7K+Ch5hBBltJ9NhBRh113bPtNNN9Tvd59ZvbHX3nDD3/AH2/+/77yw8wcYRfQUYXaPGNn7s7wkrqlF+uwAWnm38VfwSRTWcLaUSWYZSUTcbRdSzxcf8AVk1de9vPf8c//wD/AKWw/wA8803WU2kEHDT0x77o+rJq6ZTf4NDTqZY+nmk92a9HFmkVU3VeGn9md9/8dVOP+MVG89PPcMePPf8A9PHXrH5x59FN9t8AIcc2yma+62KHnGDoxm+OD/dV3y1xzwRAhdrHp1vdJj7V3/rTLX/DH7TjzL/XPLDDNT3d/wD/AFU0FHU0mjF0GFLbaoYrLKJOLO/UJ6OsWNn88nGEHUhVW0HGUNGPMEFduesf/vM/88uPu/Ov9/PWXE3Mu3EE0HGnHQ0kVm/I55Ipa5Yub5og5qOv+k0EUFG0gEHH32131dH8MlHccN+c89Pff8++t98/Pff30n2+8EnVk1GXUGCQE334LY6a547frYQFqodsfVW0FEnX00w032EU3cU8fHkINecsNfe8stPPfv8AHzXPlBtp7TRxh55lN9cpV1xteuKCqy/7ravsY+W37nxl9xw9UxpAhhd51J3tXf3VvtzP7XX/AP6ywwy//wD89uUklUGcc0EFXEEX3zzSwEHOYoJo7KePZNcF6oMOFPH0zBBREEqzf2vnEOsNdPX3u9f/ALTX7jTfrnPDTzzj95dFDf59x5NNJlBNR5J9riuCWuGKvDbrx3Phl/7/AA/imFOKupDuf7R70c45b1y2977zxzz29+4+/wD+8cN2kV12N3233nX1nXF1n1H4LJ5rab7+Nfd2OHd/eAhfxDTgCDhSTjEE8fPsMOfNPPfM/wD3vDPTT7zzz739xNt5x9JBNJNJxxRBBx5vD6gaCWCazSX/APIwfQQHfQfPAHHAIPHPg/ff4/8A9+ON8MN8OP8AjDDDfjdjDjDDBdBBBdB9hh9B9BdBhhh9+D+CC+C+/CjD/8QAAv/aAAwDAQACAAMAAAAQ/Wrvh9GLN5d5jX5p5JL9n7bF919tRhRQqGOuiKamSW2fKPO+unHfPTXnn7DjjX/arTnS3Ky/D7eyzRJ1a+T/ADWbXW9xz47B7QU2V0+hUWVcQi3+1+immJwEooiu0lr6sktny7yz72oz391/zk5y76500x66sQtcXIXb6wXZc1vrq+2CSvOLnW4caaHQcrCzEUFstnesDvBu+6yhghzi32+/0+jxx/w/ym408lr71227kOBGQI8fyV7rOuoqB2hgOEGpul/+T/fbdswqgJGju1sr7Skhmkx3rggq75y88R969/w+XA28/wAPOtP9Moh2BHAIE8VlKdZLrw72wgMoQMPL40ZInWmFpoD6pL4o74NIIf8A7xyjLHT7/vdxjL7VHNF1/fraLL/rDr37swgAf43jNcIGCkOZHLNBSgYP1DUSRzbtxO0ywOAL866CvK/37B+rCa7j/wCy2Shy2QyzY71867x4ww1xluWaDLiEr3dTjjPxEjkoT8CA0xxQ1VYfRXZWGrKhCNhlvikhj/Wzjytv35+7w1ut7S05ww+2w9yyz591AxGOPLvAq4U9sl0mBksdQ6lA8EDFOkZ/aza8fNQEK+ShthkiV229gjtzvwzxSDvp4Bx93z//AM8fJbMMNzMVxggvDf8AZlP2uuLA6pRj++PBYKsSZlFLhzHoY9862iamziO7z3G+fiy2uf3i+WHkSOh73jPf73bnfnD2B58NbEGaV/0SumgcaN13MgCUwgKIJq9y/VLe4ree0qWS6Lez/v4LHCS+ayXmKiwcucNnzjP7j7/bz3A6QbQRcICPlB0OYmrUGaxvYY0ioSsi6Cc++RS+xFAasOse8xSVZNRAf+OcmHVprUs4qddvZLbvnTzvnjnr9m8UEwSfl/eua+6PUrwyKAE2m6AVp9910QUQhWeuyfMqoyOBEpV7jQyvhD/vZW006xB75J/Hz3ePjLRXui8Q46iNNJoQU8I/Z+KO2OAqgYtRQ4rLuOCj+MPGq3i4KeqjyndyOyST/qx44EgS81dbDLXi2S+H+/HbHCEMn+/hRrrTPQue4c0uSkmmMl1tRQP7Wzyy/Q/qCuGyaWa3OKP/AKvhi19hnviuwgtmQSbQcp6S8736xk41NBsuqUbSK3ZpmoFKEDDMswXfVSYTzsvh84tv3jmpkt167yg59vs2Ic+qqtvin965fw0/T8+9z01+52n+Jijv0Uf4M86qonhqvslr+NLWUXCs0/kr63zk54n0ihixjsk84CSaYojLgli1romtax284szr49z3R8stoA/hzRQ9f/8AN7qZKsSBZkHCCFFTQcctcPeM+ML7eOMK4LpJU8fE0w4cg6bybIJbYnds/wDLHjTXPrBb2amwbLXtxHJ4uMC+rbu3iupRURBtosFzLLjz7Pfvv/PLOvuCifvfw1NSO0GSiC+mKWtP/vdBnf8Ay970+oj+GBxjlXT8SNhnfj2d4051ObdCDYcZ41y/s0yyysnhrij7t8gxy1YFBCHNkr4rimggf8ixTFz684677l41ulA6+XM50bsvPIhC71nBWydPEBue9/3Nvxw687/2/gg9zijy9qBMLkrDilrhlrhuP/6yZZXQ3y839qln6mD9XdZ09sMuvlNOoKEjhf8Ay2GVm9P+btM/e/PI4rbIR9tL1/Zi0VIJmJYYsKYZ6rO8NETymuMsP946/oYWbP0HMsOgjo57rZqSgMu98OFzX1fPvMOZMcoUzquNupPZ4O1912YzwL7YvbaoIXvtPmlzMedPM+Ya84Zy+GU2EVu5KmBm8Zmzz2VuMVc/ml11v3MVtxConOObfqpZeNUA0WhjG7KLfKILobvseU9F3POc/wDCH+Gifzb5h/s08FMU+6C8unlNLfJPZp53zubrFRmaGDjT/PGTqFHvFhgeQlGOeL6OKS33bDxs977vDHTKvTCEqHb9hZeAElG+jPAuefrX3yl9s1NbDVD3LPDTjXTzzGgm+SjD9RBegxyCWyyCKyEP6btZHPvPDTHyTquMv7nlhZio2WCQ05KA8hO77cEhHhBDPdlt7NRbznb/AN0041vf6CVMjDBctuuy8gnvgxn4a37+v7/7eB+7KK+1YeYUmOjnYJM+nPM8Y+5SXQxwTB9p9x7dVz9/61y9lvwV5XMRDjIQm+glgkgnTwxwURYrV+32nm94uE74fcSXWPOPQDdVF/MPtnujWd0fUzTb/T4QE872hhv35/t8qDB5TNOZ38kysrnpW4+4RGx/+6/13FyzoI70UNSVWiNGKH7SFMtteWz5QqeWVT8a91/SS49/z8uri+rXGDC41MNXvzw/kzug1+1/Of05y7/zxF0tnypdXHSS1yPvDNc+vIm2/wC8NQWH1tnsEW+IeNM+cO8q5b7rsdYjMtAgEK49eoMrJPMPNX298d/Nev1O/e2VVWm3VqeJrRjUsMAi89sclVN3k1GEnk28MM87Pt+tc5eo49/wHErpU54s+u9I4oMdclvc9POMdOxd6LHCv3GlnO/Z5yFnM7ShGlFuuEc3n21223+EgmWXOtqe8O/PPfoHRvz4KIe59q/rKONPeGAmEee8tsUJcuQU8gkn2fmQwAQEMYRR/wBJF5ZDlb/7V195BTG3fbK6+KLXDXb6gyu90o76mWOSSizzPHBSzfLS3j/B2aysLaJBh966b0EybuyssVmR4VXrJvVP7HplxXexF+OzrqOSOJjOI/nR/BSfn6mf6yiDTDVYXz/637bZumGszeoRRRT9s+MV8FKcolV9EpN7cIPlvJR5RaaptrYX7CHe+17hi8JvG9u+D6vGy26q7zFHjumzLjj5Sa/Ml+PpttPvH2WdldsEY7b3oxlVx17jFDBt9xevb3ry2af7g3bj9R7MIzyzK7zbOGjHLPPHzijHjL7D6DwhZTaIdx/m/W+YZcAkkTz9FJtDTZFFgQ1sPJDb7LCLTyeDcO+qBl7kmBmqerPvCObL37JGby/3LLr9CT54ScGKld//AE0hlNQFPIGQd098x3TeSZ4wXaZ1z3T/AOf/ANYTVJIe1hnIMM/CSjjySmeD3HrerS+7Tf3dGWP9EZOvPl757mOStxk8YJ7LLppzBUJviTJ1D3JxtP8A068fO/TTWKhL5ATRg/5w+qgtyynyTwwg+29z1fropWPRAm33Sb6rYO1JrOPZDqKZdmLibo340/8AGFapP8+1Adt97yRMRFTlev8AWvDLymXHb7XFDnj/AB859oupvdfUnu8R1cFQAoPbmQOAljScyfao5d640+8xzwy93+aeBzz/ABzOxl7ifN9f6pcrotK6arXE+vPO/wDLGuaWvUS3j/vzE0uAAwApUVtwQp2kDS95Xnr7z3/3D/GbEFJPTTdxnbzuIwCPez7DaObO6WysDbnH77z76CfyXgKjLTlhwMY08Rc8MQBoUtmcn/FNb7zjrDfn/LTMRzMH/RJ5D2KOchSbDvrimK6THCeuVnbHvz3nm67Yqpy/zbZjGM8wU4MNLXakJV753n5FCPvr/Hrzib7hNftHL7jw7+SCEnWv/fX6i+fqWmGqJBVv/D+iCWSBK8CDzbR7EQbYtAQzeLSic03EqPM/3r/XbGxjDjPQ5/7P/NRm/wA22gHT8p089uhg1zy2pnKSdZzz4nnCf74Kr+/IT5qwQVXHte7DksgH1Lz0C9F3+06Rajj3UWZX8ZUSYA116gHtvz47zqskspplspKYYR0z27hWR1sw7fYFglIU0fb5bY/WDslksNv8b1y29847xvs5y/5v7dfQdZ2156nRg+4w8gkuhukirsSccV+/9xn8F+s5Ghlg/bJ7xUTT9V9SQEPpjqgk914x4vg/9rh3+fybe5Rwcj8v5t+2/v6zyjolikqjrNMc7b16zzojfww3QHfYAPAQQXfQYY/f3gAHvvv34/ww3w/w4on/AMH2H+H1+N19/wDjDC/Djj/DeeC+iieCdA99j/DDifde/8QANxEAAgECBAMGBAYBBAMAAAAAAQIRAAMQEiExIEFREyIwUGFxMkBCgQQjM1JykaEUNGBiQ5Kx/9oACAECAQE/AKHAFXKSfACgicw9BwDAiAp64lYUHr4ME7DwBR8lHAKGCiTRQhdYrISJAoIxmBtUHh+laPAATsKdWCLIPPE/pp96CSs5uBpG9ZWgGDFQd6RGdoWvwwSWJJkKaYLyJxIIMHBo7NNNZPlY5UKFCkgtT6ACl1st/mlYAGaF2MxG5GlNcBEabf54M75G16UPhPvTWjKwp2preUTPuKGUKCRJOGptrHU0UEcxAoouSZMxW6COVSgUjXgV1FxmInTSrjhs/TQCmhV91GlE2khl1blQa2CzTqwIjpOI3pzb7RBCgZdzTgF0mI5kVcRJtgHumaNuGtg84mgi3HgLAHIVdVQRAiRt5QKFDAYAkAieMuxWKUkbGs7fuNZjr60GYbGiSampPgv8Z4hjmbrXaHNmGhosD9InykYjxoNHwOWB3nA+ZDgyHKG4N7fscIMTGmBBG44be5/iaLMRqSaUSQKgwT0wRQzAVBiaVCw0I+5oggkHEKSpPSKgiKZYgyDhBieVNbZQCYpHIgEAj2q4oV2A6+WDfhDaWhS5JEmhkVRmAJzU5UswERyq2uZHExEGrdsZ9x8M0CO/I7pIgUQVfTrVxSIOMJH0/wB4W/i+xwQgOpPWgRkue4igJpWKmRV1iy2/akjMs9RTmXY+tR3SfXBXKgiAZ6irhDMPYbVc7OBlY6cowBHZR/3ppNoyAI29aFXv1W8sG44RwKzLsakzMmiSdzUniVipkUzE9MVbLPWI4ZMRw5jly4q7LqDFEkkk+WDf5UAnQcQVoLQY61v5oNxwgwdpo2yPahbYgRQVSDmmo3jarYBcTQtKbkQcsSauIUYiDGIUnpRUjfBQCYPPasjDkaa2yiSKsqc0xyNQdNKALEADWgjFsoEmoIMHC6Y7g2WrDFRPVgKb4sEUMSPQ4MO6pHOjgASdBjHOOBkdQCwieODoYxCSrNO0YgE0igsATFEEEg/LDccKEBgTVxw0ULndAmIpSs70uWGBOhNBrfaZswjpS3QjSXmem1MSWJJk4qygapNE9BGFllViTvGk1debpaZE1cuBtoAJmK/1KxEGCI9qS6FyysxSsFeZkVbdbbzuI5U7BmJ6ml0YH1p9GarOltm6GRXZIbU6Zt5JoWFE5nGm8VaH50e9ZEFxOanrWVHUHLEEytXQoPdOkYLJIA3q8EIhBrPewTKUZS0ag1+IyhkC7BRSzOmCKDaYvrzAoRImrnZi0kEzrVhLbqgYjRjI60xliepwHxCrzKco+kOR9q7FSVGcanXWjYsIx3PeAqygdLqzG1IiC6ykgwNPerYC3WLrFs6EGraLbeDEtI32Bp7arcyq81dYNcZhsT8sN+EeAcTgPBzEiKmpwBIMiizEyTNSYieEMAjADU1+Ftq7Etsomrr53ZhtyxNx9NdhAosTuSaEsVWswtq+XYCJ6k4kljJx7R5mec8BoGJjgPya78UYZe6DPPal+Ie4q+oV9BFBSSAKYKDCkmoJExoOCzaDkyYGw96VCVZuS0FlGPTwx4MmCJMHiRirBulPcL8oA2HkS78Nq32jqv8AdXG1cSIiAKAAs5iBM6UQCyg9JNZoZSoivxDnMQNhVrdv4nCy0K4I7sSayJmmNMsxS2VZzpCx/k1/p3hJ0JNWhlTN+1iTU5bJOVQSdqBlbhPTz1d+H8KwVnPRa51naMvKpPWg5A0osTuaBggiiwP061nbKFnSkvFPpBpr90tOaPaiT1oXLn7zWd5JzGTRbu5epk+ervwjDn4Z8+Xf/iC74DEA9MCDwm2MszruRxnz1dxwC42UCdquM2gnkKynTlVxRCDMNFprbLuRT28oDAyDgLTkZgKjuZv+kUcGsqomTtNCyWjKRBMSdKNgqwBYbEmPSktZiTOk71bVSTInTQVlTs80SZ88TfgXL9U0Wtlp1oOpJzExNXIcjKwpoeM3LoRQCkEMR6CaAUpBRZnlSs6COz05UX0y5NKOF5zOWdABXaNlCiNDNG85aTrQcgEAaHlWdl1Ke1FzkYQNdzxHzZN/DDsNmNK0qCbzULgH/lb+q7Rf3t/6imvIZOb+1rtrnUf0K7W5+6u1u/vNEs25J4z5sm/hnwlts2woqVMHgI4IJ4INMjqJKkUpQwpQe9MpVmU8vJjwpvwiOZisiAA5j/VEDBAMx6Qaj1q2JcAirgEgjYicLXxirkG5r0E0q5jAqzaLXVBBidauLldhECTFBSTAwH6LfyGAUG2TzDU6hcvqoOCojdjLctqkZpjntSi2+bulYUnfC0FKOC4BMRNXUVMkGZWZpkti2CAZ6nngDFq2doc1eYP+GYhg0EfahV74x/EeVpxGcqCOVIBqTyqAHIOwmrbwG0Ehd6BVjbnmdaZe9bbSR8VXgMwgyoEA4WQVYsehiedLDOS3Q1YQsTtHMUhW0W78nWI2qSd6EHejSj8l/wCQwH6L/wAhVwg5IP0gUVIAPUVaIDkzyOC6WnPUgYCrpkp6IK7a4QASDG0imAhevOs2UWtJiTFPelSqoFB3FBEHxXR9gTV1g1wkbcvK04QSNjWdzux8Ak8zxrcdRANMxbfFmLROKkTDTFOxczEdBgfMU8I/K5RALH7UBbJ+quytQT2pMdBTJAlTmXr5cnPiCk7DBlKmDwKoNtmMyCI4RaYlY1kU6FHKk4JZLHvaDFFzNGHZEi3G7UVhis7GjacAmJHUYqJYD1oRF1soJDAUxkzAFWSy2wVt5sxM069ncjWDuKYQxHlqc+IaoANxSBSwzEgzTqGuHLMzS2/zUBggmaux2jxtOC/ov/IYGIGnPBcsjNtS/iLMqqqd4pzNxz64WfjJPJScFMHYGrdwSx7NRCmmYtvVq6+ZRm0Ao1b0S6fSP7pIB1WadWCH8pVHWhoQaJdC0EgTTSbMuNSRlNJn7Bgs6uNqYGEQnUb+lOZZj5anPiDpoSDNKw7QHlNWnCuSeYNWWQ3epjfkKv3A7AjAMchXlM4TIAxtC1mU59uopwkypJqROtI9gK3dYEiKaJ02wBIwBIwzL2QUTOaTQBOwrIeZAqEB3JofiwECBPvvTZ3MzmoB1mSVHOmYEQBA8tNJz8FHy5v4keOqM2wrsyPiIFRb5sT7CKzqNkH3ou55+aJxnA+HBOgFdmRvA96IQcyf8Vn6KBRZjuT5wm3GcD4Jt91COYk1CjfWs55aeIqiMxMCsts9aKJGjAfeuzPIqfvRtuPpPzw8QYJtxLbYiRFIoMlthhE4KpYwKZSpg8KqzGFBNF2VArW9tpoBnMBZPQUysu4I4bahnANBWJgUqM0xTKVicYkxQAN3JyggUJJA60bAI7ryRy9qRC7BZimtMutu4GHpvXasdGAYetFBGZDI5+VLtxDVI5rQyZH1J2oWiUZ5gCvw6Erd/jFMpUwRBq2jNMGKuaZV6DBc2sdMbTABwWiRvTqwgkyORqz8TCYkVfM2bcNm9cFBYxS2gFuS6fDTAAwGBpHKNmiatOMxhFHdOtWrb3JAOg1NO0nQQAIGALFQZtLPKBXw3AZBgg6Uixf/ALIoGCDQKdoHDgCZg70rKbrHYNMUiOjBm7oHOiZJNJKSx0BER14z5Gvw8I0INB03gzFBgAw60CGQKXiKlVsQpPeO9OQzfYCluMsgUzZjJGAJGKqWUkUwyoAdyZq0wV9doIpiioVVs0mZjFWyq46rGKNlJ9VIoMw2JFEk6k4i03OF9zFI9tBBJb20in7BkHZqc3qa1FKrHZSaKR8TAf5NZ1X4R9zRYsZJk+VLt4NzS3aHoT4APghWOwJrJG7AV+UNyxrOg2tD3JJrtX5GPbTgDuNmNF2O7Hy1dh8uEY8qyqN3/rWsyjZfuaLMRBPEPkD5ANvkhW50rJ1IFSg2BNdo3KBRJO5nwoMTibdxRLKQPLF24wpYgDw1TPbWOVP3dARHpwKCxAGOTuK07kimRQsqSYMHHsbv7DURgv6VwdCDTgdlbMdaFOG7NmJBLQTHli8KiSBRCRo391aU5pjYGspBiKsAZmn9hwtZ5gbUdzhyxIAtoeZJq2gaZaABrRtkOEBBnamtqAcrTG+mA3q0tjtEhmmelXCh+FYwectof9ZoNmtspUd0SDiboIEoCepJxVgFcdRRYFFXoTShTu0VmRVYAySI6DyxduFeo5U/JhzpLjlXlie7VkgK5gzptVpB+Zm0JG3QVdVVIiYI50q6A5wKcgsSMJOuLkQgHJaRyhJEUXYuGnWmuMREAdYGKMFk840xDmVPQRTPIgAAdB5qNuFWKmRRfNAiIqaViuxpHIW4ZMmKJJMk+Fz88HEP+FDjHi8/PF2HEKGKW1KySZMx9vARA25iiIMU1oqiPOjYmhgo/If+QoAdg59RSEaKLYY86cAOwGwPmQocuFQMpJHOBR1O1DEbW/RSeCLTIm6nY0LUsQTEULZKs3SoMTFWdj/JazZXbuqdedXrhFq0BAJE1M4MSYJHLEf7c+rVKixE65tqVBoy3lH3g1eYNcYjbzMcuEGLQ0B7xqSxApAC2p03NEJ3SJgmnQQ0IAQdKIPYR9U/eMVBJAFPCwgMxuaRrZBZmE6f2Kz2Mu7bERQvWgAMh7pka/8A2ke0jMxaQ3KKmypmS3pEVcudoFJHeGnpiSTHpjmOXLymY87LA21XmCaUkGcM3dj1okmgSNj4E1Py48mHyJ+XHk3PD//EACsRAAEACQMEAgMBAQAAAAAAAAEAAgMEEDNQYHEgQHIwMTJBBREhI4FCgv/aAAgBAwEBPwBZG05pk0E0kIdCyNJi+TQTSQIGKyL+a2TVxsx6gYr+0W8jmyhAxadih7nbipiBi08ThDQTSRAxa+C2DsRWhAiLWWvxNmBDFrLXwbMBQxbS1+J2BQUcbhtKX4mijQOiU/G4CDQ8SV+JoRpQTtFvKacTZgQxby1+J6B0iw3iWvizBAweZLTFmBPqL3IacbMGh7ktMWYEMXyQvVve2Gh9P6VsizBAwfpRyKAKYND/AChyssIND/LV5VMoNuNL/wCCmaoNwNHyHgpk9P3SDuRo+Q7KZtB/7Kf2gFPVMEfkP8f3p+7CEfkO6lmiL/3Uwen7sIIYP/kpg2aIv0xXjZv0n3B/mjjZoi/T/wDkWg+zzgWd9QfJxwLNCGD3NOAnqzBF7nLWaIvU9ZCLMECjzPXyh6BsYo8T18p71myG85pyr42H2jea05GzvpCjWY05FPxZxRqf2L5NoNJi+TtxSR1RFfzWzZoiv5LZNgDqiK/mtk7UdY70dQIIFP/EADwQAAIBAgMECAQEBgIDAQEAAAECAAMRBBIxEBMgISIwMjNBUWFxFEJggSNAUFI0U2JwcpEkoUNjgrHh/9oACAEBAAE/AtmG7peC0ttM3wBtAb/mr/o9pb6HMaGGGGDtCLwiYful6isbJKVMZYFt11YkCw8ZlqU+d7iA3HVYj5PfixDEKPfqg6sSAepNVRUyeP0qYY0MMMM8YOESh3S+3UVuzBoISB1FuC0tKwN094RcW4Ly/FiP/H78WIHd/wCXVCmoYkDqarD4lbTMPMdViWZU5ecTsj6JMMaGGGGeMXThEo92vG2+B0lWo1uzE3zR0JU3MSsuUc4GBnxBzacoHBF5y6nEdi8VrgS/U/EJ6ytWQ5PeK6toeGv26Xvsr9iLTqpUFjdeNGLO/pseqiamKwYXEJA1iuraHZWrOj+kZFqJYw0E+JCW5QYej+2AAcNKrvL8tODEi+7H9UH0SYY0MMMOxdOESl3a+3Gz8wJUPKAcpiWYAAeMw6gFgYdJSyhOcpfN5RFLuwvyE/Ez7oGU7q5Tidcw1hw/I3cyjRBQG5jCyH2lHuxN5+Lkt4cDuEFzN+f5ZikEXlhMSo6HL5puk8oauVrf7MVg2hjVEU8zAQZW7yl77GyOpF5Rc80Oo48OOizeZlSq5qZaf3lAZyztMP2W/wApmzOyekoABqgXSCsRmuCecqkVsqqP/wCSiehY6ia4v7cR5C8SozVm3fK/nG311S45+Igz06gVmveO4RbmPVWoaRH7pUYrlt4mZxe1+cZsqkxatTlmTkdI7qguYlcObZSPoQwxoYYYdiacI1lPsL7cdUaMPCZjUcWGzEdkGUjesfbYaSEy1olMLf1mT8Qt6Qj8UH04jpFcMJh9GHrCLiUT0SPKBl35N+Vpv085Z6uZgeQ0lJsyCVe8p302ctmJHRU+Rm+TwN4mUNUD+coqBVbKeVo4QVrtoRKIG8bL2ZWQsvLURKhPIqbxqVNtRFpIhuOJtDKS5aaiClZ3bzlJMlOxlAdD3l231Sw8JSp5Ft/uGjVuQpGUynSVByj0SSSrWvrPhwALHmPHicFkYDylFCKqDIRYc5WpubMh5iJZWuwct7R1eqtstveVVYOpyW5ytojW0Mzq2JS3lMR3Ri6CVmHxC5hyEvvKy5NB9CGGNDDDG2JpwrrE7C9UQDEpKl7daaLKxZJRp5Bz2NRDG97Tc07WtN0mXLaImRMspArmFoyhhzm58naLTt4k7QiroIURtRAoGghVTqJYDTrgLC0oa1D/AFfkGAYWI2GlTItlE3XRKliYj26LaiVaWezDUTO6cjS/1A7E92fv+rEc+uMMaGGGGJpwrrF7I/VyeUw/dj6aMMaNDDDDKfZ4V1EXQfpXMS/BYS3FaFTEQqoEsfpowxoYYYZT04U7UGg/IX/JkqNTLp5ywlpaWM57LfU5hjRoYYYZT0HDT7Qg06jNzt1FfsXim6j8llVq7Zh4T4el5RVyi22/CzqpAJ1/L1EduzUKwjEoO0GlJ86A/RpjRoYYYZS04afbHv1NZsrIYtVW0hbpAS/DVH4be0o92u1myi8RwwuNhIEFZCbX6t+WIT14MQWULY/NPCUXLDnwV+8pe8q1d0L2gPKVUY2KnnM+IUc6d/WUnLoCePDEkP8A5Tffjbu33jNlF4d8o3hf/wCYNtRsiFoDcAw16lzan0RFa4B2NzBmF7r7/RphjQwwwylpw0u2vU4gZnRZVXKAw8I3e05W7dMesqtkW83z5c2XlEFVxmzym57J1jdkygfwhsdmLWU6axL1KfOU3NMsLXAMRgy3ErC6TLTqCDgPITfW1QxayE24Kvf0uDFdge88Jhey3+XBVpVGZSrAWlVHzUwz3udtY2pP7TD90nEwJU2iU8QgyjL7yirfEPmNyBsc7xwg0HM8FfunlPu19pUXE9ILbLKJBQW8NuE7Df5fRphjQwwwyjpw0e8X36krfEA+kr92Y1MlVtqIaL9s6yod4lgIU/Cy+koKVU3hH449odJSV3ut7KJSGWoy3uIQ+9db2vLpTS19IqkUnPnKLKKY5wv5DlC+Vrp/qLzAPDbEX8DBvvFV4Kn8RS4KtPeLaAcph0Zc9x47DUtUC+e2p/E0/bbiAxpELEXKij02OLqZQYtTHDSH4tWOgdbGfCIOy7CImX5iffZTqBxeYjuWmU7tbHmBPiFXkwN5h1PSYi2Y6bDMJ3Z9/o0wxoYYYZR7PDR7xffqmAOvFlF77Nzz6JtFQLGRW1EFGmPDZu0vfKNlurq03Lqy25TLXOrAe0UWHEPxK9/BNthxVc+Wy+MRMihepqsbZV7RlNAihYQCLcLYS5uKjCUqW7W17/RphjQwwwyjpw0O9X3/ALKGGNDDDDKOnDQ71ff+yhhjQwwwyjBwUO9X9KeqEKjz6tiFFzEqLUF12Zhe1/pwwxoYYYZR4aHer79U7VVb0itccO+p+cvtrVN2spVM/vKlVadrxWzC/W06uYkWsfLixHfUffq3/Fq7v5RrFQKLCNyBmTob2/PNBoOHefiFNr1MrIPP9JuD49RnXNl8f0IwxoYY0aUeHD96vVipu2ZdfKA1W9BKj5AB4mZ6idqHmp9pTSmy6c5TuF5xHzC+yr3lISn3tQyqyGonOUaiKnM+MU3HC2a3Rm8qDWmYKpv2Dw1xltUHhrN6n7hN4sNd+0E6MRsygy4lTniqQhYBgvnCwAudlWruxpfylMuR0haVa6UtYjhlBG0mwJmGHQLHVjfZX7p/aMP+IPYReyPbhfli09RtxPLdn+rjeqiGxMvwo6uOXAXUMFvzO1sTZuycvnL7WYKOZ6pqiKQCdePCi28/y4i6ggHU7MSnRDjVZTfOgbz/AEEwxoYYYZR4cN3q9VinKp7xUyPS8zsqresL+U3N9WJjOBYR+g2f/cPNT7SiRuphyWzm/jK5s9Ow5xaP4dm8ZVpU86qv3iUaaeHE7ZRpeb5/5TRGc6rbhrM9Woaa6DWYWnTNO9ucrcqL28pT3hpBQn3iJlQCKq1CxdpQUiuh8Lm0qKwdXAvK7OxW6kLBKvf0fLZWKLWfML3XlMOuSkAduI7l/aUu7X22VBdG9oOnTo05XrCkNOcw9XepfY1RV1Oyv39D3iuraG8rVSlrC5Mq1S1OzrY3j1VQC8p1kqaHhamp1EFbd0iPEG0oqRTFztfsN7TD23KzPvMWoB5Da1NCb257WVUosBpaLXslNF5ttxZ6C/5RXU8gZi+6+4lV91S9fCUM26W+vDUz5ehrGJqU3qN4chKjlKWaGoFC5vHYuITJdiBDihm5C6312YXsufN9ju5cohtYczKLFkudZUz0Kua91J0gIIBjv+OKnyjlARa8Nsp9pg+5/wDo/oJhjQwwwyjrBwYXvl6p0DjnEohWvfYyK2sFG3zGboRqVU8swtAOVp8OPPl5TdOt8hEag3I3u0y4htTaNRGXo6xCSOY616DZi9NtfCYekaaEHzlpuSvYb7QCp4sJuKd75ecelfLblY8tjKGFjBRt87R6SstoEf8AmTdodRebmn+3bUXMjD0mHa6W8RsrPlXlqdBMIAhIbtSrfe5subo2Eo75LoF53irXfN0tJlz71nHMCUu7T2mMXNUpLCi06lLJ7GVw3QcDsmYlRWp5l8Ir2ZHYcskyOH3ipr4Rbkcxbgr1N3TLRMOzUXY9potdLAG4MHOBgdJabmsoKKRllCkFxLAfKu2pUyMotrtxT9HIO00w9MLWf0GxkRxzlbD089MAamKip2RMQjPT6Ot5Wptyaoekx08oOAOCSPKVSRTYjym7IwfPzvHTPTK+ktXYod32P+5X3zJexWUKd6VVj4CBbYPTWW6P2lIcyHcr6TDB8hzX15SrS/ELG+U+UFWiq2Xwjo9UMxFrDkIGasoROQtzMrIyUgqDl4yhh2I6TNl8BK7WTKNTyEpJkQL+gmGNDDDDKXag4MJ3o/VWpdLOnIxS3iJYRkVtRALbbCKoXSOiuLMIlCmnMDnsNKmTpAAosBxEA6jabAXmHuWqP4HTZWrZOivamEDHPUPzHaVBIPltFE/EGoftHo03NyOcFCmNjJdkby2PUYvkTXxPlMn/ACVF7214CbC8oLzep+47GUMpBg5DYeYMTD2oGmfGPSuiqPAjZy8tvLhWn0s7a/oZhhhhhlLXhwnfD6LdA9rywh0iGo7MPFzETIoUeHV1nyUyZRG7pZjrqZhV7VQ6t+sGGGGGGGUu1BwYXvl/JVDZCZhqhPI8BqIDa/V71M2W/PgR8wv+kJSppcqNesxlNnpi3gZkqVrAjKktb9YMMaNDDDKXa4cN3y9XcS8vsxAbL0fOJfKL7K3dtKPbp/4baz5F9TpKdEDm3NthNheJUV9ONjlUnyhSyrV8S08JhWZt4T5zUETCnoFfI/V5jRoY0Mp9vhw3fL1TsFUkyjTaq2YnlE6FYoNLStdemIKj1ezyHnOkjqM17xmCi5iVXJW68jpK9AMC1zKFMswsx0i0rfMTsbpYkDyG2quamRKbqlQe3OI4fSVamS3K5MpVM40sY9XLURPOM4QXMBuLzE9y0rd1RX2jvibH8PlMMtZlOU2F5Tp5PG5lHlXrD6vMMaGGGU+3w4Xvl6rFv8spZkQDLKVM3LtqZX5sqecw3d/eAZsQT+2Vuk6JHHOn7xyApvMGtlY+u09HFe44B+LiPRYOjiD6ia4j2WIQKtU+AjHNerf5uUrVFqFUB5X5mVat0smnnKgVqJGbwlD8Qqx0QWlcl/w0+8wltz99mH5vVfzb6uMMaNDDDKfb4cJ3y9VW6Vf7wbKlLMQQecppkW0VApJ85kGbN4xlzCCmxPTOkNIhrqbX1g2VaecesD1ByZfuIrk/KY9IsbhyIlNUFhKqtdWUcxDvmqZkS3LxlPDt85j4Smx8RBTQC2USwta0+HpXvljYdToSvtEpqg5T4dLk85VcKthr4CUae7pgfV5jRoYYYnbg4MH33VKh+Jt63/sWYY0MMMTtQcGD73quX9izDGhhhi9qDgwXe/b+yphjQwwxe0IODBd4fb+yhhhjQwwwdoQcGC7w+39lDDDGhhjQdoQcGB7w+35csBqZf68OwxoYYZ4iDgwPbb2luO8uJnXzgOw1AHC+PVOu8rZb6CULjMh8Pr0wxoYYZ4wcGB7TceIpM5FoMMv7jBRvWYZuQgooPCW2Vf4lODMt7X4tMUfVYv8AEP7cIqIQTfSCohF7zXaSAOZgIMvsavZtOQ8Y9QIuaLX/AHKR9WmGNDDGnjBwYDV+po83qH12NUVYwZgMhm7qfEWz87azd1R883tXtfLBzEZTSqDxlNs6321auT3i1nzhWS15X6NWk/2lHpPUbhBzOU/qlNFNWoLdGOm56a6eIj1qhXMgsvnA1b8NieROkqjPWRPC1zCBSRiIwuFOrtBOihZXHRJ1lZL0eXhKbCogP1cYYYYYYunBgNH6g1U85h7BTz8Y1UZWI8JSToljqZTcClKd9/mb5hPCXN92ezebxANYL1CX8AOUSoqUh5+UqtXCXvrKVc2swPvKn4vYX7xndmQlT0NZUJrjKq/eU33S5WX7xWzcCUt5Wc3tZoiKgsJig7IAom7vRyHylOg1wXa9tJVRhUWoov5znVUrlIHrKdOpT+VfeZampb/UOZ03aqfUmHeIBZc3KUFfO5yZQfq0wwwwwwxdODAd23v1Bo0z8s+HpeUakGXL4S0agOc3Da5+czVxql4Xc60ZYX7iZ6v8mIjq191HZmAzUTM1O/NWEGIo+c3ifuEzL5y4lxwYb/y/58eYecbEUl+aBgRcfV5hhhhhhiaDgwPdff8AKlEOqiHD0f2z4alPhqXrPhU/c0+H/wDa0+H/APcZuH8K8pU6t3Aq6Gbqv/Om5rfzp8PU/nGfDN/OafC/+1p8IP5jQYSl43MFGiNEH1gYYYYY0Mp6cGC7n7/l6tE1D2rT4Y/zWnwo8XafCU/WfCUvWfCUvWfB0vWfCKDcO31uYYYYYYZT0g24PuB9Dsa+ZsoBEWucwV0Kn6NMMaGGGGUuzwYXuV/SWOUEmfEsezSMRqp1W3Ub0b3d+nU0qy1b28ON3VBdjbYcTRBtmgN9ldc9M+Y0mHq7ync6+P0YYYY0MMaU+zwYbuV6q4lxLy489pNheKwYXEc/jUxwV6jIotqZQqFhY6jhxOc5FU2vKGYM6Hhr1t2t/GU3zorcVXu39phjeiu2u1REzLaKcygxauZ2Wx5cFblXozEVTTS41iZsovrKzugGVb858VbtoRExFJzYHnwYMd7/AJSpWCMotrsfEIhtEcOoYbcZ3Y/yEqqrU+kbCbpWRnHIfL6zBk2db8gduH5Vqyet/o0wxoYY0pdngw/cp7dUcMpN7yrSVMuvMwYdPWbhB4bamYiw+8RQqgSp/E0xHFS65TAlmLEwEGYjt0veKMuIPqOF/wCIpD0lHm1RvWVKIe3PSAWEqNWud2BylOr+GC/LnaYuopygNKVSkqKM4g57HdlqAZej57X7De0wfcj321Rem/tML3Kxf4x/8eDEJVasmTy1lajl3eZszE8DgfGIANBtfNkbLrKeHxSrbOoEFLLi0BN+V9lqVLeNyJvylFMlMA7cZ3B9xLXW3pKuDrXzBrzBPdMuW2XbS/iq30YYYY0MMaUtOCj3Se3V1+1SH9W2pVINlHOIcygyo2UoB4mOzLot5+M9fwBAhNWmVzNe5lVsqRb0q6rm1mKHRRvIwdKvfyXhxGbfpl1tKaZFAjuwq01Hjsb8Krm+VtYVRhzEqJSeuiIPeBEHyjibst7TB9yPfa/Yb2mE7ke8T+Lqe3DX516A9eDD9OpVqethw6432TY2EQksCQbwJiR/5BGbdqL8+dtmK57pfN5iC65GUXsY2Jd1ypSNzMNQ3Sep124PnvG82+jDDDGhhjSlwUe6T26q4EPOuPQTMo8YGuLymCVqt5yh3Sxx+NT2U++qyupbd8vmmIVioI8DOlUc1AOzaNUNRcopmU1q0eWW8U38NjmykzfJlveEMHSq/n/qCOP+TT9tj1Xs9N0uYi1mRQeiLfefD5TTK+B58Bo3q583221eVN/aYXuV21O7f2mE7kQqVxGa3Jhsqsy1KQB12sp+IR7crW21zak59Jhly0U/3Mwva/An8RWPoOAqazj9in/exxfEUfQE8G7xL895l9IcHm7VVjKVFaQsPowwwxoYY0pePBR7pPbqnoq5ubz4ZPMwUaY8Ja4tAABaWA2hVBJ89thxCml75YecAA06x0zoVvrFwlRdK0GGe/SrE7QANqIWqmow9hxOgdSp8YzLSQXOkoozO1VhroODle/0wYYYYYY0pePBR7tfb9Y3al8x+nTDDG2GNKevBS7tfb9eJA1m/pfvEFamfmGzMPP6TMMMaGGNKevBS7tfb9deoxbJT18T5TcJq3SPrAqjQSoqNyCAmHC1PB/tFo0zdSLMJlq0hcNmHlKdQOOX0kYY0MMaJ2oNtPsL7flyZTqo+h/IPUVBcwG/DmF9tSqEy38erY2UnyEojLSB8+Zgq4ioL01AHrKW/wCe8A2Vn3dMt/qMr0zm6WfzlOorjlHtRYML84Of0iYY2wwxO1BtTsr7dWSBBXpnxgIMOkw9R3zX6ip3b+0woGQG3PqeYxmuomIxYW6prMHVdrg8xtZgi3MbEoPO/lKu9bIzcrnkIBw4nvqHvtrm9aivreYl8tJrGxmGzGkCxlVapX8MwV6qcqlM+4lPEK7ZRfird1U9oO6/+Zg3Xdcz823Fjop5BucfF0R/V7TDMrV3I6NxpKlMOLHzlDsW8jb6QMMMaGGGL2oNg1i9kdXiNF8r85kS2kCqugtHYZG5+Ew2UUhzgIPjsrsVS4mGZmp3bgfsN7TB9199tWpu1vlvFNwDwVXyITKlV3a5luUwiZaI9eDKvlMTzrUV9eCrv7/h2mbF/wAoSpvnr07qA3hBQrE3ar9hsqYRnqF95aYjDqgXpEkmKLKBtTnjKvoNlWvUV7ClebzEt2aH+5S3/PeW2VR+E/tKdjTX2gwVAeZjYZkF6dQ+0oVN5TBOsq92/tMLSp7pSV5mYpEADjkbzwmH7BPmSfpAwwxthhg7UGwaiLoOrcBwViOVIRv9wqGFjK2HpqhPOUsOmRSfKVGydFBzlKrV3mR5jOwvvKK5aajgq8qb+0wvcja56JgFhwPSSpbNDgqUxNNKeHIAlLu09uFuljF9BxAXxjei8FbpYmkv34MJ0jVc+J2E2F4cX/62lOrvNFOwi4IlJwtI5vl1iNmGaYisEXKO0ZQp7ukqyv3L+0StSWmnSGkANdw5HQGnrKpzfhr46wCwA+kTDGhhhniINi6iDq8xp1GzaGVWQoSDzlI3RTMT3RijoiNm+IbLrFTJepUPSmIqMxXy8IgdXpm/a8OCqpakwEoKRSUEba9J6mS2l+fFeY4/hD/KIyhVFxptqOqC5hxtIeDRK9Pfu5PhyiOri4PDuvxc4Phz4DT/ABlqeltuLbLSPrymHCikuXiNamurCVyj80DX8fWUlZrBa5HoZTw6U+ep8ztFGkPkEaoW6NP/AHEQLp9ImGGNDDDPGDYvaHvPDqyoYcxNxSvfLsqpnFvXY9G7Zlaxgo/vbNMQM2IVYlEKc17nrSLi0bAKdHMfB1VI8RBgafrEXKoXy2lKbCxUSnhURidYqBBYdZVopVAzeEChRYbGqIurCb+/YRj/ANT/AJDftX/ubi/bdmgp010UbHpq45z8ZPDOP+4MRT8Tb3m/p+Bv7Sz1O10V8oAALD6SMMMaGGHYNidofk+Zxv6EaiD5hPiF+UMZfENooX3m4J7dRjFpU10UdRYfSphhhhhhhi7KfeL7/kxSAql/P87eNXpj5v8AU3zt2KZ+8y1zqwHtNxftOx+8WjTXRR9DW/NnYY0MMMMTTZR71Pf9AbN4W601qY8ZvXPZpn7zLXOrge03CeNzAqjQfUxhjQwwwxNBsod8nv8ApJZV1Np8QD2FLT8dv2r/ANzcA9tiYqIugH1UYY0MMMaU+zsw/fJ7/oj1VVgD47TWUchzPpLVW8csFFBz1PrwX5gW/KXA1m9p/uE31P8AeJv6X7orq2h+kjDGhhhjSn2dmG79P0TE9LFIvtGq2OVRcwU3bvG+wgVV0H5mq+Rb+PhBQvzqcz/1CKA+UX9pz8KI+8/G/oEy1r36EviP2rN7UGtIz4lPmuPtBVpnRx9HGGGNDDDKWmzC98vXvWCso8/yuKpHfK9jb0iPU0p0bRN781uteqqFQfHrR065PgnL7w1GGIVPAiAAbC6jVhwcoaFJtUE+Ft2HKzPWp9sXXzisGFwfoswwxoYY0pabMH346yo+W1hzM3tQEZ12KM9Zj5cGdb2vz4KtbKwVRcmU6zZsrix4c6Zst+fEa9IHtifE0f3QW2VKyU9Ytam1rN1eLAzUvO+x62SqiW12fEVKjWpLEqVN5kqAacuN2yozeQmHW1IevOYrk9Fv6tlZ8lNmj4e6p4u/jKZfD1cjHo7MUz8qaatNziKViH94lYh8j67XoWu1MkNKVTNdT2hr9FGGGNDDDKWmzBd99usr3BVx4To1FlwJQdQH5/NA4Om1O+v534BTUVC/jKn8RS4UohXLX5nipIheqCOYaCkg+UbaahqtW/nMSiq/RHK0p3yLfW3FSY76sp8DwYlahqJlS+Wb2t/IN5U3r4ilnFpUTOhW9rykm7pgSn+LWNT5RyG1r5TbW0tiyB0lE3Vf+d/1ED26RvMT3DxOyvtMVzegv9Wyumek49JQIemh8RMSgNJvSUDeksP8Yn+GzFU1NMsdV0iXyLfW21qeTFI6/N4fRRhhjQwwylswPffbrLq49JSNmNM/aHDITdiTMMi9Pl80xLZafLUzChg7C/hDoZTq2YcrylVFT02HkCZvKtt58sojMxqnx04d5+Lkt4cT4Zs5dXIvN7Vpd4tx+6X2V6Y3qZSQzGVKFRWzElgIjBlB4KrOtsqXlsYT8sppXNarZwD4ymlYHpvfhfnjKftseu1R8l7ITFAUADgqGteyLf1n/M8kiCvfplftCLgiUGt+E2omI7/D++1qBDFqb5fTwjUq9QWdxb0iqFAA8JXR7rUTmy+E+Lp253B8p08QRdbJ/wDu16gT38olNs2d9fD0+ijDDGhhhlLx2YHvT7dXWQshAiVVWynlDY4hLeWyhyNQf1SuLtTBiIqDlMRWCIR4zCUujnMTvqltjrmQrNw7Cznl5CU97T6BS/rw5FzZrc+IMDK/cv7TD9yntsf+KpexjEBTfSYYHdffipfxFfiI/wCYP8di4emEy2vBRy9lz1FSmHHr5x6qjoVvDRhPjU+VSZRq7wXtbhPnsaqi+M/GqadAf9xKSpz8fP6LOwxoYYZS12YLvD7dYyK2oiU0TsjZu1z5vGOgcWm6q6bzlMTTVKXqTrEpNkWxtyiIEFh1zglGA8ph6gC5G5ESo2/fdr2fmMAsOWyrSFQDwI0M+Hc9uqSPLjCAMzefFlUkNbmOovaHEUhyHSPpM2IbsoF95uC3OpUJ9ItCivyCHC073XkZvGTtp9xAysOR2mvSHzTes3Ypn3PKCjVPbqG3kItNE0X6NMMMaGGGU+1swXbPt+SxfNqa+v5FlVtRAAOQH5U1aa6uJ8SvyqzTeYhtKVvebuse1Vt7T4ZPElveBQugtxGjTPhb2m5X9zf7m4p+p94EQaKPpAwwxoYYYnagmC7be35KqmbFD9DatTX5pvXbsUj9+UyV21qW9p8MvzMze5go0l0UfTx2GNDDDF7UEwXab2/Jcv0A16Y8b+0zV30UKPMzc37bkxaaLoo+ozDGhhhg7Q2YLVv05nRe01pvwewrNPx28k/7M3CntszQKq6D6lMMMaGGGeIgmD+b9Kaoi6tN6T2EJ9dJbEH5lWbi/adjFo01+X6rMMMMM8YJgvm/R2dV1Mzu3YT7mbp27dQ/aLSRdB+ZR1cXHD8bTvYBjEcOoYfRx2GNDDDsEwWjfomOqMrIAfWZgFBJmao/Z5Dzi0lHPU+Z61mCi5OzepmtmF+scEqw9Jgz+F7GV2dHpG/K/Pa65lZfOUUNNMjD7zCX3Z/yNvo4wwxoYYYYswfZbr61bd26i/W46kWykCU6o5dAs0SnWLZmf7Dqa1U0gDbUy/BjzakvqZlbcAKeeXWfCgUmvzbW8oEmkhPlwnFUR43nxQPZpsYhuL5SPfhwn/lHk8xnZpf58FQ4l8yovKUHBXLaxXUfR5hjQwwwxNJg+wes3ifu21+lWprwVGPxK89tRC4te0ahu1LK55RDdVPpwNe3KJnt0teGu+RLiDZ0fTbfizqNWExlRDTUBh2p8YgsApPBihnrUU2VlxDXt2ZQqZhly2K+HCclIkLSJgqYj+R/3Fz/ADAcOH7eI/zmM7NP/PhpdPE1HHZ0+jzDGhhhhlPQTCdg9XXPJR5mfD04iMrHn0ZmXzj1F+JBvoItVW0mZRqdjC+LHBUqMWCsMqmDhuL24cXoi+bbTRauznPax5ShnR2pNzsJXcpT5awYXxLXlEnM6Hw4GXMpB8Z8HS8bzEUKdMKFHMtAijwHA3PGr6JMwvbZT54qqRpa3WKuUv6m8ZQykHTYQDrNww7NVp8OT26pIiqqiwH0eYY0MMMMpdmYTu+rqKHW0oMeaNqIRcT4Wn4ynSTfty5CN0VJhVHBZn6Up92t/KU6imtUc6CLUV9DtdQy2MwxJT2PDSpFMxJ1PC/SxNMeQvtalVV2NMjpSlSyam5OplWmHS0y4vTMspUslyTdjqeJxnxKj9ovw5T8SWt8kqo/JkPOZ6r8kS3mTKVIU1sPqEwwww7DKWkwnd8fPaZRN19fGVujUR/XbR72qfWOLow9JRFPJc2uIz7zop/uU0BqlfC/OWXfrk++xlqA3SFcQ/iFERAigDqgp35b061Eszt5n6pMMMaGGGUphe76upTcHNT/ANT8Sq6Apa2u1UC3t47Dh6ZN4FCjkJQRX3hPnEpomg/sIYYY0MMMpzC91+S8Jh0Kob+f9hjDGhhhlPxmF7of2YMMMaGGGU9Zhu5X+zJhjQ7DE1mH7pf7MmGGHYYmsw/dL/Zkwxodhi9qUO6X8qtVGNgfyFx19S+RvaYVs1EXMfsN7TDEtSuTfnK1Xd2AF2Ogm8xSdJkuIjBlDDx+nzDGh2GDWUe7X8piOzl8zN2Kbpb8hlJRquY3vF5qNmKqOtQWPhAbgdW3Zb2mC7n7x+w3sZgu5+8ygsG8pVr01zBj4TCgiit/p8wxodhnjKPdr7dXvieyhMXe+Nuoqd9Slb5P8uN8VlqWtyBlxxnQxP4RpTvu19p/y/6ZXWsX6dr5YlF8ovVaKmXz4ER9+/M5eKobU3PpMILUF9ZXNqL+0wq2oJAwN7R6NN9RMJf8RL9k8vp8wxoYYdlHu19uqqtlQykLINjsFFzFNxxVP4ilG6VZR5c+PEU0NNiRBh13YYXvaUmzUwYd6Q1QnQ8hHa1O/pMNmBZG94SFBJgYFc3hsT+GqCUuwvtsrrnxQX04nqqrKp1PFiu4eUSDTW3gJiEZ6TBZRRlQBjGoVAxak2vhP+WeVh7ylSFNbD7n6fMMaHYdlLu16rF33X3imrlUKvhrAtfxYS3Kx5wQsBrErI5sIeSkxa78rryMpvnW8xXLI/kZR53c+PHXblkGpgFlAlO671P9RedKmg8THqKagUnoiCpT35OYdmYitmWyaeJlSoppZE8pRtu09pU6NVkGjwaSpXC8l5tAppVlZz2hziMGFxwtRU1A/jxVEFRCpiIqKFH1KY0Owwyn2F6rFd1KfYX22VnyjlqYNI/4lXJ4DWVkCgMvhD06XLxESou6ynXS0pvuhlcSpmriyjl5yhUsuVuREDA6cNZ8iXmHRu02uyqr5w6feJhqwvzAvGwy5LDWLhaY7QuZkQC1uUWkiaCfDsOxUsIMLTtz5nznwg/mNEpImgjKrai8AA+sDDGh2GGU+7X26rF9lfeL2RsdbvT2WlXu29pR7AmRL3tz2vSpvqIAAOXCQD9fGGNDtMTsL7dU9MOP7HmGGGHYYnYX2/syYYYYdhn/xAArEAACAQMDAwUAAgMBAQAAAAABEQAQITEgMEFRYXFAUIGRobHBYNHw4fH/2gAIAQEAAT8hg0CxiUKKMA4WL8gAe+49Bj0OJyanQDHQantWMWl0WhQBD/gwwRrWGWnKDsbC8GfrmPlG3TSpcQRagnISmC6hwQD2q6jQad8YDHoUxTSDGoUMHDJGdkI5BHsPU/Z17MhaGYjSN4NUqql82i7TKFPWBDoec84KWTnKAIJaFwg0OHfwwaFGEOtQLo9KMhOwSAGSofb8XgL/ALoIKk6AYNk0TBElPT/EEfCkNGQn49XEI5ARCwBIGGjAEv0EXEva/pMdA6DmiuxATDcfeA0UVXPrFwJTzQ4xHLKKvEyWDuoZQ4eCGA6QJt0mRmmbxvZDeCDSM+EFFubpAHAYNJJCCWMigqAgOe84kGCZRA8DAiAtoM6CJJVU5hcICAH+IKeRqsxsEocXMdCgtLLrQdzIu4Nw7RyFsS4Lt5WhWlfhFwgZfaNgvkQabMw7iHvOXifmEADtBElM/QOjtBQJdGGAQYM7AnFsJ2cEiLCAZgMCgsmBGCxRmAHDSd4x/t41EoQ3cZnQ0IVNloTBHBKX+AhGHyR9xpCDgIScE3JgxYuIxgPZdRAhYEVkf0oZmCP0IZuDiTDp6hp/AwsAMolmYNxBEeI7b5w/uNLM9LD5g9Lf3VWczBBUTFPxqPSQEC8LBwBmCKEMGCNGKGgiAQQFpYfJwHe9ExroqK2FCEA3GYfiHGAggTzh2eIDLq+0NiuBHA55gYEWgoJ5JGFMdBCMQDa8DzjhLO46xgez4c6qzEWBOVqInAbnk6rhdoQgLgRVkMbQtodyYt1kTOXyoHaZ4ybl3iPRWTzEbLk9Y2vhdcDd0AKDN9NsomyXgDBcOGv9YT5C7CGgdmC7WAajo8o+IS7EFfvP48D6hAgWq0Ftdc+729IqOZjgo6YJ+TYQ6RwQQRaPXLdOSL5BhC8iWaHjGyo8cYhsQgKDAEKFJNgxMBy3AHRwBsmdzQgEIi0NWxMQnzBdgeIJQD5gAQADdN4MYcS7r0+o49h1dUxERDEtMXdrXhIiARzDiBkWsWMCSA61wfMChXm8QWsDrZtP2xoHdOtELzHBoxeZ+fW4491xx6gYY9k6nHHpcUR7TK6kmj3XH7S/aULBp/dC+rZfpjLxxxxx0dEDmEF7QaDszzlxpJ9YSDM/VPDqehxx0cf+DmpOxixwVcxeZ+bfcOydDocdLQsgCAnD7jMGecfrQUZF4CBOhx0EvBRmOOPccfs4b9kVA7g+/VMEesgALmPW4QUi44dRpe244hM4wmwnzBBA4o6HHVIg4QVeh0NHHtFB8BCgrAchTgN+4P1h2A+GDdoRbrMyiUcwgFRxxx0BPxVAUuKLBArJQisoGyTvQRoOZhZCThlQv5A5EcFCsqRhIyyrRgHrA6MfqNFp1QQyJ1EWl8CUU+hcCOUFgZ+hmFbcNcTv4HBb4S5ghmCKAl1Bi/Avdl6Y7CI7YNA/dANju9FzvBXOCIUgyPBhaGYdYfEMJw5cDtBUSYcJDn4udadIFYjPhCDFJA+oCC0GSEBnpHwsDmLPUaC+0wGv5sA/MD7mjutBO25OLRUYO+B9WoAkiRYxMV/UaFDeWnN9b/VRBB8UH6cYBsxflgRTifuf4YdbeMw6uGwfoEBY6zpAFBLjeEIVkR6BA6BXtMSJC6GXCIQCQB+xYAF7MADgRAbuYDUhssgVz7pCJAZEGghIgijCEO8Dr+Q6DJlXiQD4mHTcRQBXhaCnIsBZ5qNRkqGI8UIb4hjPFvqoNL2W2PqEDkYP5JRMiiGYDlT8Mt1oQsBA7QLnBRgfED7MW295+5HZTw3OdAoHU9RRS8KUKk0DmD0OcmjBB/uIKdcIonTbDWScwTQSBk9zqwozB96OEhBIxqAlb2PpBBjjQ9IgdJH+4NhxCAhY5gAAAHEQ6Vcmh7xG7u2H7K/XnZTw9oJx1ehAYHsd/UGOPQ9l+tOynhit48Q237U/QP8Aw00DWGuVjoCfog33qce89JDi5oQbKhSZAQ8JYGhGBC+my6OPQ9T3XsvefpXsPQdhnyg3qeUDIBEYOgmAhQGATVIUyShEiwg4gjqcQQQwdbj0GBMo8tRBMCOPYK0eXv7RWUITHQR7hEoNm7aQy2ADUBgZqOg2X60AWA6Ho5vBr2E7CTIwaLvPFskBXgr5dBrA/aHAXxQrEGOZhuYQcGYKfAmCUw6H9yZPAKltxAbhkOVaBcNKrQJn9RQpJg9tHWA/pAkGD7guFjlMwInkQiyRDHTA5zmb8jsIQFwITcJQTP8AQsAdzwITOxgp2sDloqIRBBARa5p+dpJ3t1JukMccB0AqRgAhxx0MKCbAKjgoUHQCOgCXAKPTA4BFWRQoSo49ShZwj0qKD0PUd7o0KcnseIIFw9gNB0no+Rg0fq0LVYOSU6ryUvUhgYBIEJ0MI8h4loGMBBsoEAvGYeMwxj8y5QZI2bMG5U3QYFf1iqqHEQfhGYg5foKWRgOBhBYgx4Q7XSMsS97QmF8S/wCgJyBA+Ahi6BECGwLIzACCnMGRghj4B7x5L5MFCSIAAPZRT7oSQ3OfAgWAxYEKyEQVQmFhwXlhO6YvgWLlYS2BiR3l9xJGBLde6c0FSZICwp1TodoxQk3L716zlBsYXYL/AOKgR2OaEMQZ1hQgC0DwIHChmBVYsIbIZIyow8pL74KMzJIO/eDQbbPKZSyAIYiLgCH4uOO8ODEDoSPqDDwoyxPmygvF0SC/KI+oQTyTgRMEOGyn3xAwXWO5g0Mm7hHtC/JqB1OpEGXZHo+KAEE4CoU2b6xmbsQPQISEhwZcNpAeDELMuICLY9pZ8BYPeXQg63ocEBEAcihoQyZtCBCMaNsdVxP6UFHBC1nQMQ3CwZ2p0gEVlg9IOACw8XhxEupgGWKu4JRCXRIo5CEULAvQekVegfkQR3mzOBCjGDj3MbjLA7x/gwjhPmO3cnJArlkHaCJQczHEFKQd4F3QXxMNx7pBQRAJ8AwYF5iWgAXBEIA47ZooxCCDzFhzLfN50JD7qE2RJq1cvuL4g86QloNi8NwPr+8QcgiIgMAKnQwOgIAAAHTQL5vnMrmEIpLkS+TFNzB6frB/hOIQ4BvA89F5gQ8jH8wYIsjh0m8E+Y8qDAk85yCgc5BYAQjUCugxSh2+wjRPFkmYRBuzwTk7PD2hXm9Gbo9Dj3gY6PfzTq9DDRj+YwgoPrMPmABAVyWzASBCXYIX+WowWnlWgYgBgag6AR3paGQRQEFZRbPFDkLhfkGZP8FSQF8KpKEoeB3AqGAUT5LgAEXhRP8AmusFL5TM9dACFgQxKCxeIpgCMBAb70FIciDMcrkTEVwfFEWQqugUQGBW5ycdh7EdDSvng9GXVx6HsPQ44PUvdTnQ44MAAABYSwiOkRdqHsIDDA2+sStA8qDIQjJfyLU/UL1BqnpvJpGBujj0FFcCMjs5GhqC+kdHodHHCAc3iOOO0AMPaCKk5HO4hLukCXFi45MAAABYf4ADRpI2iLJgAi0ANUNFi0xO4FQ145erzrhOhA3vF5aAMRsIAJN6xk+DjkOXOrtDhJMEdwEP4FAYDpfrn6V7g1nfMyKDfOwCDQMFs8LQhUZfPNhAUbGRQKBM/JhGSWCIrxoDE7lJ2gzBPlGKhsCvWREbHeDieBvF0LAEfYGRDJPOGOOAAHMNTG2ySn1BkYC4sHnS+JMmSYFisxBpcBYx7cNoetfoTDXDQ8EFXCyR7OMfJhN24su8C/0lPtYxbehTpUCHmD0IlmDHQE9okFyUClgThQraZoA/vgpcPljvsRgrAcIHGBO1NxWYuoeIIQHh8QTxgPMXEZP4iAHQnBLOxY2X7sLe7gwaAe1GUDkBAAAoZTDgwIHgbwSjwCPQ4FlowAhaFACoEV0GDLyyvkmBF5lylzFt8nrLgnD1hsLAYRIsEsgcxhBByBAAEDtDjC6Qf9gQs+sdUXh8mFMIssgG0I75hAhiOcmo0L/JzrDxaBlvwMezflwNY4/RoNoOP2JegdX6pevNeyFXw6QfmPYcTNB6XtvYe8KPfXpHqXtj3DDrXxzhBXL6Y6PU449L0LU6PSNh0ep3j1P0ro91exnWn+qYbOOrqxHHHHHodXR0ccep63vP2tbDqPXvQ9wkg3YW44449Djq44/ZH696nodX7OSU/RQNRH0mABE2HHHVxx+yPU/Z360dUx+0wGgICBWlQkDMXrO9EcIA3BoSJujq9QzkSgTHc/yDS46Ojjo446OOr3VF7e/aTpRaThMRBX8kFVUunYZgw/vl0VqlAAwKXJ7QRxwGQD6awY/WRUwIxWRiUFQEBY1akCBAQWIvUUagOZGHVfoI0gNevp16paVtHS/ZzoWdQ4TEQVC92Gyni1DCJvDcEQk4iGUq8S9bkpZ9xD+Al1ElAghtcsCdkoMA8Q2nY5KB8RaOm5OBBYX3DXucDJADaCnAqG/hBh4F1AX4oHxMBByuY8oUguNw+IvA7jvtv2l+ut6ow6m5CYIKhc8bAZIVwzaXOCXBI3EsFySk4vwiEMhFBZ5YW6oQCEIxJzGWIbghkuZxqQCg3Ac4iIg2JdUUHBfAxZgFd9F4hEvPvYTzDgTe8CvSiBLLFLCQEHUQlogXMDECfuPBuVYQbxExEGSACCnldAd6r3Ze5nQ89Gx7gZEIATx00CAARIgTlgd4tDZmKHwgBHImY8tIFC55PHaChEFwBM3rHExLPiA+Idh9xvIncq5zaDo4Qi4TrDxBPARb/BXHtDS/UnYPHWcy+iuiB4mWHxCuMPTP3OJj8w8AvmERj7I0SMXIGHDL370QNko6XXg/MrExP5Rl9/kRACw96Xon7EaFpz0HDBRQT9npxwg+yDlgzL+YS8/ef9jP+5n/ADMWAPmJaHsOP1j9SvbLvWdBGqMx6H6T6UGj1OP2d0GRzjmPbGCcQbvOl6H6JRegvuLUdkWDfz1MaHR6HHHthwoCANliKyO782CMELufGh6CVeDycNcGOA6bEJq8JQcaX+sCDBtBDDDqeUQYFoe4vaFFrt6Ytigrb49ruTuROsBuEFBGLAg/iMX5lHRSbiEKu7UdWroZjotIx6FYBkUJ3kGoWJc59zFFDkJLLgephwaC7uYK3McsGWgsVeOPmF4Sb9DAMGAX7iCt4wLYS98T44l4/mTypghMFGf0dD9wQyp2QAZaORrKv0goIPYXoXsZhpHSX80FbIjsmrLwGnEzOWS+YEkVu9RESjyg0xT2UOsY5hMsCAGLw7fE/I7SYPSEYgrlX4l5ldFgJa5i2Ul4Ekna7qIno5cM9gEIACDal3ohAEUD7E/Qqvd8Y/OIyHCrcYF8EO44MFwChAIuHEki6VAKCSGNooCWRkx0B3CesUaSTayXOcVyfmKn8E+4L1ykfDpwLRncFfvRS8vS0FRvr0z9hMOwS/ng3uu81BS+4jPad9RD5V+UtxyIlyV9EibgV9wxiMmwhmLDPyYUQZhK4/k0KGHMGB8xD8CYwsqHc8A7DEgJEEMABLCYT6KXhVnX9yfqV/fn7mhRQPmX1FUSR5+BANCbehfYsD0lmJR1UYTYh9oIB7E/ICJZA7Q2U6fSWcnmoKAcC/zBaB6V+kXq3Q7BLEwbPrQcwy58FhEuEEThO6mB4mD2jjHCNBv+IWRgBJnWllCy91kJLh1xBBJZORmEHIeaEGXQhDY4xOVhF0GECGC403fDgqB8QgYnrIMJ/bY9CFyAtCpcu+CvMY6Pa659Mn+YPvKhI4MUylJYrfoWeGhwnK5DfMS4GeKuCXOiNBlx9gIorEW+SqpcEAuwDiZEghOSy7+s+NpS2t0XpTvIjgQbkMg3mf8A05ib+8IELBCg2AsIMAKWoEAvlUAsBpUDQAMAAiINsUs3RDps4iInMrrxFRAdBaAUAIAChiQ1l0hqxMRgLBdyoqsi6Q0LAv10C1LZq/8ADjsas4EFPxofXPZdHtupykRh4G244/WOj9nW+RqZ4K/jUOl7T9Q/QvQEZACLhg/ugMuJHHHHAfansL1oaAVQr4K/hb79E9bjjj1urjgOoiBZkxAdd60CEEQp16OAPJg4OM8bCeP3Fj4jwsIzvH/LkcjfewqvdWheymGgZ5aEug/G9M4gMxrxbLjj0ufaIAjnQ4RACQCcd46E0G5Rx0evuWGAIZB3mEztQOUM/jSIAALCdcMeRluSBE8LxiN9e0Em3LjLEJAR7K6rZHqnoMOhGvhqGRPxNsQyVCi/UwhENEYeaw7QGPU9jrh/WgeyW+DYCKfI9IbNIBk1MMQgKzdiCUFExQBFoRH/AG8BFDieGQh3RYZsEknMAkgu7oDgOBk7iCop+7Bt/wC4gChBbJgNL/wTFhB+BwJafJgcyzAx73N9NTj31Ve9ANBwVYPM/Lt/RYcAIqYcgUiZQiHImYYDQ/ywOIyzo/QmTzqa5BzEZyHBUBcpC3mOddK0W5x5IvdFFF1EQWv1PvTQIgi94JBCgjD/AHAAsRAgKXu2BMTuXnboKvAcNGL97nMB3KCB7dKjvLg9AIw8X90PB6u0OJZEH4gvzIgS43LbCAEHI9LwH6A4444/cF6EDXweaA5+qfg2ywPEG14jiBBP/UXBkgY9nxxBl7mGVDmepKvoJrvgrymog/oogA4Gi2DULeQzAE8gOAhdum197UxnQjasVEgAk8VixGLEGCQC91BuiByaAKYIUEhK8QEYNHEPLloAd4YhnJ8mAbOZZbltzF08OG3Xy9BBDMAL0Ljj99OhBXH7QsU/dMBt2sLbGD4piEOZIn7ogHaAdogs4MgBKEI9wQpzZF9kVcwxEIABAqgGEeFpIPMswOQhAWg5rceoW/olvQFLJcOGlBziB1iq0QixEK93SERPqe/NLR1/KUclStZYICboxX+JzTnzVLkgEJ/fxEB2XOTyfRKKKL/AwJw8zGClDDxtqjBALkRRO3AwQ85nyT+ESlsCPAl5NFqekJC5FGAyAJjmJ3LeYEYWAVLcw4JjxMCxwCMTvRe4NWudoIAAAwKYbfM/lVJ+yx/6IGfCND8gy2+IFFYcYPIjyeDBPL6AjDyB9AnOdjk+YnAA3FpXrXHVxx+ygTkTEQT9YnT0VwxjS9px7jq6OZ/7oz8UQ4tdzMAAY9BYQBoT0EmQIABgDbfoVpdQ7vdXpx6Q/wAKC/Co/QvncPROrj12ZnU32lw0vCN2fscX+nhP/paW33sZpf2i8voKi9SNAaawQT8Gg9dZHWu+lHsOp1XnoLzE86wQYs9B/wBwdS9zMOj0L0uOP2O8vtOr23sDZOsUYX1QT8uL2Nx0dBjH5TlF2Fpa/wDVH38uhAKGg0Orj3XRxweuGq+y/QL0R2BlwQRd1D05N0cKOZo6cctPQXMNMO5dLAIUPaMCCLGeKPS6uOg1m8JT/wClCP8A2TtJhY1fuC9cdgQdkE/ZpXry7BAPC8ceZ/4IQQgAdo6P0D1WcGRQdTBG89LhCKf0BjO2/ARcB8EQi7mxisn8Gf0sQYmweeMifmOOr0P2W3onunYI4aBv5si5VforkFr5WiB8kTA5fEbpK746HHrvO2xPKf8AsLzAAULIA+Y46Fs0oEGPbMiPW2JYvIjZLcGm3sD2Xvmp2iRd8u4VDMAgsxB5ijdFrRo4N2aDyRE9tO8egGNPbqIAWCFOB+JYtzRU9+glmN+I9T0OPZoP5BjQJPEBlkDkwcRBLEINDjnegM7tueTE6fQrMgWl3Mhno5jMyfP9wSyhPS6QD2QlBlRMwOBGIKPNA7YnDuNF7QfYDtEzB5QbBr1LL+JYngwhIlR9DlMmgIPNLRHkGjLEvyXCHAJOluxJqGvLH3DbAvippFm2/SYU5ejh9vHBpPIO4PGgklG75gXf+BEEJsJS+xGYBAAsx+FfLUO9i8wGgtOkGUyEIDJ2In5ZwuiD3ikwXOHxDfFlfMJx4OGJ7R/kqlrIF0cTMLq8FrT/AG9nW09ka7bBha0SzBMnntkoXgIq5WhuLX8J9iFFy7QhTjoBDcYfyho3aNuJ/sGGzDIoYOGwETdzx2hRjBeOlgOC56FBCDt6JZDtb+4GAIwaMKBFdBGMNg8wCcEaC2ZOekaogPE6sBqWuisLSHgmaHOISZbpAFqXoIAdmWIunnGLsgzmCFCmex9xAZzigQtYjnkgwJ5JmYCgQhQX9IdIML2CZIHeq3ZPA5MIbfFwHtd6ug1n0R0lZVzgT9XbIxeCg3hFjfKi8vdB4wSYkDBCuQUF1BxBZsLD5gnfoQAxwIQgiwIwEFwLaLviJ1VWChi7DX4UPIbWvMZPC8EB4JEeItP7Rq+zxQtNBLZzOKR0zodHTNEGOiEhcN0JtjuRtAHaho6WhrAUPo39Bcx4ndN4NEAzyWfcLUXqDQdTcsFLcBqNeHzGyRUTy+4P9CvLHvkIIIvJE02idFkAklPlWuYQF8C4hAAsKX8JVjiA0fzJAAAAAgNXIUQ/jUTJ0B2CAMlCHGHoXzir1z+o/wCArCYT+SdY7yJ2R0bR4ERRgBm04qT2vMMoeBLb8Z/ZmKh7y/RmeWtU/wAQUcVGw9Xk0AIegw2YHQA7egcdHTECNK8AICELvOcM8MGY13QUh+Gog73WyCWvMjyHMSPj3sb1tD0g6xg6YNtUIucAEweme5khfQXn8oWpwDtH/cBf+o8TmFAFV+rfr7wG3sA6q4qApBRx0ep6UxKvtP0pKzMS3pcZ/Kkn6n8Z4Ewc0OOjj/wJejvpNVdB/dAlA+nW/Zx9iP4qC08ZAXnkTb8gy2PHoXoce2/Vr1THpgI/ajP4x6h7HhgT97LJz+wAcH9ioQkwL6m/sSiotl+3W3DDDB07w8zGf16nHQeuDsYg44PDOYh0sgu3tuOPS9RKuTGnYjqSgSSlCyCDkCFhsY6OPbfs7l9tbo6qHMOwn8Gt9bj2nvlFAgQvIWnBd/n6h1v1N23kOsBd4Qt7DStDqInJRy9Uf3BmU0CCgThwUNAyiSuCJwVvqbV9h6xt2lvcSjAQfsgrai0uOoBIhsqAsA6HVOsey6gS5IsV0hPaoJ/qBaX1RbF8WxA1VCgRXasI5EYZWNLmPgICfw4UfgMtNtnJB+hot8CxjMVJ2BNYrfTbfXtL1nYVlZP26BragMUAcccB9jMFejgsqoNXMKw3VCdcA6AI3R4gANvhpOfM0IVg6WFoI6L1Dj0nCHzDgx6I51gMFflsmAWhMFHQDmAI4QAloyweYZIvWFdP0lqwPQF6RvSF7oMUPmjU7Dg3U+vcvvvQ997ZhqBog0X7tswYQQTHAWP3GR2BFZH7gJlkDyYwmAABNEocXqYUGRnrEQWFBoBiA3GdN3KBFTjeAeI9GQDDA5CAPmXHDIu+sHYdMFQMyBRwDHSMAEOIdItAhAPM0ulYJeYtD1jKkHmygCAECoGJxEOhvMfobEC1gOPWDbWy/SOr1moWmcEyeYNh0Ljo0AIDzB1RimLG0VNgGIKZARw7fKKOAEDOaqBQ+gYvkAPiLQQdl2nFsxUERCZPiBEmOCp1yD3ECvs60AOjzmkcUEQD3cONgcdRCO4fhDxPs2evoXLR7b9Q99+rNTnWMCZPM/l13VwKnhxgVXYa/TBO/BQ0A4BcP0XMPKV/CJt8YUJSBHgyyHkJi6FVoQbqEnYiAY9Dj1sbP5DYPpVrce8vV39UdgjgfM/n23ivz1QsEBNqnj5GYoZqb5UXgACHeRo5Pde+49T9OKHZe29+8fpxsnYZ85/NFqe2cvEUJM/Y0YBOIxpcdR6B7Rxh7j33uuPTbYXL0mHWhnH7tYpz6Z0tqew9x7j1rXf072Vt3rb0hha0Mu2H7m/dnR0vV7q3SamHSh37nsP1L3nHHHsX9kcHr1umHSxqR9BP1Lo6OW1fHvrj0OPU6uPeem1TDpQ1Fnjg9GSswyaI9BeTvsvVgyi8KaQkEiOCdCj4bmYlAARANygcTC4FX6xelGlnUNu/ozDoRQ0YZ+b0hMeYhCS44NBu8TFBcQiT2FASgBo4dQ6DZ/chXedPfz4VNflAN04TqgvuPbenjacetejey49m+0dKHdmJQcdI7xxAcEvDYFi+Yv1aydCBgNgiOrHWCgfRB/WBZZkjiCgg3YdIfw4WFoLA/IvQAXA569tXbg584GMsYJkP7hdmCjGGYwgcwWXnaG6RpcdXHRx6L636e2m9HVanDQ6DDrROdtmPtPj9OFERFLSJb8kDstqrReSAWMakL2Yc/lXlnGE3lyQCD5hyLCCwG4OZFuZ8ETAN/poYceL8QaScdHSoa+KCo2gfkyFGP8FfA7RXlmTxCAW8Z+E36hiot17d/TPSvSvXeloaLUYdIGgz820OA8HPlYIZheJ/OoCFsQWyUMCXh9iDjJWrMAgFGMQgJXXw8a2BdLO2AUEnSv8AKG5XufEXe5OpEItbm46Ew8UHLvbwJiuiATZEB8RAAfE56sATKNG6GAWLTwFasIZmBkRx0Z9lWwCDDH6N7r9AYaww1fz61RTP3IgfQoTwgQEEAiuyQEpE4xTB0kiF/AvY+YXkSUE7wbzJnFobBk2ECBHdigYRlIO0s7ne0LDELfUwVykBkRBcQUQMPMeLDcRneblmAHQ6QElwaAMIAAAQGi/pDt29S9T9gWo6HHQ6QNT8qLZOxIrwUcuATQB0pxBY6Ti/dCARApdBwKAIaUjDXqn7Y92/oT6FaWOtToQQw0CvEi2RIHq4AhpIcAW6/wDAxR0vsvQ6Far+uOohpD6EVFRegewvcFW+l6jqGyI9sUJ9A950J1EMKf/EACcQAAMAAgICAwEBAQEAAwEAAAABERAhMUFRYSBxgZGhscHR8PEw/9oACAEBAAE/ENtlprCaLGRHA+hn2Gq7KEcRzQsMvvZIWEdTKJlNwvsvBRMuIkaNDiQlFSKURpBI1aJlKsGtpITfAuDRBrHAzKiieJRNo2xUOCaG7hYTG0QUYUZoqEkF6H7GkjsimhIIPgTGohJpcCXvE+FzPgmjRcImyEN40VGxsTpMUeylHsgvBdYomNMQ0RDUFMJwo8URVmPNKc4+yjQxdYC6aEE2I9is0h2zVgvAohv2J6Hq6IfVnwaGh7Y0zSZuisbe7D+d/wCBOCZydDruDSOabYJFxeyjbIurXscLPOoQXtGJifs+w3oT9jM6N4U+k0WhMQceUC9k0iYd5wmlhXK4cYAS5Qr8XwbwxbewIJi5KJUmxpMTEaUptCbGLlMTFspBlLiXCS8fDvDTEaEtjQznCLi4WUJK4QZwKm7l0/MLCY9kF95RRDQiPEFhjw7vG7plK6J4E5QuR7HaZRM8jZFDQ+yHvQjw63huD7DETl7GSTwI8qRXyzlC4KVeSrilTUJMZuM2tYSHWxYs1RILgaTU0OWmiUw6oJluMVI2axIQVLSaoTwrhxfoFEN6EcGJiFEylFSU1YKLDLhmh2QRctjbZ2naNdmvTPpGMcsJ5GXQykx8Krk5OWrZVjRoTT6E/JUaFis5IcfDebS4qKb+Gio0hMuaawtDZSo0aFC4hwWk+CGvg86Lh/ByDKL2KoyUxOTRMas1adiaP0araHvsezT7YqRafRG6xiZRrZKw8qvUKAdx0yuet4JEIOGto1GSKMJW3Yw0bkmhQdRCYT7GijhopwxVj2FhRouxlVbUEJqEQIrxEjqmhJcaHEzgr0gm1Wjg3HuTaEdMELFfgUCFL0OyTIlMtNJj31ON9G3wIowVsgbSICLcIqxo1RUxFRC2zd8pUbNFMuuaNw5puOCfNJPnfkY2r7YprJOELTKJjOEl1LUU5FsbeN6sSRUVDap2JxlVJhaEylRRYiNFWNzGiEJj8HjWGJqm8MhGsXCxBoXwRIM2K/OY3mlzsaGcGhHwmVtHLkRCynZ7G0nHF9IQlzURm7ExNXsRcnQX2U5ymMsQwU12ITXQYBUmxDFpIy8iZktsItEaVciaU3JPW5kk+2yv5JdoWDWUYxSukTIay/amRji0McTdHTV2SDzaZHdjHG3NlkCbGulg1KQfMSXLZtGhnzBpNRoumnL6GEmhoeumJUaW12tM6Zej4vCI1Hp0WM4BNPyIdpi4bobBnwIZpS1VDTnR5vsEKCbOWQU1vhIcafHfScFl6bc/wNXelcpTkmlUuIaZVu7tFUREvELYjYbV1JIXEUpW0ObBflwN1TUbXlwhMoeDEVsfyJPZe2iuZW6VJ9i3rujaaFdQ8KtjzelTRGhKtBD8DSuFVd2cHatjznuRqy8DUqv9bFl2KuJBBJlQTGzgpTQlR/BGzZvF8Cv4aGJjYiouNM+isubi5THvKZ38LsWzRMaJ8OBseS7Ucm0KVHEQm0hav2R+Q1EkuBtPnB+DyjVF1/5YrFE8P2U/wTIK3aEaSQrSza2ct5aRNF/L96JRLwQ2Zm3QJSGmiEOKbUJDGOTwUwuYK0vQnhn1TC2fDTQ4eNqf0PimwdLRw1L00UKYitWDerJ9kIbkNG+eKJwvAiJJaJsaQ2ksJNY8Io2ATLXTRs57VtJ0S0nyOCFrX/0dCS2iA/ZvyGxTfK0x2mEbK4KCNUjwjTLbdIkO2V7ExguG0O9FycViu+e+6Vt6ycXs2IqtvyGFvtjS5RN7rn5YcTUiSpi3/cnVP7QopTjbSibGQQh8ibJn7HQZnGzdpj3Sumu23g3A+k9H0mhRBE02bba9IV3dWTTaFVsaT5g7KqvAK/qYTOaUv4UiKvaKvtiW33b40xJJYWLh8Z4ZorTKJ/B4o3hJ4pcUSXIhDRrGsTENiYxEZtCmVBzChwV+C1GJ4rxC/B4ZJGxLYXWoeIz2eQ+sGTrzFshGx0hwb66eN1KNbFRXCdHtbQkcQ8EMmyjTHdjb1ti5RSluGkNsXvKYikc7Ev2t4QSZ7t8jcq9Q8+lC0PAstflsU0I/QaYxroc68aUeM2O0OBqQbcpjg6fLSGib9dpSAU+EhBN8JRRRHCSiEexjQ6IbaKxMUNitFSNdNHE8kQrf8u/AWCmyjwhMQTKhQx7FBu8Js16KSQeJGhqmXkmiBna1cOd/BO0dNNDVNApg8IxEmpcJX4pC4Tfly/hKsWHh0r8iZS4IpSpnZR0WZjr4I4wmUosVLOxNFGmIsLSZuNfBlvj40bYnie8Mb0XNoXTLjTRyehGKNtlBs/0IViuxeGhP5jRM4XNKUqIEkGKdCKahSspaWixyyXCZS1ZCXgTxuFa6KvGP0sPsVeS6Gzk2QMpGKCpspoI8MzIXec/rE1lS5Uomawm0UT2IIVm6VGmTEGQhBPHPRGLQxYUEkaE/WbjodEXZCN5TJSMiyR+m8axRsuGcG2L5JIiIScG4QSXnNLh4McGPt7Ghbwd1e2M/xFJCIfcOEPFeohzXKkpFwzWOzRCwYuKNlKhsohvYh2oUJClxtMrwhH0mTwNBYkGhRMMSrQ2TfRluGVYg+6JXDEZtCdQmKEo1wgmlNqFZaZScugl8NrCo31hCBYLBSjzyJY2XC5GL7ExNEuEiZuFlMcFBT4aYoIbO94lIRY4zBvYzeKIWXlNZXsaxV8W6NwcxPZxexU30MpITGzdvxi+sbQ34PY64Et96GujoJjdKhlaKUfwbw7ghLkqZTTKXeEyiFG0X2UTmSp9H0QuMT6bhwH5IJSsHfEkXqsE+UKwRwS3QvQkTQtMG6sGlacUwrEljaYtmNi4KJ7GxOmmI0RDwsQmxFHxyc/DYxYhDgUJj8zSkQ9FxYNl+DYmaFKJXevGGaeZ7GiExTRp5UGJn6UbUJhoXwa+EHvDQQYJE2sOeCPZox/4C3IJeGXbEkJ/ONPpQg3wNtMtzvgd1vgbc0tGy0bNvFVmLQ9Jrw3GXCCaKkQSNkoisTKmaYNIqtXRQo3pkMONJNllHMF7CMnJd8CKDUV9jVDU2XQh3UWie8EWkioUM2ZWUomUZWUTY15CjSWmwuTdkQ1yky7SE9CaNCKX4eBrDevi2IrN/F1kebwUWLnVomjWENbwxPCeW8IeLi4iGUvzZcQTw2MxzanN7H5SG06hMNDprcOEN70SDVMugmmlsiF0MVRo2Ojs+HY6jLLHoRujrZtjSomRgghXfIQzfA6LB++krL61Zg4rI5bFPbfFQneHhRF2JspTTZYO6YVMpRowaGl2i3w4B6OmwnwPBiDV3gSWU7BUhqE9+xmJ3Sb2T8odsyOpKEdaNIRoQjTIMWFCBsSPZ9wTc3OEuWxfWVbGkyT7KaN9ohBvRe1BCHSX9KhhPlbU9DG6k0KlW6X9QkUumJQ08LKH9CNlUKWoQjyckEsVdP478EGmbG09CQouh/FiGxNFw2LCfohso3jnCQTQxGjrCxfhsa0RYbKXQ9iicnFi7YmiYcma1lAjyNwTIMa0rqSRsq+M0JrbZ0Um0xWaqEpm0L+oXM/JoTXaRV5THtJdtiSw3XVEX1/r7Fcbl0f2AmnwxRRo46DatgjbMKhxqGh/Fbq8wlwmuHo00Q/BCwh51S0nY3lF8yiyJ0JMWJiachBHecHT7HRdoEoJiVOpsUl35Hu7+YiCiYS20CvusRSlYoIztEzpsQ09tt3WzGUxYhRbGkVZzoVT41wEJMQSHkqev/wDE3O2iqu+RBOhZ00JDcb6PwMUaIJLC0UT+deY8LO3hPFZWQiNYhD9Kfo95TRyJYTxRG/hdj+F+Eoqi4XGL8mx8FtCyllXM+mSNgWvBNiS6WHS+gNUspsRCG24JmnOc2R7ZJfbYhmW83tDBRyOLiLwd5IVCfHSns587HoTdC2rEP6GULFtebwIoFdb4bosWC9AQxJFb22OFQLvqaW03tNsnvWts1gNve0YwgmhzxcGJaJoe6jcT1ELzRdhIVlN9iSFoCFBLREl5davA53TSJshZG+1FCF5RvOWhmIRO9NGz4bYSY3q8kXiiyEmpOEGpobePwc6NO/PCkUwhF0RWK06tPbYy7QrTj0XNtzELRT21g3Nk36T/AMHTWylR0H3ENugZVfoTO3n8UIja+w3TDQSNEQkJrCo4LLnvFLinQp8GqcCpfHoqEy0Q0QoxkNovs0byisTNop+nR+lLinWKxOvOiqiQyY1ilx3ouMiJQUppxD1DZjSYohbSE/gF8KWPnCQ0LQcSfpGtYi0Jo6GWdKiYjQy7atRdsfUttqx1tiOWJQjflmx6E0JEEeUEiUK7g4NifksSxRix2MrDVHirFqS/uKyuurnkYtFUKPZsfbJI8n0JCYQhb4ObWU35Hhh3Lk0r5Y/k523y29tkxoWhUJwpyxUt/EXbfQ1k0m2+2+WWdIieUxSGkSX0hs20NCSYrnenTFJdxtt22QTNCRGTCFOSeSInvOkJo0NLOhY3ivEGKYhFnZGIpVjsnsWg2RnYoaLio0NIV+G/jshDZ38ZrDqGg/JzahexksVccGk4VixKp2gnwJjYmioQsNrFLoTY2iiZu4pKywr8Y4wxPFZsTwmNmhBoKYYTWELTQt3RRfBYvwqwmMTZspFbFcJ4TE9lNY75IPCY7iDZWito0aOO/gisuOylZSlLrGnjQWJlKIUos0WK+LoxMTxBImULjOyieI5lzDxU5s748sEibQzb+mXg7BNheV0K1sRWLFw34ZXCwbFhUXQmVFL8UzWOD9FPPwWy5hRMfIphNlKLFRXlaHhcaKUpt4sYmUT2dshXgnhrWsvFWaxMb+EIVlL7L7KVYjpCGxEL7ysIYmVFhU8awtFKiu6wsM3hfCobxRDW8LMKckw8uLEbdNGzvsR/ReRHsXLfJwXBpYTUNfapscZVswiJkSx0bKywpyzYVFGEmNHXJRFEx3ziC+ylOBRMb4KOsP6YxvYqXNRVhJ+cI+nW2OEOCyFFcL8VsuFDYmUqKKi+8NjZo0sKs03lfhrCZTQkPWC+F2N5QqKh062ylNDKQ/TgrELiYTKOPMQ0hI7KW45zRUL5oVsbxwL3Cm2JbjdF5EXVgibC+zxsTIaepBOoh0bqymUb2MC8n7SGV1HJRP2J0irdQe6SFFTLVhCN0aCdtYxvS2+k5K7wExZqQmQSyl4xpuX0N5cwFUVZRrLe5XYkSEhS4uUx7WpF61XQhXRuCGq5GPkc1b0tnuhHhZsSKY/KeP0ald0fgQSwSEsUpTZZjS4onmlKXFKapUfgmXE+PXI4UeGos07sTxX5KExsb9DRZVr+SE6hCY2XCRo4zMaNfBM2JU4eViDRBqYRwZEEOT0KsE3waIZOi4Y+j8JogqrfCjgRRMqwnl5tB14bItiE15x7g3s5Jf8A0ZL+1xKK9pun6iPqtPmmPNeI32hzS1RK+sVkqbaEXlJf0S2rNyLAVsSbYgKcfFUE9Fw26O49J03CxrQ7apiMyPwsk2yE6axKr/oOPPbknKhJNtFy0uB5QaxT20uWcR9o+UM4k/bEq3bT6bNqncvSDkmjlsWiajTH4aMeWxla66S4g48+LYyyRemQIWw4c34McIw311jlYpHil+hsWaf/AMMIUeEwNNKRC58ASIRoJ0o0XSivFi9i0jqfDE2HI0TfgrnFnJtDVNJtV8IY6EMkq+QWCGULXDCnqpqpie8RkslXxWJqCNm0kVgm2LNEsHor7YqKUqxtoWkSSTn0XDKUn9Y0vmYu7+67IbPpLEqT2VYQofuGRiY0QiNDzUIeUmIby8MpopDkM2ckQ1TwmRYXFaFS6wvGJrY0qQcbp+iEt4Qjp2kaXQti8wpKCa3WR5E227bQiO+BPCEavs/oPsV5Np+oY5FD+jGBtQPuglT2xoism+2POdjyJEymi222ScISTwiGABuQNqCaxqWm2nSCQkUOXbVnmeRzVTh7kEcKqn4QjxSm7gx7mkr5HpoklkmgNU3v59ME9F/PR9oUyufCtvdE2cIoUoz7HkTZZPixWMaMWqnNXogQ1mun42JdwsXtUnrTlncaS8bn6XbHRNiyXBwIlu2k3KNyIYrSQ2XNY9xmguxcsnVOQOREZpVYy6Ot1Egl7wRBikr1yhFttC2tF5FqrqNXdiHAm1Mmv+RYd079044xTipqJCtOFlRW6oRFBNaahGWznIuelNOhoVSoyKySEq0LsRh1Q1lGhTkgljaNN1zkVHX1bV7VDTkUfZcKs9OKhOUWrhO7KKNFfJteRUWsWmLpDLc8pVWgtWSLvSbExW6Ja3DItkdUKbz0T9h5rSdSofkOTUqkj9M18zrc0m00MIOdVVpobgWfooOSTSH1IvhEQRvFKV/CjztMvOKj9+NeHwN6GODEXg5uLCvQkZwmaKmmhJCE/uLhjTKLBMbwn6NsiW16ZZX0ouDYx4KHL4WjiVHi9iNkZttbhvpvRRJLoXhsnHnX0Maptpj0voYky6faehJ0NIucwaMJR0uEyibxw1iMQkGEeCiumhuI8rgqMyE01sTY1zsAuWh4n/0u7o222TcXOS0i0ldc2xKRLaGNE7ztQslSq5byMbK1ZX9Gw+4DEZC3y4TwKkM5URV6Vu8oI4bkZ3Rvq69HloVehoqpP5I3EuhNCt1LCiJr0PTMCbTr5BF51eqrGFWJVVeWOXj3SrW5Hjykdwa3sr9QKNJKkExF3LvWlgucGr7LFxG2Ja868LZMaomPKEhLPY/VbSPDGjVSNMT5Qo/FckbuVQ/cEJSMAZdPbEnhyRZpT2mHBdahvy+Re6EptKQnK0MvJt5t1NjSh+lySJQL9we06KKxp80kSIxEFS26L4opBtWhbdYpWpUPTQXcrNP2coEGkqWmwies1vte3OhAmlfGkLuKX22GJI309wUn7XohsxUakws+a27fJeC7LYRsVxR5jbXLI2VOWvIJEpxaga5LJRBuS+avBx01/r1RKL3Py3tsa0LXfwWLBtvKa84pv4T2QnxuWbGN6wiOIgtvDzNqd3wVC6E+S8jI6saNDwmUTKJsohCqjZlKVLFtROsZRYrzHhfY4JjBUiiCextCYxCeKxN4jIV4e0V6/T7JBbrxSY2q5OGW0Stfw2toTEklwaoojZp8tcnIeWDPAf4xV0Vjttq4fnVmmZ19wWeSngyhF0bGlYlVENM9pMSqQrb0NO69eZdhCy0pY9pPLGEXwpQkJJMX/fN8DW+BIcmNF52SiYsiXN+wvjrhvgQRKJdDrqWvKSNDbIj1V5ULqzzU2EsKeB2sRWx+PcV8zw2ILyc45poezeFK5eGs22pP7RzR583morlIoPhor6HuMvy0niehKd3eYMSmhfWsMdyiIlq8Sw1ogrcU1C4TKbOC3FLSvCY2beYyZQyvDO4+heWSmxwheyg4ieuCobN/qZUKFRyOwS7xSjK0XXJum1hfgWl2XeFL6LhFKQRY1RBBiiEVFRS4TzTcFfjsrxvFNi4uLlMRoTKJmWdWrn2CmiREl0WiVpmjTQjH+5xQBIjOCouE8QWGJ2lZfdmuqZ+4rBGypnpSiCgpdmsqXFNFWL8KUc8FGV4mIliIggiLz8GkXDeiDs5E2i/GIcGR5Jg4fbFVYhyZuqdDtrRCj0z2BUWmj9ymd84T8De9l3oryN+xOnBzaNhb/lH4YsUUUruKtipC2IXYmy8iDOBY+ygWJyzvBxNNuGysTEvgyvK+ylNfBMtQhsrxd4TwilEJ4ULjYmoXICsbb+scE81iw8oTb5OSa9DnO1WfH5F1EiJLGspnJPimVFRSnJUU/TlCGxU0fpVh4RovgZBYbgiCvw5eJ7NjLiIeijGRvdYJtmtRyZ3OS+DidDZaW0PyNOfjMJmhm0Sp5ZfMmhlq2uUVD3QTQwqL4Up2LSu70Mm66fZF42QYjm6HvyLG2dPaPwhLwJSkVslnJxlZULZvGzg5awlgT/RNjaTP1TKNRJvX4LrbavauhNrloZgqLjYhdCpTTF7WJhGljYvhsaXyUymNieFeEdZ2VU18KJoqLh4uVZWLC3hYRcuGKtlhcI6V4ry0fvwhBU2RKKIaOBkMvGj6xtiHSscwzY6N6N8U24xY3Xgj5hQrnfKHTQjyLb4K7+2KCOm8JGzoSUw6CIEa16rz6EbFX0eGUTXHqaOLvjbc0a+Vo0EQEkPZT7TbuiO6xVrQskpbr/A0krikPRCUE2mP1RhEPU3auvWybNW1Hcl2E4I1GhKrSiinbMzxiXK4bfgNoijpNImn6Y33kkLg2EXcDUSl3NueS042ZVtoihfV/iJFodlor4hTRUehtlneNlxfRcIpXSkZRIaQlhtLFKVCb+DFTeLrFYmUtEy/C6GuG8QRR42Q1cT2cGhFQ/spUyFGbHxcKqlKX1hrGhP1mopyExPDKn3mEIy+87Rd4VM1GUHbuL7M4clxm31PFcHRQlNbVGjKVUvBoSEuKRkQ97U0FijS+SvyFc7uPAfcRUz0hWSOGioOxnhtMc1X+dQw0okvrUG6ylopB26a9IQSFbvsghDfBjNtae5yEq3EI9oUVOJ+rbG+RWHRMhNN25UpINJ8ai5SFKj0SGk9EfFbVbY08IpfL8xYjp16QVW00ftSWtC7pofgSEhISIQs5KsKUTaRUUu8JvM+C+EzH8LilKcvOxY2XGxrP0VlZfhcagiSJay2IgkaIsspfhUIbTOPhcNiYuSCXsfJBDRRMtK/JcU0PDYxmTunYuU+gjE52NE0PpbE2PZusX4iTGjSezRoTKhPR2QdeBD+CSS4UERQ1r0MV6o22/LY41160OfaEt6jEMYfKfhoTO9BN+WIBnBP9RGlbCjwVeqL7MmtiECF5RI13BJF4LPbdZtt5ZvEjviY2W12qGFBW5W/tiQ6HWtMnVGlAxS1TRQQTy2VjYf8WiHLK1t5ZNAsVMzyspjr0PFtv7XiMrFIPBccYpb2IuKJlT+SZRYX/wDBI7+VExP3jTxcQuZ8aJjcysXNNYYqsQprFWWsQhJhIiHBfBlImWC2NYRCMc3HirOT6DLHi6KdgrQuJBJYanonQxP0UiIxYe09ENrZVjQhiYhpMKIT0UaE3hM0PgiGvAtDZYXDbEmSvKbw7xYVGilNZ5EkUpcrCxSryd6KNiawmimzZzhGikQllKkhETHZsZRaG3lK6bKX1mLD+HOKTk3ODliWLmiy0VGzg5EsLMxUUUHiGsM6FjY4aGh6PsTSxGwreHfg0cPxwUvKHGIj7iF9GrzmlEz6CUyqblrllxSsSFRc2myvKYhSiZSjLhc30N+iibI/JYOCZS+hi7GK/BWJubNleE38NEI2JZQghFRSsvwomPCaxVld8DYho0VE2Vn7mPzmrDa47L8N3Giwdnxon7KNEhGJNHfwhM6GaKIbwrhnAhrFG8q1Cvzh9EOdxmj4sMu8RViX0Ma+DW8TQ3EJ0RSlwi7xYilKOio0LoqL7xXsj5CfsSCZabhsOzEIRlLQnhfQnClG9lP04ZfghTQpUVFGNlwwTRVjaKdhGyvOy4RSomYhfZKOrFFsVYUaTILRPZfZWUpzjbcNDsU8Gs2CYyzDZSiZSrN+CXeKUuVnTHUdyphDb0L7JdNClvCwL2ISiEVPcaRZrHBsXY2xpwxMpuZIwkyUuVKUJsQTEU2NomyibSK6NhO4TKJsuCNCeGjR9F0aEsUTYtsopSwqKJo0PGzeVBlEjRwWiQ80/RsuNkxs6EREJhjoiy9kWKLs0MsU5GjaFDUNFFiIcmEawjWGQbSNkPTGKnfItG2HCOj9C7K8W09EtERisdbx3hxUcEcFyUbEv3CTsqKNing4OSKk1pi8mxNeMVZqmG30NsqhcsCF2bKRgnrnJFilZUWiE8XkUhwXDNmzQsQSODkQmiieKnj8FhEQnBi40KnRBL4PEQ0JFGJvFRoosIpYXHRBpj0VFE8NZilKxbHZseEr0SdmxU4Kzd+G/hE8OPCGOmyYd6GmcIoywYne8Y3xghfQOK0U0cI2JXeHE/JNiUhJixlKysuKsNieNZbK2I06L7cEzaYmJlYnSlhRDkKCplEH6CCZc1iZUIgisUE4abImSYhGcCNiFBDI81DSYkIZwLCopViC4o2zY8s5ELFTxUcmsaHMM1iRCSWPzEIzfs1ht4RwpcQiNGvIi4RWXFYilKfhvwTfGENmh4jY6a6JdE5LV2PboXnUG/kHbgJxbQp5Po3fg2Xh02MSGhjnyRVVIyHQfIV+iOJr1iOBNWDLMKUvobRoVIcP2zfxrPy2CKl1i4MWDQTQkGL4E5GKeCFZSBO95Q0Ioi4XjECG+zWG4bxSlYmVFE7ioq5mFTQvlpZo2WiLCjpUITFGQZHcwqGwmVor84qnJfY2sLGy4Ru4UNELl3wNX58ChcIcO8NaEheRTtRqmSmQZ3ZKu+0WUG6ckfnwozYa8kGCVoSwQl/GBitKW526L1Fb8vbEsgipFp1aGRPkYYWSeWy7E2ilExL681+DyTgb/CDS6fJDRWjad8tpQsfuN3SFhoa8p42PiyOW3ELbs4aGlpP+xTSwt3b8D0lppI5bfSIprJJ7LYmXQqUREI/TUNdY1hIcwlhG0M1cIbQmcYuaJs2xI5FmDFMJkYk8REUSIjWFkmVDaF8Vhoiw2JcJ4i8ml8GmJ7GXpiYnjRRFWNwrSE1iiIXZwViFcbG8MZ4st6E5OYXkZbJezhl/ghPIjZfwEDTI3nZvMh4cvwiQrbbpbKD/AG2+0xMZGs34IU1Sc0pb1j+S0M2JP/YYsZ9jotOon0KCCvCe5RfpSFCa/QTLm1XzkJEiEt1+CmqSZNWaWoWfrVrouk7orxvwMd0iefoXCa+rps5ZvK8iJ3KHek+IhOGqKT0okS1tJFI21PUn5DGGqn+UHzY5PEhMaEsrFxBryV5RouNm8UhHiouzQsKFRTZHjeNZ2bFiYUEUcNKMSWdZafgVxczLJikRcapcVi32PK34JrKaL4K2aWKkIYmM3cIuHjg9GdxeTi7jxY/sVpnShFbyiBIrRL30FsaxHh4Ynqfo2lGHWaOmxrikp1576TOAOvdTE4BeRVqVNFcO5t1zBHRKNJMd+Qnd+yTtVw5bbFZbQiJQ2LpylMudEzSotCPpiTR7Y1q7r1yDK94kVBEb6NJcKI1U6TthoEm73WK28sTEXqQlmmy5w0dPG+kvYzE0rz6Bsn0kJPpDU+JtKtkOXCs0oiPnKSJNPbOK8A46iYo2XwVrs2+sqJ4qIJmma8i+EXwpRNGhpQcKsp6Ni2UuE8X48nBXSn7jZvNRRsgx3iiNiZSvH4byh4rG1hr3hJlhpjEWkIPjLR+CNFGkI5//AIbpJ2McTnBXtl1hPJNSo829IRT2xY2cmoo2yjNIaTQ4bcb5Ywq/FYr8ZHF6ETSSUS9IXZrrppuzYp7N7Q50Hy2HAJWza43ob9BklSHLraXSehyYrCfaLNenPMQSX63BzbX2hOWp/Q86/RM4Q0aFAqb72yv0ilKvIk8lQ1H5or20Ran9BylUbeUy1DRBI3jQoM0j9E8avJBfWLVBG8fptiKJ4bykUWIIuFjnOiIaxTRRY0zRDRREeKJZr+H0IfwuXdaWOMKNM33hYXZR8iWNssxsTQytlKbw8bKUu8P6FeK6bOxQrFSZTV0Ji2MVfUbCEU0yo1hO4uhVvOhOl8FdELR6zRn+6yDHavrQ/wBP05BR9A3fyA2SW+0Hon2U0N/YgGt6bRBP1J/xuiYU0FFul4bEcmEb7L3f+hKkhJcJGl0VQtOMR+BspG2OomyD+xFWKXCZRCcRdlKKfBHexPxlComVfpWJkIkX0a8kQ2imn8FMREJhRtD3iidxBogk/B2JHBr4E0aOURIT9Y2OUnodRUxPCRNkZtPCHLjRo5F8IMqGJio7DIPpiumhKikcrTb6VimNhTfzIqFSlwsvF9F9YWavJSjafYvRHCY/UhtJkaj8xieT+1HLPPrJd4vpaMKQS7FyFKU4G6cCbCZRibGJi2Ew95b2U5OC4TE3SvwURWKGpyLKNlImSYTEExE9iZBCZbiG0+TbIyopRMpBNfDQwoTENHQqP7xETwaRyPgnomN4TxRL4UbV4KUTwmN4urhL0IhwIaOCcFzEM2fcZQfkSpm5kecOJjaymJQehVq1mrw8qFxRMuLS4TLrCBN3BMq4OGUpOLabIsP7L0XLSFDkbKX2Uqx2RFNlZSlRdiZdm8UpSso21wIbwlNNKxqth5k2bDPxSii+xXzhwSeUoXZFjWyxsSLBUP6L6LhSmxiGLNKawza4LveUHZMIrLrCIRrH6QooOGol7w0fYmPeW0RlhBhLe2PExxZbXAojjho2Koy0OPUZ5iZyxZP2NezRsaJPj+lIvA2UvsbxJy7ZR5X2cOSlZR+xuIXFeeGc4nsiL2K5jN0MxMjeab37EXkiNCImTDCXzgN4uFR3UUWjbpUWYyHIyG/YnvknsggIMRH5Po2pqTkXFW7Kk2n2xAQbKpoZLYuO/wAsP05zUvKErE1jZcIgkUpB/A1TgnvPPYpjZr4WlFhYXJsh+la7LopYN4bbNkEy3SJlAilGy00VD6KIhGdjxDjCbGPgsVEjHAUSNi6MVV2yCYKnLGaEzlZa6pp6v9JuwMYmPCKDbYisc7eAW2saCnk2bVxtC+mCNUnzFClH29bdR6LYxo3ZRopWJlQ2O1nZ/tZe0k7tLplEyinYmuhs4wax4/wZK8HIh0/WLJIvT2Xrb3ooc0eQhIVoe3+ohHQ6KLwfYyUULhdspVpT4RQTWyyplyPAyjYxE+xpEdgww9bStl2ibIHx67iLY/DHAVeivIhIcjg3aQnmkhvRv3aQS2UJ/F20QjTHcqICRQxRYTxvNzMPFSLS5Rsgh5nsWNeTZ9CioxhFnDw0LNHSM2K/ZaXEEi4iZCryWiwjsmsxDXs/R2DMcRbqNTgkYuhOj7D8H5DWCZsRJeowhMtENo1l/atWmxROzRq65Il+kw2ZRsmnXQlFBCUHsvQLY4W/bIZyrY4kLfW0tcikvCXIhNSeUNTS2EEm4JM6EL7HIbh6v6qbyQVsi6KMc3YJVyxhEFO3tt9C8z3FogdxtzQnoRu+3sqWZVMiY2fUj4eBQf8A0foZv1pINDa/P+CK5uyH0mLYb0/gkNQXIu1ZddWbHzmK4L6ELSWlwJkspPao6hrHpK2nzMCQilNnStzbFJ/LCRTUv3UMXoK+XrunXp1j5i34ab2ISESGa3baPsFLXUhqvKLQSNqkr0LRptC8u2JaE1HlqpFaNiCwR+4q8HKEiDSzu4rN5TGvj+4axRsTKaH6Ymxx9i10hsL8wyMixUdaw6xEGiYhohWuxExB1E2PDdINxDfoQiPQ0zptiS0RGlNWV7D1EmFa+qMaE2UpccGsPMVbT+Blh2WU9+ERrruIy6u1dORIm0ScJiSojb2kIO0dJSPQ2AOSPLY2ctq+ECg9Lc8MYIoU372NCFzwLbYnNv60Qts1s9vtjmkqvziPtFbi/QeGOLndk1fIhyQpz2JkkIotBKaRPIZmkN9CNnmz/wCPBYI/+n8G3rHZ3ql/gkKjehOjl6qTOvWwhEaSpR//AAGBRMRUJXdiS2PT2JtMaYbjlL037S2EopWq339FcIqu7jsTs7BwjEbk+v8AxIg7DPhUcyzTQowlTgrNxWQhMaNYhSj54NnQ6iiFx9PEZGyGvBrwbYxNDlL4ZtkJjkcCi7NNixsSd5E35HhMuE3i7FR2vQsUT2UfQ7jZGEYnoXTG9YUxOSHWNqvYz0JnaI/APKJScURqEIl01cvt6LxP9EIUVN1j0ttt9Uh54B3IiTnDEWfe01LHeqiTOXVL+SGbSthy0uYW3VjaxBUK1eiofrpML3qkFJnN0kdbYuZJVeAiEdJPKdGy3E2/QjaGjacfgaWZU1PpkeUipWGn63untEjZx0XwJ72ObqbSeNqClkHfg/8Aifc2/wC4JvyI6Udc55hDSmrT6CCxmbDyNBMKJedLsSYmicK3GnzfbEQYutTpNe9DGDL9ZuNUq4q2xQTgvQW5eB6mE/ZTsKibW/G9Cjo3BqnqIJmtzBu0g2TXsy1Na9ijNVRrCRfIsL2bxMbLDn5O4cIzeJi+WzSx3FRUJrEDrlESxCprENuyYWCeHiocF7eWJtLO5hU2RvsSyusNorGMxuTfvMnO9lI4A5CTbOxEvrjGJ74wrRMaRIISfrkEP+YcWnlsc9gb6eiWxEQui09G24VEDsq8zGn5F8aXpES1PhDqaqPbnEhsQa8MhEp4RIQrxcNrTaN+Si7ENI4E2SiSOZ/hLDVKRpPQQVtNUP7GpikgyJnMShRom5wh2ia3PkZEaE8JjLGkRtcjOc0VfYg989HyOsJk2RbST7NITL7KmIkSUiG0bNQm1w4UTwuWbFtYTK8VmjQsVYYmUWJrENEYoQg2vjS4WGPnQmTEzulwhvP6PWbTa+DxUilEWD8jKhtMixsaFHYneCOvR9hopkiJD0IlpxKbE2LZMXGi/BtYlWLHyVMTLC6xYI6xSngVFRVilKJ4aKG2aGxNjZU8zWIEfosJmU7Q7SKmPFGV+c0rEIIxsrG/ihlLiiHsSIJeye8oZSlQkE0RjsomhvDp9YRRJkeIMTKUhrDxopcItJ8EnB6ExRlEjx1yL6Exj18HFfRZRzOL7KalaNeUcTT6xrEm9DXKKRhNl0UuioomO5LHBRMuL7LoQ4VQTTKXFLjRRNwTD2ijZSoTTwmNMsE0awjRRYOUsPfrm4hsNP8AuPpe/MCWqnUJsPSqolEryEylGy03RFRfRfQjgovhcv0xP3n8NZ38GioUxu6Kys3hBspfRSMaEvYxDWJhaGaxUKGpio0KcEzIQaIXDSGhp4FO5tcExs0HIHYmi7UEaCZOaSExvE9ihRtYuii2KUpRRWIo3ispSiY8JPHsxMuEapRe2N+SsUT1oQmXeNLORCMFOjspaLjNV/ivbH08pfSCH4SQ422uv1T/AIaDOVrax+2ndqLyJvic2zXo4bJp+mexNvCZS/ClWZlTeXlti4IaNGvOLitdF9HQtCGNTWJ7E2HBJeBo1Co65E12X2KDxc7NletZq8jJDQn6zX4E3BQbVKODosI2ixFvRoejgxT4G5GWx2mMbQixr7NZImznCJ3jYueMM3CvstwoUrRRMvkqGEN0JKsY3XmmJvKGylZSa1q4+gstlilSWti+FImhMRWchiYIje/oKy6EAzrNdCOxTgW4QmaNi3C0w/FTbW6htt7DMUdpdCQXSnFpOQJ9HxPPENqQMK6q0yFsaXti9Qy1TuXqdC26ppNP08TCYm/RSrGvgmazoeEMrzFhN4bQ3s/DZRCZrC0iGLhExyh/RH5wlHeEbwvjC+SpDpSu5/S7KuIXF3inITHCI5Go1H5E0xdiJNs7jQGqF9G2vslKBtjbYsdIpyby1zFyzZRbiaRD93eY6emk2WURTZFFcTWGdXPT/BN0VMTl7F9Z3hIgxHyffL8goC3SeAi6Jrc028vneqxV7cH5JHpGpJo3gLyxSE4XwNbLscx/IKGl0J0VfXGl0Jjsieq7e4OpcJtXBEI9eRGgOdFTE17PUFoo2VDCYqZTHFbn+lrXiYhFdraNDmy/yxeTdmlxAcSxG1y5SGOJBDlQgrt/0gl7I/OFosFgr+NR0LYkRHQ2J0lNMQojISohog1TXgRJvFypOMMrLiLs0OHemNlIzfn4NqCZUPeKyF+zcPoTTIiYWOctlKMTyxBSCe8ZhuhkvuOIkP8AxH+Sb2dYWVjRB5f/AMQrh+hb2HL8nH64GOQis2/Z/iw6Ib4laSbNIEqKnJNCLln/AMZv4lEjIxAeolHQtOaS0T9jMSZ+CJLN276CMmlW9NDdTfwOiLW/tdCYTCRppDT6aFM18xTUPdhbIMFydpa6VOtS9kJ3uja07RvLicovqkRjOUiawkTotebT9ejwyv8AhCLdMdOTEf8AIkxmX+EsVyjQlFeChIaINLYpR8Pj+iFpyp6aHzY7yin8RBX3XUKuLQ+KEJNpdzVLKaGT2IaUW6GSVqSVMbB4z6b0SEITEN+BC2IZ+milhV5//kHS5pshHDgb0J45GkLRRDcKUTK0VlYk2Q3MVQuWy+iENLVNeB8EZNZbxrF+EwyEsXt5O5zZDbGR3xwXFKEP6Bp9crmITCG0K9kEbCj/AI9joyfHU0N6Kw0+lNMKs7ITetoQpLYicIR6UW6q1dwRadDQlw9K+z2xNCEhLZdf9UPtbf8ARJoSK5UbbeXoR04X8EQgrVyPUrEPIbGu+F4Qun6Tb2dRT/mJfB9Hr/iYhISEsb8a0v2CXVEsXK1u862JUg/pRG2I+Xa/+ihXKFuKsRz1yiF7zomK+EIUhWm+moKH39BJ6FepbdRteYNHa/LNeTNuO/r2MdWrdJBZPItpukt6Q9lzXlvLOpjEcGmeJJ9L46NYprMxDoajEyyXZSoTWYyYbQmVYr8iN4pS+8yt/CCpBSlWN0evhtiXki+FRUNm5lJE1hJHBUW4TGNMk3ZHjDcIaJ6YkkuhZMJuclNb8Tw+kMZtFFsjwmaw2BqnwjmPb50T60ix4l9okeolX8RxcZ9EK6J2uEiz6uv/AKPtXnihijCTFY9U3K2JiEhcnIV7SEye8JEwnsv9KLjfc8JiSJpNNF0LcIVRRzSrEBU+i6/L6bCmk9tURROieziq9Fq8HeiBLD5CafO+GiDRPpxkfvIv6qWrhkjZRihRcDieHcQfg6xaxFRdf/MRpKZVC8OacmV2GfrwI0001R0ee2OsKubj9eWN68h7Z7OWSYpRYeLirLRGbK8jarJJhQtWE8ofwTg8xCHPIpip5kx1hmxcbGzTNEOCoT2ag2jVFJpCrFotL0zXQ2XLZTa4E3l4KmKkQqTui4NDcI7oiv6CfxFWOxiN4awhkWYjTlpxW2hIlEoJbwl/AIkkhTdhG+ahp1y4T0I+iK9HF3CfwvRKsEJ40Jmhacm6JexjjSYqtPY6bT9N0VeKkj4vlCcr+SDdSBG3uISFSiJrw1RpIdQNo0pFkQjSKm+3i4TEPZu4omKDp5mTSiL7xCiSN+RXfRtL/Bb9H/8AoSLuLfGmgXb7p/mE5e2SUhwkhc2dl6Z6aG/IHev7XDNEzteUL66gw2edHZ/Z0KSZ6SgmbN+cw7hBqrEEEvYkiCWGsrLRDjsu/jcT3jWJDYyn2UomukfTBNDcwjCopoSNDK8Io+hi3ixlKKH6OY6Ipi4/TVGRMFW9DC1sdD0Tdezb6sIa/JKJIuIQmiFxTRcJv4WiztmNNF6SR0i43gmscdlu1hWjYmUTjoqZBlYmUeLjZ9sJzCoSG9V/B/PN0n+sXv3Zn80MzvDP80coHlqv+s4xRGlXgZJs+1TXpfSg2U0WGseGfpx2I+gmoTREcGs7PwrszBPETeDKxNGsNifs4zLnTXjMKIiFomJoeh7FDbr30azEQmhiFod5L7LziEWoQaNLDWEpcNM7ODk/CEGsOFQ0QyhUF29nJiGiYm77Nk2IkH3/ANhRCRmsQio78EzYtCYspwqe4UvFIhJeCn4R+sUYioomJiYnh6wpVgqw0LfBu4qQ0SskvLcNO1d8Kt/wSXsxl/liueFUf1k19M2/gji07y1f6YloklEVIpS4pUUqGNiYhvZp0MVHc1lImIJoNidxMVF2TwJsRsrE1h3E9YSISCw0Nn7iEdswmNY1CQWGJEToXoKp8EG9qf4WT2NEKYYoReBkKahrrNhW8QdEd4ZBoR+SzgxzrYnOid03oro129cicCuLDrYiIxHZpm8XWNTChBYR+lwy4hIR0SLs65NlG0dTyz6THIWdU2O+BMY0PSt0Kzq3je/wbNh9NJvzLsP+h6N+43u/gtSl+EItFiDZSp4RTopWbKNCoqxryUIQJlYsJsVEzopcawmWlhSiZoX3hvFg3UWDt+OyjUaZIV37EPTLiNcCTpORFyqGOUPFdFh/ZBtlypfQnMWmzkM2QbEPD+PKkxWJzXscW3bij6Ql0A6Zw9CbGqIeEMVmNFLilTyxZ2VGvhrFy28HRRCjIje0HrWXev6Y0run4DsD9t/BES30lTQtxYJPi2oT2UomXNKPgqwo2EGZ7KJoonvCeykYmVZezWNleUpx8KjQi+R8aG0qsN62VtcCg6ewm8Ksj5N4bJBBR4u8bxTZvF9myifseCSGniiE1vDVOCvGs89m0W9FzRUO41qeMXknY0FpfgfWkIyvCPELjsbHiiY4yPpiNcssEyJcCg/hMXZRvZEdZV8YTP06Nr00+BM022h5SiJVFLPwgpjPmrEkEJLwlMVHSpvYBtVo0VIgpaiwTjwbfgohA8lUN1nAyi2BPLcG5ufxCLYmpVO+k2Km4vM6PobYvTCaKURUIVIJYgrR4/MLC+EZCY2NNm8vMI8RZi842LnKY/Sjw3oUw8dYeHs0K3jWOC74KNOio6dGmJTnDfoaFfnDuQ0zR8G/Be+DYQbCXaUKkI5zhMVLFWNlKJoUExtFKITKmP7KXCx2JsqLiovfDr/XR4Y7ma+zoTNtnT4n2xRTXSQoTNGVMXvCHKXE9lR+4vrCYm0JEN0rLikyG7+USG3vdr0pIUvFFgkxf5b+kTE/SLxTN63UaFIW/UvTGvV1rZqZp/DiduPUT+UJS1CYgmJiuHK+aNiE0XFwlvnD2LDx94hWPNKJtvaJi7IihwT9Zf0TDeFoqKmK52UguZlEGxbKcjaxe0VTcEVR3gqF5E1c7F1yX+9ibEsK4a2aHzyUiOijpy+R3Rxa6E6fQsLMUTwmXFYn5Y2NEGKkFF3CVkqMakVnLf2bjUqUS+ftnWVMzQmaKUY/mmTw/ROrjDdxXoJ/FjTSedlXHrL4fIx3HHWvaU1q30hnqyTRMVRrafDwTnYiIiaflU90bpQcsLoW6UqLj+4JnpoQiLCbwsJZ9Yz4UJqaZSrwylxsuejQh5cILFWNeB+82Y38FwqkaJTaWKhINHCNPFF9l8ZQxM9U0zorNjRshLBX5LKroqIPIb+WLpCP0U3+ZZXBMcIuSbGhrG/TQEkl+JOqRE+SAzevtQkJlQnurEVfY59ZR82krwQjer4ChYaYuL0Vd7wi7w2he6yNDLP6iZjxaxbf0ZFMb8bHBNseLOMQWxFSKVkiaJRoaRWy16qGoPmz93F0ho4RJWxEzkXgzH5zpwo2nsSKIIJZR/5qGOvd3+dpqZ1ScEMjuH9sRSty9I1RqaWM9K8IbJC6Vi72Si+0VLWu3RQbrjez8ehmyeVSotWGSavaaHOhZP8A1Q2aWxZ2UV84Rcw6N4TVKUeINYe0fosVs2tFPwaQrdrRFi4ZoTG6XyVYhw9MuYnhN3eLhsTHBbN3RyxHA2VrrDIhiaJG5JGo+9jCOm1J19sU0JXrrApcUqYxQbxjXLRJFWv7Co9ronIolFWODc3N8jvZPo0yRzwx8MambUx+hOoSKNNU4rwno41v0QSILaKi8ym6pEyQSVGtkIu0Pp4RtdBFalupMSsQOXFbRBIbHI5XZFBtybfshRslRCDIqp9LCFBKm983w6Iq/TCVJhNtJ3YxXqED6w3fn2xZuM+du2Iaoq2VzPGmirQRuwVKF+ErQrlNFNexG0JWrfqqkt3B/wDMdwzU/wDUJeBBNel97FDX3iRQ9148zoc+vjX60Rc4k0/hmnyW8YtBGzo/drYlhKwTI9RzYREJa8ixSi+L+h/RWU0VMgo0yvHBGzaNHesJlKJjZD8xSjZnDwnTRyaEvZYVDFE8OkNCmISl0bF9DG2Q0TyG1TY2XwJ1Y86xQhNaWOjYnOjv5EW9s1J7G9CoB/GJYY08KY+CKFSDb30y7i2a/IcGTw3SNNqmtuJDFY3X1SC6Rvdg9MuxVC1kly2w27ajRQTGTDbfobP7X7coVsSQjtKLWIP0N4omdO1IhQR9hNbHaSTmiE24ql4/oKeqip+mLnZvJRvNFbH9QzTK0XlI7H0hLE2IV2k02h+gEhLKtaDT9Iem2trMYlBJCG2S3nv4yMcBNRdxOc+xFyTJEIgVKvym2J65RZ79wQtydJlbEz1pvplFFy3x1wQwNVENDaDedZ9GvJ2jqF/RT6ELlsN+3yLEfptvRJ471DqbrEpKt+fGD4jFpP4l7IjZCOGkJ+/hRDeLioZfZcb6LuEFopoS8CxtYtGVLsSZTnlC0U5I/JtDpa0bJhaMoW9GvI8MR0mKQTlxvChSjlWhsg2sJnPAgmz0oj2ITQ9oumqbJ8CNdHJvBXCYqbYj6NsgyOHRomD1I1ExaKHtbNwTpJvwylEhs1e3bfbYwesiXVFuRoRi+F0ycBIfUUefA9vbHWaJ29N8bKYbJtbRCCJbh/oLEwaE0iyepOU4sl8i2UmytCaZfoshgISPT4g4kiR9hIhc4TE9iz3vn2iEIkJlLPj5hs0UzC3YZUvM3aX8olFt3FE/BcE0LV6X5DU26t6/TcFFCeYhLmpNMTIKihTJndNzcNNJ0nM+K3j8RDcn72/SH40I/WxoRRR51BSF9FFWJGznh4RaXFxCFjKj9xdFHhIpSYgkNGx02I0xDQqJho4KNC+zsnvPDNGhHbxR8iuO8LgZaE3sXeNViHgcxnH0bJDbPb/qF7CSo08kVvv4KIgnYwZq+WtvGkiaiaemP1E+UnKYptwTsFpUjT5Cp0VK9y+BW95t7bflnJRMeEy4TGJUSfQkyDsWkMvLQjqbrVqJeaU1SpcRdIjsQkl4SFwVKwcoIxT5TS+wtshEvCIio54EmhMRTiMDaNMWE0GprsSZrOqaxsdF0ctuJG0MxKtl32Bv4QSWO4HQvndtf+h7e3uFX6ZwWJPMleUKDi4aHyNgxIuW9IYx3JL/AORqtnVCpVG6XQ8AuS93K/6x5uIhJLjC0sSm7hFLvGylmIQWEp5Iawms3DIKFWFMNso1SCGliYuF9jeLBIPfQ3h2iNGiIXJucEZw5CjIhpkGhHBNCFRuYLaewmj6EG9h1ELfT/6GEypvBF4RsrN4qHBRDaE8edwbX24QEusT38bjsmyGkiiaExKl9+hBTfSTGxMvljNi3jb7FS5RXhwE08G/Oi8oXKtY3Td5el/WNSZ/9sQr16j/ANWMte/Fk4KcJCCNlUKOir5a/wDBBtr+8TP2lDxXl2kIyobLiYWzgQ8pocbKQihEPLKNiaKxNlZcKnPxhSCSJslNrwSrYiIa9n7jgpvFGQ7uSF9DZyVLUZcPyI6NmrssZdXeFIxejhg4M3sLu8NFvaH0fgFCdwtH2EaNCxvMEhIuMJ9k9VSyiGbFSnRS4WFCibRWyn4VlZd4b8CY2UqFC+iuibG9FnaNO70bX8RErE3LA1ub5p/0TuRsbP5A8q/lK/6xGqSSKUQTKNi0sJn2NJbxPY/sZs5P047wrhMokKos6KioQRouyCZ2PRG+iaF8r6EMT0QvlomGy7hRM5NjbWhtFzRDocZEM2Nbp+nQ0xp02aPpG0cFwhEWFfPZW9FVGMfI8tjaH9HcTl0jHhwNPbSIKf1xJLSwomwTEKJ02NtFwqKLElVpRubYilE0zTzfY3RbYQsJt4TfZUViwmzo3isqKKE3ogrJLyywm+HsKu7Wv+CJXb91/miZc8pbLvFeFCbHOFNQRWbK0N4uhNDhcKDKbKUf2Uuiw0REZ0JlEQgmN4ZfBtiURo1bSrPIvsuKbLfhX5FwaIJbo3nkeEgx1i9obaKhJGptH0c4dRfYmNieKNjQS9nD2Noe0R2NdCqibCnmcBsCKTfCFKUT9lKIJlKznnGj1BJlG8P4d5hGQmOyoixDRSiEWFKNexFUi9sSbXvZ/wBPQmrad9hMYF1P+AqJHOkwoUdYqI8aKW4T9FKOEK0M1lKzQWw5MbNi2bxT9KJOCDWL6eJfh+4uP0qIxbw5lJDIvBo1Ro1tF2aIInkTTwqmJsYm2UjEyMh1jjjF3mexLBVheVhpCJ7GoVp43TobHZgnZcEraNb5FexPQ6WrobpaH3+gqLsqgmJs5Zy5FenlPGjZ0KoZrPY6KE0KYWIIgnjo/MuaxfGGcfeLWOta3X/q7Fxu8p/64I5d3/4kP1V7H+ki0abOMUTLMNIWnplENEFrG8P0ysSYxuFZdFnArhEeHUJohkJaEvY0P0pTet42i8YQqKXQ9pYf8Yl7EfpMqfBwTRSIuK0X3hGxuoWjZfZRDZsaZfKGJ1saEVwprwclFE8qLDwieCYO8VM78CclboygtaxwC834HDFCIvgomgmgmNhCagmhDKM1S+EXRKdYRMJlnZUKDWsMSHhP2UlAdJ8v6Ryj79PxcsfKIutRASftqv8ArJn1B7XDyoVDeEYUXspRtisrL5GJVwJJtsQK1tJ+04ysqUCJW3wkfXSkLcF6qj1ppiZlFicI09G8L3hNdmie8UJ6FsQ55EoXRVjTJng3jRDeKJoZ38JsnhCqOjbJh4Yi7ExRPKG15NI0Lkg+DoS3p4aMSE1ziMihoQmh6NnOhMeBRdfkRs5xCxGuEx35GutSiOzCbMtEQotbGxBClQn7w7S7xRvdOBZhsTqxpkOjslGsJlQ1sCl5sRuJFe+XoTk1HDt9DbTme4KrFN+dENlnImilRMP6S3tiJI6mhGVPq3sWzczQ0yqCesFtEo1iNJfwa6dsv2B3Jt5rqPYgzok2vF7FQ/RNHlPdFrcW+7lIjRRMrKy+WVm2N5iZClCdGI75NI6GZU2QWKxNnJKJFL8BGxU7HDWXxrPXGdE841eMJH4Rs4HwfuPwWNm8TGx3D14GlwgQ7CqaEpz9Ul/USel0Efbwlsg1glwMvQ2RoQbKNv8ADUWt7WXEQW4UNIQUbEbuKL1iPGFPBW+7doH0O1oYnOE6QyOqjTP4eKILFLodNBtL+lzSRMoqNhR7/wDChvvSFQm35FV0g2dRp8wYs6VN+Zqi+8JD0rR7F7Dmic85AxTL6ohBCRE0KkdD0P8AC3BskSk0NXDjHo0Xhsmwq5pCSIbNLsT2djGiJifbC2xoUhwwsNIvhFfgcsKc4WIyZbE2y4g3DZV2ODbhspRRl8YhEPkWOcTWfwdpWUTfDNvoUEsJlZB/Ry4G2JPNG+CexFtoS7wtUpdnJ4Je/oWNXiLcJzvLsr8iZ0uC7WGmzaQ/uU5VFcaPoWloqRCSRVhhKZOQISfkVKB7rloVworTacHB5cfqoqKGhOpjs0Kp37vjhYiG8R0Bjg3C+CLVOnpHoNkXH6lFQhE2cIdtfbIiSBG06bSSY1EcS40l5R6EIJcWOxEI8IXTJNRq/I+PRwl00JK4Q0kQqSNPwx2epVFV6SI61N9qgjO7rTWntxCpBCOMcskXn1S/TTIpptoiTkao23PbEVK/SE6bX8EjZGQ4EiDEyrwNryTwUhF5G2irsguRwtRp7my+hDPzFxYy/TL4FaKiq+znES1DsSWWs0STCadNGxTYuRxk1oXGxtFKmT0VFKzZSNlfkpp3CWNjW0VGyLEGqehD3Rdi1Caej3DLm6Fp0uMQuxbmjl6y1RJkI0fiIWiH0L8vajsHwD9oiiVRVbK9900cR2E3ti2MsODiUNDaNuzjLaIRVcSJJeBqNbFiphK+lEybxE2Il70ySFAhmWp3YhqDKvNT7D8Md9mak0w+9mydOxMRiRExiSMM040T0FeUi1GZXmeBYpThUmE9kKUXe3+03marxwsNvpyeVEEhaZRaY/RpMSTHqCYtLUXHhxJiE/MQjcNJJbGGwUaY2vX5Kho7M2sK/wDxkII0MSO9GxTwTwNGsp0ZcNinEG1NspfQx2Cp9k7hoIaYl5w0xtiaj2UppvDhcilHFyjngooyCaRsb6QvYyvxhlgmzbEkjWdE2UrORcGn6I0P0KhPehDaHEciMoVeRCTSFeyz6kvs27JReMuRFNQWhKvG6JndFZFara9MXb/Wm+0cKyRmtT7y2SYeifkZERJ7+IbeYg1vAuhiyIDdLgVGZ6a0xK6jXPgSuy8rIctE84STF9LxLhHY5eRJDWyoJr1JvjCC5rcjcvKGhIqf8QxbM2vC4BdWQkoubYlf7lCH4JCREM/9bb4xwbhVovbai6jZEui42VXJBEcClSAiobfL+X8s2xoTG0JrDpNnZyLrH4VUonsk2HDkY2a84hVjRR74K1hTlRiKkxvXDFGcI5Qq+cRnDoqJ3lGsstKLV0aRSDTHUzbL5RfCxNaZH2TwKEfkvdxxIyiubLiCNjWucrGjRcVlLjZV2VFLlWUjcUO96OAvNOQeV4CLp3EknRiYoyFjIwSEUu5HBFG9hfYRojahucFFrXaBD+UEX0ts6QmXrS+EhIWco5Qndobpd1EJD/FtfkF14um20JHcOXy2+WyDVw4JiyRtcCWHyFRVhPRRCGN75z0I30MfdCelRIhODeab8jfDQjg0M6EyuopSq8Fo2VMT9FTxWN+SITEqb2NhbFvghUs7XLFJIUSzWbG05aI/Juk94iHRfRfWdFSE0JlFII8bKJHBDrQr5LypjYpRv2Js+xP0M4PaOx88iT8jRwOCRqjxJYNDTRsrG2W0yfOP1EIVODi4G1WQ9Ogs/cRonoRHlUVxdleZobzdnBwh0UUu98jqbG0Q+BomIqwdCj3WLQhcU3y+WIWsKn0WPjFWJhZc6xQmxiE2irs15wtDLh0pSBIy4f2Sd4pFLStMusVlhU+RsRTRXilE2Jsh+CII01s3eME4zVL0cliNknZSvOHs0WaKhv0X1MIuhewoaKmc4dor4HextlHeisutFfkTQbLZeGPys1sdRSI0aHBDIyOH6aKXho4EuWy6GRTY0x5dwr5G6g25BamdqR4Gg1ppPdOD7kREH9wiaFpxs0QXZVRciZC6Fzn6FTouWFpWwl6EhNjHRMj3H8FDQilp+YpVcTF9EKJ1QhVhtYhGLQ3eENl254WiBUtsDN0UNeRYHCm0ZoXJoiJvTHwL6NeD6G2mdFEytCbK3oujmiTo1Tfg20NPzcX0O1aZvBsgn6xfBc30VF9CQfJo0JlKXEWGdPliapvLSEhqcCkxPQjbG8anLGyF5DE/J+jL6CGSoWs1jZvYvRrmlKITTFW9C6E06Jzo7G3R4wabmKvvY7GhqCQhtDehM0whr2V+MIX2IQjvHQne8UW+yC4ysLrCnBVhPyRh/ZYJo/RU5KWhiZfeGxH6UbURziiibFyNITNGxi5Lvg7GKoay0OCDLTaExDLwEhzTyjRTbw8I4KftHMOC+i3Ew2Rp8FxpiHBG+xJrDqkX3hC9Mc2VFptMQ5JOxhaLSM32VCIiGhc0omNOjeG+Wt+jYpxRmnY4d49yt6PA4vY4awek2S4eUiecrDYsQSeNeRMVHRFFfRWhiRrvFGJoRrwXGj6xTTNEWL6zCMaaKVYqE96IUuKfQpBc9Yps1S7NI+0MSZRIcNHJvwfhCsS9nD5GUlZxja7KuzQjTeKkyrwa2IU3DTHo1OcSFWJRDxS+zns9maFojeGz3CPA0saENs35E2uSo35LEcdYbPEKLfBL3ivYhJDRrwagzqEfgr3WMh0Kt6LrE5Lxo3fySiTKqL7yn6GQThO0VrnC4rgkRYbc1yJl2I4KLZSn6UtPbLlRj+ijZX5G8Q2sK4Ia9l8lRU8UvsTVE0UuyiDfBBOPH7msuhbZpNFZXjfkdLivGxo2OiV5NI58kVEipLcNcpmkahFiibY3s2+GK9o2O+RJ2fQbP2jfgqE6QTmiYr1hI0XrNcOhISGjWEhwpaLgaJ5EnI2oLdOuRPF3wNiaLCo5uEZqjsd6O1dD+jxFY3FoRb0LkguRovoVT4K2uBUqomMSwjcwdfGWQSpwJinxeENYt7E35G6TeK8E2Jish9DhzYio0JovlDbFKiidGx2agjYkkQ2UWaaKhp4YiPFg+NCbpSV+B1IUZET3nd7E+BzFZzyJNDLCobZToSoqjuwhSi+0bvCxeCJi0uBIP6F73hvBIXCGxNDQom69jH0E0zaEmKjEzY7cxmki7O2jXgaNmj0I8I2iYPB0qTWkxH+CyivyyEkey0F3i0aIcaILSE2SsS9jiKXCwmbNiFbaJCQPIgi1iNCWLhZ4KsNs1Zel3iifs5xdcFKxsui3ChDYtbkNTXKaQ/oxb5cZC2026udIWGiafKCdsWH/AF+h3Oq6LQohuK8444ZFJSY34EyexUSIyDxryJo0KGmL7y2JsTw/aQiIbUSxCFZYXwsbxaaE2RM4OWI0aRExFiqEVKkPoL3Cr2MnslE5YhnGJCwZuIW+RIgnkhEJxWlLVxi+xvyI2LSVY2+Cj+i40+yMVUNV0LzN4HKvIyTOXTT6fwrhzND2PO4MTQiEJKaIsOTNpIn2c+92fbEphBLDHCoQqbxUNj5MaHY0yzSfA8PbhjHSxJ267SE8KRr2qJ0RiG9lzMwqf/ZCoV71jP8A+9wR38pKTqjcfRycSzzVpCv5Ui9N6IqNEcE/qjoilUE0bK1hs/DQ5pjzD/uINclQnUNidHHTKpUJtl2T2P7xvH0w/RU4eGkQons0R7dbXS8Exd8l2PSNMmim30WCL4QmxiYsEU2Jto3MViTCj3BNJDaLRHA1TZm8PnnMJ0Mbi4zuoxoJ6F9CCcV+0eF0+Gydi+sTZGKZ0HPQc6htGrtRLSForPYuSCPBqbCtF24EaWKhMfHA+BzabFrb9oVJtVdNGxUnyJluEYwy2rsUvzX59iFlnL5gkm7jJFEqbJUN+ZuT4SnAij2t1/6FcRMZl7pFumwSwqJIf2Icf/hG6u2/uxiflOl+6Epvdz32FQh8R0/A/eqZaxg8WehQscijZDZRMeDNG4bnIhlQnRPRdci+ypqCCzgo0yvwIIXRfYvAhlQkRVE6Pxkh+RP7Giso0LRr1juHBGNzsVI2d4o2V+BwqExzyLRSo+heSKvBPREh4UTPEbQmJBOiaTG7hoMjZQk+2PfDJyJzWfcd9n4E5HlNsON+xX+ATY0ViTPVNjoqdCm+uC/dCEdWHfsifA2saQbVI1VcbyyG+ykFdU77CUnoWFKWQ39lFJvf5DCLq+yLLJFHEsNNbeq7rK21VeORIIlts4zAN60JK7VJpm6k10ILTez+Y0BGh11s2QkkiLG8N1pkWYU8CIIMf40n9Ymaj/00mhOXH6qTEY1oouFKJBeBHJbXqnLD5tKFVNqjnASGJBDEfZ+iK0VCfVJViDRPWFTkYoNCbV0VlFrGn5NnT0cGyjZGlimlwbL6G1lfQ2uqc4XtinW4Jex4Vl9YSxeNY0QlEh4XsprF1DU4K6lFTs3oVGzk5YQgSQ8HKbQpdIcIhJwFhrYNW6Npk7JFnpUS1yRkILkQxVk9jVIiYG0F67NGz1PCktYUtmuRClwIgog3HHTUo/zGEGvYS9Cg4jb0clm8VsE2eqCE14wkOEHa0ii6Xs77j/CFZXf3yPWDf52JqKHsptuOgxNFLFQm7whDukiLJPNSaSuxt6mpa9IQop1i2rIgkSJMg9f3kn7N+qn4Z0VptuNqWGiCQk6PftCUe1F4INRiQncMsajtdQWNFxFI27LB2KckP3DKybKhNFQ4+hw0Jo09ptZrSNzHHk02aPVw0n0I55Y6J+xr2VlbG1hMSCuYhGucg4SlbJ4fw6YqdGj8O4NzCfrDYmyldMtuilRfQ/QmVSVkWoJtEVZWb7EE1xcauERos2aG3BsrLcbG2qsfqIoztsonyKIQV+Ug0xCJsSEhHs2NF9pi1q2TWtCKkrP1IHuEjQuAskueu0dsB4ft6W2I19pCqaD6+kdQn8I30dFRulr5Qk5Jlu+OSfbN6h0fK9kEpdyvkNOaGytt8Ib5Ir7+wtUOpvhCA0RouRV0+5sae564bggnvbhMTb7iTXs9v+iawdVENkIkkaGxsTwRRMcEyvzilPFY9MmPQkOl94qcHhEmLsjH1otwuOfgRTbGLCNiwm/GNi0U/Sn6TEN4fojvQnhGxCYvsqpURYTVGh6ExODYkh6IJnMYmymvh6E9DflleHz0Q0Nxla0VsaEyqJtoeF5Yt4soTD0x5yjOLSL8bEUJCSbw1oSEiYR50MU7dTQxGaSoqHTW6HpiQi20lfLFWjmh9Y9LX1Rtt9QQzSaERcQaUn54YuKjhLKRCgXSq72JxFOitDbG1lvxmwpWyNM7F9Ys7LRFS6GaNQ7U5Hrst5R+DpsZYJpjiFjnsg0JY0L0UZs+xlKJtlaG/ZvspS0mKvA2ReTU5HdFFD6KKmbPyn9Oz9NM99lZsTNF8iFjK8MvhmrwJ+EJvwJlKmsNvqCOCDYnutYomVGmcds+mbKK05NY6lEJDT4Q0x6EhBjRLtxZbqF78G56JQgqj0iToKEQQ0T2NNCEaHxtRUaIC9EQkITQhGmk0xKJJKC1hP4T40Ww2XG0UuW6JFQy0SQ6tjOcU5K1laH9YrLuYUG4Pk65E2WMpYUSneGkyNLk35F7eH9CiykP6EylefZWLk9o7FCj5w6fQpBfULAo86ODa4HfAnrbIKOwTgxo9AiexJ7r7OGaGkOdmvGI2LyVtiYmijbEzVg/FJi+yqI5LD3RPDbLailvgaEh0VjF7N02PsTTxZJsUlf/AEmEFyGjTZYbIhIpyyDFcUvwQpdEFyeRC2yGNYbFaPEVxNkPoTFyTCoiIbea8Ks5Y/BGcsnOHJiCLTUx3DjG9nim4S6opYI7IYlhPoxp7pIjSVNiF1URka2IS7IWhJEisWLwNO5OvCGqcCEbdtD0E3BImdJkQmy8MaWG8CexRsfo3yQfOKtaRWMSUp1TQktlSpyGLYtoVSE+8SI7HFEa24KPQ4KRRDDd2chR3J3o3b+xNMdynJ9H/9k=)"
      ],
      "metadata": {
        "id": "biKrcso6eKY0"
      }
    },
    {
      "cell_type": "markdown",
      "source": [
        "#PRACTICAL QUESTIONS"
      ],
      "metadata": {
        "id": "IQyF7Yv6krAa"
      }
    },
    {
      "cell_type": "markdown",
      "source": [
        "1)  Write a Python function that takes a list of numbers as input and returns the sum of all even numbers in the list."
      ],
      "metadata": {
        "id": "hSVzItuEkpqr"
      }
    },
    {
      "cell_type": "code",
      "source": [
        "def sum_even(input_list):\n",
        "  sum=0\n",
        "  for i in input_list:\n",
        "    if i%2==0:\n",
        "      sum+=i\n",
        "  return sum\n",
        "sum_even([1,2,3,4,5,6,7,8,9])"
      ],
      "metadata": {
        "id": "FGacZCSkmqG5",
        "colab": {
          "base_uri": "https://localhost:8080/"
        },
        "outputId": "66733e6f-7e7b-4820-cc5b-e673577c73ec"
      },
      "execution_count": 10,
      "outputs": [
        {
          "output_type": "execute_result",
          "data": {
            "text/plain": [
              "20"
            ]
          },
          "metadata": {},
          "execution_count": 10
        }
      ]
    },
    {
      "cell_type": "markdown",
      "source": [
        "\n",
        "2) Create a Python function that accepts a string and returns the reverse of that string"
      ],
      "metadata": {
        "id": "WGxMzFZ2k-Qn"
      }
    },
    {
      "cell_type": "code",
      "source": [
        "def reverse_string(input_string):\n",
        "  return input_string[::-1]\n",
        "\n",
        "print(reverse_string(\"doodle\"))\n",
        "\n",
        "#or\n",
        "\n",
        "def reverse_string2(input_string):\n",
        "  reversed_string = \"\"\n",
        "  for i in range(len(input_string) - 1, -1, -1):\n",
        "    reversed_string += input_string[i]\n",
        "  return reversed_string\n",
        "\n",
        "print(reverse_string2(\"doodle and google \"))"
      ],
      "metadata": {
        "colab": {
          "base_uri": "https://localhost:8080/"
        },
        "id": "o3cFVC5lUYnf",
        "outputId": "bdd16e54-c53b-4347-bddc-8503cf808027"
      },
      "execution_count": 35,
      "outputs": [
        {
          "output_type": "stream",
          "name": "stdout",
          "text": [
            "eldood\n",
            " elgoog dna eldood\n"
          ]
        }
      ]
    },
    {
      "cell_type": "markdown",
      "source": [
        "3) Implement a Python function that takes a list of integers and returns a new list containing the squares of each number."
      ],
      "metadata": {
        "id": "jLMVEF-Tk9lP"
      }
    },
    {
      "cell_type": "code",
      "source": [
        "def sq_list(input_list):\n",
        "  l=[]\n",
        "  for i in input_list:\n",
        "    l.append(i**2)\n",
        "  return l\n",
        "print(sq_list([1,2,3,5,7]))\n",
        "\n",
        "#or\n",
        "\n",
        "input_list=[1,2,3,4,5]\n",
        "nl=list(map(lambda x:x**2,input_list))\n",
        "print(nl)"
      ],
      "metadata": {
        "id": "uau2_jKik9O3",
        "colab": {
          "base_uri": "https://localhost:8080/"
        },
        "outputId": "8263c5f9-5148-4d5b-be75-f71fb398c4bf"
      },
      "execution_count": 16,
      "outputs": [
        {
          "output_type": "stream",
          "name": "stdout",
          "text": [
            "[1, 4, 9, 25, 49]\n",
            "[1, 4, 9, 16, 25]\n"
          ]
        }
      ]
    },
    {
      "cell_type": "markdown",
      "source": [
        "4) Write a Python function that checks if a given number is prime or not from 1 to 200."
      ],
      "metadata": {
        "id": "camnDkIXk85A"
      }
    },
    {
      "cell_type": "code",
      "source": [
        "def is_prime(number):\n",
        "    if number <= 1:\n",
        "        return False\n",
        "    if number <= 3:\n",
        "        return True\n",
        "    if number % 2 == 0 or number % 3 == 0:\n",
        "        return False\n",
        "    i = 5\n",
        "    while i * i <= number:\n",
        "        if number % i == 0 or number % (i + 2) == 0:\n",
        "            return False\n",
        "        i += 6\n",
        "    return True\n",
        "\n",
        "print(is_prime(27))\n",
        "print(is_prime(31))\n",
        "\n",
        "#or\n",
        "def is_prime2(num):\n",
        "    if num <= 1 or num > 200:\n",
        "        return False\n",
        "    for i in range(2, int(num ** 0.5) + 1):\n",
        "        if num % i == 0:\n",
        "            return False\n",
        "    return True\n",
        "\n",
        "# Example usage:\n",
        "number = 37\n",
        "print(is_prime2(number))  # Output: True\n"
      ],
      "metadata": {
        "colab": {
          "base_uri": "https://localhost:8080/"
        },
        "id": "zGKdk4bDGjbB",
        "outputId": "a34ae0ee-a2c9-412b-8d4a-89934477a55d"
      },
      "execution_count": 37,
      "outputs": [
        {
          "output_type": "stream",
          "name": "stdout",
          "text": [
            "False\n",
            "True\n",
            "True\n"
          ]
        }
      ]
    },
    {
      "cell_type": "markdown",
      "source": [
        "5) Create an iterator class in Python that generates the Fibonacci sequence up to a specified number of terms."
      ],
      "metadata": {
        "id": "8wqAp9iJk8OV"
      }
    },
    {
      "cell_type": "code",
      "source": [
        "def fib(n):\n",
        "    a, b = 0, 1\n",
        "    for i in range(n):\n",
        "        yield a\n",
        "        a, b = b, a + b\n",
        "\n",
        "f=fib(13)\n",
        "print(f)\n",
        "for i in f:\n",
        "  print(i)"
      ],
      "metadata": {
        "id": "s30n48Xxk760",
        "colab": {
          "base_uri": "https://localhost:8080/"
        },
        "outputId": "332d12c1-d0d9-4eca-ede4-a183ac769ed5"
      },
      "execution_count": 21,
      "outputs": [
        {
          "output_type": "stream",
          "name": "stdout",
          "text": [
            "<generator object fib at 0x7e91920d0220>\n",
            "0\n",
            "1\n",
            "1\n",
            "2\n",
            "3\n",
            "5\n",
            "8\n",
            "13\n",
            "21\n",
            "34\n",
            "55\n",
            "89\n",
            "144\n"
          ]
        }
      ]
    },
    {
      "cell_type": "markdown",
      "source": [
        "6)  Write a generator function in Python that yields the powers of 2 up to a given exponent."
      ],
      "metadata": {
        "id": "WVweaMJsk7es"
      }
    },
    {
      "cell_type": "code",
      "source": [
        "def gen_2(expo):\n",
        "  for i in range(expo):\n",
        "    yield 2**i\n",
        "power=gen_2(11)\n",
        "print(power)\n",
        "for i in power:\n",
        "  print(i)\n"
      ],
      "metadata": {
        "id": "lqmTgAKuk7KI",
        "colab": {
          "base_uri": "https://localhost:8080/"
        },
        "outputId": "849dd39d-8c72-448d-8947-4499b09eebee"
      },
      "execution_count": 24,
      "outputs": [
        {
          "output_type": "stream",
          "name": "stdout",
          "text": [
            "<generator object gen_2 at 0x7e91751976b0>\n",
            "1\n",
            "2\n",
            "4\n",
            "8\n",
            "16\n",
            "32\n",
            "64\n",
            "128\n",
            "256\n",
            "512\n",
            "1024\n"
          ]
        }
      ]
    },
    {
      "cell_type": "markdown",
      "source": [
        "7) Implement a generator function that reads a file line by line and yields each line as a string."
      ],
      "metadata": {
        "id": "1olZzvTyk60P"
      }
    },
    {
      "cell_type": "code",
      "source": [
        "def file_reader(filename):\n",
        "    \"\"\"\n",
        "    Reads a file line by line and yields each line as a string.\n",
        "    \"\"\"\n",
        "    try:\n",
        "        with open(filename, 'r') as file:\n",
        "            for line in file:\n",
        "                yield line.strip()  # Remove leading/trailing whitespace\n",
        "    except FileNotFoundError:\n",
        "        print(f\"Error: File '{filename}' not found.\")\n",
        "        yield None #Yield none in case of error\n",
        "\n",
        "f=file_reader(\"sample.txt\")\n",
        "print(f)\n",
        "for i in f:\n",
        "  print(i)"
      ],
      "metadata": {
        "id": "A16JE3xZk6iG",
        "colab": {
          "base_uri": "https://localhost:8080/"
        },
        "outputId": "581ff9d2-d576-4886-da3f-257b47fd9fe5"
      },
      "execution_count": 27,
      "outputs": [
        {
          "output_type": "stream",
          "name": "stdout",
          "text": [
            "<generator object file_reader at 0x7e91920d0220>\n",
            "Error: File 'sample.txt' not found.\n",
            "None\n"
          ]
        }
      ]
    },
    {
      "cell_type": "markdown",
      "source": [
        "8) Use a lambda function in Python to sort a list of tuples based on the second element of each tuple."
      ],
      "metadata": {
        "id": "Latz6I-Dk6Bk"
      }
    },
    {
      "cell_type": "code",
      "source": [
        "list_of_tuples = [(1, 5), (3, 2), (2, 8), (4, 1)]\n",
        "sorted_list = sorted(list_of_tuples, key=lambda x: x[1])\n",
        "print(sorted_list)\n",
        "\n",
        "#or\n",
        "tuples_list = [(3, 'apple'), (2, 'banana'), (1, 'cherry'), (8, 'burgur'), (7, 'cheese')]\n",
        "sorted_list = sorted(tuples_list, key=lambda x: x[1])\n",
        "print(sorted_list)\n"
      ],
      "metadata": {
        "id": "o6eH_Q4zk5tR",
        "colab": {
          "base_uri": "https://localhost:8080/"
        },
        "outputId": "ce80ee7a-066a-4cb5-eded-be70f06c7c71"
      },
      "execution_count": 32,
      "outputs": [
        {
          "output_type": "stream",
          "name": "stdout",
          "text": [
            "[(4, 1), (3, 2), (1, 5), (2, 8)]\n",
            "[(3, 'apple'), (2, 'banana'), (8, 'burgur'), (7, 'cheese'), (1, 'cherry')]\n"
          ]
        }
      ]
    },
    {
      "cell_type": "markdown",
      "source": [
        "9) Write a Python program that uses map() to convert a list of temperatures from Celsius to Fahrenheit."
      ],
      "metadata": {
        "id": "0A7A6KWOnuCm"
      }
    },
    {
      "cell_type": "code",
      "source": [
        "def celcius_to_fahrenheit(celsius):\n",
        "    return (celsius * 9/5) + 32\n",
        "\n",
        "celsius_temperatures = [0, 10, 20, 30, 40]\n",
        "fahrenheit_temperatures = list(map(celcius_to_fahrenheit, celsius_temperatures))\n",
        "\n",
        "print(fahrenheit_temperatures)"
      ],
      "metadata": {
        "id": "M_2PxO6Inusf",
        "colab": {
          "base_uri": "https://localhost:8080/"
        },
        "outputId": "67ebbee1-7924-4b8b-d9bc-9d66007c0b4a"
      },
      "execution_count": 28,
      "outputs": [
        {
          "output_type": "stream",
          "name": "stdout",
          "text": [
            "[32.0, 50.0, 68.0, 86.0, 104.0]\n"
          ]
        }
      ]
    },
    {
      "cell_type": "markdown",
      "source": [
        "10)  Create a Python program that uses 'filter() to remove all the vowels from a given string."
      ],
      "metadata": {
        "id": "KjwfA_eMk5FQ"
      }
    },
    {
      "cell_type": "code",
      "source": [
        "def remove_vowels(string):\n",
        "    vowels = \"aeiouAEIOU\"\n",
        "    return \"\".join(filter(lambda char: char not in vowels, string))\n",
        "\n",
        "\n",
        "input_string = \"Hello, World!\"\n",
        "result = remove_vowels(input_string)\n",
        "print(result)\n",
        "# Output: Hll, Wrld!\n"
      ],
      "metadata": {
        "id": "tPD4T5Pkk3O6",
        "colab": {
          "base_uri": "https://localhost:8080/"
        },
        "outputId": "6e1116ea-8b46-4284-d7ef-cedc646b3826"
      },
      "execution_count": 34,
      "outputs": [
        {
          "output_type": "stream",
          "name": "stdout",
          "text": [
            "Hll, Wrld!\n"
          ]
        }
      ]
    }
  ]
}