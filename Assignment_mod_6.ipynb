{
  "nbformat": 4,
  "nbformat_minor": 0,
  "metadata": {
    "colab": {
      "provenance": []
    },
    "kernelspec": {
      "name": "python3",
      "display_name": "Python 3"
    },
    "language_info": {
      "name": "python"
    }
  },
  "cells": [
    {
      "cell_type": "markdown",
      "source": [
        "# THEORY QUESTIONS\n"
      ],
      "metadata": {
        "id": "E9rPKt83kbyK"
      }
    },
    {
      "cell_type": "markdown",
      "source": [
        "Q1) What is Object-Oriented Programming (OOP)?\n",
        "\n",
        "*   OOP is a programming paradigm based on the concept of \"objects,\" which can contain data in the form of fields (attributes) and code in the form of procedures (methods). It emphasizes principles like encapsulation, inheritance, and polymorphism to create modular and reusable code."
      ],
      "metadata": {
        "id": "EB6gtzMakbuw"
      }
    },
    {
      "cell_type": "markdown",
      "source": [
        "O2) What is a class in OOP?\n",
        "\n",
        "*   A class is a blueprint for creating objects. It defines a set of attributes and methods that the created objects will have. For example, a Car class might have attributes like color and model, and methods like drive() and brake()."
      ],
      "metadata": {
        "id": "AdbCicDGkbsc"
      }
    },
    {
      "cell_type": "markdown",
      "source": [
        "Q3) What is an object in OOP?\n",
        "\n",
        "*   An object is an instance of a class. It represents a specific implementation of the class with actual values assigned to its attributes. For instance, if Car is a class, then my_car = Car('red', 'Toyota') creates an object my_car with specific attribute values."
      ],
      "metadata": {
        "id": "V7KmL2rZkbpf"
      }
    },
    {
      "cell_type": "markdown",
      "source": [
        "Q4) What is the difference between abstraction and encapsulation?\n",
        "\n",
        "*   Abstraction involves hiding complex implementation details and showing only the essential features of an object. Encapsulation, on the other hand, is the bundling of data (attributes) and methods that operate on that data into a single unit, often restricting direct access to some of the object's components."
      ],
      "metadata": {
        "id": "inKMgUuukbmf"
      }
    },
    {
      "cell_type": "markdown",
      "source": [
        "Q5) What are dunder methods in Python?\n",
        "\n",
        "*   Dunder (double underscore) methods, also known as magic methods, are special methods in Python that begin and end with double underscores, like __init__ and __str__. They enable the customization of default behavior for objects, such as initialization, representation, and operator overloading."
      ],
      "metadata": {
        "id": "2MEUaqZIkbjI"
      }
    },
    {
      "cell_type": "markdown",
      "source": [
        "Q6) Explain the concept of inheritance in OOP.\n",
        "\n",
        "*   Inheritance allows a new class (child class) to inherit attributes and methods from an existing class (parent class). This promotes code reusability and establishes a hierarchical relationship between classes. For example, a Vehicle class can be a parent to Car and Motorcycle classes"
      ],
      "metadata": {
        "id": "m6jw_W7nkbfu"
      }
    },
    {
      "cell_type": "markdown",
      "source": [
        "Q7) What is polymorphism in OOP?\n",
        "\n",
        "*   Polymorphism allows objects of different classes to respond to the same method call in different ways. It enables a single interface to control access to a variety of underlying data types. For example, a function shape_area() can compute the area of different shapes like circles and rectangles, each implementing their own version of the area() method."
      ],
      "metadata": {
        "id": "bzlJFf_Hkbcr"
      }
    },
    {
      "cell_type": "markdown",
      "source": [
        "Q8) How is encapsulation achieved in Python?\n",
        "\n",
        "*   In Python, encapsulation is achieved by defining class attributes as private by prefixing them with underscores (e.g., _attribute or __attribute). This convention indicates that these attributes should not be accessed directly outside the class."
      ],
      "metadata": {
        "id": "bKpw1uDmkbZE"
      }
    },
    {
      "cell_type": "markdown",
      "source": [
        "Q9) What is a constructor in Python?\n",
        "\n",
        "*   A constructor in Python is a special method named __init__. It is automatically called when a new instance of a class is created, allowing the class to initialize attributes and perform setup procedures."
      ],
      "metadata": {
        "id": "dFU4uOFKkbVs"
      }
    },
    {
      "cell_type": "markdown",
      "source": [
        "Q10) What are class and static methods in Python?\n",
        "\n",
        "*   Class methods are methods that take the class itself as the first argument, conventionally named cls, and can access or modify class-level attributes. They are defined using the @classmethod decorator. Static methods, defined with the @staticmethod decorator, do not take any special first argument and cannot access or modify class-level attributes; they behave like regular functions but belong to the class's namespace."
      ],
      "metadata": {
        "id": "vixXKOLhkbSi"
      }
    },
    {
      "cell_type": "markdown",
      "source": [
        "Q11) What is method overloading in Python?\n",
        "\n",
        "*   Method overloading refers to defining multiple methods with the same name but different parameters. Python does not support traditional method overloading as seen in some other languages. Instead, it allows default arguments or variable-length arguments to achieve similar functionality"
      ],
      "metadata": {
        "id": "Mw0toKLKkbPV"
      }
    },
    {
      "cell_type": "markdown",
      "source": [
        "Q12) What is method overriding in OOP?\n",
        "\n",
        "*   Method overriding occurs when a subclass provides a specific implementation for a method that is already defined in its superclass. This allows the subclass to customize or replace the behavior of the superclass method."
      ],
      "metadata": {
        "id": "W2divSlkkbL7"
      }
    },
    {
      "cell_type": "markdown",
      "source": [
        "Q13) What is a property decorator in Python?\n",
        "\n",
        "*   The @property decorator in Python is used to define methods that can be accessed like attributes. It allows a class to encapsulate instance variables and provide a controlled interface to them."
      ],
      "metadata": {
        "id": "4a_YnPd8kbIr"
      }
    },
    {
      "cell_type": "markdown",
      "source": [
        "Q14) Why is polymorphism important in OOP?\n",
        "\n",
        "*   Polymorphism enhances flexibility and maintainability in code by allowing objects of different types to be treated uniformly. It enables a single function or method to operate on objects of different classes, reducing code duplication and improving readability."
      ],
      "metadata": {
        "id": "18bK6MnOkbFf"
      }
    },
    {
      "cell_type": "markdown",
      "source": [
        "Q15) What is an abstract class in Python?\n",
        "\n",
        "*   An abstract class in Python is a class that cannot be instantiated on its own and is meant to be subclassed. It can include abstract methods, which are methods declared but contain no implementation. Subclasses are required to provide implementations for these abstract methods. Abstract classes are defined using the ABC module and the @abstractmethod decorator."
      ],
      "metadata": {
        "id": "7OfN4VIKkbB3"
      }
    },
    {
      "cell_type": "markdown",
      "source": [
        "Q16) What are the advantages of OOP?\n",
        "\n",
        " Object-Oriented Programming offers several benefits:\n",
        "\n",
        "*   Modularity for easier troubleshooting: Code is organized into self-contained objects, making it easier to locate and fix issues.\n",
        "\n",
        "*   Reuse of code through inheritance: Existing classes can be used as a base for new classes, promoting code reusability.\n",
        "\n",
        "*   Flexibility through polymorphism: Objects can be designed to share behaviors, allowing for flexible and interchangeable code components.\n",
        "\n",
        "*   Effective problem solving: Encapsulation and abstraction enable developers to manage complexity by breaking down problems into manageable objects."
      ],
      "metadata": {
        "id": "abZeRd1Mka-T"
      }
    },
    {
      "cell_type": "markdown",
      "source": [
        "Q17) What is the difference between a class variable and an instance variable?\n",
        "\n",
        "In Python:\n",
        "\n",
        "*   Class variables are shared across all instances of a class. They are defined within the class but outside any methods.\n",
        "\n",
        "*   Instance variables are unique to each instance and are typically defined within methods, using the self keyword.\n",
        "\n",
        "For example:"
      ],
      "metadata": {
        "id": "XjArQ64fka6h"
      }
    },
    {
      "cell_type": "code",
      "source": [
        "class Dog:\n",
        "    species = 'Canis familiaris'  # Class variable\n",
        "\n",
        "    def __init__(self, name):\n",
        "        self.name = name  # Instance variable\n"
      ],
      "metadata": {
        "id": "5wylrApdn-zm"
      },
      "execution_count": null,
      "outputs": []
    },
    {
      "cell_type": "markdown",
      "source": [
        "Here, species is a class variable shared by all Dog instances, while name is an instance variable unique to each Dog."
      ],
      "metadata": {
        "id": "Wessx6jEka26"
      }
    },
    {
      "cell_type": "markdown",
      "source": [
        "Q18) What is multiple inheritance in Python?\n",
        "\n",
        "*   Multiple inheritance allows a class to inherit from more than one parent class. This means the child class inherits attributes and methods from all parent classes.\n",
        "\n",
        "For example:"
      ],
      "metadata": {
        "id": "fTweizC5kazu"
      }
    },
    {
      "cell_type": "code",
      "source": [
        "class Mammal:\n",
        "    pass\n",
        "\n",
        "class WingedAnimal:\n",
        "    pass\n",
        "\n",
        "class Bat(Mammal, WingedAnimal):\n",
        "    pass\n"
      ],
      "metadata": {
        "id": "PV6pRtIZoXUr"
      },
      "execution_count": null,
      "outputs": []
    },
    {
      "cell_type": "markdown",
      "source": [
        "In this case, Bat inherits from both Mammal and WingedAnimal."
      ],
      "metadata": {
        "id": "CvXosDOPkatA"
      }
    },
    {
      "cell_type": "markdown",
      "source": [
        "Q19)  Explain the purpose of __str__ and __repr__ methods in Python.\n",
        "\n",
        "Both __ str __ and __ repr __ are special methods used to define string representations of objects:\n",
        "\n",
        "*   __ repr __ is intended to provide an \"official\" string representation of the object that can ideally be used to recreate the object. It's mainly for developers.\n",
        "\n",
        "*  __ str __ is intended to provide a \"nice\" or user-friendly string representation of the object.\n",
        "\n",
        "If both methods are defined, str(obj) uses __str__, and repr(obj) uses __ repr __. If __ str __ is not defined, Python defaults to using __ repr __."
      ],
      "metadata": {
        "id": "8tqpJVQ0kaly"
      }
    },
    {
      "cell_type": "markdown",
      "source": [
        "Q20) What is the significance of the super() function in Python?\n",
        "\n",
        "The super() function allows you to call methods from a parent class within a child class. This is especially useful in multiple inheritance scenarios to ensure that the correct method resolution order (MRO) is followed.\n",
        "\n",
        "For example:"
      ],
      "metadata": {
        "id": "QlWKdSLJkafL"
      }
    },
    {
      "cell_type": "code",
      "source": [
        "class Parent:\n",
        "    def greet(self):\n",
        "        print(\"Hello from Parent\")\n",
        "\n",
        "class Child(Parent):\n",
        "    def greet(self):\n",
        "        super().greet()\n",
        "        print(\"Hello from Child\")\n"
      ],
      "metadata": {
        "id": "swxRApS6pOmx"
      },
      "execution_count": null,
      "outputs": []
    },
    {
      "cell_type": "markdown",
      "source": [
        "Here, super().greet() calls the greet method of the Parent class."
      ],
      "metadata": {
        "id": "GdZNs4otkaW5"
      }
    },
    {
      "cell_type": "markdown",
      "source": [
        "Q21) What is the significance of the __ del __ method in Python?\n",
        "\n",
        "The __ del __ method is a destructor method that is called when an object is about to be destroyed. It allows for the cleanup of resources before the object is garbage collected. However, its use is generally discouraged because the timing of its execution is uncertain due to Python's garbage collection mechanism."
      ],
      "metadata": {
        "id": "mMIbW8n6kaL9"
      }
    },
    {
      "cell_type": "markdown",
      "source": [
        "Q22) What is the difference between @staticmethod and @classmethod in Python?\n",
        "\n",
        "In Python:\n",
        "\n",
        "*   @staticmethod defines a method that doesn't operate on an instance or class and doesn't take self or cls as a parameter. It's similar to a regular function but belongs to the class's namespace.\n",
        "\n",
        "*   @classmethod defines a method that operates on the class itself and takes cls as a parameter, allowing access to class-level attributes and methods.\n",
        "\n",
        "For example:"
      ],
      "metadata": {
        "id": "384_tNZpkaAB"
      }
    },
    {
      "cell_type": "code",
      "source": [
        "class MyClass:\n",
        "    class_variable = 'Hello'\n",
        "\n",
        "    @staticmethod\n",
        "    def static_method():\n",
        "        print('This is a static method.')\n",
        "\n",
        "    @classmethod\n",
        "    def class_method(cls):\n",
        "        print(f'This is a class method. class_variable = {cls.class_variable}')\n"
      ],
      "metadata": {
        "id": "5kiuKbxRpteV"
      },
      "execution_count": null,
      "outputs": []
    },
    {
      "cell_type": "markdown",
      "source": [
        "Here, static_method doesn't access any class or instance attributes, while class_method accesses the class variable class_variable."
      ],
      "metadata": {
        "id": "10rUG4xdkZio"
      }
    },
    {
      "cell_type": "markdown",
      "source": [
        "Q23)  How does polymorphism work in Python with inheritance?\n",
        "\n",
        "Polymorphism allows objects of different classes to respond to the same method call in different ways. In Python, this is achieved through method overriding, where a subclass provides a specific implementation of a method that is already defined in its superclass. Polymorphism allows objects of different classes to respond to the same method call in different ways. In Python, this is typically achieved through method overriding in an inheritance hierarchy.\n",
        "\n",
        "For example:"
      ],
      "metadata": {
        "id": "R2vMAV2Wp4Ar"
      }
    },
    {
      "cell_type": "code",
      "source": [
        "class Animal:\n",
        "    def speak(self):\n",
        "        raise NotImplementedError(\"Subclass must implement abstract method\")\n",
        "\n",
        "class Dog(Animal):\n",
        "    def speak(self):\n",
        "        return \"Woof!\"\n",
        "\n",
        "class Cat(Animal):\n",
        "    def speak(self):\n",
        "        return \"Meow!\"\n",
        "\n",
        "# Using polymorphism\n",
        "animals = [Dog(), Cat()]\n",
        "for animal in animals:\n",
        "    print(animal.speak())\n"
      ],
      "metadata": {
        "colab": {
          "base_uri": "https://localhost:8080/"
        },
        "id": "t6PsUwynqBae",
        "outputId": "3073addc-cb3a-419c-953c-b155c19bc38c"
      },
      "execution_count": null,
      "outputs": [
        {
          "output_type": "stream",
          "name": "stdout",
          "text": [
            "Woof!\n",
            "Meow!\n"
          ]
        }
      ]
    },
    {
      "cell_type": "markdown",
      "source": [
        "In this example, both Dog and Cat classes override the speak method of the Animal class. When iterating over a list of animals and calling speak, Python dynamically determines the appropriate method to call based on the object's class, demonstrating polymorphism."
      ],
      "metadata": {
        "id": "wc2SSiSMp4z7"
      }
    },
    {
      "cell_type": "markdown",
      "source": [
        "Q24) What is method chaining in Python OOP?\n",
        "\n",
        "Method chaining is a technique where multiple methods are called sequentially on an object in a single statement. Each method returns the object itself, allowing the next method to be called directly on it. This leads to more concise and readable code.\n",
        "\n",
        "Example:"
      ],
      "metadata": {
        "id": "fMDqtLA9qmNS"
      }
    },
    {
      "cell_type": "code",
      "source": [
        "class TextProcessor:\n",
        "    def __init__(self, text):\n",
        "        self.text = text\n",
        "\n",
        "    def remove_punctuation(self):\n",
        "        self.text = ''.join(char for char in self.text if char.isalnum() or char.isspace())\n",
        "        return self\n",
        "\n",
        "    def to_lowercase(self):\n",
        "        self.text = self.text.lower()\n",
        "        return self\n",
        "\n",
        "    def remove_whitespace(self):\n",
        "        self.text = ' '.join(self.text.split())\n",
        "        return self\n",
        "\n",
        "    def get_text(self):\n",
        "        return self.text\n",
        "\n",
        "# Using method chaining\n",
        "processed_text = (TextProcessor(\"  Hello, World!  \")\n",
        "                  .remove_punctuation()\n",
        "                  .to_lowercase()\n",
        "                  .remove_whitespace()\n",
        "                  .get_text())\n",
        "\n",
        "print(processed_text)  # Output: \"hello world\"\n"
      ],
      "metadata": {
        "colab": {
          "base_uri": "https://localhost:8080/"
        },
        "id": "8xdXK9GrqzZk",
        "outputId": "e28b839b-414d-4d4f-a288-bddeba373cab"
      },
      "execution_count": null,
      "outputs": [
        {
          "output_type": "stream",
          "name": "stdout",
          "text": [
            "hello world\n"
          ]
        }
      ]
    },
    {
      "cell_type": "markdown",
      "source": [
        "In this example, each method processes the text and returns the TextProcessor object (self), allowing the next method to be called in the chain. This pattern enhances code readability and efficiency."
      ],
      "metadata": {
        "id": "bt8CScONquQK"
      }
    },
    {
      "cell_type": "markdown",
      "source": [
        "Q25)  What is the purpose of the __call__ method in Python?\n",
        "\n",
        "The __call__ method is a special method in Python that allows an instance of a class to be called as if it were a function. By defining __call__ in a class, you can create objects that behave like functions, meaning they can be invoked with parentheses and arguments.\n",
        "\n",
        "Example:"
      ],
      "metadata": {
        "id": "GqCNY8cbqtfi"
      }
    },
    {
      "cell_type": "code",
      "execution_count": null,
      "metadata": {
        "colab": {
          "base_uri": "https://localhost:8080/"
        },
        "id": "NPP3un4QkSh-",
        "outputId": "841f4db5-e2c7-40f0-ccc3-c3fa4c5a5b4b"
      },
      "outputs": [
        {
          "output_type": "stream",
          "name": "stdout",
          "text": [
            "10\n",
            "15\n"
          ]
        }
      ],
      "source": [
        "class Multiplier:\n",
        "    def __init__(self, factor):\n",
        "        self.factor = factor\n",
        "\n",
        "    def __call__(self, value):\n",
        "        return value * self.factor\n",
        "\n",
        "doubler = Multiplier(2)\n",
        "tripler = Multiplier(3)\n",
        "\n",
        "print(doubler(5))  # Output: 10\n",
        "print(tripler(5))  # Output: 15\n"
      ]
    },
    {
      "cell_type": "markdown",
      "source": [
        "In this example, instances of the Multiplier class can be called with an argument, and the __call__ method will be executed, returning the product of the input value and the factor. This feature is useful for creating callable objects that maintain state or configuration."
      ],
      "metadata": {
        "id": "nYKuhEturkiz"
      }
    },
    {
      "cell_type": "markdown",
      "source": [
        "# PRACTICAL QUESTIONS"
      ],
      "metadata": {
        "id": "7EpYV_VortNO"
      }
    },
    {
      "cell_type": "markdown",
      "source": [
        "1. Create a parent class Animal with a method speak() that prints a generic message. Create a child class Dog that overrides the speak() method to print \"Bark!\","
      ],
      "metadata": {
        "id": "4Ug9JiUHrsq1"
      }
    },
    {
      "cell_type": "code",
      "source": [
        "class Animal:\n",
        "    def speak(self):\n",
        "        print(\"This animal makes a sound.\")\n",
        "\n",
        "class Dog(Animal):\n",
        "    def speak(self):\n",
        "        print(\"Bark!\")\n",
        "\n",
        "generic_animal = Animal()\n",
        "generic_animal.speak()   # Output: This animal makes a sound\n",
        "\n",
        "dog = Dog()\n",
        "dog.speak()  # Output: Bark!\n"
      ],
      "metadata": {
        "id": "ukbDixoQr9ul",
        "colab": {
          "base_uri": "https://localhost:8080/"
        },
        "outputId": "c0385284-039a-4b3b-d435-297b5b5832b9"
      },
      "execution_count": 1,
      "outputs": [
        {
          "output_type": "stream",
          "name": "stdout",
          "text": [
            "This animal makes a sound.\n",
            "Bark!\n"
          ]
        }
      ]
    },
    {
      "cell_type": "markdown",
      "source": [
        "2. Write a program to create an obstract class Shape with a method area(). Derive classes Circle and Rectangle from it and implement the area() method in both."
      ],
      "metadata": {
        "id": "g6r2YWv4r-P3"
      }
    },
    {
      "cell_type": "code",
      "source": [
        "import math\n",
        "\n",
        "class Shape(ABC):\n",
        "    @abstractmethod\n",
        "    def area(self):\n",
        "        pass\n",
        "\n",
        "class Circle(Shape):\n",
        "    def __init__(self, radius):\n",
        "        self.radius = radius\n",
        "\n",
        "    def area(self):\n",
        "        return math.pi * (self.radius ** 2)\n",
        "\n",
        "class Rectangle(Shape):\n",
        "    def __init__(self, width, height):\n",
        "        self.width = width\n",
        "        self.height = height\n",
        "\n",
        "    def area(self):\n",
        "        return self.width * self.height\n",
        "\n",
        "\n",
        "circle = Circle(5)\n",
        "print(circle.area())\n",
        "\n",
        "rectangle = Rectangle(4, 6)\n",
        "print(rectangle.area())\n"
      ],
      "metadata": {
        "id": "NcvPYNRRr-tg",
        "colab": {
          "base_uri": "https://localhost:8080/"
        },
        "outputId": "c05c809f-9874-444f-e70a-73de08c00a9a"
      },
      "execution_count": 3,
      "outputs": [
        {
          "output_type": "stream",
          "name": "stdout",
          "text": [
            "78.53981633974483\n",
            "24\n"
          ]
        }
      ]
    },
    {
      "cell_type": "markdown",
      "source": [
        "3. Implement a multi-level inheritance scenario where a class Vehicle has an attribute type. Derive a class Car and further derive a class ElectricCar that adds a battery attribute."
      ],
      "metadata": {
        "id": "k26nlheSr_Rb"
      }
    },
    {
      "cell_type": "code",
      "source": [
        "class Vehicle:\n",
        "    def __init__(self, vehicle_type):\n",
        "        self.type = vehicle_type\n",
        "\n",
        "class Car(Vehicle):\n",
        "    def __init__(self, brand, model):\n",
        "        super().__init__('Car')\n",
        "        self.brand = brand\n",
        "        self.model = model\n",
        "\n",
        "class ElectricCar(Car):\n",
        "    def __init__(self, brand, model, battery_capacity):\n",
        "        super().__init__(brand, model)\n",
        "        self.battery_capacity = battery_capacity\n",
        "\n",
        "\n",
        "tesla = ElectricCar('Tesla', 'Model S', '100 kWh')\n",
        "print(tesla.type)             # Output: Car\n",
        "print(tesla.brand)            # Output: Tesla\n",
        "print(tesla.model)            # Output: Model S\n",
        "print(tesla.battery_capacity) # Output: 100 kWh\n"
      ],
      "metadata": {
        "id": "CzvuhDGIr_tB",
        "colab": {
          "base_uri": "https://localhost:8080/"
        },
        "outputId": "1f8ed057-6a43-488d-cd4f-dad7f83977e5"
      },
      "execution_count": 4,
      "outputs": [
        {
          "output_type": "stream",
          "name": "stdout",
          "text": [
            "Car\n",
            "Tesla\n",
            "Model S\n",
            "100 kWh\n"
          ]
        }
      ]
    },
    {
      "cell_type": "markdown",
      "source": [
        "4. Demonstrate polymorphism by creating a base class Bird with a method fly(). Create two derived classes Sparrow and Penguin that override the fly() method."
      ],
      "metadata": {
        "id": "dTopPcfcsARb"
      }
    },
    {
      "cell_type": "code",
      "source": [
        "class Bird:\n",
        "    def fly(self):\n",
        "        print(\"This bird can fly.\")\n",
        "\n",
        "class Sparrow(Bird):\n",
        "    def fly(self):\n",
        "        print(\"Sparrow flies high in the sky.\")\n",
        "\n",
        "class Penguin(Bird):\n",
        "    def fly(self):\n",
        "        print(\"Penguins cannot fly.\")\n",
        "\n",
        "birds = [Sparrow(), Penguin()]\n",
        "for bird in birds:\n",
        "    bird.fly()\n",
        "\n",
        "# Output:\n",
        "# Sparrow flies high in the sky.\n",
        "# Penguins cannot fly.\n"
      ],
      "metadata": {
        "id": "Kly1hVdpsAsP",
        "colab": {
          "base_uri": "https://localhost:8080/"
        },
        "outputId": "cac94c3f-6b3c-4e93-bf0c-900406e60e0a"
      },
      "execution_count": 5,
      "outputs": [
        {
          "output_type": "stream",
          "name": "stdout",
          "text": [
            "Sparrow flies high in the sky.\n",
            "Penguins cannot fly.\n"
          ]
        }
      ]
    },
    {
      "cell_type": "markdown",
      "source": [
        "5. Write a program to demonstrate encapsulation by creating a class BankAccount with private attributes balance and methods to deposit, withdraw, and check balance."
      ],
      "metadata": {
        "id": "6rBRdc7dsBHS"
      }
    },
    {
      "cell_type": "code",
      "source": [
        "class BankAccount:\n",
        "    def __init__(self, initial_balance=0):\n",
        "        self.__balance = initial_balance\n",
        "\n",
        "    def deposit(self, amount):\n",
        "        if amount > 0:\n",
        "            self.__balance += amount\n",
        "            print(f\"Deposited: {amount}\")\n",
        "        else:\n",
        "            print(\"Deposit amount must be positive.\")\n",
        "\n",
        "    def withdraw(self, amount):\n",
        "        if 0 < amount <= self.__balance:\n",
        "            self.__balance -= amount\n",
        "            print(f\"Withdrew: {amount}\")\n",
        "        else:\n",
        "            print(\"Insufficient funds or invalid amount.\")\n",
        "\n",
        "    def get_balance(self):\n",
        "        return self.__balance\n",
        "\n",
        "account = BankAccount(100)\n",
        "account.deposit(50)           # Output: Deposited: 50\n",
        "account.withdraw(30)          # Output: Withdrew: 30\n",
        "print(account.get_balance())  # Output: 120\n"
      ],
      "metadata": {
        "id": "7rfY4g9qsBhD",
        "colab": {
          "base_uri": "https://localhost:8080/"
        },
        "outputId": "6978352b-3165-4d8e-f30b-2d24b8351554"
      },
      "execution_count": 6,
      "outputs": [
        {
          "output_type": "stream",
          "name": "stdout",
          "text": [
            "Deposited: 50\n",
            "Withdrew: 30\n",
            "120\n"
          ]
        }
      ]
    },
    {
      "cell_type": "markdown",
      "source": [
        "6. Demonstrate runtime polymorphism using a method play() in a base class instrument. Derive classes Guitar and Piano that implement their own version of play()"
      ],
      "metadata": {
        "id": "4R81I8IhsCGg"
      }
    },
    {
      "cell_type": "code",
      "source": [
        "class Instrument:\n",
        "    def play(self):\n",
        "        print(\"Playing an instrument.\")\n",
        "\n",
        "class Guitar(Instrument):\n",
        "    def play(self):\n",
        "        print(\"Strumming the guitar.\")\n",
        "\n",
        "class Piano(Instrument):\n",
        "    def play(self):\n",
        "        print(\"Playing the piano.\")\n",
        "\n",
        "instruments = [Guitar(), Piano()]\n",
        "for instrument in instruments:\n",
        "    instrument.play()\n",
        "# Output:\n",
        "# Strumming the guitar.\n",
        "# Playing the piano.\n"
      ],
      "metadata": {
        "id": "bsG6GdDusDft",
        "colab": {
          "base_uri": "https://localhost:8080/"
        },
        "outputId": "409a4153-8d6d-4d8c-986d-a18a850e5df3"
      },
      "execution_count": 7,
      "outputs": [
        {
          "output_type": "stream",
          "name": "stdout",
          "text": [
            "Strumming the guitar.\n",
            "Playing the piano.\n"
          ]
        }
      ]
    },
    {
      "cell_type": "markdown",
      "source": [
        "7. Create a class MathOperations with a class method add_numbers() to add two numbers and a static method subtract_numbers() to subtract two numbers."
      ],
      "metadata": {
        "id": "uLuXUyBPsD28"
      }
    },
    {
      "cell_type": "code",
      "source": [
        "class MathOperations:\n",
        "    @classmethod\n",
        "    def add_numbers(cls, a, b):\n",
        "        return a + b\n",
        "\n",
        "    @staticmethod\n",
        "    def subtract_numbers(a, b):\n",
        "        return a - b\n",
        "\n",
        "print(MathOperations.add_numbers(5, 3))     # Output: 8\n",
        "print(MathOperations.subtract_numbers(5, 3)) # Output: 2\n"
      ],
      "metadata": {
        "id": "TU-JU7I9sEWW",
        "colab": {
          "base_uri": "https://localhost:8080/"
        },
        "outputId": "3eeecdd7-96af-45e6-d479-cbf9c924172d"
      },
      "execution_count": 8,
      "outputs": [
        {
          "output_type": "stream",
          "name": "stdout",
          "text": [
            "8\n",
            "2\n"
          ]
        }
      ]
    },
    {
      "cell_type": "markdown",
      "source": [
        "8. Implement a class Person with a class method to count the total number of persons created."
      ],
      "metadata": {
        "id": "yT5H23KbsEtg"
      }
    },
    {
      "cell_type": "code",
      "source": [
        "class Person:\n",
        "    count = 0\n",
        "\n",
        "    def __init__(self, name):\n",
        "        self.name = name\n",
        "        Person.count += 1\n",
        "\n",
        "    @classmethod\n",
        "    def get_count(cls):\n",
        "        return cls.count\n",
        "\n",
        "p1 = Person('Alice')\n",
        "p2 = Person('Bob')\n",
        "print(Person.get_count())  # Output: 2\n"
      ],
      "metadata": {
        "id": "XUiTEuRLsFGA",
        "colab": {
          "base_uri": "https://localhost:8080/"
        },
        "outputId": "b37b85a1-3bc4-46a6-d4ea-adbce3b39d73"
      },
      "execution_count": 9,
      "outputs": [
        {
          "output_type": "stream",
          "name": "stdout",
          "text": [
            "2\n"
          ]
        }
      ]
    },
    {
      "cell_type": "markdown",
      "source": [
        "9. Write a class Fraction with attributes numerator and denominator. Override the str method to display the fraction as \"numerator/denominator\"."
      ],
      "metadata": {
        "id": "J_zatVbjsFds"
      }
    },
    {
      "cell_type": "code",
      "source": [
        "class Fraction:\n",
        "    def __init__(self, numerator, denominator):\n",
        "        self.numerator = numerator\n",
        "        self.denominator = denominator\n",
        "\n",
        "    def __str__(self):\n",
        "        return f\"{self.numerator}/{self.denominator}\"\n",
        "\n",
        "fraction = Fraction(3, 4)\n",
        "print(fraction)  # Output: 3/4\n"
      ],
      "metadata": {
        "id": "PVBv65SasGIF",
        "colab": {
          "base_uri": "https://localhost:8080/"
        },
        "outputId": "8e8a8725-aa4f-4c39-e2d8-9687b2dc26b0"
      },
      "execution_count": 10,
      "outputs": [
        {
          "output_type": "stream",
          "name": "stdout",
          "text": [
            "3/4\n"
          ]
        }
      ]
    },
    {
      "cell_type": "markdown",
      "source": [
        "10. Demonstrate operator overloading by creating a class Vector and overriding the add method to add two vectors."
      ],
      "metadata": {
        "id": "QPzR8FxosGhV"
      }
    },
    {
      "cell_type": "code",
      "source": [
        "class Vector:\n",
        "    def __init__(self, x, y):\n",
        "        self.x = x\n",
        "        self.y = y\n",
        "\n",
        "    def __add__(self, other):\n",
        "        return Vector(self.x + other.x, self.y + other.y)\n",
        "\n",
        "    def __str__(self):\n",
        "        return f\"Vector({self.x}, {self.y})\"\n",
        "\n",
        "v1 = Vector(2, 3)\n",
        "v2 = Vector(4, 5)\n",
        "v3 = v1 + v2\n",
        "print(v3)  # Output: Vector(6, 8)\n"
      ],
      "metadata": {
        "id": "nHLiKxbbuJLj",
        "colab": {
          "base_uri": "https://localhost:8080/"
        },
        "outputId": "4e369aa2-8607-4b09-81d7-8611729d892b"
      },
      "execution_count": 11,
      "outputs": [
        {
          "output_type": "stream",
          "name": "stdout",
          "text": [
            "Vector(6, 8)\n"
          ]
        }
      ]
    },
    {
      "cell_type": "markdown",
      "source": [
        "11. Create a class Person with attributes name and age. Add a method greet() that prints \"Hello, my name is (name) and i am (age) years old.\""
      ],
      "metadata": {
        "id": "QByzhhjuuJqP"
      }
    },
    {
      "cell_type": "code",
      "source": [
        "class Person:\n",
        "    def __init__(self, name, age):\n",
        "        self.name = name\n",
        "        self.age = age\n",
        "\n",
        "    def greet(self):\n",
        "        print(f\"Hello, my name is {self.name} and I am {self.age} years old.\")\n",
        "\n",
        "person = Person(\"Alice\", 30)\n",
        "person.greet()  # Output: Hello, my name is Alice and I am 30 years old.\n"
      ],
      "metadata": {
        "id": "JOT4TKcnuKH8",
        "colab": {
          "base_uri": "https://localhost:8080/"
        },
        "outputId": "8d808860-117e-4056-8c5e-d86a31c21120"
      },
      "execution_count": 12,
      "outputs": [
        {
          "output_type": "stream",
          "name": "stdout",
          "text": [
            "Hello, my name is Alice and I am 30 years old.\n"
          ]
        }
      ]
    },
    {
      "cell_type": "markdown",
      "source": [
        "12. Implement a class Student with attributes name and grades. Create a method average grade() to compute the average of the grades."
      ],
      "metadata": {
        "id": "KbKc4lqquKll"
      }
    },
    {
      "cell_type": "code",
      "source": [
        "class Student:\n",
        "    def __init__(self, name, grades):\n",
        "        self.name = name\n",
        "        self.grades = grades\n",
        "\n",
        "    def average_grade(self):\n",
        "        return sum(self.grades) / len(self.grades)\n",
        "\n",
        "student = Student(\"Bob\", [85, 90, 78, 92])\n",
        "print(student.average_grade())  # Output: 86.25\n"
      ],
      "metadata": {
        "id": "5PSRO319uLGH",
        "colab": {
          "base_uri": "https://localhost:8080/"
        },
        "outputId": "672d46b7-034c-4b34-f6c3-711b12dfa8da"
      },
      "execution_count": 13,
      "outputs": [
        {
          "output_type": "stream",
          "name": "stdout",
          "text": [
            "86.25\n"
          ]
        }
      ]
    },
    {
      "cell_type": "markdown",
      "source": [
        "13. Create a class Rectangle with methods set dimensions() to set the dimensions and area() to calculate the area."
      ],
      "metadata": {
        "id": "3OiUXrRFuLie"
      }
    },
    {
      "cell_type": "code",
      "source": [
        "class Rectangle:\n",
        "    def __init__(self):\n",
        "        self.length = 1\n",
        "        self.width = 1\n",
        "\n",
        "    def set_dimensions(self, length, width):\n",
        "        self.length = length\n",
        "        self.width = width\n",
        "\n",
        "    def area(self):\n",
        "        return self.length * self.width\n",
        "\n",
        "rect = Rectangle()\n",
        "rect.set_dimensions(4, 5)\n",
        "print(rect.area())  # Output: 20\n"
      ],
      "metadata": {
        "id": "SMnlAQFAuMLC",
        "colab": {
          "base_uri": "https://localhost:8080/"
        },
        "outputId": "b27e4ff7-c1a1-4b6d-a2bf-dcc7e51c30e8"
      },
      "execution_count": 14,
      "outputs": [
        {
          "output_type": "stream",
          "name": "stdout",
          "text": [
            "20\n"
          ]
        }
      ]
    },
    {
      "cell_type": "markdown",
      "source": [
        "14. Create a class Employee with a method calculate salary() that computes the salary based on hours worked and hourly rate. Create a derived class Manager that adds a bonus to the salary"
      ],
      "metadata": {
        "id": "cufqsstruMl3"
      }
    },
    {
      "cell_type": "code",
      "source": [
        "class Employee:\n",
        "    def __init__(self, name, hours_worked, hourly_rate):\n",
        "        self.name = name\n",
        "        self.hours_worked = hours_worked\n",
        "        self.hourly_rate = hourly_rate\n",
        "\n",
        "    def calculate_salary(self):\n",
        "        return self.hours_worked * self.hourly_rate\n",
        "\n",
        "class Manager(Employee):\n",
        "    def __init__(self, name, hours_worked, hourly_rate, bonus):\n",
        "        super().__init__(name, hours_worked, hourly_rate)\n",
        "        self.bonus = bonus\n",
        "\n",
        "    def calculate_salary(self):\n",
        "        base_salary = super().calculate_salary()\n",
        "        return base_salary + self.bonus\n",
        "\n",
        "employee = Employee(\"John\", 40, 20)\n",
        "print(employee.calculate_salary())  # Output: 800\n",
        "\n",
        "manager = Manager(\"Jane\", 40, 30, 500)\n",
        "print(manager.calculate_salary())  # Output: 1700\n"
      ],
      "metadata": {
        "id": "1lnBz4GAuNIN",
        "colab": {
          "base_uri": "https://localhost:8080/"
        },
        "outputId": "73b98803-b1a1-41f4-aa4a-22650e4b883d"
      },
      "execution_count": 15,
      "outputs": [
        {
          "output_type": "stream",
          "name": "stdout",
          "text": [
            "800\n",
            "1700\n"
          ]
        }
      ]
    }
  ]
}