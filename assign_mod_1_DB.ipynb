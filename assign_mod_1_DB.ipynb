{
  "nbformat": 4,
  "nbformat_minor": 0,
  "metadata": {
    "colab": {
      "provenance": []
    },
    "kernelspec": {
      "name": "python3",
      "display_name": "Python 3"
    },
    "language_info": {
      "name": "python"
    }
  },
  "cells": [
    {
      "cell_type": "markdown",
      "source": [
        "2. Explain the purpose of constraints and how they help maintain data integrity in a database. Provide\n",
        "examples of common types of constraints."
      ],
      "metadata": {
        "id": "MV7kh8DDxACd"
      }
    },
    {
      "cell_type": "markdown",
      "source": [
        "\n",
        "\n",
        "\n",
        "Explanation: Constraints enforce rules to maintain data integrity:\n",
        "\n",
        "* Primary Key: Ensures unique, non-null values (e.g., emp_id in employees).\n",
        "\n",
        "* Foreign Key: Ensures referential integrity (e.g., class_id in Students referencing Classes).\n",
        "* NOT NULL: Requires a value (e.g., emp_name in employees).\n",
        "* UNIQUE: Prevents duplicate values (e.g., email in employees).\n",
        "* CHECK: Enforces conditions (e.g., age >= 18 in employees).\n",
        "* DEFAULT: Sets default values (e.g., salary defaults to 30000).\n",
        "Constraints prevent invalid data, ensuring consistency and reliability."
      ],
      "metadata": {
        "id": "ZOyi0khHw-wB"
      }
    },
    {
      "cell_type": "markdown",
      "source": [
        "3. Why would you apply the NOT NULL constraint to a column? Can a primary key contain NULL values? Justify\n",
        "your answer."
      ],
      "metadata": {
        "id": "n2sdqHYJw-oF"
      }
    },
    {
      "cell_type": "markdown",
      "source": [
        "\n",
        "Explanation: NOT NULL ensures a column always has a value, critical for mandatory fields like emp_name. A primary key cannot contain NULL values because it must uniquely identify each row, and NULL is not a distinct value."
      ],
      "metadata": {
        "id": "AhD7IO-Yw-fm"
      }
    },
    {
      "cell_type": "markdown",
      "source": [
        "4. Explain the steps and SQL commands used to add or remove constraints on an existing table. Provide an\n",
        "example for both adding and removing a constraint."
      ],
      "metadata": {
        "id": "0ZORtxgiw-XL"
      }
    },
    {
      "cell_type": "markdown",
      "source": [
        "\n",
        "Explanation:\n",
        "\n",
        "* Add Constraint: Use ALTER TABLE ADD CONSTRAINT.\n",
        "\n",
        " Example: ALTER TABLE employees ADD CONSTRAINT chk_salary CHECK (salary >= 0);\n",
        "\n",
        "* Remove Constraint: Use ALTER TABLE DROP CONSTRAINT.\n",
        "\n",
        " Example: ALTER TABLE employees DROP CONSTRAINT chk_salary;"
      ],
      "metadata": {
        "id": "e5mdULquw-OJ"
      }
    },
    {
      "cell_type": "markdown",
      "source": [
        "5. Explain the consequences of attempting to insert, update, or delete data in a way that violates constraints.\n",
        "Provide an example of an error message that might occur when violating a constraint."
      ],
      "metadata": {
        "id": "rJyTOwqzw-Ed"
      }
    },
    {
      "cell_type": "markdown",
      "source": [
        "\\\n",
        "Explanation: Violating constraints (e.g., inserting duplicate emp_id, null emp_name, or age < 0) causes the database to reject the operation. Example error (PostgreSQL): ERROR: duplicate key value violates unique constraint \"employees_pkey\"."
      ],
      "metadata": {
        "id": "hzXLVjETw94n"
      }
    },
    {
      "cell_type": "markdown",
      "source": [
        "FOR Q1,6-10 REFER THE LINK:\n",
        "\n",
        "https://github.com/DM2ih/Python_data-structure/blob/main/sql1.sql"
      ],
      "metadata": {
        "id": "G5DzHi8nzgl1"
      }
    },
    {
      "cell_type": "markdown",
      "source": [
        "# **SQL COMMANDS QUESTIONS:**"
      ],
      "metadata": {
        "id": "V-llhV4Czgac"
      }
    },
    {
      "cell_type": "markdown",
      "source": [
        "https://github.com/DM2ih/Python_data-structure/blob/main/sql2.sql"
      ],
      "metadata": {
        "id": "nsNjUaJ1zgRf"
      }
    },
    {
      "cell_type": "markdown",
      "source": [
        "# **FUNCTIONS**"
      ],
      "metadata": {
        "id": "NnWkGO2KzgHj"
      }
    },
    {
      "cell_type": "markdown",
      "source": [
        "https://github.com/DM2ih/Python_data-structure/blob/main/SQL3.sql"
      ],
      "metadata": {
        "id": "LHQlv-Ffzf_p"
      }
    },
    {
      "cell_type": "markdown",
      "source": [
        "# **WINDOWS FUNCTIONS**"
      ],
      "metadata": {
        "id": "v-W0bI0ozf1b"
      }
    },
    {
      "cell_type": "markdown",
      "source": [
        "https://github.com/DM2ih/Python_data-structure/blob/main/SQL%204.sql"
      ],
      "metadata": {
        "id": "lJ_YduLdzfsL"
      }
    },
    {
      "cell_type": "markdown",
      "source": [
        "# **Page 9: Normalization & CTE**"
      ],
      "metadata": {
        "id": "vv3xABWtzfhz"
      }
    },
    {
      "cell_type": "markdown",
      "source": [
        " 1. First Normal Form (1NF):\n",
        "\n",
        "    a. Identify a table in the Sakila database that violates 1NF. Explain how youwould normalize it to achieve 1NF."
      ],
      "metadata": {
        "id": "xUWRjffOzfWZ"
      }
    },
    {
      "cell_type": "markdown",
      "source": [
        "\n",
        "Explanation: A table violates 1NF if it has repeating groups or non-atomic values. In Sakila, the film.special_features column (TEXT array or comma-separated string) may violate 1NF. To normalize:\n",
        "\n",
        "* Create a special_features table: film_id | feature.\n",
        "\n",
        "* Remove special_features from film."
      ],
      "metadata": {
        "id": "MYlzEkKWzfLQ"
      }
    },
    {
      "cell_type": "markdown",
      "source": [
        "2. Second Normal Form (2NF):\n",
        "    \n",
        "    a. Choose a table in Sakila and describe how you would determine whether it is in 2NF.\n",
        "    If it violates 2NF, explain the steps to normalize it."
      ],
      "metadata": {
        "id": "sfgQNeWJV3qM"
      }
    },
    {
      "cell_type": "markdown",
      "source": [
        "Explanation: A table violates 2NF if non-key attributes depend on part of a composite key. In Sakila, film_actor (keys: actor_id, film_id) is in 2NF since no non-key attributes exist. If it had, say, actor_name, it would violate 2NF. Normalize by moving actor_name to actor table."
      ],
      "metadata": {
        "id": "qORgvwnnV3gC"
      }
    },
    {
      "cell_type": "markdown",
      "source": [
        "3. Third Normal Form (3NF):\n",
        "\n",
        "   a. Identify a table in Sakila that violates 3NF. Describe the transitive dependencies\n",
        "    present and outline the steps to normalize the table to 3NF."
      ],
      "metadata": {
        "id": "wWf9XMMlV3Tq"
      }
    },
    {
      "cell_type": "markdown",
      "source": [
        "Explanation: A table violates 3NF if non-key attributes depend on other non-key attributes. In Sakila, customer may have address_id and store_id, but no transitive dependencies exist. If customer had store_city, it would violate 3NF. Normalize by moving store_city to store table."
      ],
      "metadata": {
        "id": "w1Jdjd3gV3KV"
      }
    },
    {
      "cell_type": "markdown",
      "source": [
        "4. Normalization Process:\n",
        "  \n",
        "  a. Take a specific table in Sakila and guide through the process of normalizing it from the initial  \n",
        "  unnormalized form up to at least 2NF."
      ],
      "metadata": {
        "id": "vLRIZukfV2-u"
      }
    },
    {
      "cell_type": "markdown",
      "source": [
        "Explanation: Take rental table. It’s already normalized, but if it included customer_name and store_city, normalize:\n",
        "\n",
        "* Move customer_name to customer table.\n",
        "\n",
        "* Move store_city to store table.\n",
        "* Keep rental with rental_id, customer_id, inventory_id, etc."
      ],
      "metadata": {
        "id": "AtAgNwegV21T"
      }
    },
    {
      "cell_type": "markdown",
      "source": [
        "for Q5-Q12 refer below link:"
      ],
      "metadata": {
        "id": "AX4Oc9QKV2sO"
      }
    },
    {
      "cell_type": "markdown",
      "source": [
        "https://github.com/DM2ih/Python_data-structure/blob/main/SQL%205.sql"
      ],
      "metadata": {
        "id": "ig57Gbf6V2P4"
      }
    }
  ]
}