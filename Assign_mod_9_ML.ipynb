{
  "nbformat": 4,
  "nbformat_minor": 0,
  "metadata": {
    "colab": {
      "provenance": [],
      "gpuType": "T4"
    },
    "kernelspec": {
      "name": "python3",
      "display_name": "Python 3"
    },
    "language_info": {
      "name": "python"
    },
    "accelerator": "GPU"
  },
  "cells": [
    {
      "cell_type": "markdown",
      "source": [
        "#THEORITICAL QUESTIONS"
      ],
      "metadata": {
        "id": "37bndaOJUDZv"
      }
    },
    {
      "cell_type": "markdown",
      "source": [
        "1. **Can we use Bagging for regression problems?**"
      ],
      "metadata": {
        "id": "GviaVeoeUDOc"
      }
    },
    {
      "cell_type": "markdown",
      "source": [
        "\n",
        "\n",
        "Yes, Bagging (Bootstrap Aggregating) can be used for regression problems. Bagging involves training multiple instances of a base model (e.g., decision trees) on different subsets of the training data, created via bootstrap sampling (random sampling with replacement). For regression, the predictions from each model are aggregated, typically by averaging, to produce the final output. This approach, known as a Bagging Regressor, reduces variance and helps improve model stability and accuracy compared to a single regressor. For example, scikit-learn’s BaggingRegressor can be used with base estimators like decision trees to handle regression tasks."
      ],
      "metadata": {
        "id": "ouTbk2pdUC8f"
      }
    },
    {
      "cell_type": "markdown",
      "source": [
        "2. **What is the difference between multiple model training and single model training?**"
      ],
      "metadata": {
        "id": "S-WPZC6cUCya"
      }
    },
    {
      "cell_type": "markdown",
      "source": [
        "\n",
        "\n",
        "* **Single Model Training:**  Involves training one model on the entire dataset to make predictions. For example, a single decision tree or linear regression model is trained to minimize a loss function. It is simpler and faster but can suffer from high variance (overfitting) or bias (underfitting) depending on the model’s complexity.\n",
        "\n",
        "* **Multiple Model Training:** Involves training multiple models, either independently or sequentially, to combine their predictions. This is common in ensemble methods like Bagging, Boosting, or Stacking. Multiple models reduce variance (e.g., Bagging) or bias (e.g., Boosting) by leveraging diversity among models. It is computationally more expensive but often yields better performance due to the aggregation of predictions."
      ],
      "metadata": {
        "id": "TZjiasa3UCoe"
      }
    },
    {
      "cell_type": "markdown",
      "source": [
        "3. **Explain the concept of feature randomness in Random Forest.**"
      ],
      "metadata": {
        "id": "ivwzYt0ZUCfH"
      }
    },
    {
      "cell_type": "markdown",
      "source": [
        "\n",
        "\n",
        "Feature randomness in Random Forest refers to the process of selecting a random subset of features (predictors) at each split when constructing a decision tree. Unlike a standard decision tree, which considers all features to find the best split, Random Forest limits the number of features considered at each node (e.g., max_features in scikit-learn, often set to sqrt(n_features) or log2(n_features)). This randomness:\n",
        "\n",
        "* Increases diversity among trees, reducing correlation between them.\n",
        "* Prevents overfitting by ensuring no single feature dominates all trees.\n",
        "* Improves generalization by exploring a wider range of feature combinations."
      ],
      "metadata": {
        "id": "qH-yIRcJUCWS"
      }
    },
    {
      "cell_type": "markdown",
      "source": [
        "4. **What is OOB (Out-of-Bag) Score?**"
      ],
      "metadata": {
        "id": "DnZ7r6_fUCMb"
      }
    },
    {
      "cell_type": "markdown",
      "source": [
        "\n",
        "\n",
        "The Out-of-Bag (OOB) Score is a performance metric used in Bagging and Random Forest models. In Bagging, each base model is trained on a bootstrap sample (a random subset of the data with replacement). On average, about 37% of the data (the \"out-of-bag\" samples) are not used in training any given model. These OOB samples act as a validation set. The OOB Score is computed by:\n",
        "\n",
        "* Predicting the output for each OOB sample using only the trees that did not include it in their training set.\n",
        "* Aggregating predictions (e.g., majority vote for classification, average for regression).\n",
        "* Comparing predictions to actual labels to calculate accuracy (classification) or error (regression). The OOB Score is a convenient, unbiased estimate of model performance without needing a separate validation set."
      ],
      "metadata": {
        "id": "NctDawTuUCDR"
      }
    },
    {
      "cell_type": "markdown",
      "source": [
        "5. **How can you measure the importance of features in a Random Forest model?**"
      ],
      "metadata": {
        "id": "FooFZHfMUB57"
      }
    },
    {
      "cell_type": "markdown",
      "source": [
        "\n",
        "\n",
        "Feature importance in Random Forest is typically measured using one of these methods:\n",
        "\n",
        "* **Mean Decrease in Impurity (MDI):** Each feature’s importance is calculated based on the total reduction in the impurity (e.g., Gini impurity for classification, variance for regression) it contributes across all splits in all trees. Features that reduce impurity more are considered more important.\n",
        "\n",
        "* **Mean Decrease in Accuracy (Permutation Importance):** The importance of a feature is assessed by shuffling its values and measuring the decrease in model accuracy on OOB samples or a validation set. A larger drop in accuracy indicates higher importance.\n",
        "\n",
        "* **Implementation:** In scikit-learn, feature_importances_ provides MDI-based scores, normalized to sum to 1. Permutation importance is available via sklearn.inspection.permutation_importance."
      ],
      "metadata": {
        "id": "p5oVmAh3UBwk"
      }
    },
    {
      "cell_type": "markdown",
      "source": [
        "6. **Explain the working principle of a Bagging Classifier.**"
      ],
      "metadata": {
        "id": "4yeABgKTUBn5"
      }
    },
    {
      "cell_type": "markdown",
      "source": [
        "\n",
        "\n",
        "A Bagging Classifier works by:\n",
        "\n",
        "1. **Bootstrap Sampling:** Generate multiple (e.g., n_estimators) bootstrap samples from the training data by sampling with replacement. Each sample is the same size as the original dataset but may contain duplicates or omit some data points.\n",
        "\n",
        "2. **Base Model Training:** Train a base classifier (e.g., decision tree) independently on each bootstrap sample. Each classifier learns slightly different patterns due to the variation in samples.\n",
        "\n",
        "3. **Prediction Aggregation:** For a new input, each classifier makes a prediction, and the final output is determined by majority voting (for classification). This reduces variance by averaging out errors from individual models.\n",
        "\n",
        "4. **Advantages:** Bagging reduces overfitting, especially for high-variance models like decision trees, by creating diverse models that collectively produce a more stable prediction."
      ],
      "metadata": {
        "id": "DSOl_vbzUBem"
      }
    },
    {
      "cell_type": "markdown",
      "source": [
        "7. How do you evaluate a Bagging Classifier’s performance?"
      ],
      "metadata": {
        "id": "4kANBM9YUBTq"
      }
    },
    {
      "cell_type": "markdown",
      "source": [
        "\n",
        "\n",
        "\n",
        "A Bagging Classifier’s performance can be evaluated using:\n",
        "\n",
        "* Accuracy: The proportion of correct predictions on a test set.\n",
        "Confusion Matrix: To analyze true positives, false positives, true negatives, and false negatives.\n",
        "\n",
        "* Precision, Recall, F1-Score: For imbalanced datasets, these metrics provide insights into performance on specific classes.\n",
        "\n",
        "* ROC-AUC Score: Measures the trade-off between true positive rate and false positive rate, suitable for binary classification.\n",
        "\n",
        "* Cross-Validation: Use k-fold cross-validation to assess generalization by splitting data into k subsets and training/testing multiple times.\n",
        "OOB Score: If available, use the OOB score as an internal validation metric without needing a separate test set."
      ],
      "metadata": {
        "id": "ln8lPtB2UBKB"
      }
    },
    {
      "cell_type": "markdown",
      "source": [
        "8. How does a Bagging Regressor work?"
      ],
      "metadata": {
        "id": "2BXO__zJUBAd"
      }
    },
    {
      "cell_type": "markdown",
      "source": [
        "\n",
        "\n",
        "A Bagging Regressor works similarly to a Bagging Classifier but for regression tasks:\n",
        "\n",
        "1. Bootstrap Sampling: Generate multiple bootstrap samples from the training data.\n",
        "\n",
        "2. Base Model Training: Train a base regressor (e.g., decision tree) on each bootstrap sample.\n",
        "\n",
        "3. Prediction Aggregation: For a new input, each regressor predicts a continuous value, and the final prediction is the average (or weighted average) of all predictions.\n",
        "\n",
        "4. Purpose: Reduces variance and improves robustness by averaging predictions, making it effective for noisy or complex datasets."
      ],
      "metadata": {
        "id": "EP4PSDHdUA31"
      }
    },
    {
      "cell_type": "markdown",
      "source": [
        "9. What is the main advantage of ensemble techniques?"
      ],
      "metadata": {
        "id": "C2HSEkT7UAu_"
      }
    },
    {
      "cell_type": "markdown",
      "source": [
        "\n",
        "\n",
        "The main advantage of ensemble techniques is improved predictive performance by combining multiple models to reduce errors. Specifically:\n",
        "\n",
        "* Reduced Variance: Bagging and Random Forest reduce overfitting by averaging predictions from diverse models.\n",
        "\n",
        "* Reduced Bias: Boosting focuses on correcting errors of weak learners, improving overall accuracy.\n",
        "\n",
        "* Robustness: Ensembles are less sensitive to noise and outliers due to aggregation.\n",
        "\n",
        "* Versatility: Applicable to both classification and regression tasks across various domains."
      ],
      "metadata": {
        "id": "bfP2YL05UAl6"
      }
    },
    {
      "cell_type": "markdown",
      "source": [
        "10. What is the main challenge of ensemble methods?"
      ],
      "metadata": {
        "id": "4E-MlfSUUAdR"
      }
    },
    {
      "cell_type": "markdown",
      "source": [
        "\n",
        "\n",
        "The main challenge of ensemble methods is:\n",
        "\n",
        "* Computational Complexity: Training multiple models increases computational cost and memory usage, making ensembles slower and more resource-intensive than single models.\n",
        "\n",
        "* Interpretability: Ensembles, especially Random Forest or Boosting, are less interpretable than single models like decision trees or linear regression.\n",
        "\n",
        "* Tuning Complexity: Ensembles have multiple hyperparameters (e.g., number of estimators, learning rate) that require careful tuning.\n",
        "\n",
        "* Risk of Overfitting: If not properly regularized (e.g., too many trees or improper boosting), ensembles can overfit, especially on small datasets."
      ],
      "metadata": {
        "id": "m8CAPpYKUATr"
      }
    },
    {
      "cell_type": "markdown",
      "source": [
        "11. Explain the key idea behind ensemble techniques."
      ],
      "metadata": {
        "id": "D67UDH1RUAKd"
      }
    },
    {
      "cell_type": "markdown",
      "source": [
        "\n",
        "\n",
        "The key idea behind ensemble techniques is to combine predictions from multiple models to achieve better performance than any single model. By leveraging diversity among models (e.g., through different training data subsets, feature subsets, or algorithms), ensembles reduce errors from bias, variance, or noise. Common approaches include:\n",
        "\n",
        "* Bagging: Reduces variance by averaging predictions from models trained on different data subsets.\n",
        "\n",
        "* Boosting: Reduces bias by sequentially training models to focus on errors of previous models.\n",
        "\n",
        "* Stacking: Combines predictions from different model types using a meta-learner."
      ],
      "metadata": {
        "id": "p2fPVOczUAA5"
      }
    },
    {
      "cell_type": "markdown",
      "source": [
        "12. What is a Random Forest Classifier?"
      ],
      "metadata": {
        "id": "f95opwvGT_ot"
      }
    },
    {
      "cell_type": "markdown",
      "source": [
        "\n",
        "\n",
        "A Random Forest Classifier is an ensemble method that combines multiple decision trees to perform classification tasks. It works by:\n",
        "\n",
        "1. Creating bootstrap samples of the training data.\n",
        "\n",
        "2. Training a decision tree on each sample, with feature randomness (random subset of features at each split).\n",
        "\n",
        "3. Aggregating predictions via majority voting to determine the final class. It improves upon single decision trees by reducing overfitting, handling high-dimensional data, and providing robust predictions. Scikit-learn’s RandomForestClassifier is a common implementation."
      ],
      "metadata": {
        "id": "cAlETJ4sT_em"
      }
    },
    {
      "cell_type": "markdown",
      "source": [
        "13. What are the main types of ensemble techniques?"
      ],
      "metadata": {
        "id": "BgE3IY6UT_VN"
      }
    },
    {
      "cell_type": "markdown",
      "source": [
        "\n",
        "\n",
        "The main types of ensemble techniques are:\n",
        "\n",
        "* Bagging (Bootstrap Aggregating): Trains multiple models on bootstrap samples and aggregates predictions (e.g., Random Forest).\n",
        "\n",
        "* Boosting: Sequentially trains models, with each model focusing on correcting errors of the previous ones (e.g., AdaBoost, Gradient Boosting, XGBoost).\n",
        "\n",
        "* Stacking: Trains multiple diverse models and uses a meta-learner (e.g., logistic regression) to combine their predictions.\n",
        "\n",
        "* Voting: Combines predictions from different model types using majority voting (classification) or averaging (regression)."
      ],
      "metadata": {
        "id": "nPPFmMWST_L3"
      }
    },
    {
      "cell_type": "markdown",
      "source": [
        "14. What is ensemble learning in machine learning?"
      ],
      "metadata": {
        "id": "baRjIPfVT_Bo"
      }
    },
    {
      "cell_type": "markdown",
      "source": [
        "\n",
        "\n",
        "Ensemble learning is a machine learning paradigm where multiple models (base learners) are trained and combined to solve a predictive task. The goal is to improve accuracy, robustness, and generalization by leveraging the strengths of individual models. Ensemble methods work by:\n",
        "\n",
        "* Reducing variance (e.g., Bagging).\n",
        "* Reducing bias (e.g., Boosting).\n",
        "* Combining diverse models (e.g., Stacking). Examples include Random Forest, Gradient Boosting, and AdaBoost."
      ],
      "metadata": {
        "id": "ktHklyH4T-4Z"
      }
    },
    {
      "cell_type": "markdown",
      "source": [
        "15. When should we avoid using ensemble methods?"
      ],
      "metadata": {
        "id": "PvKltHR5T-uX"
      }
    },
    {
      "cell_type": "markdown",
      "source": [
        "\n",
        "\n",
        "Ensemble methods should be avoided when:\n",
        "\n",
        "* Computational Resources Are Limited: Ensembles are resource-intensive, making them impractical for real-time or resource-constrained applications.\n",
        "\n",
        "* Interpretability Is Critical: Ensembles are harder to interpret than single models like linear regression or decision trees.\n",
        "\n",
        "* Small Datasets: With limited data, ensembles may overfit or fail to provide significant improvements over simpler models.\n",
        "\n",
        "* Simple Problems: For linearly separable or low-complexity problems, simpler models may perform just as well with less complexity.\n",
        "\n",
        "* Time Constraints: Training and tuning ensembles can be time-consuming."
      ],
      "metadata": {
        "id": "D7_u6sr_T-kp"
      }
    },
    {
      "cell_type": "markdown",
      "source": [
        "16. How does Bagging help in reducing overfitting?"
      ],
      "metadata": {
        "id": "Y8u8d9p8T-ao"
      }
    },
    {
      "cell_type": "markdown",
      "source": [
        "\n",
        "\n",
        "Bagging reduces overfitting by:\n",
        "\n",
        "* Reducing Variance: Training multiple models on different bootstrap samples creates diversity, so errors from individual models (e.g., overfitting in decision trees) are averaged out during aggregation.\n",
        "\n",
        "* Stabilizing Predictions: By combining predictions (e.g., majority voting or averaging), Bagging smooths out erratic predictions from high-variance models.\n",
        "\n",
        "* Robustness to Noise: Bootstrap sampling ensures models are exposed to varied data subsets, making them less sensitive to outliers or noise in the training data."
      ],
      "metadata": {
        "id": "My3lqSi8T-RB"
      }
    },
    {
      "cell_type": "markdown",
      "source": [
        "17. Why is Random Forest better than a single Decision Tree?"
      ],
      "metadata": {
        "id": "rBGIrOg4T-Hb"
      }
    },
    {
      "cell_type": "markdown",
      "source": [
        "\n",
        "\n",
        "Random Forest is better than a single Decision Tree because:\n",
        "\n",
        "* Lower Variance: Random Forest averages predictions from multiple trees, reducing overfitting compared to a single tree, which can fit noise in the data.\n",
        "\n",
        "* Feature Randomness: By selecting random subsets of features at each split, Random Forest ensures diversity among trees, improving generalization.\n",
        "\n",
        "* Robustness: It handles noisy data and outliers better due to aggregation.\n",
        "\n",
        "* Feature Importance: Random Forest provides insights into feature importance, unlike a single tree.\n",
        "\n",
        "* Scalability: It performs well on high-dimensional and large datasets."
      ],
      "metadata": {
        "id": "E5lm_OCBT99i"
      }
    },
    {
      "cell_type": "markdown",
      "source": [
        "18. What is the role of bootstrap sampling in Bagging?"
      ],
      "metadata": {
        "id": "6kZQb5t3T90e"
      }
    },
    {
      "cell_type": "markdown",
      "source": [
        "\n",
        "\n",
        "Bootstrap sampling is the core mechanism of Bagging. It involves:\n",
        "\n",
        "* Randomly selecting subsets of the training data with replacement, where each subset is the same size as the original dataset.\n",
        "\n",
        "* Training each base model on a different bootstrap sample, creating diversity among models.\n",
        "\n",
        "* Enabling OOB evaluation, as some data points are left out of each sample. This process reduces variance by ensuring models learn different aspects of the data, and aggregation (e.g., voting or averaging) produces a more stable and accurate prediction."
      ],
      "metadata": {
        "id": "_PXVqXuKT9s1"
      }
    },
    {
      "cell_type": "markdown",
      "source": [
        "19. What are some real-world applications of ensemble techniques?\n"
      ],
      "metadata": {
        "id": "Kh9N0rjET71h"
      }
    },
    {
      "cell_type": "markdown",
      "source": [
        "\n",
        "\n",
        "Real-world applications of ensemble techniques include:\n",
        "\n",
        "* Finance: Credit risk assessment, fraud detection (e.g., Random Forest for anomaly detection).\n",
        "\n",
        "* Healthcare: Disease diagnosis (e.g., Random Forest on medical imaging or patient data).\n",
        "\n",
        "* Marketing: Customer segmentation, churn prediction (e.g., Gradient Boosting for predicting customer behavior).\n",
        "\n",
        "* Natural Language Processing: Sentiment analysis, text classification (e.g., ensemble of classifiers).\n",
        "\n",
        "* Image Recognition: Object detection, facial recognition (e.g., Stacking for combining CNNs).\n",
        "\n",
        "* Weather Forecasting: Predicting rainfall or temperature (e.g., Bagging Regressor for time-series data)."
      ],
      "metadata": {
        "id": "AK09zBWdTzAp"
      }
    },
    {
      "cell_type": "markdown",
      "source": [
        "20. What is the difference between Bagging and Boosting?"
      ],
      "metadata": {
        "id": "yrTrhLjVTyoL"
      }
    },
    {
      "cell_type": "markdown",
      "source": [
        "\n",
        "\n",
        "**Bagging:**\n",
        "* Trains multiple models independently on bootstrap samples.\n",
        "* Aggregates predictions via majority voting (classification) or averaging (regression).\n",
        "* Reduces variance, suitable for high-variance models like decision trees.\n",
        "* Example: Random Forest.\n",
        "* Parallelizable, as models are trained independently.\n",
        "\n",
        "**Boosting:**\n",
        "* Trains models sequentially, with each model focusing on correcting errors of the previous ones by assigning higher weights to misclassified samples.\n",
        "* Aggregates predictions using weighted voting or averaging.\n",
        "* Reduces bias, suitable for weak learners (e.g., shallow trees).\n",
        "* Example: AdaBoost, Gradient Boosting, XGBoost.\n",
        "* Not parallelizable, as models depend on previous ones."
      ],
      "metadata": {
        "id": "g9qdj97RTyct"
      }
    },
    {
      "cell_type": "markdown",
      "source": [
        "#PRACTICAL QUESTIONS\n"
      ],
      "metadata": {
        "id": "nrXuV8BZTyEx"
      }
    },
    {
      "cell_type": "markdown",
      "source": [
        "21. Train a Bagging Classifier using Decision Trees on a sample dataset and print model accuracy."
      ],
      "metadata": {
        "id": "d4jIkSTUeeVb"
      }
    },
    {
      "cell_type": "code",
      "source": [
        "from sklearn.datasets import load_wine\n",
        "from sklearn.model_selection import train_test_split\n",
        "from sklearn.ensemble import BaggingClassifier\n",
        "from sklearn.tree import DecisionTreeClassifier\n",
        "from sklearn.metrics import accuracy_score\n",
        "\n",
        "X, y = load_wine(return_X_y=True)\n",
        "X_train, X_test, y_train, y_test = train_test_split(X, y, test_size=0.25, random_state=22)\n",
        "\n",
        "bag = BaggingClassifier(estimator=DecisionTreeClassifier(), n_estimators=10, random_state=22)\n",
        "bag.fit(X_train, y_train)\n",
        "print(\"Accuracy:\", accuracy_score(y_test, bag.predict(X_test)))"
      ],
      "metadata": {
        "colab": {
          "base_uri": "https://localhost:8080/"
        },
        "id": "-hXfKGPSeeA5",
        "outputId": "e20481ae-1fca-4604-da31-99f873f8e591"
      },
      "execution_count": 4,
      "outputs": [
        {
          "output_type": "stream",
          "name": "stdout",
          "text": [
            "Accuracy: 0.9555555555555556\n"
          ]
        }
      ]
    },
    {
      "cell_type": "markdown",
      "source": [
        "22. Train a Bagging Regressor using Decision Trees and evaluate using Mean Squared Error (MSE)."
      ],
      "metadata": {
        "id": "i4GKBCwdedu8"
      }
    },
    {
      "cell_type": "code",
      "source": [
        "from sklearn.datasets import fetch_california_housing\n",
        "from sklearn.ensemble import BaggingRegressor\n",
        "from sklearn.tree import DecisionTreeRegressor\n",
        "from sklearn.metrics import mean_squared_error\n",
        "from sklearn.model_selection import train_test_split\n",
        "\n",
        "X, y = fetch_california_housing(return_X_y=True)\n",
        "X_train, X_test, y_train, y_test = train_test_split(X, y, random_state=0)\n",
        "\n",
        "br = BaggingRegressor(estimator=DecisionTreeRegressor(), n_estimators=20, random_state=0)\n",
        "br.fit(X_train, y_train)\n",
        "print(\"MSE:\", mean_squared_error(y_test, br.predict(X_test)))"
      ],
      "metadata": {
        "colab": {
          "base_uri": "https://localhost:8080/"
        },
        "id": "3qeDGfTOeddh",
        "outputId": "78ebffe1-4a05-4d49-903a-8e8e9f9af1ed"
      },
      "execution_count": 5,
      "outputs": [
        {
          "output_type": "stream",
          "name": "stdout",
          "text": [
            "MSE: 0.2859019408131398\n"
          ]
        }
      ]
    },
    {
      "cell_type": "markdown",
      "source": [
        "23. Train a Random Forest Classifier on the Breast Cancer dataset and print feature importance scores."
      ],
      "metadata": {
        "id": "AQTqEKQ3edLk"
      }
    },
    {
      "cell_type": "code",
      "source": [
        "from sklearn.datasets import load_breast_cancer\n",
        "from sklearn.ensemble import RandomForestClassifier\n",
        "from sklearn.model_selection import train_test_split\n",
        "\n",
        "X, y = load_breast_cancer(return_X_y=True)\n",
        "X_train, X_test, y_train, y_test = train_test_split(X, y, random_state=42)\n",
        "\n",
        "rf = RandomForestClassifier(n_estimators=100, random_state=42)\n",
        "rf.fit(X_train, y_train)\n",
        "importances = rf.feature_importances_\n",
        "print(importances)\n"
      ],
      "metadata": {
        "colab": {
          "base_uri": "https://localhost:8080/"
        },
        "id": "ocFZaCLMec3u",
        "outputId": "3ba0d59d-cf60-4a76-f91d-3019a5ab10c5"
      },
      "execution_count": 6,
      "outputs": [
        {
          "output_type": "stream",
          "name": "stdout",
          "text": [
            "[0.03971058 0.01460399 0.05314639 0.04277978 0.00816485 0.01140166\n",
            " 0.08321459 0.0902992  0.00443533 0.00443395 0.01951684 0.00459978\n",
            " 0.00868228 0.04355077 0.00464415 0.0036549  0.00701442 0.00504716\n",
            " 0.00371411 0.00658253 0.08127686 0.01649014 0.07138828 0.12319232\n",
            " 0.01033481 0.01580059 0.03174022 0.17229521 0.01310266 0.00518165]\n"
          ]
        }
      ]
    },
    {
      "cell_type": "markdown",
      "source": [
        "\n",
        "24. Train a Random Forest Regressor and compare its performance with a single Decision Tree."
      ],
      "metadata": {
        "id": "bJbXZwMUeclz"
      }
    },
    {
      "cell_type": "code",
      "source": [
        "from sklearn.datasets import fetch_california_housing\n",
        "from sklearn.tree import DecisionTreeRegressor\n",
        "from sklearn.ensemble import RandomForestRegressor\n",
        "from sklearn.metrics import mean_squared_error\n",
        "from sklearn.model_selection import train_test_split\n",
        "\n",
        "X, y = fetch_california_housing(return_X_y=True)\n",
        "X_train, X_test, y_train, y_test = train_test_split(X, y, random_state=0)\n",
        "\n",
        "dt = DecisionTreeRegressor(random_state=0).fit(X_train, y_train)\n",
        "rf = RandomForestRegressor(n_estimators=100, random_state=0).fit(X_train, y_train)\n",
        "\n",
        "print(\"DT MSE:\", mean_squared_error(y_test, dt.predict(X_test)))\n",
        "print(\"RF MSE:\", mean_squared_error(y_test, rf.predict(X_test)))"
      ],
      "metadata": {
        "colab": {
          "base_uri": "https://localhost:8080/"
        },
        "id": "YA8bHjWQecRj",
        "outputId": "2d263510-c283-46c4-abdb-e192d4c02792"
      },
      "execution_count": 7,
      "outputs": [
        {
          "output_type": "stream",
          "name": "stdout",
          "text": [
            "DT MSE: 0.5501739317092635\n",
            "RF MSE: 0.27207938818489935\n"
          ]
        }
      ]
    },
    {
      "cell_type": "markdown",
      "source": [
        "25. Compute the Out-of-Bag (OOB) Score for a Random Forest Classifier."
      ],
      "metadata": {
        "id": "sUZf1j1Veb-w"
      }
    },
    {
      "cell_type": "code",
      "source": [
        "from sklearn.datasets import fetch_california_housing\n",
        "from sklearn.ensemble import RandomForestRegressor # Changed to Regressor\n",
        "from sklearn.model_selection import train_test_split\n",
        "from sklearn.metrics import mean_squared_error # Added for evaluation\n",
        "\n",
        "X, y = fetch_california_housing(return_X_y=True)\n",
        "X_train, X_test, y_train, y_test = train_test_split(X, y, random_state=42)\n",
        "\n",
        "rf_oob = RandomForestRegressor(n_estimators=100, oob_score=True, random_state=42)\n",
        "rf_oob.fit(X_train, y_train)\n",
        "print(\"OOB Score:\", rf_oob.oob_score_)\n",
        "\n",
        "# Optional: Evaluate on the test set as well\n",
        "# print(\"Test MSE:\", mean_squared_error(y_test, rf_oob.predict(X_test)))"
      ],
      "metadata": {
        "colab": {
          "base_uri": "https://localhost:8080/"
        },
        "id": "mFOy4iYzebsl",
        "outputId": "1fbc54c9-2d59-4596-d600-0812de2eabea"
      },
      "execution_count": 8,
      "outputs": [
        {
          "output_type": "stream",
          "name": "stdout",
          "text": [
            "OOB Score: 0.8035286949244751\n"
          ]
        }
      ]
    },
    {
      "cell_type": "markdown",
      "source": [
        "26. Train a Bagging Classifier using SVM as a base estimator and print accuracy."
      ],
      "metadata": {
        "id": "3V0dKiAcebZE"
      }
    },
    {
      "cell_type": "code",
      "source": [
        "from sklearn.svm import SVC\n",
        "from sklearn.ensemble import BaggingClassifier\n",
        "from sklearn.metrics import accuracy_score\n",
        "from sklearn.model_selection import train_test_split\n",
        "from sklearn.datasets import load_breast_cancer # Added import for breast cancer dataset\n",
        "\n",
        "X, y = load_breast_cancer(return_X_y=True) # Loaded breast cancer dataset\n",
        "X_train, X_test, y_train, y_test = train_test_split(X, y, random_state=42) # Split data\n",
        "\n",
        "bag_svm = BaggingClassifier(estimator=SVC(), n_estimators=10, random_state=0)\n",
        "bag_svm.fit(X_train, y_train)\n",
        "print(\"Accuracy:\", accuracy_score(y_test, bag_svm.predict(X_test)))"
      ],
      "metadata": {
        "colab": {
          "base_uri": "https://localhost:8080/"
        },
        "id": "-xVgVsn_ebGC",
        "outputId": "aa277c2f-0384-4f5c-f37b-0ec50fae477f"
      },
      "execution_count": 9,
      "outputs": [
        {
          "output_type": "stream",
          "name": "stdout",
          "text": [
            "Accuracy: 0.9440559440559441\n"
          ]
        }
      ]
    },
    {
      "cell_type": "markdown",
      "source": [
        "27. Train a Random Forest Classifier with different numbers of trees and compare accuracy."
      ],
      "metadata": {
        "id": "etidgOkoeaxd"
      }
    },
    {
      "cell_type": "code",
      "source": [
        "for n in [10, 50, 100, 200]:\n",
        "    rf = RandomForestClassifier(n_estimators=n, random_state=0)\n",
        "    rf.fit(X_train, y_train)\n",
        "    print(f\"{n} trees → Accuracy:\", accuracy_score(y_test, rf.predict(X_test)))\n"
      ],
      "metadata": {
        "colab": {
          "base_uri": "https://localhost:8080/"
        },
        "id": "d4p9QFlUeacq",
        "outputId": "c53fa366-f1c0-431c-8e5a-0e88efb0ac31"
      },
      "execution_count": 10,
      "outputs": [
        {
          "output_type": "stream",
          "name": "stdout",
          "text": [
            "10 trees → Accuracy: 0.951048951048951\n",
            "50 trees → Accuracy: 0.965034965034965\n",
            "100 trees → Accuracy: 0.972027972027972\n",
            "200 trees → Accuracy: 0.972027972027972\n"
          ]
        }
      ]
    },
    {
      "cell_type": "markdown",
      "source": [
        "\n",
        "28. Train a Bagging Classifier using Logistic Regression as a base estimator and print AUC score."
      ],
      "metadata": {
        "id": "cYc8ioi_eWqw"
      }
    },
    {
      "cell_type": "code",
      "source": [
        "from sklearn.ensemble import BaggingClassifier\n",
        "from sklearn.linear_model import LogisticRegression\n",
        "from sklearn.datasets import make_classification\n",
        "from sklearn.model_selection import train_test_split\n",
        "from sklearn.metrics import roc_auc_score\n",
        "\n",
        "# Generate a synthetic binary classification dataset\n",
        "X, y = make_classification(n_samples=1000, n_features=20, n_classes=2, random_state=42)\n",
        "\n",
        "# Split the dataset\n",
        "X_train, X_test, y_train, y_test = train_test_split(X, y, test_size=0.2, random_state=42)\n",
        "\n",
        "# Initialize Logistic Regression as base estimator\n",
        "base_estimator = LogisticRegression(random_state=42)\n",
        "\n",
        "# Initialize Bagging Classifier\n",
        "bagging_clf = BaggingClassifier(estimator=base_estimator,\n",
        "                               n_estimators=10,\n",
        "                               random_state=42)\n",
        "\n",
        "# Train the model\n",
        "bagging_clf.fit(X_train, y_train)\n",
        "\n",
        "# Predict probabilities for AUC calculation\n",
        "y_pred_proba = bagging_clf.predict_proba(X_test)[:, 1]\n",
        "\n",
        "# Calculate AUC score\n",
        "auc_score = roc_auc_score(y_test, y_pred_proba)\n",
        "\n",
        "print(f\"AUC Score: {auc_score:.4f}\")"
      ],
      "metadata": {
        "colab": {
          "base_uri": "https://localhost:8080/"
        },
        "id": "Jt4_0T6UeWZV",
        "outputId": "1db4aaa0-2f82-4a62-9ea6-19c822b860d5"
      },
      "execution_count": 11,
      "outputs": [
        {
          "output_type": "stream",
          "name": "stdout",
          "text": [
            "AUC Score: 0.9225\n"
          ]
        }
      ]
    },
    {
      "cell_type": "markdown",
      "source": [
        "29. Train a Random Forest Regressor and analyze feature importance scores."
      ],
      "metadata": {
        "id": "fhiH0JUMeWEr"
      }
    },
    {
      "cell_type": "code",
      "source": [
        "rf_reg = RandomForestRegressor(n_estimators=100, random_state=0)\n",
        "rf_reg.fit(X_train, y_train)\n",
        "print(\"Feature importances:\", rf_reg.feature_importances_)\n"
      ],
      "metadata": {
        "colab": {
          "base_uri": "https://localhost:8080/"
        },
        "id": "AmOKB_PdeVgE",
        "outputId": "351038b7-d559-40ee-ed15-1748e21d0bf9"
      },
      "execution_count": 12,
      "outputs": [
        {
          "output_type": "stream",
          "name": "stdout",
          "text": [
            "Feature importances: [0.00806702 0.01325913 0.01298161 0.01225561 0.00908718 0.62168603\n",
            " 0.0153898  0.01252494 0.01398847 0.01194213 0.00943164 0.0220119\n",
            " 0.0148552  0.01277904 0.12969391 0.01520658 0.01518339 0.01360912\n",
            " 0.02271488 0.01333243]\n"
          ]
        }
      ]
    },
    {
      "cell_type": "markdown",
      "source": [
        "30. Train an ensemble model using both Bagging and Random Forest and compare accuracy."
      ],
      "metadata": {
        "id": "iGIJV8t6eXe0"
      }
    },
    {
      "cell_type": "code",
      "source": [
        "from sklearn.datasets import load_breast_cancer # Added import for breast cancer dataset\n",
        "from sklearn.tree import DecisionTreeClassifier\n",
        "from sklearn.ensemble import BaggingClassifier\n",
        "from sklearn.ensemble import RandomForestClassifier\n",
        "from sklearn.model_selection import train_test_split\n",
        "from sklearn.metrics import accuracy_score\n",
        "\n",
        "X, y = load_breast_cancer(return_X_y=True) # Loaded breast cancer dataset\n",
        "X_train, X_test, y_train, y_test = train_test_split(X, y, random_state=42) # Split data\n",
        "\n",
        "\n",
        "bag = BaggingClassifier(estimator=DecisionTreeClassifier(), n_estimators=10, random_state=0)\n",
        "bag.fit(X_train, y_train)\n",
        "acc_bag = accuracy_score(y_test, bag.predict(X_test))\n",
        "\n",
        "rf = RandomForestClassifier(n_estimators=100, random_state=0)\n",
        "rf.fit(X_train, y_train)\n",
        "acc_rf = accuracy_score(y_test, rf.predict(X_test))\n",
        "\n",
        "print(\"Bagging Acc:\", acc_bag)\n",
        "print(\"Random Forest Acc:\", acc_rf)"
      ],
      "metadata": {
        "colab": {
          "base_uri": "https://localhost:8080/"
        },
        "id": "H4FcBDJ7eVar",
        "outputId": "39f974e5-1dd0-4616-9d20-e1b0b2f98f0b"
      },
      "execution_count": 13,
      "outputs": [
        {
          "output_type": "stream",
          "name": "stdout",
          "text": [
            "Bagging Acc: 0.9440559440559441\n",
            "Random Forest Acc: 0.972027972027972\n"
          ]
        }
      ]
    },
    {
      "cell_type": "markdown",
      "source": [
        "31. Train a Random Forest Classifier and tune hyperparameters using GridSearchCV."
      ],
      "metadata": {
        "id": "k94kU4naeVKL"
      }
    },
    {
      "cell_type": "code",
      "source": [
        "from sklearn.ensemble import RandomForestClassifier\n",
        "from sklearn.model_selection import GridSearchCV, train_test_split\n",
        "from sklearn.datasets import load_wine\n",
        "from sklearn.metrics import accuracy_score\n",
        "\n",
        "X, y = load_wine(return_X_y=True)\n",
        "X_train, X_test, y_train, y_test = train_test_split(X, y, random_state=0)\n",
        "param_grid = {\n",
        "  'n_estimators':[50,100],\n",
        "  'max_depth':[None,10],\n",
        "  'min_samples_split':[2,5]\n",
        "}\n",
        "grid = GridSearchCV(RandomForestClassifier(random_state=0),\n",
        "                    param_grid, cv=5, scoring='accuracy')\n",
        "grid.fit(X_train, y_train)\n",
        "print(\"Best params:\", grid.best_params_)\n",
        "print(\"Test accuracy:\", accuracy_score(y_test, grid.predict(X_test)))\n"
      ],
      "metadata": {
        "colab": {
          "base_uri": "https://localhost:8080/"
        },
        "id": "UiHZ5HhkeU3v",
        "outputId": "05516dd4-f960-4833-84e0-163a77855800"
      },
      "execution_count": 14,
      "outputs": [
        {
          "output_type": "stream",
          "name": "stdout",
          "text": [
            "Best params: {'max_depth': None, 'min_samples_split': 2, 'n_estimators': 50}\n",
            "Test accuracy: 0.9777777777777777\n"
          ]
        }
      ]
    },
    {
      "cell_type": "markdown",
      "source": [
        "32. Train a Bagging Regressor with different numbers of base estimators and compare performance."
      ],
      "metadata": {
        "id": "FNMY4jaleUkd"
      }
    },
    {
      "cell_type": "code",
      "source": [
        "from sklearn.ensemble import BaggingRegressor\n",
        "from sklearn.tree import DecisionTreeRegressor\n",
        "from sklearn.datasets import fetch_california_housing # Changed to fetch_california_housing\n",
        "from sklearn.model_selection import train_test_split\n",
        "from sklearn.metrics import mean_squared_error\n",
        "\n",
        "X, y = fetch_california_housing(return_X_y=True) # Changed to fetch_california_housing\n",
        "X_train,X_test,y_train,y_test = train_test_split(X, y, random_state=0)\n",
        "for n in [5,10,20,50]:\n",
        "    br = BaggingRegressor(estimator=DecisionTreeRegressor(), n_estimators=n, random_state=0) # Changed base_estimator to estimator\n",
        "    br.fit(X_train,y_train)\n",
        "    print(n, \"estimators → MSE:\", mean_squared_error(y_test, br.predict(X_test)))"
      ],
      "metadata": {
        "colab": {
          "base_uri": "https://localhost:8080/"
        },
        "id": "P9ezyvFCeUTB",
        "outputId": "2c3952a5-7a68-4b34-dbb3-9eb41b8fa3ca"
      },
      "execution_count": 15,
      "outputs": [
        {
          "output_type": "stream",
          "name": "stdout",
          "text": [
            "5 estimators → MSE: 0.32236267968842397\n",
            "10 estimators → MSE: 0.29663228165878797\n",
            "20 estimators → MSE: 0.2859019408131398\n",
            "50 estimators → MSE: 0.27600734442616565\n"
          ]
        }
      ]
    },
    {
      "cell_type": "markdown",
      "source": [
        "33. Train a Random Forest Classifier and analyze misclassified samples."
      ],
      "metadata": {
        "id": "h0bedyLPeUB6"
      }
    },
    {
      "cell_type": "code",
      "source": [
        "import numpy as np\n",
        "from sklearn.ensemble import RandomForestClassifier\n",
        "from sklearn.datasets import load_breast_cancer\n",
        "from sklearn.model_selection import train_test_split\n",
        "from sklearn.metrics import classification_report\n",
        "\n",
        "X,y = load_breast_cancer(return_X_y=True)\n",
        "X_train,X_test,y_train,y_test = train_test_split(X,y, random_state=0)\n",
        "rf = RandomForestClassifier(n_estimators=100, random_state=0)\n",
        "rf.fit(X_train, y_train)\n",
        "y_pred = rf.predict(X_test)\n",
        "print(classification_report(y_test, y_pred))\n",
        "mis = np.where(y_test != y_pred)[0]\n",
        "print(\"Misclassified indices:\", mis)\n"
      ],
      "metadata": {
        "colab": {
          "base_uri": "https://localhost:8080/"
        },
        "id": "JejtWYQYeTxQ",
        "outputId": "229735aa-54d3-4219-a031-0e0f2722965d"
      },
      "execution_count": 16,
      "outputs": [
        {
          "output_type": "stream",
          "name": "stdout",
          "text": [
            "              precision    recall  f1-score   support\n",
            "\n",
            "           0       0.95      0.98      0.96        53\n",
            "           1       0.99      0.97      0.98        90\n",
            "\n",
            "    accuracy                           0.97       143\n",
            "   macro avg       0.97      0.97      0.97       143\n",
            "weighted avg       0.97      0.97      0.97       143\n",
            "\n",
            "Misclassified indices: [10 13 14 73]\n"
          ]
        }
      ]
    },
    {
      "cell_type": "markdown",
      "source": [
        "34. Train a Bagging Classifier and compare its performance with a single Decision Tree Classifier."
      ],
      "metadata": {
        "id": "KqoCyvwveTgo"
      }
    },
    {
      "cell_type": "code",
      "source": [
        "from sklearn.ensemble import BaggingClassifier\n",
        "from sklearn.tree import DecisionTreeClassifier\n",
        "from sklearn.metrics import accuracy_score\n",
        "\n",
        "dt = DecisionTreeClassifier(random_state=0).fit(X_train, y_train)\n",
        "bag = BaggingClassifier(DecisionTreeClassifier(), n_estimators=10, random_state=0).fit(X_train, y_train)\n",
        "print(\"Decision tree acc:\", accuracy_score(y_test, dt.predict(X_test)))\n",
        "print(\"Bagging acc:\", accuracy_score(y_test, bag.predict(X_test)))\n"
      ],
      "metadata": {
        "colab": {
          "base_uri": "https://localhost:8080/"
        },
        "id": "En2cLdmieTPJ",
        "outputId": "1615435c-91af-4d46-dadd-d64192eb9ba2"
      },
      "execution_count": 17,
      "outputs": [
        {
          "output_type": "stream",
          "name": "stdout",
          "text": [
            "Decision tree acc: 0.8811188811188811\n",
            "Bagging acc: 0.972027972027972\n"
          ]
        }
      ]
    },
    {
      "cell_type": "markdown",
      "source": [
        "35. Train a Random Forest Classifier and visualize the confusion matrix."
      ],
      "metadata": {
        "id": "qlpvfC3NeS84"
      }
    },
    {
      "cell_type": "code",
      "source": [
        "import matplotlib.pyplot as plt\n",
        "from sklearn.metrics import ConfusionMatrixDisplay\n",
        "\n",
        "rf = RandomForestClassifier(n_estimators=100, random_state=0).fit(X_train, y_train)\n",
        "disp = ConfusionMatrixDisplay.from_estimator(rf, X_test, y_test, cmap='Blues')\n",
        "plt.show()\n"
      ],
      "metadata": {
        "colab": {
          "base_uri": "https://localhost:8080/",
          "height": 449
        },
        "id": "C4UzyBEueSj_",
        "outputId": "06d81f6e-8086-459c-f915-c8543fc60fa9"
      },
      "execution_count": 18,
      "outputs": [
        {
          "output_type": "display_data",
          "data": {
            "text/plain": [
              "<Figure size 640x480 with 2 Axes>"
            ],
            "image/png": "[encoded data removed]"
          },
          "metadata": {}
        }
      ]
    },
    {
      "cell_type": "markdown",
      "source": [
        "36. Train a Stacking Classifier using Decision Trees, SVM, and Logistic Regression, and compare accuracy."
      ],
      "metadata": {
        "id": "JHnosiEUTx0L"
      }
    },
    {
      "cell_type": "code",
      "execution_count": 19,
      "metadata": {
        "colab": {
          "base_uri": "https://localhost:8080/"
        },
        "id": "zy7Uv2GgTiZF",
        "outputId": "c9cc9e34-a0ae-4ee3-d852-67ae60fd38a8"
      },
      "outputs": [
        {
          "output_type": "stream",
          "name": "stdout",
          "text": [
            "Stacking accuracy: 0.9300699300699301\n"
          ]
        }
      ],
      "source": [
        "from sklearn.ensemble import StackingClassifier\n",
        "from sklearn.svm import SVC\n",
        "from sklearn.linear_model import LogisticRegression\n",
        "\n",
        "estimators = [\n",
        "   ('dt', DecisionTreeClassifier()),\n",
        "   ('svm', SVC(probability=True)),\n",
        "]\n",
        "stack = StackingClassifier(estimators=estimators,\n",
        "                           final_estimator=LogisticRegression(),\n",
        "                           cv=5)\n",
        "stack.fit(X_train, y_train)\n",
        "print(\"Stacking accuracy:\", stack.score(X_test, y_test))\n"
      ]
    },
    {
      "cell_type": "markdown",
      "source": [
        "37. Train a Random Forest Classifier and print the top 5 most important features."
      ],
      "metadata": {
        "id": "lsnTrgXrhcWw"
      }
    },
    {
      "cell_type": "code",
      "source": [
        "rf = RandomForestClassifier(n_estimators=100, random_state=0).fit(X_train, y_train)\n",
        "importances = rf.feature_importances_\n",
        "idx = np.argsort(importances)[::-1][:5]\n",
        "print(\"Top 5 feature indices:\", idx, \"importances:\", importances[idx])\n"
      ],
      "metadata": {
        "colab": {
          "base_uri": "https://localhost:8080/"
        },
        "id": "3YPx_is1hcEj",
        "outputId": "eeb9d6a4-4f8e-4999-972d-d9173c8576af"
      },
      "execution_count": 20,
      "outputs": [
        {
          "output_type": "stream",
          "name": "stdout",
          "text": [
            "Top 5 feature indices: [22 27 20  7 23] importances: [0.16027724 0.11711756 0.11657269 0.10305394 0.0634688 ]\n"
          ]
        }
      ]
    },
    {
      "cell_type": "markdown",
      "source": [
        "38. Train a Bagging Classifier and evaluate performance using Precision, Recall, and FI-score."
      ],
      "metadata": {
        "id": "_Bn47b7vhbzI"
      }
    },
    {
      "cell_type": "code",
      "source": [
        "from sklearn.metrics import precision_score, recall_score, f1_score\n",
        "\n",
        "bag = BaggingClassifier(DecisionTreeClassifier(), n_estimators=10, random_state=0).fit(X_train, y_train)\n",
        "y_pred = bag.predict(X_test)\n",
        "print(\"Precision:\", precision_score(y_test, y_pred, average='weighted'))\n",
        "print(\"Recall:\", recall_score(y_test, y_pred, average='weighted'))\n",
        "print(\"F1‑score:\", f1_score(y_test, y_pred, average='weighted'))\n"
      ],
      "metadata": {
        "colab": {
          "base_uri": "https://localhost:8080/"
        },
        "id": "KBskhuy0hbie",
        "outputId": "2b38cb70-7fd1-4eac-de27-afcc97790853"
      },
      "execution_count": 21,
      "outputs": [
        {
          "output_type": "stream",
          "name": "stdout",
          "text": [
            "Precision: 0.9726319135410045\n",
            "Recall: 0.972027972027972\n",
            "F1‑score: 0.9721298260624104\n"
          ]
        }
      ]
    },
    {
      "cell_type": "markdown",
      "source": [
        "39. Train a Random Forest Classifier and analyze the effect of max depth on accuracy."
      ],
      "metadata": {
        "id": "hdL7Nqr8hbP_"
      }
    },
    {
      "cell_type": "code",
      "source": [
        "for d in [None,5,10,20]:\n",
        "    rf = RandomForestClassifier(n_estimators=100, max_depth=d, random_state=0).fit(X_train, y_train)\n",
        "    print(f\"max_depth={d} → acc:\", rf.score(X_test, y_test))\n"
      ],
      "metadata": {
        "colab": {
          "base_uri": "https://localhost:8080/"
        },
        "id": "Ik9Y7IR4ha-m",
        "outputId": "67bb7cf9-4d00-4094-a6f8-dd31a026a16e"
      },
      "execution_count": 22,
      "outputs": [
        {
          "output_type": "stream",
          "name": "stdout",
          "text": [
            "max_depth=None → acc: 0.972027972027972\n",
            "max_depth=5 → acc: 0.972027972027972\n",
            "max_depth=10 → acc: 0.972027972027972\n",
            "max_depth=20 → acc: 0.972027972027972\n"
          ]
        }
      ]
    },
    {
      "cell_type": "markdown",
      "source": [
        "40. Train a Bagging Regressor using different base estimators (DecisionTree and KNeighbors) and compare performance."
      ],
      "metadata": {
        "id": "VgglvkCChat6"
      }
    },
    {
      "cell_type": "code",
      "source": [
        "from sklearn.neighbors import KNeighborsRegressor\n",
        "from sklearn.tree import DecisionTreeRegressor # Added import for DecisionTreeRegressor\n",
        "from sklearn.ensemble import BaggingRegressor\n",
        "from sklearn.metrics import mean_squared_error\n",
        "\n",
        "for base in [DecisionTreeRegressor(), KNeighborsRegressor()]:\n",
        "    br = BaggingRegressor(estimator=base, n_estimators=20, random_state=0).fit(X_train, y_train)\n",
        "    print(base.__class__.__name__, \"MSE:\", mean_squared_error(y_test, br.predict(X_test)))"
      ],
      "metadata": {
        "colab": {
          "base_uri": "https://localhost:8080/"
        },
        "id": "CsvgBmj9hadB",
        "outputId": "4f0c01ff-4feb-496a-b1c8-1ee06c36145a"
      },
      "execution_count": 23,
      "outputs": [
        {
          "output_type": "stream",
          "name": "stdout",
          "text": [
            "DecisionTreeRegressor MSE: 0.029405594405594405\n",
            "KNeighborsRegressor MSE: 0.05041258741258741\n"
          ]
        }
      ]
    },
    {
      "cell_type": "markdown",
      "source": [
        "41. Train a Random Forest Classifier and evaluate its performance using ROC-AUC Score."
      ],
      "metadata": {
        "id": "E9hpJk2phaMZ"
      }
    },
    {
      "cell_type": "code",
      "source": [
        "from sklearn.metrics import roc_auc_score\n",
        "\n",
        "rf = RandomForestClassifier(n_estimators=100, random_state=0).fit(X_train, y_train)\n",
        "probs = rf.predict_proba(X_test)\n",
        "print(\"ROC‑AUC:\", roc_auc_score(y_test, probs[:,1]))\n"
      ],
      "metadata": {
        "colab": {
          "base_uri": "https://localhost:8080/"
        },
        "id": "tOFOgbsFhZ7u",
        "outputId": "8ecf8e1e-6c80-4ccd-e60a-204213e91d8c"
      },
      "execution_count": 24,
      "outputs": [
        {
          "output_type": "stream",
          "name": "stdout",
          "text": [
            "ROC‑AUC: 0.9975890985324948\n"
          ]
        }
      ]
    },
    {
      "cell_type": "markdown",
      "source": [
        "42. Train a Bagging Classifier and evaluate its performance using cross-validation"
      ],
      "metadata": {
        "id": "OZhpYn4hhZrD"
      }
    },
    {
      "cell_type": "code",
      "source": [
        "from sklearn.model_selection import cross_val_score\n",
        "\n",
        "bag = BaggingClassifier(DecisionTreeClassifier(), n_estimators=10, random_state=0)\n",
        "scores = cross_val_score(bag, X, y, cv=5, scoring='accuracy')\n",
        "print(\"CV accuracies:\", scores, \"mean:\", scores.mean())\n"
      ],
      "metadata": {
        "colab": {
          "base_uri": "https://localhost:8080/"
        },
        "id": "kqsR4G9OhZZ3",
        "outputId": "6f37185e-82ba-493d-bc07-6b3a1294317b"
      },
      "execution_count": 25,
      "outputs": [
        {
          "output_type": "stream",
          "name": "stdout",
          "text": [
            "CV accuracies: [0.93859649 0.92982456 0.98245614 0.97368421 0.96460177] mean: 0.9578326346840553\n"
          ]
        }
      ]
    },
    {
      "cell_type": "markdown",
      "source": [
        "43. Train a Random Forest Classifier and plot the Precision-Recall curve"
      ],
      "metadata": {
        "id": "KafJhsfPhZI9"
      }
    },
    {
      "cell_type": "code",
      "source": [
        "from sklearn.metrics import PrecisionRecallDisplay\n",
        "\n",
        "rf = RandomForestClassifier(n_estimators=100, random_state=0).fit(X_train, y_train)\n",
        "probs = rf.predict_proba(X_test)[:,1]\n",
        "PrecisionRecallDisplay.from_predictions(y_test, probs)\n",
        "plt.show()\n"
      ],
      "metadata": {
        "colab": {
          "base_uri": "https://localhost:8080/",
          "height": 451
        },
        "id": "0MSo-M3nhY2V",
        "outputId": "b61c9f04-fdc5-438f-edc4-5f6e3afb541d"
      },
      "execution_count": 26,
      "outputs": [
        {
          "output_type": "display_data",
          "data": {
            "text/plain": [
              "<Figure size 640x480 with 1 Axes>"
            ],
            "image/png": "[encoded data removed]"
          },
          "metadata": {}
        }
      ]
    },
    {
      "cell_type": "markdown",
      "source": [
        "\n",
        "44. Train a Stacking Classifier with Random Forest and Logistic Regression and compare accuracy."
      ],
      "metadata": {
        "id": "Nc-15T-OhYQP"
      }
    },
    {
      "cell_type": "code",
      "source": [
        "estimators = [\n",
        "   ('rf', RandomForestClassifier(n_estimators=100, random_state=0)),\n",
        "]\n",
        "stack = StackingClassifier(estimators=estimators,\n",
        "                           final_estimator=LogisticRegression(),\n",
        "                           cv=5)\n",
        "stack.fit(X_train, y_train)\n",
        "print(\"Stacking (RF+LR) acc:\", stack.score(X_test, y_test))\n"
      ],
      "metadata": {
        "colab": {
          "base_uri": "https://localhost:8080/"
        },
        "id": "CyD3HFBxhX_u",
        "outputId": "cac7af76-5cf0-4641-8ebb-e68b56ccd99b"
      },
      "execution_count": 27,
      "outputs": [
        {
          "output_type": "stream",
          "name": "stdout",
          "text": [
            "Stacking (RF+LR) acc: 0.965034965034965\n"
          ]
        }
      ]
    },
    {
      "cell_type": "markdown",
      "source": [
        "\n",
        "45. Train a Bagging Regressor with different levels of bootstrap samples and compare performance."
      ],
      "metadata": {
        "id": "0PNz4uwEhXt8"
      }
    },
    {
      "cell_type": "code",
      "source": [
        "for frac in [0.5, 0.75, 1.0]:\n",
        "    br = BaggingRegressor(DecisionTreeRegressor(), n_estimators=20,\n",
        "                          max_samples=frac, random_state=0).fit(X_train, y_train)\n",
        "    print(f\"max_samples={frac} → MSE:\", mean_squared_error(y_test, br.predict(X_test)))\n"
      ],
      "metadata": {
        "colab": {
          "base_uri": "https://localhost:8080/"
        },
        "id": "CYrl7HaZhXWO",
        "outputId": "4d10e553-223c-44dc-cd8e-97d5fb1b7dfa"
      },
      "execution_count": 28,
      "outputs": [
        {
          "output_type": "stream",
          "name": "stdout",
          "text": [
            "max_samples=0.5 → MSE: 0.03520979020979021\n",
            "max_samples=0.75 → MSE: 0.0268006993006993\n",
            "max_samples=1.0 → MSE: 0.029405594405594405\n"
          ]
        }
      ]
    }
  ]
}