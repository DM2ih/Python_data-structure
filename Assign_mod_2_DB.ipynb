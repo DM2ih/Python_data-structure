{
  "nbformat": 4,
  "nbformat_minor": 0,
  "metadata": {
    "colab": {
      "provenance": [],
      "gpuType": "V28"
    },
    "kernelspec": {
      "name": "python3",
      "display_name": "Python 3"
    },
    "language_info": {
      "name": "python"
    },
    "accelerator": "TPU"
  },
  "cells": [
    {
      "cell_type": "markdown",
      "source": [
        "1. What are the key differences between SQL and NoSQL databases?"
      ],
      "metadata": {
        "id": "JhnIpXSUq4i8"
      }
    },
    {
      "cell_type": "markdown",
      "source": [
        "\n",
        "\n",
        "**SQL Databases:** Relational, use structured schemas with tables, enforce strict data consistency, support SQL for querying, and are vertically scalable. Best for structured data and complex joins.\n",
        "\n",
        "**NoSQL Databases:** Non-relational, schema-less or flexible schemas, support various data models (e.g., document, key-value), horizontally scalable, and prioritize performance and scalability over strict consistency. Ideal for unstructured or semi-structured data and high-traffic applications."
      ],
      "metadata": {
        "id": "qRghZII_q4ZP"
      }
    },
    {
      "cell_type": "markdown",
      "source": [
        "2. What makes MongoDB a good choice for modern applications?"
      ],
      "metadata": {
        "id": "c-x77mJMq4Qw"
      }
    },
    {
      "cell_type": "markdown",
      "source": [
        "\n",
        "\n",
        "* Flexible schema (document-based) supports dynamic data structures.\n",
        "\n",
        "* Scales horizontally via sharding for high traffic.\n",
        "\n",
        "* Supports rich queries, aggregation, and indexing for performance.\n",
        "\n",
        "* High availability through replication.\n",
        "\n",
        "* Cloud-native with MongoDB Atlas for easy deployment and management.\n",
        "\n",
        "* Handles large-scale, unstructured, or semi-structured data well."
      ],
      "metadata": {
        "id": "jiZykqZRq4Gl"
      }
    },
    {
      "cell_type": "markdown",
      "source": [
        "3. Explain the concept of collections in MongoDB."
      ],
      "metadata": {
        "id": "VJx23PsIq38n"
      }
    },
    {
      "cell_type": "markdown",
      "source": [
        "\n",
        "\n",
        "Collections are analogous to tables in SQL but store JSON-like BSON documents without a fixed schema. Documents within a collection can have different structures, allowing flexibility. Collections are stored in a database and can be queried, indexed, or aggregated."
      ],
      "metadata": {
        "id": "ycf4BsuOq3yY"
      }
    },
    {
      "cell_type": "markdown",
      "source": [
        "4. How does MongoDB ensure high availability using replication?"
      ],
      "metadata": {
        "id": "3edBP_-vq3pN"
      }
    },
    {
      "cell_type": "markdown",
      "source": [
        "\n",
        "\n",
        "MongoDB uses replica sets, a group of nodes (primary and secondary) that maintain copies of the data. The primary node handles writes, while secondaries replicate data asynchronously. If the primary fails, an election process promotes a secondary to primary, ensuring continuous availability."
      ],
      "metadata": {
        "id": "oBkr_HHYq3fo"
      }
    },
    {
      "cell_type": "markdown",
      "source": [
        "5. What are the main benefits of MongoDB Atlas?"
      ],
      "metadata": {
        "id": "xMSprvngq3W0"
      }
    },
    {
      "cell_type": "markdown",
      "source": [
        "\n",
        "\n",
        "* Fully managed cloud database service, reducing administrative overhead.\n",
        "* Automated backups, scaling, and upgrades.\n",
        "* Built-in security features like encryption and role-based access control.\n",
        "* Global cluster support for low-latency access.\n",
        "* Monitoring and performance optimization tools."
      ],
      "metadata": {
        "id": "jjQHmrKFq3M0"
      }
    },
    {
      "cell_type": "markdown",
      "source": [
        "6. What is the role of indexes in MongoDB, and how do they improve performance?"
      ],
      "metadata": {
        "id": "nhJDqusAq3DY"
      }
    },
    {
      "cell_type": "markdown",
      "source": [
        "\n",
        "\n",
        "Indexes store a subset of data (e.g., field values) in a structure optimized for fast queries. They reduce the need to scan entire collections, improving query performance for searches, sorts, and filters. Common types include single-field, compound, and text indexes."
      ],
      "metadata": {
        "id": "wV1jRnEmq23-"
      }
    },
    {
      "cell_type": "markdown",
      "source": [
        "7. Describe the stages of the MongoDB aggregation pipeline."
      ],
      "metadata": {
        "id": "TvumRSItq2ug"
      }
    },
    {
      "cell_type": "markdown",
      "source": [
        "\n",
        "\n",
        "The aggregation pipeline processes documents through a series of stages, each transforming the data:\n",
        "\n",
        "* $match: Filters documents.\n",
        "\n",
        "* $group: Groups documents and applies accumulators (e.g., sum, count).\n",
        "\n",
        "* $sort: Sorts documents.\n",
        "\n",
        "* $project: Reshapes documents (select or compute fields).\n",
        "\n",
        "* $limit/ $skip: Limits or skips documents.\n",
        "\n",
        "* $lookup: Joins data from another collection.\n",
        "\n",
        "* $unwind: Expands arrays into separate documents."
      ],
      "metadata": {
        "id": "_lUVu4mMq2lA"
      }
    },
    {
      "cell_type": "markdown",
      "source": [
        "8. What is sharding in MongoDB? How does it differ from replication?"
      ],
      "metadata": {
        "id": "XWfRzE9tq2cd"
      }
    },
    {
      "cell_type": "markdown",
      "source": [
        "\n",
        "\n",
        "* Sharding: Distributes data across multiple servers (shards) to handle large datasets and high throughput. Each shard holds a subset of data.\n",
        "\n",
        "* Replication: Creates copies of data across nodes for redundancy and high availability. All nodes in a replica set hold the same data.\n",
        "\n",
        "* Difference: Sharding focuses on scalability by partitioning data; replication focuses on availability and fault tolerance."
      ],
      "metadata": {
        "id": "wQbusTHjq2UJ"
      }
    },
    {
      "cell_type": "markdown",
      "source": [
        "9. What is PyMongo, and why is it used?"
      ],
      "metadata": {
        "id": "Qb1NAZ1pq2KY"
      }
    },
    {
      "cell_type": "markdown",
      "source": [
        "\n",
        "\n",
        "PyMongo is a Python driver for MongoDB, enabling Python applications to interact with MongoDB databases. It’s used to perform CRUD operations, manage collections, and execute queries programmatically."
      ],
      "metadata": {
        "id": "IP3nwPe2q2DC"
      }
    },
    {
      "cell_type": "markdown",
      "source": [
        "10.\n",
        "What are the ACID properties in the context of MongoDB transactions?"
      ],
      "metadata": {
        "id": "Y1mWz_Cqq14T"
      }
    },
    {
      "cell_type": "markdown",
      "source": [
        "\n",
        "\n",
        "\n",
        "\n",
        "* Atomicity: Ensures all operations in a transaction complete successfully or are rolled back.\n",
        "\n",
        "* Consistency: Transactions bring the database from one valid state to another, maintaining data integrity.\n",
        "\n",
        "* Isolation: Transactions are executed independently, preventing partial changes from being visible.\n",
        "\n",
        "* Durability: Committed transactions are permanently saved, even in case of a system failure.\n",
        "\n",
        "* MongoDB supports ACID transactions in replica sets and sharded clusters since version 4.0."
      ],
      "metadata": {
        "id": "uVsSCFFKq1wL"
      }
    },
    {
      "cell_type": "markdown",
      "source": [
        "11. What is the purpose of MongoDB's explain() function?"
      ],
      "metadata": {
        "id": "euMVl-r3WS3N"
      }
    },
    {
      "cell_type": "markdown",
      "source": [
        "\n",
        "\n",
        "The explain() function provides details about how MongoDB executes a query, including index usage, query plan, and execution statistics. It helps optimize queries by identifying performance bottlenecks."
      ],
      "metadata": {
        "id": "TX7qh4iNWSsQ"
      }
    },
    {
      "cell_type": "markdown",
      "source": [
        "12. How does MongoDB handle schema validation?"
      ],
      "metadata": {
        "id": "Gs-jRR2WWSfA"
      }
    },
    {
      "cell_type": "markdown",
      "source": [
        "\n",
        "\n",
        "MongoDB supports schema validation using JSON Schema. You can define validation rules (e.g., required fields, data types) for a collection using the validator option in createCollection or collMod. Invalid documents are rejected during inserts or updates."
      ],
      "metadata": {
        "id": "oIpclZmpWSUk"
      }
    },
    {
      "cell_type": "markdown",
      "source": [
        "13. What is the difference between a primary and a secondary node in a replica set?"
      ],
      "metadata": {
        "id": "ctdTlE-GWSHO"
      }
    },
    {
      "cell_type": "markdown",
      "source": [
        "\n",
        "\n",
        "* Primary Node: Handles all write operations and serves read operations (by default). There’s only one primary per replica set.\n",
        "\n",
        "* Secondary Node: Replicates data from the primary and can serve read operations. It can become primary during failover."
      ],
      "metadata": {
        "id": "F1MGiV9lWR8v"
      }
    },
    {
      "cell_type": "markdown",
      "source": [
        "14. What security mechanisms does MongoDB provide for data protection?"
      ],
      "metadata": {
        "id": "7ZC7JpzSWRu8"
      }
    },
    {
      "cell_type": "markdown",
      "source": [
        "\n",
        "\n",
        "* Authentication (e.g., SCRAM, LDAP, x.509 certificates).\n",
        "\n",
        "* Role-based access control (RBAC) for user permissions.\n",
        "\n",
        "* Encryption at rest (using WiredTiger) and in transit (TLS/SSL).\n",
        "\n",
        "* Auditing for tracking database activity.\n",
        "\n",
        "* IP whitelisting and VPC peering in MongoDB Atlas."
      ],
      "metadata": {
        "id": "ZJ18MW9LWRkQ"
      }
    },
    {
      "cell_type": "markdown",
      "source": [
        "15. Explain the concept of embedded documents and when they should be used."
      ],
      "metadata": {
        "id": "Qdd9tGJXWRXN"
      }
    },
    {
      "cell_type": "markdown",
      "source": [
        "\n",
        "\n",
        "Embedded documents are nested JSON-like structures within a document. They’re used for one-to-few relationships or when data is frequently accessed together (e.g., user profile with address). They reduce the need for joins but can increase document size."
      ],
      "metadata": {
        "id": "DoG0FHmcWRM2"
      }
    },
    {
      "cell_type": "markdown",
      "source": [
        "16. What is the purpose of MongoDB's $lookup stage in aggregation?"
      ],
      "metadata": {
        "id": "qzJB_WhBWQ-w"
      }
    },
    {
      "cell_type": "markdown",
      "source": [
        "\n",
        "\n",
        "The $lookup stage performs a left outer join, linking documents from one collection to documents in another based on a matching condition. It’s used to combine related data across collections."
      ],
      "metadata": {
        "id": "3OfsPl6fWQ0X"
      }
    },
    {
      "cell_type": "markdown",
      "source": [
        "17. What are some common use cases for MongoDB?"
      ],
      "metadata": {
        "id": "GCpWoM6wWQlm"
      }
    },
    {
      "cell_type": "markdown",
      "source": [
        "\n",
        "\n",
        "* E-commerce (product catalogs, user profiles).\n",
        "\n",
        "* Real-time analytics (event logging, IoT).\n",
        "* Content management (blogs, CMS).\n",
        "* Social media platforms (user feeds, comments).\n",
        "* Big data applications requiring horizontal scaling."
      ],
      "metadata": {
        "id": "Ftf0GDuvWQbr"
      }
    },
    {
      "cell_type": "markdown",
      "source": [
        "18. What are the advantages of using MongoDB for horizontal scaling?"
      ],
      "metadata": {
        "id": "dAWQynTuWQLZ"
      }
    },
    {
      "cell_type": "markdown",
      "source": [
        "\n",
        "\n",
        "* Sharding distributes data across servers, handling large datasets and high traffic.\n",
        "\n",
        "* Flexible schema supports dynamic data growth.\n",
        "* Automatic balancing ensures even data distribution.\n",
        "* Easy integration with cloud platforms like MongoDB Atlas."
      ],
      "metadata": {
        "id": "mZ8SDHANWQCA"
      }
    },
    {
      "cell_type": "markdown",
      "source": [
        "19. How do MongoDB transactions differ from SQL transactions?"
      ],
      "metadata": {
        "id": "uEdhWbQgWPwy"
      }
    },
    {
      "cell_type": "markdown",
      "source": [
        "\n",
        "\n",
        "* **MongoDB:** Transactions are supported in replica sets and sharded clusters (since v4.0), but they’re designed for document-based operations and may have performance overhead due to distributed systems.\n",
        "\n",
        "* **SQL:** Transactions are table-based, typically faster for relational operations, and have mature support for complex joins and constraints."
      ],
      "metadata": {
        "id": "YWygljcKWPnx"
      }
    },
    {
      "cell_type": "markdown",
      "source": [
        "20. What are the main differences between capped collections and regular collections?"
      ],
      "metadata": {
        "id": "-8NT34c6WOzq"
      }
    },
    {
      "cell_type": "markdown",
      "source": [
        "\n",
        "\n",
        "* **Capped Collections:** Fixed-size, automatically overwrite old data (FIFO), ideal for logging or caching. No indexes by default, and updates must preserve document size.\n",
        "\n",
        "* **Regular Collections:** No size limit, support indexes, and allow flexible updates. Suitable for general-purpose data storage."
      ],
      "metadata": {
        "id": "g9aZ2ryPWOmk"
      }
    },
    {
      "cell_type": "markdown",
      "source": [
        "21. What is the purpose of the $match stage in MongoDB's aggregation pipeline?"
      ],
      "metadata": {
        "id": "GbZBOt8AY8IC"
      }
    },
    {
      "cell_type": "markdown",
      "source": [
        "\n",
        "\n",
        "The $match stage filters documents based on specified criteria, similar to a find query. It’s used early in the pipeline to reduce the dataset for subsequent stages."
      ],
      "metadata": {
        "id": "dpiyWAIFY7ip"
      }
    },
    {
      "cell_type": "markdown",
      "source": [
        "22. How can you secure access to a MongoDB database?"
      ],
      "metadata": {
        "id": "xw93xwoLZHIx"
      }
    },
    {
      "cell_type": "markdown",
      "source": [
        "\n",
        "\n",
        "* Enable authentication and use strong credentials.\n",
        "\n",
        "* Implement RBAC to limit user access.\n",
        "* Use TLS/SSL for encrypted connections.\n",
        "* Configure firewall rules or IP whitelisting.\n",
        "* Enable encryption at rest.\n",
        "* Regularly audit and monitor database activity."
      ],
      "metadata": {
        "id": "yrv232_wZG9H"
      }
    },
    {
      "cell_type": "markdown",
      "source": [
        "23. What is MongoDB's WiredTiger storage engine, and why is it important?"
      ],
      "metadata": {
        "id": "udvjtcy6Y7Yq"
      }
    },
    {
      "cell_type": "markdown",
      "source": [
        "\n",
        "\n",
        "WiredTiger is MongoDB’s default storage engine, offering high performance, compression, and concurrency control. It supports document-level locking, reducing contention, and provides efficient storage with compression, making it critical for scalability and performance."
      ],
      "metadata": {
        "id": "HVJdjQL5Y7Hq"
      }
    },
    {
      "cell_type": "markdown",
      "source": [
        "# FOR PRACTICAL REFER THE BELOW LINK:\n",
        "\n",
        "* click on view raw"
      ],
      "metadata": {
        "id": "k5lTe1waY66J"
      }
    },
    {
      "cell_type": "markdown",
      "source": [
        "https://github.com/DM2ih/Python_data-structure/blob/main/mongo%20project.zip"
      ],
      "metadata": {
        "id": "kLnfe1oJpgQF"
      }
    },
    {
      "cell_type": "markdown",
      "source": [
        "* or refer pdf link below\n"
      ],
      "metadata": {
        "id": "FjhA25Zgtvg_"
      }
    },
    {
      "cell_type": "markdown",
      "source": [
        "https://github.com/DM2ih/Python_data-structure/blob/main/mongo-project.pdf"
      ],
      "metadata": {
        "id": "12wxrC35t1aO"
      }
    }
  ]
}