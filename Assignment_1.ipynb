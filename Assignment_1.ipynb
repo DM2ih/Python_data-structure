{
  "nbformat": 4,
  "nbformat_minor": 0,
  "metadata": {
    "colab": {
      "provenance": []
    },
    "kernelspec": {
      "name": "python3",
      "display_name": "Python 3"
    },
    "language_info": {
      "name": "python"
    }
  },
  "cells": [
    {
      "cell_type": "markdown",
      "source": [
        "#ASSIGNMENT MODULE 4"
      ],
      "metadata": {
        "id": "Qitk66DFJDGn"
      }
    },
    {
      "cell_type": "markdown",
      "source": [
        "Q1)  What are data structures, and why are they important?"
      ],
      "metadata": {
        "id": "OSYUPWe-JRx6"
      }
    },
    {
      "cell_type": "markdown",
      "source": [
        "soln.\n",
        "*   Data structures are specialized formats for organizing, processing, and storing data in a computer so that it can be accessed and modified efficiently. They provide a means to manage large amounts of data for various uses, such as databases, internet indexing services, and large-scale simulations. Effective use of data structures can lead to efficient algorithms and optimal performance in software applications.\n",
        "\n"
      ],
      "metadata": {
        "id": "SKvxNoyUK_Ay"
      }
    },
    {
      "cell_type": "markdown",
      "source": [
        "Q2) Explain the difference between mutable and immutable data types with examples."
      ],
      "metadata": {
        "id": "NUsID1-MLSNg"
      }
    },
    {
      "cell_type": "markdown",
      "source": [
        "   In Python, data types are categorized based on their mutability:\n",
        "\n",
        "Mutable data types are those whose values can be changed after their creation. Examples include:\n",
        "\n",
        "*   Lists: my_list = [1, 2, 3]; my_list[0] = 4 modifies the first element.\n",
        "\n",
        "*   Dictionaries: my_dict = {'a': 1, 'b': 2}; my_dict['a'] = 3 changes the value associated with key 'a'.\n",
        "\n",
        "*   Sets: my_set = {1, 2, 3}; my_set.add(4) adds a new element to the set.\n",
        "\n",
        "Immutable data types are those whose values cannot be altered once created. Examples include:\n",
        "\n",
        "*   Tuples: my_tuple = (1, 2, 3); attempting my_tuple[0] = 4 will raise a TypeError.\n",
        "\n",
        "*   Strings: my_string = \"hello\"; attempting my_string[0] = 'H' will raise a TypeError.\n",
        "\n",
        "*   Numbers: integers and floats are immutable; operations on them result in new objects."
      ],
      "metadata": {
        "id": "3IXPTa_oLjcX"
      }
    },
    {
      "cell_type": "markdown",
      "source": [
        "Q3) What are the main differences between lists and tuples in Python?"
      ],
      "metadata": {
        "id": "_g8NQAphM9x_"
      }
    },
    {
      "cell_type": "markdown",
      "source": [
        "*   Mutability: Lists are mutable; their elements can be changed, added, or removed. Tuples are immutable; once created, their elements cannot be altered.\n",
        "\n",
        "*   Syntax: Lists are defined using square brackets, e.g., my_list = [1, 2, 3], while tuples use parentheses, e.g., my_tuple = (1, 2, 3).\n",
        "\n",
        "*   Performance: Due to their immutability, tuples can be more memory-efficient and faster in iteration compared to lists.\n",
        "\n",
        "*   Usage: Tuples are often used for fixed collections of items, such as coordinates or function returns, whereas lists are suited for collections that may change over time."
      ],
      "metadata": {
        "id": "drGG1APiNIYP"
      }
    },
    {
      "cell_type": "markdown",
      "source": [
        "Q4) Describe how dictionaries store data."
      ],
      "metadata": {
        "id": "78nTaKKQNqiy"
      }
    },
    {
      "cell_type": "markdown",
      "source": [
        "*   Dictionaries in Python store data as key-value pairs. Internally, they use a hash table mechanism where each key is hashed to determine its unique index in an underlying array. This allows for average-case constant time complexity, O(1), for lookup, insertion, update, and deletion operations. However, in the worst case, such as when many keys hash to the same index (collisions), the time complexity can degrade to O(n).\n"
      ],
      "metadata": {
        "id": "4hXsJ0EdN11A"
      }
    },
    {
      "cell_type": "markdown",
      "source": [
        "Q5)  Why might you use a set instead of a list in Python?"
      ],
      "metadata": {
        "id": "vgOuTvkBOL6h"
      }
    },
    {
      "cell_type": "markdown",
      "source": [
        "*   Uniqueness: You need to ensure all elements are unique, as sets automatically eliminate duplicates.\n",
        "\n",
        "*   Set Operations: You require efficient implementations of mathematical set operations like union, intersection, and difference."
      ],
      "metadata": {
        "id": "8SENduHLOWsg"
      }
    },
    {
      "cell_type": "markdown",
      "source": [
        "Q6)  What is a string in Python, and how is it different from a list?"
      ],
      "metadata": {
        "id": "buaOkQM_OtXM"
      }
    },
    {
      "cell_type": "markdown",
      "source": [
        "*   A string in Python is an immutable sequence of characters used to represent textual data. Key differences from lists include:\n",
        "\n",
        "*   Mutability: Strings are immutable; once created, their content cannot be changed. Lists are mutable and can be modified.\n",
        "\n",
        "*   Element Types: Strings contain only characters (text), whereas lists can contain elements of any data type, including other lists.\n",
        "\n",
        "*   Operations: Strings have specific methods for text manipulation, such as .upper(), .lower(), and .replace(), while lists have methods like .append(), .extend(), and .remove()."
      ],
      "metadata": {
        "id": "1awPWQ08O3hU"
      }
    },
    {
      "cell_type": "markdown",
      "source": [
        "Q7)  How do tuples ensure data integrity in Python?"
      ],
      "metadata": {
        "id": "XgkdPjdlPP3l"
      }
    },
    {
      "cell_type": "markdown",
      "source": [
        "*   Tuples ensure data integrity through their immutability. Once a tuple is created, its content cannot be altered, preventing accidental or intentional modifications. This makes tuples suitable for storing data that should remain constant throughout the program, such as configuration settings or fixed collections of items."
      ],
      "metadata": {
        "id": "wg-4WuL4Pewh"
      }
    },
    {
      "cell_type": "markdown",
      "source": [
        "Q8)  What is a hash table, and how does it relate to dictionaries in Python?"
      ],
      "metadata": {
        "id": "rNIuq0xXPndn"
      }
    },
    {
      "cell_type": "markdown",
      "source": [
        "*   A hash table is a data structure that maps keys to values for efficient data retrieval. It uses a hash function to compute an index into an array of buckets or slots, from which the desired value can be found.\n",
        "\n",
        "\n",
        "*   In Python, dictionaries are implemented using hash tables. Each key in a dictionary is hashed to determine its index in the underlying array, allowing for average-case constant time complexity, O(1), for operations like lookup, insertion, and deletion."
      ],
      "metadata": {
        "id": "pZWo_Or3Puzc"
      }
    },
    {
      "cell_type": "markdown",
      "source": [
        "Q9)  Can lists contain different data types in Python?"
      ],
      "metadata": {
        "id": "Wfn3JZatQG2M"
      }
    },
    {
      "cell_type": "markdown",
      "source": [
        "*   Yes, lists in Python are heterogeneous, meaning they can contain elements of different data types, such as integers, strings, floats, or even other lists. For example: my_list = [1, \"hello\", 3.14, [2, 3]]."
      ],
      "metadata": {
        "id": "IjEsUQttQR3K"
      }
    },
    {
      "cell_type": "markdown",
      "source": [
        "Q10) Explain why strings are immutable in Python."
      ],
      "metadata": {
        "id": "omfT5FIIQghq"
      }
    },
    {
      "cell_type": "markdown",
      "source": [
        "Strings in Python are immutable, meaning their content cannot be changed after creation. This design choice offers several advantages:\n",
        "\n",
        "*   Simplified Memory Management: Immutable strings allow for more straightforward memory allocation, as there's no need to anticipate changes in string length or content. This contrasts with mutable strings, which would require complex memory handling to accommodate modifications.\n",
        "STACKOVERFLOW.COM\n",
        "\n",
        "*   Hashability: Immutability ensures that strings can serve as reliable keys in dictionaries and elements in sets, as their hash value remains constant over time. If strings were mutable, their hash values could change, leading to inconsistencies in data retrieval.\n",
        "\n",
        "\n",
        "*   Thread Safety: Immutable objects are inherently thread-safe, as concurrent threads cannot alter their state. This reduces the need for synchronization mechanisms when strings are accessed by multiple threads."
      ],
      "metadata": {
        "id": "WAhgLIZ4QokO"
      }
    },
    {
      "cell_type": "markdown",
      "source": [
        "Q11)  What advantages do dictionaries offer over lists for certain tasks?"
      ],
      "metadata": {
        "id": "FoYUucacRApk"
      }
    },
    {
      "cell_type": "markdown",
      "source": [
        "Dictionaries provide several benefits compared to lists:\n",
        "\n",
        "*   Efficient Data Retrieval: Dictionaries use key-value pairs and hash tables, allowing for average-case constant time complexity, O(1), for lookups, insertions, and deletions. In contrast, lists have an average-case time complexity of O(n) for search operations, as they may require scanning through each element.\n",
        "STACKOVERFLOW.COM\n",
        "\n",
        "*   Associative Mapping: Dictionaries enable direct association between keys and values, making them ideal for scenarios where data needs to be accessed via unique identifiers, such as mapping usernames to user details.\n",
        "\n",
        "*   Flexibility with Data Types: While lists are ordered collections indexed by position, dictionaries allow for more flexible data retrieval using meaningful keys, enhancing code readability and maintainability."
      ],
      "metadata": {
        "id": "XRgmXh1zRa_x"
      }
    },
    {
      "cell_type": "markdown",
      "source": [
        "Q12)  Describe a scenario where using a tuple would be preferable over a list."
      ],
      "metadata": {
        "id": "lOCumMBSRkyP"
      }
    },
    {
      "cell_type": "markdown",
      "source": [
        "Tuples are preferable when dealing with fixed collections of items that should not change throughout the program's execution. For instance:\n",
        "\n",
        "*   Function Returns: When a function needs to return multiple values that should remain constant, using a tuple ensures the returned data cannot be altered inadvertently.\n",
        "\n",
        "*   Data Integrity: Storing configuration settings or fixed coordinates as tuples prevents accidental modification, preserving data integrity."
      ],
      "metadata": {
        "id": "zzWzTBIrRu1q"
      }
    },
    {
      "cell_type": "markdown",
      "source": [
        "Q13) How do sets handle duplicate values in Python?"
      ],
      "metadata": {
        "id": "O6sdZwO3R-nJ"
      }
    },
    {
      "cell_type": "markdown",
      "source": [
        "Sets in Python automatically eliminate duplicate values. When elements are added to a set, any duplicates are discarded, ensuring all items remain unique. For example:"
      ],
      "metadata": {
        "id": "Sy_T7t7LSDF3"
      }
    },
    {
      "cell_type": "code",
      "execution_count": null,
      "metadata": {
        "colab": {
          "base_uri": "https://localhost:8080/"
        },
        "id": "5bCr_R4uIGJv",
        "outputId": "494e6f56-5893-44c4-c2e7-8d1efd392b20"
      },
      "outputs": [
        {
          "output_type": "stream",
          "name": "stdout",
          "text": [
            "{1, 2, 3}\n"
          ]
        }
      ],
      "source": [
        "my_set = {1, 2, 2, 3}\n",
        "print(my_set)  # Output: {1, 2, 3}\n"
      ]
    },
    {
      "cell_type": "markdown",
      "source": [
        "Q14) How does the \"in\" keyword work differently for lists and dictionaries?"
      ],
      "metadata": {
        "id": "TEoWuK_YSZ-m"
      }
    },
    {
      "cell_type": "markdown",
      "source": [
        "The in keyword checks for membership:\n",
        "\n",
        "*   Lists: It verifies if a value exists within the list, resulting in a time complexity of O(n) due to the need to iterate through elements.\n",
        "\n",
        "*   Dictionaries: It checks for the presence of a key, benefiting from average-case constant time complexity, O(1), due to the underlying hash table implementation."
      ],
      "metadata": {
        "id": "jOHmMa62SjhM"
      }
    },
    {
      "cell_type": "markdown",
      "source": [
        "Q15)  Can you modify the elements of a tuple? Explain why or why not."
      ],
      "metadata": {
        "id": "56IpXey2SyOk"
      }
    },
    {
      "cell_type": "markdown",
      "source": [
        "No, tuples are immutable; once created, their elements cannot be changed. This immutability ensures data integrity and allows tuples to be used as keys in dictionaries."
      ],
      "metadata": {
        "id": "Fi3JlS1YS6DW"
      }
    },
    {
      "cell_type": "markdown",
      "source": [
        "Q16) What is a nested dictionary, and give an example of its use case.\n",
        "\n"
      ],
      "metadata": {
        "id": "YRZOWKbKTAUG"
      }
    },
    {
      "cell_type": "markdown",
      "source": [
        "A nested dictionary is a dictionary within another dictionary, allowing for hierarchical data representation. For example:"
      ],
      "metadata": {
        "id": "BtQNOqNHTdSY"
      }
    },
    {
      "cell_type": "code",
      "source": [
        "students = {\n",
        "    'Alice': {'age': 25, 'major': 'Physics'},\n",
        "    'Bob': {'age': 22, 'major': 'Mathematics'}\n",
        "}\n",
        "\n",
        "print(students['Alice']['major'])  # Output: Physics"
      ],
      "metadata": {
        "colab": {
          "base_uri": "https://localhost:8080/"
        },
        "id": "IAoRuRhtThxR",
        "outputId": "b959e2bf-d7e6-49bf-e311-9f0204aa6e3e"
      },
      "execution_count": null,
      "outputs": [
        {
          "output_type": "stream",
          "name": "stdout",
          "text": [
            "Physics\n"
          ]
        }
      ]
    },
    {
      "cell_type": "markdown",
      "source": [
        "This structure is useful for representing complex data, such as storing information about students, where each student has multiple attributes."
      ],
      "metadata": {
        "id": "IeT6GjP_T7bT"
      }
    },
    {
      "cell_type": "markdown",
      "source": [
        "Q17) Describe the time complexity of accessing elements in a dictionary."
      ],
      "metadata": {
        "id": "Rv-ZousPUA4p"
      }
    },
    {
      "cell_type": "markdown",
      "source": [
        "Accessing elements in a dictionary has an average-case time complexity of O(1), thanks to the hash table implementation. However, in rare cases of hash collisions, the time complexity can degrade to O(n)."
      ],
      "metadata": {
        "id": "-T8TrhSjUOO1"
      }
    },
    {
      "cell_type": "markdown",
      "source": [
        "Q18) In what situations are lists preferred over dictionaries?"
      ],
      "metadata": {
        "id": "Xdunvx89UUzu"
      }
    },
    {
      "cell_type": "markdown",
      "source": [
        "Lists are preferred when:\n",
        "\n",
        "*   Order Matters: Lists maintain the order of elements, making them suitable for ordered collections.\n",
        "\n",
        "*   Sequential Data: When dealing with sequences where positional indexing is essential.\n",
        "\n",
        "*   Homogeneous Data: For collections of items where each element is of the same type or represents similar data."
      ],
      "metadata": {
        "id": "Sx-Zav-gUc7n"
      }
    },
    {
      "cell_type": "markdown",
      "source": [
        "Q19) Why are dictionaries considered unordered, and how does that affect data retrieval?"
      ],
      "metadata": {
        "id": "bCfKXIPDUqVr"
      }
    },
    {
      "cell_type": "markdown",
      "source": [
        "In Python, dictionaries are collections that store data in key-value pairs, allowing for efficient data retrieval based on unique keys. Historically, dictionaries were considered unordered collections, meaning they did not maintain any specific order of elements. This characteristic stemmed from their underlying implementation using hash tables, which prioritize quick access and insertion over element order.\n",
        "\n",
        "Evolution of Dictionary Ordering:\n",
        "\n",
        "*   Before Python 3.7: Dictionaries did not preserve the insertion order of keys. When iterating over a dictionary, the order of elements could appear random, reflecting the internal state of the hash table rather than the sequence of insertion.\n",
        "\n",
        "*   Python 3.7 and Later: Starting with Python 3.7, dictionaries were officially guaranteed to maintain the insertion order of keys. This means that when iterating over a dictionary, items are returned in the order they were added.\n",
        "\n",
        "Impact on Data Retrieval:\n",
        "\n",
        "*   Key-Based Access: Regardless of the version, retrieving a value by its key in a dictionary has always been efficient, with an average-case time complexity of O(1). The ordering of keys does not affect this direct access method.\n",
        "\n",
        "*   Iteration Order: In versions prior to Python 3.7, the lack of guaranteed order meant that iterating over a dictionary's keys, values, or items could yield elements in an unpredictable sequence. This unpredictability required developers to avoid relying on any specific order during iteration.\n",
        "\n",
        "*   Predictable Iteration: With the introduction of insertion-order preservation in Python 3.7, developers can now rely on dictionaries to maintain the order of elements as they were added. This enhancement simplifies tasks that depend on the order of data, such as serialization to JSON or other formats where order is significant.\n",
        "\n",
        "In summary, while dictionaries were initially unordered collections, the evolution of Python has led to the preservation of insertion order in modern versions. This change enhances the predictability of iteration without compromising the efficiency of key-based data retrieval."
      ],
      "metadata": {
        "id": "T2zX7atLU3hZ"
      }
    },
    {
      "cell_type": "markdown",
      "source": [
        "Q20) Explain the difference between a list and a dictionary in terms of data retrieval."
      ],
      "metadata": {
        "id": "LgM_iCJQVANa"
      }
    },
    {
      "cell_type": "markdown",
      "source": [
        "In lists, data retrieval is based on positional indexing, requiring knowledge of the element's position, with a time complexity of O(1) for direct index access. In dictionaries, data retrieval is based on unique keys, allowing for efficient lookups with an average-case time complexity of O(1), regardless of the element's position."
      ],
      "metadata": {
        "id": "FKcJNtwcVDRV"
      }
    },
    {
      "cell_type": "markdown",
      "source": [
        "# Practical Questions"
      ],
      "metadata": {
        "id": "xoXbcHiaWDs3"
      }
    },
    {
      "cell_type": "markdown",
      "source": [
        "Q1)  Write a code to create a string with your name and print it"
      ],
      "metadata": {
        "id": "qUIw7A_bWMbF"
      }
    },
    {
      "cell_type": "code",
      "source": [
        "name=\"Divyansh Mishra\"\n",
        "print(name)"
      ],
      "metadata": {
        "id": "4u1KcYL_WCNH",
        "colab": {
          "base_uri": "https://localhost:8080/"
        },
        "outputId": "61e4fc08-a099-41c6-da65-e832ca53e939"
      },
      "execution_count": null,
      "outputs": [
        {
          "output_type": "stream",
          "name": "stdout",
          "text": [
            "Divyansh Mishra\n"
          ]
        }
      ]
    },
    {
      "cell_type": "markdown",
      "source": [
        "Q2)  Write a code to find the length of the string \"Hello World\""
      ],
      "metadata": {
        "id": "1fUe672vYVR8"
      }
    },
    {
      "cell_type": "code",
      "source": [
        "len(\"Hello World\")"
      ],
      "metadata": {
        "id": "12IIsLA9YV1U",
        "colab": {
          "base_uri": "https://localhost:8080/"
        },
        "outputId": "6bb8abf7-eec2-48d9-c0aa-92399b38a224"
      },
      "execution_count": 1,
      "outputs": [
        {
          "output_type": "execute_result",
          "data": {
            "text/plain": [
              "11"
            ]
          },
          "metadata": {},
          "execution_count": 1
        }
      ]
    },
    {
      "cell_type": "markdown",
      "source": [
        "Q3) Write a code to slice the first 3 characters from the string \"Python Programming\""
      ],
      "metadata": {
        "id": "7r1B4QPeYWko"
      }
    },
    {
      "cell_type": "code",
      "source": [
        "s=\"Python Programming\"\n",
        "s[0:3]"
      ],
      "metadata": {
        "id": "WU1cUi3BYXF9",
        "colab": {
          "base_uri": "https://localhost:8080/",
          "height": 36
        },
        "outputId": "870bac76-da09-49c9-d0ea-9e53a4a38200"
      },
      "execution_count": null,
      "outputs": [
        {
          "output_type": "execute_result",
          "data": {
            "text/plain": [
              "'Pyt'"
            ],
            "application/vnd.google.colaboratory.intrinsic+json": {
              "type": "string"
            }
          },
          "metadata": {},
          "execution_count": 5
        }
      ]
    },
    {
      "cell_type": "markdown",
      "source": [
        "Q4)  Write a code to convert the string \"hello\" to uppercase"
      ],
      "metadata": {
        "id": "dFkU2IBQZoEG"
      }
    },
    {
      "cell_type": "code",
      "source": [
        "s=\"hello\"\n",
        "s.upper()"
      ],
      "metadata": {
        "colab": {
          "base_uri": "https://localhost:8080/",
          "height": 36
        },
        "id": "f_8pjZeQZo3l",
        "outputId": "7364d53d-b61e-462d-cc0b-449c128c0850"
      },
      "execution_count": null,
      "outputs": [
        {
          "output_type": "execute_result",
          "data": {
            "text/plain": [
              "'HELLO'"
            ],
            "application/vnd.google.colaboratory.intrinsic+json": {
              "type": "string"
            }
          },
          "metadata": {},
          "execution_count": 6
        }
      ]
    },
    {
      "cell_type": "markdown",
      "source": [
        "Q5) Write a code to replace the word \"apple\" with \"orange\" in the string \"I like apple\""
      ],
      "metadata": {
        "id": "vjEKHar6ZpaL"
      }
    },
    {
      "cell_type": "code",
      "source": [
        "s=\"I like apple\"\n",
        "s.replace(\"apple\",\"orange\")"
      ],
      "metadata": {
        "colab": {
          "base_uri": "https://localhost:8080/",
          "height": 36
        },
        "id": "xmqHX_cqZqIh",
        "outputId": "35fcb47c-33c1-4481-d11b-bb60476005cc"
      },
      "execution_count": null,
      "outputs": [
        {
          "output_type": "execute_result",
          "data": {
            "text/plain": [
              "'I like orange'"
            ],
            "application/vnd.google.colaboratory.intrinsic+json": {
              "type": "string"
            }
          },
          "metadata": {},
          "execution_count": 7
        }
      ]
    },
    {
      "cell_type": "markdown",
      "source": [
        "Q6) Write a code to create a list with numbers 1 to 5 and print it"
      ],
      "metadata": {
        "id": "K8obKCvxZrAc"
      }
    },
    {
      "cell_type": "code",
      "source": [
        "my_list = list(range(1, 6))\n",
        "my_list\n"
      ],
      "metadata": {
        "colab": {
          "base_uri": "https://localhost:8080/"
        },
        "id": "l9-yZ1SxZrga",
        "outputId": "be41ca2b-f40d-4f17-ae56-7e841dbb6aec"
      },
      "execution_count": null,
      "outputs": [
        {
          "output_type": "execute_result",
          "data": {
            "text/plain": [
              "[1, 2, 3, 4, 5]"
            ]
          },
          "metadata": {},
          "execution_count": 10
        }
      ]
    },
    {
      "cell_type": "markdown",
      "source": [
        "Q7) Write a code to append the number 10 to the list [1, 2, 3, 4]"
      ],
      "metadata": {
        "id": "U3L4-gVrZsBi"
      }
    },
    {
      "cell_type": "code",
      "source": [
        "l=[1,2,3,4]\n",
        "l.append(10)\n",
        "print(l)"
      ],
      "metadata": {
        "colab": {
          "base_uri": "https://localhost:8080/"
        },
        "id": "yxE988_ZZslp",
        "outputId": "f8ae28c1-be18-404b-fc8a-e215e4f043a5"
      },
      "execution_count": null,
      "outputs": [
        {
          "output_type": "stream",
          "name": "stdout",
          "text": [
            "[1, 2, 3, 4, 10]\n"
          ]
        }
      ]
    },
    {
      "cell_type": "markdown",
      "source": [
        "Q8) Write a code to remove the number 3 from the list [1, 2, 3, 4, 5]"
      ],
      "metadata": {
        "id": "um6F6MzsZtHe"
      }
    },
    {
      "cell_type": "code",
      "source": [
        "l=[1,2,3,4,5]\n",
        "l.remove(3)\n",
        "print(l)"
      ],
      "metadata": {
        "colab": {
          "base_uri": "https://localhost:8080/"
        },
        "id": "YJTHHgx6Ztro",
        "outputId": "a6f68ea8-67ff-45e9-9755-6296bc090885"
      },
      "execution_count": null,
      "outputs": [
        {
          "output_type": "stream",
          "name": "stdout",
          "text": [
            "[1, 2, 4, 5]\n"
          ]
        }
      ]
    },
    {
      "cell_type": "markdown",
      "source": [
        "Q9) Write a code to access the second element in the list ['a', 'b', 'c', 'd']"
      ],
      "metadata": {
        "id": "_z2dXCO2ZuIL"
      }
    },
    {
      "cell_type": "code",
      "source": [
        "l=['a','b','c','d']\n",
        "l[1]"
      ],
      "metadata": {
        "id": "DJjfFf_CZukm",
        "colab": {
          "base_uri": "https://localhost:8080/",
          "height": 36
        },
        "outputId": "644d468e-fc49-4672-9ac9-eda0c1cc60c7"
      },
      "execution_count": 2,
      "outputs": [
        {
          "output_type": "execute_result",
          "data": {
            "text/plain": [
              "'b'"
            ],
            "application/vnd.google.colaboratory.intrinsic+json": {
              "type": "string"
            }
          },
          "metadata": {},
          "execution_count": 2
        }
      ]
    },
    {
      "cell_type": "markdown",
      "source": [
        "Q10)  Write a code to reverse the list [10, 20, 30, 40, 50]."
      ],
      "metadata": {
        "id": "8ox7mgX-ZvBw"
      }
    },
    {
      "cell_type": "code",
      "source": [
        "l=[10,20,30,40,50]\n",
        "l.reverse()\n",
        "print(l)\n",
        "\n",
        "# or\n",
        "\n",
        "l=[10,20,30,40,50]\n",
        "l[::-1]"
      ],
      "metadata": {
        "id": "9Uy4dSnnZvhN",
        "colab": {
          "base_uri": "https://localhost:8080/"
        },
        "outputId": "9bd5b211-ce85-44af-cdb2-e64c0ba5a242"
      },
      "execution_count": 4,
      "outputs": [
        {
          "output_type": "stream",
          "name": "stdout",
          "text": [
            "[50, 40, 30, 20, 10]\n"
          ]
        },
        {
          "output_type": "execute_result",
          "data": {
            "text/plain": [
              "[50, 40, 30, 20, 10]"
            ]
          },
          "metadata": {},
          "execution_count": 4
        }
      ]
    },
    {
      "cell_type": "markdown",
      "source": [
        "Q11)  Write a code to create a tuple with the elements 100, 200, 300 and print it."
      ],
      "metadata": {
        "id": "tr76KYXyZv-5"
      }
    },
    {
      "cell_type": "code",
      "source": [
        "t=(100,200,300)\n",
        "print(t)"
      ],
      "metadata": {
        "id": "43p5_a1IZwiR",
        "colab": {
          "base_uri": "https://localhost:8080/"
        },
        "outputId": "f6206665-d577-4774-849c-fcc8b9f08577"
      },
      "execution_count": 5,
      "outputs": [
        {
          "output_type": "stream",
          "name": "stdout",
          "text": [
            "(100, 200, 300)\n"
          ]
        }
      ]
    },
    {
      "cell_type": "markdown",
      "source": [
        "Q12) Write a code to access the second-to-last element of the tuple ('red', 'green', 'blue', 'yellow')."
      ],
      "metadata": {
        "id": "Yo24UqIIZw6I"
      }
    },
    {
      "cell_type": "code",
      "source": [
        "t=('red', 'green', 'blue', 'yellow')\n",
        "t[1:]\n"
      ],
      "metadata": {
        "id": "A6vaDRHPZxYZ",
        "colab": {
          "base_uri": "https://localhost:8080/"
        },
        "outputId": "471d2b7b-565d-4042-88f0-8e34c19ae902"
      },
      "execution_count": 7,
      "outputs": [
        {
          "output_type": "execute_result",
          "data": {
            "text/plain": [
              "('green', 'blue', 'yellow')"
            ]
          },
          "metadata": {},
          "execution_count": 7
        }
      ]
    },
    {
      "cell_type": "markdown",
      "source": [
        "Q 13)  Write a code to find the minimum number in the tuple (10, 20, 5, 15)."
      ],
      "metadata": {
        "id": "wvsi96XrbFwS"
      }
    },
    {
      "cell_type": "code",
      "source": [
        "t=(10,20,5,15)\n",
        "min(t)\n",
        "\n",
        "#or\n",
        "\n",
        "t=list(t)\n",
        "t.sort()\n",
        "print(t[0])"
      ],
      "metadata": {
        "id": "tJGGeL-ebGPx",
        "colab": {
          "base_uri": "https://localhost:8080/"
        },
        "outputId": "a36f524b-0c3d-4822-c3d1-6b36d0a9b4c9"
      },
      "execution_count": 10,
      "outputs": [
        {
          "output_type": "stream",
          "name": "stdout",
          "text": [
            "5\n"
          ]
        }
      ]
    },
    {
      "cell_type": "markdown",
      "source": [
        "Q 14) Write a code to find the index of the element \"cat\" in the tuple ('dog', 'cat', 'rabbit')."
      ],
      "metadata": {
        "id": "m35pGEBZbG0r"
      }
    },
    {
      "cell_type": "code",
      "source": [
        "t=('dog', 'cat', 'rabbit')\n",
        "t.index('cat')"
      ],
      "metadata": {
        "id": "0RucieJXbHTK",
        "colab": {
          "base_uri": "https://localhost:8080/"
        },
        "outputId": "acd94792-a805-4846-b6b0-7c7e29f3716a"
      },
      "execution_count": 11,
      "outputs": [
        {
          "output_type": "execute_result",
          "data": {
            "text/plain": [
              "1"
            ]
          },
          "metadata": {},
          "execution_count": 11
        }
      ]
    },
    {
      "cell_type": "markdown",
      "source": [
        "Q  15)  Write a code to create a tuple containing three different fruits and check if \"kiwi\" is in it."
      ],
      "metadata": {
        "id": "t2jgqcQwbHxT"
      }
    },
    {
      "cell_type": "code",
      "source": [
        "t=(\"apple\",\"banana\",\"mango\")\n",
        "\"kiwi\" in t"
      ],
      "metadata": {
        "id": "NGq8iL5HbIqU",
        "colab": {
          "base_uri": "https://localhost:8080/"
        },
        "outputId": "f59b1f21-2821-4b1c-dc6f-da0d61817bee"
      },
      "execution_count": 12,
      "outputs": [
        {
          "output_type": "execute_result",
          "data": {
            "text/plain": [
              "False"
            ]
          },
          "metadata": {},
          "execution_count": 12
        }
      ]
    },
    {
      "cell_type": "markdown",
      "source": [
        "Q  16)  Write a code to create a set with the elements 'a', 'b', 'c' and print it."
      ],
      "metadata": {
        "id": "irE4AUv9bJKG"
      }
    },
    {
      "cell_type": "code",
      "source": [
        "s={\"a\",\"b\",\"c\"}\n",
        "print(s)"
      ],
      "metadata": {
        "id": "hgmTwNh3bJmr",
        "colab": {
          "base_uri": "https://localhost:8080/"
        },
        "outputId": "e26505ec-4c46-4ba1-c330-c7e2debec575"
      },
      "execution_count": 13,
      "outputs": [
        {
          "output_type": "stream",
          "name": "stdout",
          "text": [
            "{'a', 'c', 'b'}\n"
          ]
        }
      ]
    },
    {
      "cell_type": "markdown",
      "source": [
        "Q 17)  Write a code to clear all elements from the set {1, 2, 3, 4, 5}."
      ],
      "metadata": {
        "id": "-RdG0UxGbKE4"
      }
    },
    {
      "cell_type": "code",
      "source": [
        "s={1,2,3,4,5}\n",
        "s.clear()\n",
        "print(s)\n",
        "type(s)"
      ],
      "metadata": {
        "id": "pOIXDV-rbKih",
        "colab": {
          "base_uri": "https://localhost:8080/"
        },
        "outputId": "b5b9a3eb-e60f-4c9f-ff6a-a2a7ec7197c1"
      },
      "execution_count": 16,
      "outputs": [
        {
          "output_type": "stream",
          "name": "stdout",
          "text": [
            "set()\n"
          ]
        },
        {
          "output_type": "execute_result",
          "data": {
            "text/plain": [
              "set"
            ]
          },
          "metadata": {},
          "execution_count": 16
        }
      ]
    },
    {
      "cell_type": "markdown",
      "source": [
        "Q  18) Write a code to remove the element 4 from the set {1, 2, 3, 4}.\n"
      ],
      "metadata": {
        "id": "trG6FRC2bLEF"
      }
    },
    {
      "cell_type": "code",
      "source": [
        "s={1,2,3,4}\n",
        "s.remove(4)\n",
        "print(s)"
      ],
      "metadata": {
        "id": "PKY4GsmabLqV",
        "colab": {
          "base_uri": "https://localhost:8080/"
        },
        "outputId": "d194b65f-82d7-46b5-c203-68e05860a9e7"
      },
      "execution_count": 17,
      "outputs": [
        {
          "output_type": "stream",
          "name": "stdout",
          "text": [
            "{1, 2, 3}\n"
          ]
        }
      ]
    },
    {
      "cell_type": "markdown",
      "source": [
        "Q  19)  Write a code to find the union of two sets {1, 2, 3} and {3, 4, 5}."
      ],
      "metadata": {
        "id": "1lqYTxfbbMxs"
      }
    },
    {
      "cell_type": "code",
      "source": [
        "r={1,2,3}\n",
        "s={3,4,5}\n",
        "r.union(s)\n",
        "\n",
        "#or\n",
        "r|s"
      ],
      "metadata": {
        "id": "FZ8HHQxEbNOi",
        "colab": {
          "base_uri": "https://localhost:8080/"
        },
        "outputId": "8a043c45-2cc3-49d6-b42e-20101975efde"
      },
      "execution_count": 19,
      "outputs": [
        {
          "output_type": "execute_result",
          "data": {
            "text/plain": [
              "{1, 2, 3, 4, 5}"
            ]
          },
          "metadata": {},
          "execution_count": 19
        }
      ]
    },
    {
      "cell_type": "markdown",
      "source": [
        "Q  20) Write a code to find the intersection of two sets {1, 2, 3} and {2, 3, 4}."
      ],
      "metadata": {
        "id": "TdnZUEqabNqn"
      }
    },
    {
      "cell_type": "code",
      "source": [
        "r={1,2,3}\n",
        "s={2,3,4}\n",
        "r.intersection(s)\n",
        "\n",
        "# or\n",
        "r&s"
      ],
      "metadata": {
        "id": "Wa5ZD-i2bOZt",
        "colab": {
          "base_uri": "https://localhost:8080/"
        },
        "outputId": "a83725ee-1a48-4ea9-f72a-bcd9e3a6f4e8"
      },
      "execution_count": 22,
      "outputs": [
        {
          "output_type": "execute_result",
          "data": {
            "text/plain": [
              "{2, 3}"
            ]
          },
          "metadata": {},
          "execution_count": 22
        }
      ]
    },
    {
      "cell_type": "markdown",
      "source": [
        "Q 21) Write a code to create a dictionary with the keys \"name\", \"age\", and \"city\", and print it."
      ],
      "metadata": {
        "id": "VvEpZVX1bO6g"
      }
    },
    {
      "cell_type": "code",
      "source": [
        "d={\"name\":\"Divyansh\",\"age\":20,\"city\":\"Gorakhpur\"}\n",
        "print(d)"
      ],
      "metadata": {
        "id": "vpoZFbHdbPWk",
        "colab": {
          "base_uri": "https://localhost:8080/"
        },
        "outputId": "855b7e3b-daa0-4480-99cc-9f4cd446ee44"
      },
      "execution_count": 23,
      "outputs": [
        {
          "output_type": "stream",
          "name": "stdout",
          "text": [
            "{'name': 'Divyansh', 'age': 20, 'city': 'Gorakhpur'}\n"
          ]
        }
      ]
    },
    {
      "cell_type": "markdown",
      "source": [
        "Q 22) Write a code to add a new key-value pair \"country\": \"USA\" to the dictionary {'name': 'John', 'age': 25}"
      ],
      "metadata": {
        "id": "d_QD7Y8_bQZb"
      }
    },
    {
      "cell_type": "code",
      "source": [
        "d={'name': 'John', 'age': 25}\n",
        "d[\"country\"]=\"USA\"\n",
        "print(d)\n",
        "\n",
        "#or\n",
        "d.update({\"country\":\"USA\"})\n",
        "print(d)\n"
      ],
      "metadata": {
        "id": "iwsNF5F2bQ11",
        "colab": {
          "base_uri": "https://localhost:8080/"
        },
        "outputId": "854e81ef-adec-49b8-f2ee-53e2403d418c"
      },
      "execution_count": 25,
      "outputs": [
        {
          "output_type": "stream",
          "name": "stdout",
          "text": [
            "{'name': 'John', 'age': 25, 'country': 'USA'}\n",
            "{'name': 'John', 'age': 25, 'country': 'USA'}\n"
          ]
        }
      ]
    },
    {
      "cell_type": "markdown",
      "source": [
        "Q  23)  Write a code to access the value associated with the key \"name\" in the dictionary {'name': 'Alice', 'age': 30}."
      ],
      "metadata": {
        "id": "tFKRoIfibRPA"
      }
    },
    {
      "cell_type": "code",
      "source": [
        "d={'name': 'Alice', 'age': 30}\n",
        "d['name']"
      ],
      "metadata": {
        "id": "CgoYKsIxbRuQ",
        "colab": {
          "base_uri": "https://localhost:8080/",
          "height": 36
        },
        "outputId": "f9a34782-ef24-4000-e3b8-99fae1c058e7"
      },
      "execution_count": 27,
      "outputs": [
        {
          "output_type": "execute_result",
          "data": {
            "text/plain": [
              "'Alice'"
            ],
            "application/vnd.google.colaboratory.intrinsic+json": {
              "type": "string"
            }
          },
          "metadata": {},
          "execution_count": 27
        }
      ]
    },
    {
      "cell_type": "markdown",
      "source": [
        "Q  24) Write a code to remove the key \"age\" from the dictionary {'name': 'Bob', 'age': 22, 'city': 'New York'}."
      ],
      "metadata": {
        "id": "RNCU_sUUbSQA"
      }
    },
    {
      "cell_type": "code",
      "source": [
        "d={'name': 'Bob', 'age': 22, 'city': 'New York'}\n",
        "d.pop(\"age\")\n",
        "print(d)\n",
        "\n",
        "#or\n",
        "d={'name': 'Bob', 'age': 22, 'city': 'New York'}\n",
        "del d[\"age\"]\n",
        "print(d)\n"
      ],
      "metadata": {
        "id": "aeA8Gaf5bSsY",
        "colab": {
          "base_uri": "https://localhost:8080/"
        },
        "outputId": "b250fa22-41c5-47d2-95e9-de9a5fc695bb"
      },
      "execution_count": 30,
      "outputs": [
        {
          "output_type": "stream",
          "name": "stdout",
          "text": [
            "{'name': 'Bob', 'city': 'New York'}\n",
            "{'name': 'Bob', 'city': 'New York'}\n"
          ]
        }
      ]
    },
    {
      "cell_type": "markdown",
      "source": [
        "Q 25) Write a code to check if the key \"city\" exists in the dictionary {'name': 'Alice', 'city': 'Paris'}."
      ],
      "metadata": {
        "id": "8EAG58ldbTNP"
      }
    },
    {
      "cell_type": "code",
      "source": [
        "d={'name': 'Alice', 'city': 'Paris'}\n",
        "\"city\" in d"
      ],
      "metadata": {
        "id": "XIOmWk0VbTuy",
        "colab": {
          "base_uri": "https://localhost:8080/"
        },
        "outputId": "8978ee79-4c1b-4abc-bdad-6180d3df23ae"
      },
      "execution_count": 28,
      "outputs": [
        {
          "output_type": "execute_result",
          "data": {
            "text/plain": [
              "True"
            ]
          },
          "metadata": {},
          "execution_count": 28
        }
      ]
    },
    {
      "cell_type": "markdown",
      "source": [
        "Q 26) Write a code to create a list, a tuple, and a dictionary, and print them all."
      ],
      "metadata": {
        "id": "7vL2yP0wbUz8"
      }
    },
    {
      "cell_type": "code",
      "source": [
        "l=[1,2,3,4]\n",
        "print(l)\n",
        "t=(1,2,3,4)\n",
        "print(t)\n",
        "d={\"name\":\"Divyansh\",\"age\":20,\"city\":\"Gorakhpur\"}\n",
        "print(d)"
      ],
      "metadata": {
        "id": "s8cfmR-MbVN-",
        "colab": {
          "base_uri": "https://localhost:8080/"
        },
        "outputId": "2f66b594-9fda-4698-e4f0-19e71eedd9cd"
      },
      "execution_count": 31,
      "outputs": [
        {
          "output_type": "stream",
          "name": "stdout",
          "text": [
            "[1, 2, 3, 4]\n",
            "(1, 2, 3, 4)\n",
            "{'name': 'Divyansh', 'age': 20, 'city': 'Gorakhpur'}\n"
          ]
        }
      ]
    },
    {
      "cell_type": "markdown",
      "source": [
        "Q 27)  Write a code to create a list of 5 random numbers between 1 and 100, sort it in ascending order, and print the result (replaced)"
      ],
      "metadata": {
        "id": "0nFRmOiGbVoD"
      }
    },
    {
      "cell_type": "code",
      "source": [
        "l=[1,5,90,34,76]\n",
        "l.sort()\n",
        "print(l)"
      ],
      "metadata": {
        "id": "UaFwmy5KbV_d",
        "colab": {
          "base_uri": "https://localhost:8080/"
        },
        "outputId": "4c3b6f8e-3586-4552-8490-170df0f943a3"
      },
      "execution_count": 32,
      "outputs": [
        {
          "output_type": "stream",
          "name": "stdout",
          "text": [
            "[1, 5, 34, 76, 90]\n"
          ]
        }
      ]
    },
    {
      "cell_type": "markdown",
      "source": [
        "Q 28) Write a code to create a list with strings and print the element at the third index."
      ],
      "metadata": {
        "id": "mWzgH04_bWfa"
      }
    },
    {
      "cell_type": "code",
      "source": [
        "l=[\"apple\",\"banana\",\"mango\",\"carrot\",\"raddish\"]\n",
        "l[3]"
      ],
      "metadata": {
        "id": "vwen2MTsbXJF",
        "colab": {
          "base_uri": "https://localhost:8080/",
          "height": 36
        },
        "outputId": "67600244-40c6-4dc1-ab55-6378a88b274f"
      },
      "execution_count": 40,
      "outputs": [
        {
          "output_type": "execute_result",
          "data": {
            "text/plain": [
              "'carrot'"
            ],
            "application/vnd.google.colaboratory.intrinsic+json": {
              "type": "string"
            }
          },
          "metadata": {},
          "execution_count": 40
        }
      ]
    },
    {
      "cell_type": "markdown",
      "source": [
        "Q 29)  Write a code to combine two dictionaries into one and print the result."
      ],
      "metadata": {
        "id": "SN4b13n-bXl8"
      }
    },
    {
      "cell_type": "code",
      "source": [
        "d1={'name': 'Alice', 'age': 30}\n",
        "d2={'name': 'Bob', 'age': 22, 'city': 'New York'}\n",
        "d1.update(d2)\n",
        "print(d1)\n",
        "\n",
        "#or\n",
        "d1={'name': 'Alice', 'age': 30}\n",
        "d2={'name': 'Bob', 'age': 22, 'city': 'New York'}\n",
        "d3={**d1,**d2}\n",
        "print(d3)"
      ],
      "metadata": {
        "id": "hOlbrss2bYA_",
        "colab": {
          "base_uri": "https://localhost:8080/"
        },
        "outputId": "b8e0bd77-16ec-47bf-c19d-3a8e96c118ec"
      },
      "execution_count": 33,
      "outputs": [
        {
          "output_type": "stream",
          "name": "stdout",
          "text": [
            "{'name': 'Bob', 'age': 22, 'city': 'New York'}\n",
            "{'name': 'Bob', 'age': 22, 'city': 'New York'}\n"
          ]
        }
      ]
    },
    {
      "cell_type": "markdown",
      "source": [
        "Q 30)  Write a code to convert a list of strings into a set."
      ],
      "metadata": {
        "id": "LVu6-hxUelRe"
      }
    },
    {
      "cell_type": "code",
      "source": [
        "l=['apple','banana','mango','carrot','raddish', (1,4,6,8,)]\n",
        "s=set(l)\n",
        "print(s)"
      ],
      "metadata": {
        "id": "AhwQ47pIelwt",
        "colab": {
          "base_uri": "https://localhost:8080/"
        },
        "outputId": "366525cd-33a9-442e-cd3e-d7dd29e2526e"
      },
      "execution_count": 39,
      "outputs": [
        {
          "output_type": "stream",
          "name": "stdout",
          "text": [
            "{'apple', (1, 4, 6, 8), 'banana', 'carrot', 'raddish', 'mango'}\n"
          ]
        }
      ]
    }
  ]
}