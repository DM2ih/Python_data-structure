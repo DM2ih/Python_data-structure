{
  "nbformat": 4,
  "nbformat_minor": 0,
  "metadata": {
    "colab": {
      "provenance": []
    },
    "kernelspec": {
      "name": "python3",
      "display_name": "Python 3"
    },
    "language_info": {
      "name": "python"
    }
  },
  "cells": [
    {
      "cell_type": "markdown",
      "source": [
        "Q1) What is the difference between interpreted and compiled languages?\n",
        "\n",
        "*   Compiled languages translate the entire source code into machine code before execution, resulting in an independent executable file. This process typically leads to faster runtime performance. Examples include C and C++. Interpreted languages, on the other hand, translate source code into machine code at runtime, executing the code line by line. This allows for greater flexibility and ease of debugging but may result in slower execution speeds. Python and JavaScript are examples of interpreted languages."
      ],
      "metadata": {
        "id": "t3zPubTAv4Ci"
      }
    },
    {
      "cell_type": "markdown",
      "source": [
        "Q2) What is exception handling in Python?\n",
        "\n",
        "*   Exception handling in Python involves using try and except blocks to catch and manage errors that occur during program execution. This mechanism allows developers to gracefully handle unexpected situations without crashing the program."
      ],
      "metadata": {
        "id": "l0jpHLKHv34o"
      }
    },
    {
      "cell_type": "markdown",
      "source": [
        "Q3)  What is the purpose of the finally block in exception handling?\n",
        "\n",
        "*   The finally block in Python is used to define cleanup actions that must be executed under all circumstances, regardless of whether an exception was raised or not. This is particularly useful for releasing resources like file handles or network connections."
      ],
      "metadata": {
        "id": "dTw-PBgbv3uL"
      }
    },
    {
      "cell_type": "markdown",
      "source": [
        "Q4) What is logging in Python?\n",
        "\n",
        "*   Logging in Python refers to the process of tracking events that occur during program execution. The built-in logging module provides a flexible framework for emitting log messages from Python programs, which can be critical for debugging and monitoring applications."
      ],
      "metadata": {
        "id": "DGQI1LEGv3gd"
      }
    },
    {
      "cell_type": "markdown",
      "source": [
        "Q5) What is the significance of the __ del __ method in Python?\n",
        "\n",
        "*   The __ del __ method in Python is a special method known as a destructor. It is called when an object is about to be destroyed, allowing for the execution of cleanup operations, such as closing files or releasing resources."
      ],
      "metadata": {
        "id": "YpA8ouQiv3UO"
      }
    },
    {
      "cell_type": "markdown",
      "source": [
        "Q6) What is the difference between import and from..import in Python?\n",
        "\n",
        "*   The import statement brings an entire module into the current namespace, requiring you to use the module name when accessing its attributes (e.g., module_name.function_name()). The from..import statement allows you to import specific attributes or functions directly into the current namespace, enabling direct access without the module prefix (e.g., function_name())."
      ],
      "metadata": {
        "id": "g2rvL0KKvrsV"
      }
    },
    {
      "cell_type": "markdown",
      "source": [
        "Q7) How can you handle multiple exceptions in Python?\n",
        "\n",
        "In Python, you can handle multiple exceptions by specifying a tuple containing the exception types in a single except clause. For example:\n",
        "\n"
      ],
      "metadata": {
        "id": "Lc93cRQcv2NL"
      }
    },
    {
      "cell_type": "code",
      "source": [
        "try:\n",
        "    # Code that may raise an exception\n",
        "    # For example:\n",
        "    x = 1 / 0  # This will raise a ZeroDivisionError\n",
        "except (TypeError, ValueError) as e:\n",
        "    # Handle TypeError and ValueError\n",
        "    print(\"An error occurred:\", e)"
      ],
      "metadata": {
        "colab": {
          "base_uri": "https://localhost:8080/",
          "height": 218
        },
        "id": "6KG380S5xJYE",
        "outputId": "d44a7b60-1f61-49c2-c0f8-e60f951724cb"
      },
      "execution_count": null,
      "outputs": [
        {
          "output_type": "error",
          "ename": "ZeroDivisionError",
          "evalue": "division by zero",
          "traceback": [
            "\u001b[0;31m---------------------------------------------------------------------------\u001b[0m",
            "\u001b[0;31mZeroDivisionError\u001b[0m                         Traceback (most recent call last)",
            "\u001b[0;32m<ipython-input-2-fd9f6eeb036f>\u001b[0m in \u001b[0;36m<cell line: 0>\u001b[0;34m()\u001b[0m\n\u001b[1;32m      2\u001b[0m     \u001b[0;31m# Code that may raise an exception\u001b[0m\u001b[0;34m\u001b[0m\u001b[0;34m\u001b[0m\u001b[0m\n\u001b[1;32m      3\u001b[0m     \u001b[0;31m# For example:\u001b[0m\u001b[0;34m\u001b[0m\u001b[0;34m\u001b[0m\u001b[0m\n\u001b[0;32m----> 4\u001b[0;31m     \u001b[0mx\u001b[0m \u001b[0;34m=\u001b[0m \u001b[0;36m1\u001b[0m \u001b[0;34m/\u001b[0m \u001b[0;36m0\u001b[0m  \u001b[0;31m# This will raise a ZeroDivisionError\u001b[0m\u001b[0;34m\u001b[0m\u001b[0;34m\u001b[0m\u001b[0m\n\u001b[0m\u001b[1;32m      5\u001b[0m \u001b[0;32mexcept\u001b[0m \u001b[0;34m(\u001b[0m\u001b[0mTypeError\u001b[0m\u001b[0;34m,\u001b[0m \u001b[0mValueError\u001b[0m\u001b[0;34m)\u001b[0m \u001b[0;32mas\u001b[0m \u001b[0me\u001b[0m\u001b[0;34m:\u001b[0m\u001b[0;34m\u001b[0m\u001b[0;34m\u001b[0m\u001b[0m\n\u001b[1;32m      6\u001b[0m     \u001b[0;31m# Handle TypeError and ValueError\u001b[0m\u001b[0;34m\u001b[0m\u001b[0;34m\u001b[0m\u001b[0m\n",
            "\u001b[0;31mZeroDivisionError\u001b[0m: division by zero"
          ]
        }
      ]
    },
    {
      "cell_type": "markdown",
      "source": [
        "This approach allows you to manage different exceptions using a unified block of code."
      ],
      "metadata": {
        "id": "Z9XW28ppvrhs"
      }
    },
    {
      "cell_type": "markdown",
      "source": [
        "Q8) What is the purpose of the with statement when handling files in Python?\n",
        "\n",
        "*   The with statement in Python simplifies file handling by automatically managing the opening and closing of files. When you use the with statement, the file is properly closed after its suite finishes, even if an exception is raised. This ensures that resources are released promptly."
      ],
      "metadata": {
        "id": "bk7dxAASvrXS"
      }
    },
    {
      "cell_type": "markdown",
      "source": [
        "Q9) What is the difference between multithreading and multiprocessing?\n",
        "\n",
        "*   Multithreading involves running multiple threads within a single process, sharing the same memory space. It's suitable for I/O-bound tasks where threads spend time waiting for external events. Multiprocessing involves running multiple processes, each with its own memory space, making it ideal for CPU-bound tasks that require parallel execution to utilize multiple CPU cores effectively."
      ],
      "metadata": {
        "id": "Esvkqw0pvrNq"
      }
    },
    {
      "cell_type": "markdown",
      "source": [
        "Q10) What are the advantages of using logging in a program?\n",
        "\n",
        "*   Logging provides several benefits, including improved detection of problems, reduced response times for repairing issues, increased transparency throughout the system, and a better customer experience. It also aids in debugging and monitoring the application's behavior over time."
      ],
      "metadata": {
        "id": "WjVqorIHvrDQ"
      }
    },
    {
      "cell_type": "markdown",
      "source": [
        "Q11) What is memory management in Python?\n",
        "\n",
        "*   Memory management in Python involves a private heap containing all Python objects and data structures. The management of this private heap is ensured internally by the Python memory manager, which handles aspects like sharing, segmentation, preallocation, and caching."
      ],
      "metadata": {
        "id": "BBik-8OEvq3j"
      }
    },
    {
      "cell_type": "markdown",
      "source": [
        "Q12) What are the basic steps involved in exception handling in Python?\n",
        "\n",
        "The basic steps in exception handling in Python are:\n",
        "\n",
        "*   Try Block: Wrap the code that might raise an exception within a try block.\n",
        "\n",
        "*   Except Block: After the try block, include one or more except clauses to handle specific exceptions that may have been raised.\n",
        "\n",
        "*   Else Block (Optional): An else block can follow the except blocks, which will execute if no exceptions are raised in the try block.\n",
        "\n",
        "*   Finally Block (Optional): A finally block can be included to execute code that must run regardless of whether an exception was raised or not.\n",
        "\n",
        "This structure allows for robust error handling and resource management in Python programs."
      ],
      "metadata": {
        "id": "OzzEpwBdvqqj"
      }
    },
    {
      "cell_type": "markdown",
      "source": [
        "Q13) Why is memory management important in Python?\n",
        "\n",
        "*   Effective memory management is crucial in Python to ensure that applications run efficiently and do not consume more memory than necessary. Proper memory management helps prevent memory leaks, reduces fragmentation, and ensures that unused objects are promptly collected, maintaining optimal performance."
      ],
      "metadata": {
        "id": "NQl89ipLvqfo"
      }
    },
    {
      "cell_type": "markdown",
      "source": [
        "Q14) What is the role of try and except in exception handling?\n",
        "\n",
        "*   In Python, the try block is used to wrap code that might raise an exception, while the except block is used to handle specific exceptions that occur within the try block. This structure allows developers to manage errors gracefully without terminating the program abruptly."
      ],
      "metadata": {
        "id": "8rwMboJ0vqUc"
      }
    },
    {
      "cell_type": "markdown",
      "source": [
        "Q15) How does Python's garbage collection system work?\n",
        "\n",
        "Python's garbage collection system primarily uses two mechanisms:\n",
        "\n",
        "*   __Reference__ __Counting__: Each object has a count of references pointing to it. When this count drops to zero, the object is deallocated.\n",
        "\n",
        "*   __Generational__ __Garbage__ __Collection__: Objects are categorized into three generations. New objects start in the first generation. If they survive garbage collection cycles, they are promoted to older generations. The garbage collector runs more frequently on younger generations, optimizing performance by focusing on objects that are more likely to become unreachable quickly."
      ],
      "metadata": {
        "id": "zFAl0cbFvqKC"
      }
    },
    {
      "cell_type": "markdown",
      "source": [
        "Q16) What is the purpose of the else block in exception handling?\n",
        "\n",
        "*   The else block in Python's exception handling is executed if the code in the try block does not raise any exceptions. It is useful for code that should run only when no errors occur, keeping the try block focused solely on operations that might raise exceptions."
      ],
      "metadata": {
        "id": "po-Bw-BLvqAW"
      }
    },
    {
      "cell_type": "markdown",
      "source": [
        "Q17) What are the common logging levels in Python?\n",
        "\n",
        "Python's logging module defines five standard levels indicating the severity of events:\n",
        "\n",
        "*   DEBUG: Detailed information, typically of interest only when diagnosing problems.\n",
        "\n",
        "*   INFO: Confirmation that things are working as expected.\n",
        "*   WARNING: An indication that something unexpected happened or indicative of some problem in the near future (e.g., 'disk space low'). The software is still working as expected.\n",
        "\n",
        "*   ERROR: Due to a more serious problem, the software has not been able to perform some function.\n",
        "\n",
        "*    CRITICAL: A serious error, indicating that the program itself may be unable to continue running."
      ],
      "metadata": {
        "id": "J2zrCRi0vp1-"
      }
    },
    {
      "cell_type": "markdown",
      "source": [
        "Q18) What is the difference between os.fork() and the multiprocessing module in Python?\n",
        "\n",
        "*   os.fork() is a low-level method to create a child process by duplicating the current process. It is available only on Unix-like systems and can be problematic in multithreaded programs.\n",
        "\n",
        "*   The multiprocessing module provides a higher-level interface for spawning processes that is portable across Unix and Windows. It allows the creation of processes using different methods (fork, spawn, forkserver) and manages inter-process communication, making it more suitable for cross-platform applications."
      ],
      "metadata": {
        "id": "jF1mwyZovpvC"
      }
    },
    {
      "cell_type": "markdown",
      "source": [
        "Q19) What is the importance of closing a file in Python?\n",
        "\n",
        "Closing a file in Python is crucial because it:\n",
        "\n",
        "*   Flushes any unwritten information to the file.\n",
        "\n",
        "*   Releases system resources associated with the file.\n",
        "\n",
        "*   Ensures that changes made to the file are properly saved and visible to other processes.\n",
        "\n",
        "Neglecting to close a file can lead to data loss or corruption, especially if the program terminates unexpectedly."
      ],
      "metadata": {
        "id": "XTYjdn_hvpoa"
      }
    },
    {
      "cell_type": "markdown",
      "source": [
        "Q20) What is the difference between file.read() and file.readline() in Python?\n",
        "\n",
        "*   file.read(size): Reads the entire file or up to size bytes if specified, returning them as a single string.\n",
        "\n",
        "*   file.readline(): Reads the next line from the file, returning it as a string. This method is useful for reading files line by line."
      ],
      "metadata": {
        "id": "Ynq3ijywvpiQ"
      }
    },
    {
      "cell_type": "markdown",
      "source": [
        "Q21) What is the logging module in Python used for?\n",
        "\n",
        "*   The logging module in Python provides a flexible framework for emitting log messages from Python programs. It is widely used by libraries and applications to track events, errors, and other significant occurrences during program execution."
      ],
      "metadata": {
        "id": "3X7-NQHdvpcT"
      }
    },
    {
      "cell_type": "markdown",
      "source": [
        "Q22) What is the os module in Python used for in file handling?\n",
        "\n",
        "*   The os module in Python provides a portable way to interact with the operating system, offering functions to create, remove, and manage files and directories. It allows for operations like changing the current working directory, listing directory contents, and manipulating paths."
      ],
      "metadata": {
        "id": "5g0PBb09vpVe"
      }
    },
    {
      "cell_type": "markdown",
      "source": [
        "Q23) What are the challenges associated with memory management in Python?\n",
        "\n",
        "Python's memory management, while automated, presents several challenges:\n",
        "\n",
        "*   Reference Cycles: Objects that reference each other can create cycles, preventing the reference count from reaching zero. This necessitates garbage collection to reclaim memory, but detecting and collecting these cycles can be complex and may not always be immediate.\n",
        "\n",
        "*   Memory Fragmentation: Frequent allocation and deallocation of objects of varying sizes can lead to fragmented memory, where free memory is divided into small, non-contiguous blocks. This fragmentation can degrade performance and complicate the allocation of large objects.\n",
        "\n",
        "*   Interaction with C Extensions: Extensions written in C may not adhere to Python's memory management protocols, leading to potential memory leaks or corruption if they allocate memory using standard C functions instead of Python's memory allocators."
      ],
      "metadata": {
        "id": "DvJyR9B5vpNu"
      }
    },
    {
      "cell_type": "markdown",
      "source": [
        "Q24) How do you raise an exception manually in Python?\n",
        "\n",
        "*   In Python, you can manually raise an exception using the raise statement, specifying the exception type and an optional error message.\n",
        "\n",
        "For example:"
      ],
      "metadata": {
        "id": "wp8OFRXEvo9R"
      }
    },
    {
      "cell_type": "code",
      "source": [
        "raise ValueError(\"A specific error message\")\n"
      ],
      "metadata": {
        "colab": {
          "base_uri": "https://localhost:8080/",
          "height": 146
        },
        "id": "yrG708ZP16gL",
        "outputId": "9537795d-b3ec-4410-aad4-b6c4891cbc0b"
      },
      "execution_count": null,
      "outputs": [
        {
          "output_type": "error",
          "ename": "ValueError",
          "evalue": "A specific error message",
          "traceback": [
            "\u001b[0;31m---------------------------------------------------------------------------\u001b[0m",
            "\u001b[0;31mValueError\u001b[0m                                Traceback (most recent call last)",
            "\u001b[0;32m<ipython-input-3-fd205d36a597>\u001b[0m in \u001b[0;36m<cell line: 0>\u001b[0;34m()\u001b[0m\n\u001b[0;32m----> 1\u001b[0;31m \u001b[0;32mraise\u001b[0m \u001b[0mValueError\u001b[0m\u001b[0;34m(\u001b[0m\u001b[0;34m\"A specific error message\"\u001b[0m\u001b[0;34m)\u001b[0m\u001b[0;34m\u001b[0m\u001b[0;34m\u001b[0m\u001b[0m\n\u001b[0m",
            "\u001b[0;31mValueError\u001b[0m: A specific error message"
          ]
        }
      ]
    },
    {
      "cell_type": "markdown",
      "source": [
        "This will raise a ValueError with the provided message. It's advisable to raise the most specific exception type that accurately represents the error condition."
      ],
      "metadata": {
        "id": "Go7m1vsSvos6"
      }
    },
    {
      "cell_type": "markdown",
      "source": [
        "Q25) Why is it important to use multithreading in certain applications?\n",
        "\n",
        "Multithreading is beneficial in applications where tasks can run concurrently, particularly when dealing with I/O-bound operations. By allowing multiple threads to operate simultaneously, multithreading can:\n",
        "\n",
        "*   Improve Responsiveness: In user interfaces, multithreading ensures that the application remains responsive by handling tasks like user input, data loading, or background computations concurrently.\n",
        "\n",
        "*   Efficient Resource Utilization: Threads can perform tasks like reading from or writing to files, network operations, or database interactions concurrently, making better use of system resources and reducing idle time.\n",
        "\n",
        "*   Simplified Program Design: For applications that require performing multiple tasks simultaneously, such as a server handling multiple client requests, multithreading can lead to more straightforward and maintainable code.\n",
        "\n",
        "However, it's important to note that Python's Global Interpreter Lock (GIL) can limit the effectiveness of multithreading for CPU-bound tasks. In such cases, multiprocessing or other parallelism strategies might be more appropriate."
      ],
      "metadata": {
        "id": "GZBiSRWX2F58"
      }
    },
    {
      "cell_type": "markdown",
      "source": [
        "# PRACTICAL QUESTIONS"
      ],
      "metadata": {
        "id": "6ulVJSMu2WK5"
      }
    },
    {
      "cell_type": "markdown",
      "source": [
        "1. How can you open a file for writing in Python and write a string to it?"
      ],
      "metadata": {
        "id": "LcpJaf1D2V1l"
      }
    },
    {
      "cell_type": "code",
      "execution_count": 60,
      "metadata": {
        "id": "p_0c53ubvh5U"
      },
      "outputs": [],
      "source": [
        "with open('example.txt', 'w') as file:\n",
        "    file.write('Hello, World!')\n"
      ]
    },
    {
      "cell_type": "markdown",
      "source": [
        "2. Write a Python program to read the contents of a file and print each line."
      ],
      "metadata": {
        "id": "aHqxAf8O2cSN"
      }
    },
    {
      "cell_type": "code",
      "source": [
        "with open('example.txt', 'r') as file:\n",
        "    for line in file:\n",
        "        print(line, end='')\n"
      ],
      "metadata": {
        "id": "qQZYjj7I2cv1",
        "colab": {
          "base_uri": "https://localhost:8080/"
        },
        "outputId": "76af1f12-6b11-4a6b-bfa5-da7e444d7cc6"
      },
      "execution_count": 61,
      "outputs": [
        {
          "output_type": "stream",
          "name": "stdout",
          "text": [
            "Hello, World!"
          ]
        }
      ]
    },
    {
      "cell_type": "markdown",
      "source": [
        "3. How would you handle a case where the file doesn't exist while trying to open it for reading?"
      ],
      "metadata": {
        "id": "jgYudTYS2dHh"
      }
    },
    {
      "cell_type": "code",
      "source": [
        "try:\n",
        "    with open('nonexistent_file.txt', 'r') as file:\n",
        "        content = file.read()\n",
        "except FileNotFoundError:\n",
        "    print('The file does not exist.')\n",
        "\n",
        "\n",
        "# or, to check if the file is empty after potentially creating it:\n",
        "with open('nonexistent_file2.txt', 'a+') as file:  # Use 'a+' to open in append and read mode\n",
        "    file.seek(0)  # Move to the beginning of the file for reading\n",
        "    content = file.read()\n",
        "    if not content:\n",
        "        print('The file is empty or does not exist.')"
      ],
      "metadata": {
        "id": "V-9ZD7wk2diV",
        "colab": {
          "base_uri": "https://localhost:8080/"
        },
        "outputId": "8849b0a0-2f02-4254-eb7a-edbfc05b48a5"
      },
      "execution_count": 8,
      "outputs": [
        {
          "output_type": "stream",
          "name": "stdout",
          "text": [
            "The file is empty or does not exist.\n"
          ]
        }
      ]
    },
    {
      "cell_type": "markdown",
      "source": [
        "4. Write a Python script that reads from one file and writes its content to another file."
      ],
      "metadata": {
        "id": "Uws98SZ72d83"
      }
    },
    {
      "cell_type": "code",
      "source": [
        "with open('source.txt', 'w') as file:\n",
        "    file.write('Hello, World! \\n this is my file 1 \\n this is file handelling topic\\n')\n"
      ],
      "metadata": {
        "id": "syVEVAS7c2Dr"
      },
      "execution_count": 50,
      "outputs": []
    },
    {
      "cell_type": "markdown",
      "source": [],
      "metadata": {
        "id": "va6ljdfVdsL4"
      }
    },
    {
      "cell_type": "code",
      "source": [
        "with open('source.txt', 'r') as source_file:\n",
        "    content = source_file.read()\n",
        "with open('destination.txt', 'w') as destination_file:\n",
        "    destination_file.write(content)\n"
      ],
      "metadata": {
        "id": "ctbsqPjV2efe"
      },
      "execution_count": 51,
      "outputs": []
    },
    {
      "cell_type": "markdown",
      "source": [],
      "metadata": {
        "id": "dl1b2RsWdtLY"
      }
    },
    {
      "cell_type": "code",
      "source": [
        "with open('destination.txt', 'r') as file:\n",
        "    for line in file:\n",
        "        print(line, end='')\n"
      ],
      "metadata": {
        "colab": {
          "base_uri": "https://localhost:8080/"
        },
        "id": "XVpoExuIdYBs",
        "outputId": "b2fd39c5-ab25-4502-b0ef-8dd67199032a"
      },
      "execution_count": 52,
      "outputs": [
        {
          "output_type": "stream",
          "name": "stdout",
          "text": [
            "Hello, World! \n",
            " this is my file 1 \n",
            " this is file handelling topic\n"
          ]
        }
      ]
    },
    {
      "cell_type": "markdown",
      "source": [
        "5. How would you catch and handle division by zero error in Python?"
      ],
      "metadata": {
        "id": "1X0GpUH62e3a"
      }
    },
    {
      "cell_type": "code",
      "source": [
        "try:\n",
        "    result = numerator / denominator\n",
        "except ZeroDivisionError:\n",
        "    print('Error: Division by zero is not allowed.')\n"
      ],
      "metadata": {
        "id": "7FWB5TRy2fd5"
      },
      "execution_count": 19,
      "outputs": []
    },
    {
      "cell_type": "markdown",
      "source": [
        "6. Write a Python program that logs an error message to a log file when a division by zero exception occurs."
      ],
      "metadata": {
        "id": "eKV73qc52gNB"
      }
    },
    {
      "cell_type": "code",
      "source": [
        "import logging\n",
        "\n",
        "logging.basicConfig(filename='app.log', level=logging.ERROR)\n",
        "\n",
        "try:\n",
        "    result = numerator / denominator\n",
        "except ZeroDivisionError:\n",
        "    logging.error('Attempted to divide by zero.')\n"
      ],
      "metadata": {
        "id": "XfzSgpRr2gyb"
      },
      "execution_count": 20,
      "outputs": []
    },
    {
      "cell_type": "markdown",
      "source": [
        "7. How do you log information at different levels (INFO, ERROR, WARNING) in Python using the logging module?"
      ],
      "metadata": {
        "id": "We52LDZP2hKK"
      }
    },
    {
      "cell_type": "code",
      "source": [
        "import logging\n",
        "\n",
        "logging.basicConfig(level=logging.DEBUG)\n",
        "\n",
        "logging.debug('This is a debug message')\n",
        "logging.info('This is an info message')\n",
        "logging.warning('This is a warning message')\n",
        "logging.error('This is an error message')\n",
        "logging.critical('This is a critical message')\n"
      ],
      "metadata": {
        "id": "gJTrLKS22hin"
      },
      "execution_count": null,
      "outputs": []
    },
    {
      "cell_type": "markdown",
      "source": [
        "8. Write a program to handle a file opening error using exception handling."
      ],
      "metadata": {
        "id": "wktEaCkW2h4N"
      }
    },
    {
      "cell_type": "code",
      "source": [
        "try:\n",
        "    with open('somefile.txt', 'r') as file:\n",
        "        content = file.read()\n",
        "except FileNotFoundError:\n",
        "    print('Error: The file was not found.')\n",
        "except IOError:\n",
        "    print('Error: An IOError occurred.')\n"
      ],
      "metadata": {
        "id": "0Wwb6l_62iZx"
      },
      "execution_count": null,
      "outputs": []
    },
    {
      "cell_type": "markdown",
      "source": [
        "9. How can you read a file line by line and store its content in a list in Python?"
      ],
      "metadata": {
        "id": "v4L4LYIc33sc"
      }
    },
    {
      "cell_type": "code",
      "source": [
        "with open('example.txt', 'r') as file:\n",
        "    lines = file.readlines()\n",
        "print(lines)\n",
        "\n",
        "#or\n",
        "with open('example.txt', 'r') as file:\n",
        "    lines = []\n",
        "    for line in file:\n",
        "        lines.append(line.strip())\n",
        "print(lines)\n",
        "\n",
        "#or\n",
        "\n",
        "with open('example.txt', 'r') as file:\n",
        "    lines = [line for line in file]\n",
        "print(lines)"
      ],
      "metadata": {
        "id": "rF6UQ0Fs34H1",
        "colab": {
          "base_uri": "https://localhost:8080/"
        },
        "outputId": "fa32ed06-a8fd-47ce-f0b4-a5795256ee55"
      },
      "execution_count": 59,
      "outputs": [
        {
          "output_type": "stream",
          "name": "stdout",
          "text": [
            "['Hello, World!Additional data\\n', '\\n', ' Additional data\\n', '\\n', ' Additional data \\n']\n",
            "['Hello, World!Additional data', '', 'Additional data', '', 'Additional data']\n",
            "['Hello, World!Additional data\\n', '\\n', ' Additional data\\n', '\\n', ' Additional data \\n']\n"
          ]
        }
      ]
    },
    {
      "cell_type": "markdown",
      "source": [
        "10. How can you append data to an existing file in Python?"
      ],
      "metadata": {
        "id": "ZKEJGVTU34g_"
      }
    },
    {
      "cell_type": "code",
      "source": [
        "with open('example.txt', 'a') as file:\n",
        "    file.write(\"\\n Additional data \\n\")\n"
      ],
      "metadata": {
        "id": "5JWoaDki358F"
      },
      "execution_count": 57,
      "outputs": []
    },
    {
      "cell_type": "markdown",
      "source": [
        "11. Write a Python program that uses a try-except block to handle an error when attempting to access a dictionary key that doesn't exist."
      ],
      "metadata": {
        "id": "808fxcp536Sd"
      }
    },
    {
      "cell_type": "code",
      "source": [
        "my_dict = {'a': 1, 'b': 2}\n",
        "\n",
        "try:\n",
        "    value = my_dict['c']\n",
        "except KeyError:\n",
        "    print('Key not found in dictionary.')\n"
      ],
      "metadata": {
        "id": "H9lI5lED36vW",
        "colab": {
          "base_uri": "https://localhost:8080/"
        },
        "outputId": "8c5f69ac-5cd8-4c27-b28a-e403cabbd5f4"
      },
      "execution_count": 26,
      "outputs": [
        {
          "output_type": "stream",
          "name": "stdout",
          "text": [
            "Key not found in dictionary.\n"
          ]
        }
      ]
    },
    {
      "cell_type": "markdown",
      "source": [
        "12. Write a program that demonstrates using multiple except blocks to handle different types of exceptions"
      ],
      "metadata": {
        "id": "WdMHjcow37Hh"
      }
    },
    {
      "cell_type": "code",
      "source": [
        "try:\n",
        "    # Some code that may raise exceptions\n",
        "    num = int(input('Enter a number: '))\n",
        "    result = 10 / num\n",
        "except ValueError:\n",
        "    print('Invalid input. Please enter a number.')\n",
        "except ZeroDivisionError:\n",
        "    print('Cannot divide by zero.')\n"
      ],
      "metadata": {
        "id": "PRahQAp337in",
        "colab": {
          "base_uri": "https://localhost:8080/"
        },
        "outputId": "a725b988-969f-4e16-c773-4a005692b23f"
      },
      "execution_count": 28,
      "outputs": [
        {
          "output_type": "stream",
          "name": "stdout",
          "text": [
            "Enter a number: 0\n",
            "Cannot divide by zero.\n"
          ]
        }
      ]
    },
    {
      "cell_type": "markdown",
      "source": [
        "13. How would you check if a file exists before attempting to read it in Python?"
      ],
      "metadata": {
        "id": "s3-iYRG438E8"
      }
    },
    {
      "cell_type": "code",
      "source": [
        "import os\n",
        "\n",
        "if os.path.isfile('example.txt'):\n",
        "    with open('example.txt', 'r') as file:\n",
        "        content = file.read()\n",
        "else:\n",
        "    print('File does not exist.')\n",
        "\n",
        "#or\n",
        "try:\n",
        "    with open('example.txt', 'r') as file:\n",
        "        content = file.read()\n",
        "except FileNotFoundError:\n",
        "    print('File does not exist.')\n",
        "\n",
        "#or\n",
        "from pathlib import Path\n",
        "\n",
        "file_path = Path('example.txt')\n",
        "if file_path.is_file():\n",
        "    with file_path.open('r') as file:\n",
        "        content = file.read()\n",
        "else:\n",
        "    print('File does not exist.')\n",
        "\n"
      ],
      "metadata": {
        "id": "7ST4kTGM38dI"
      },
      "execution_count": 30,
      "outputs": []
    },
    {
      "cell_type": "markdown",
      "source": [
        "14. Write a program that uses the logging module to log both informational and error messages."
      ],
      "metadata": {
        "id": "PDgTBmkg38-b"
      }
    },
    {
      "cell_type": "code",
      "source": [
        "import logging\n",
        "\n",
        "logging.basicConfig(filename='app.log', level=logging.INFO)\n",
        "\n",
        "try:\n",
        "    # Some code that may raise an exception\n",
        "    result = 10 / 0\n",
        "except ZeroDivisionError:\n",
        "    logging.error('Attempted to divide by zero.')\n",
        "else:\n",
        "    logging.info('Division successful.')\n"
      ],
      "metadata": {
        "id": "LMwOBoky39Zf",
        "colab": {
          "base_uri": "https://localhost:8080/"
        },
        "outputId": "0bb3de43-f1c8-475e-b051-460632a9ed5c"
      },
      "execution_count": 31,
      "outputs": [
        {
          "output_type": "stream",
          "name": "stderr",
          "text": [
            "ERROR:root:Attempted to divide by zero.\n"
          ]
        }
      ]
    },
    {
      "cell_type": "markdown",
      "source": [
        "15. Write a Python program that prints the content of a file and handles the case when the file is empty."
      ],
      "metadata": {
        "id": "1WvLf7Sq4P4_"
      }
    },
    {
      "cell_type": "code",
      "source": [
        "import os\n",
        "\n",
        "file_path = 'example.txt'\n",
        "\n",
        "if os.path.exists(file_path) and os.path.getsize(file_path) > 0:\n",
        "    with open(file_path, 'r') as file:\n",
        "        print(file.read())\n",
        "else:\n",
        "    print('The file is empty or does not exist.')\n"
      ],
      "metadata": {
        "id": "qVQTZIxA4QZS",
        "colab": {
          "base_uri": "https://localhost:8080/"
        },
        "outputId": "440d1511-9a7a-4dab-bc14-b4291865dbf1"
      },
      "execution_count": 58,
      "outputs": [
        {
          "output_type": "stream",
          "name": "stdout",
          "text": [
            "Hello, World!Additional data\n",
            "\n",
            " Additional data\n",
            "\n",
            " Additional data \n",
            "\n"
          ]
        }
      ]
    },
    {
      "cell_type": "markdown",
      "source": [
        "16. Demonstrate how to use memory profiling to check the memory usage of a small program."
      ],
      "metadata": {
        "id": "J15VeMkz4Q6F"
      }
    },
    {
      "cell_type": "code",
      "source": [
        "from memory_profiler import profile\n",
        "\n",
        "@profile\n",
        "def my_function():\n",
        "    a = [1] * (10**6)\n",
        "    b = [2] * (2 * 10**7)\n",
        "    del b\n",
        "    return a\n",
        "\n",
        "if __name__ == '__main__':\n",
        "    my_function()\n"
      ],
      "metadata": {
        "id": "MnHrct4A4Rg1"
      },
      "execution_count": 35,
      "outputs": []
    },
    {
      "cell_type": "markdown",
      "source": [
        "17. Write a Python program to create and write a list of numbers to a file, one number per line."
      ],
      "metadata": {
        "id": "Zdx7MtkD4SYO"
      }
    },
    {
      "cell_type": "code",
      "source": [
        "numbers = [1, 2, 3, 4, 5]\n",
        "\n",
        "with open('numbers.txt', 'w') as file:\n",
        "    for number in numbers:\n",
        "        file.write(f'{number}\\n')\n",
        "\n",
        "\n",
        "\n",
        "with open('numbers.txt', 'r') as file:\n",
        "    for line in file:\n",
        "        print(line, end='')\n"
      ],
      "metadata": {
        "id": "-eDPOivr4S2J",
        "colab": {
          "base_uri": "https://localhost:8080/"
        },
        "outputId": "55f700f2-b762-4b83-8647-e57bcf4b3e7a"
      },
      "execution_count": 38,
      "outputs": [
        {
          "output_type": "stream",
          "name": "stdout",
          "text": [
            "1\n",
            "2\n",
            "3\n",
            "4\n",
            "5\n"
          ]
        }
      ]
    },
    {
      "cell_type": "markdown",
      "source": [
        "18. How would you implement a basic logging setup that logs to a file with rotation after IMB?"
      ],
      "metadata": {
        "id": "7VHHa_cR4TPq"
      }
    },
    {
      "cell_type": "code",
      "source": [
        "import logging\n",
        "from logging.handlers import RotatingFileHandler\n",
        "\n",
        "handler = RotatingFileHandler('app.log', maxBytes=1_000_000, backupCount=5)\n",
        "logging.basicConfig(handlers=[handler], level=logging.INFO)\n",
        "\n",
        "logging.info('This is an informational message.')\n"
      ],
      "metadata": {
        "id": "mJWHU51I4Trw"
      },
      "execution_count": 39,
      "outputs": []
    },
    {
      "cell_type": "markdown",
      "source": [
        "19. Write a program that handles both IndexError and KeyError using a try-except block."
      ],
      "metadata": {
        "id": "vXbWHmGN4UDL"
      }
    },
    {
      "cell_type": "code",
      "source": [
        "my_list = [1, 2, 3]\n",
        "my_dict = {'a': 1, 'b': 2}\n",
        "\n",
        "try:\n",
        "    print(my_list[5])\n",
        "    print(my_dict['c'])\n",
        "except IndexError:\n",
        "    print('Index out of range.')\n",
        "except KeyError:\n",
        "    print('Key not found in dictionary.')\n"
      ],
      "metadata": {
        "id": "mLzwuoxv4UbF",
        "colab": {
          "base_uri": "https://localhost:8080/"
        },
        "outputId": "ad758f7d-c42a-4f60-efa5-0880a427d56c"
      },
      "execution_count": 40,
      "outputs": [
        {
          "output_type": "stream",
          "name": "stdout",
          "text": [
            "Index out of range.\n"
          ]
        }
      ]
    },
    {
      "cell_type": "markdown",
      "source": [
        "20. How would you open a file and read its contents using a context manager in Python?"
      ],
      "metadata": {
        "id": "HwLHoMF64x1c"
      }
    },
    {
      "cell_type": "code",
      "source": [
        "with open('example.txt', 'r') as file:\n",
        "    content = file.read()\n"
      ],
      "metadata": {
        "id": "GTpbY8i94yXT"
      },
      "execution_count": 41,
      "outputs": []
    },
    {
      "cell_type": "markdown",
      "source": [
        "21. Write a Python program that reads a file and prints the number of occurrences of a specific word."
      ],
      "metadata": {
        "id": "z43FEdrs4zH8"
      }
    },
    {
      "cell_type": "code",
      "source": [
        "word_to_count = 'example'\n",
        "count = 0\n",
        "\n",
        "with open('example.txt', 'r') as file:\n",
        "    for line in file:\n",
        "        words = line.split()\n",
        "        count += words.count(word_to_count)\n",
        "\n",
        "print(f'The word \"{word_to_count}\" occurs {count} times.')\n"
      ],
      "metadata": {
        "id": "uGT3AMhZ4zgr",
        "colab": {
          "base_uri": "https://localhost:8080/"
        },
        "outputId": "18c78128-3e48-4722-9ebc-e190ce8d5767"
      },
      "execution_count": 49,
      "outputs": [
        {
          "output_type": "stream",
          "name": "stdout",
          "text": [
            "The word \"example\" occurs 0 times.\n"
          ]
        }
      ]
    },
    {
      "cell_type": "markdown",
      "source": [
        "22. How can you check if a file is empty before attempting to read its contents?"
      ],
      "metadata": {
        "id": "v_8ybUiB4z-2"
      }
    },
    {
      "cell_type": "code",
      "source": [
        "import os\n",
        "\n",
        "file_path = 'example.txt'\n",
        "\n",
        "if os.path.getsize(file_path) == 0:\n",
        "    print('The file is empty.')\n",
        "else:\n",
        "    print('The file is not empty.')\n",
        "\n",
        "#or\n",
        "import os\n",
        "\n",
        "file_path = 'example.txt'\n",
        "\n",
        "if os.stat(file_path).st_size == 0:\n",
        "    print('The file is empty.')\n",
        "else:\n",
        "    print('The file is not empty.')\n",
        "\n"
      ],
      "metadata": {
        "id": "EC0QAzSY40XT",
        "colab": {
          "base_uri": "https://localhost:8080/"
        },
        "outputId": "b6c8d0df-e8d3-409c-b928-fa9eaa26db9b"
      },
      "execution_count": 55,
      "outputs": [
        {
          "output_type": "stream",
          "name": "stdout",
          "text": [
            "The file is not empty.\n",
            "The file is not empty.\n"
          ]
        }
      ]
    },
    {
      "cell_type": "markdown",
      "source": [
        "23. Write a Python program that writes to a log file when an error occurs during file handling"
      ],
      "metadata": {
        "id": "lbEZxw1n403k"
      }
    },
    {
      "cell_type": "code",
      "source": [
        "import logging\n",
        "\n",
        "# Configure logging to write to a file\n",
        "logging.basicConfig(filename='app.log', level=logging.ERROR,\n",
        "                    format='%(asctime)s - %(levelname)s - %(message)s')\n",
        "\n",
        "file_path = 'non_existent_file.txt'\n",
        "\n",
        "try:\n",
        "    with open(file_path, 'r') as file:\n",
        "        content = file.read()\n",
        "except FileNotFoundError as e:\n",
        "    logging.error(f'Error opening file {file_path}: {e}')\n",
        "    print(f'An error occurred. Please check the log file for more details.')\n"
      ],
      "metadata": {
        "id": "MAInvGPZ41Qi",
        "colab": {
          "base_uri": "https://localhost:8080/"
        },
        "outputId": "5ccf043e-1495-4850-a514-d2e54dcb7c32"
      },
      "execution_count": 56,
      "outputs": [
        {
          "output_type": "stream",
          "name": "stderr",
          "text": [
            "ERROR:root:Error opening file non_existent_file.txt: [Errno 2] No such file or directory: 'non_existent_file.txt'\n"
          ]
        },
        {
          "output_type": "stream",
          "name": "stdout",
          "text": [
            "An error occurred. Please check the log file for more details.\n"
          ]
        }
      ]
    }
  ]
}