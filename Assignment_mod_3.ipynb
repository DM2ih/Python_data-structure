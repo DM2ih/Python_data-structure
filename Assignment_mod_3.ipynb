{
  "nbformat": 4,
  "nbformat_minor": 0,
  "metadata": {
    "colab": {
      "provenance": []
    },
    "kernelspec": {
      "name": "python3",
      "display_name": "Python 3"
    },
    "language_info": {
      "name": "python"
    }
  },
  "cells": [
    {
      "cell_type": "markdown",
      "source": [
        "#ASSIGNMENT OF MODULE 3\n",
        "\n",
        "#THEORY QUESTIONS"
      ],
      "metadata": {
        "id": "GbEtCiJ2eVOe"
      }
    },
    {
      "cell_type": "markdown",
      "source": [
        "Q1) What is Python, and why is it popular?"
      ],
      "metadata": {
        "id": "oeH0-CsYeVLD"
      }
    },
    {
      "cell_type": "markdown",
      "source": [
        "Python is a high-level, general-purpose programming language known for its readability and versatility. Designed with an emphasis on code clarity, it uses significant indentation to define code blocks, which encourages clean and understandable code structures. Python supports multiple programming paradigms, including procedural, object-oriented, and functional programming, making it adaptable to various types of projects.\n",
        "\n",
        "Its popularity stems from several factors:\n",
        "\n",
        "*   Ease of Learning and Use: Python's straightforward syntax resembles the English language, making it accessible for beginners.​\n",
        "\n",
        "*   Comprehensive Standard Library: Often referred to as having \"batteries included,\" Python's extensive standard library provides modules and functions for a wide range of tasks, reducing the need for external libraries.​\n",
        "\n",
        "\n",
        "*   Active Community and Ecosystem: A large, active community contributes to a vast ecosystem of third-party packages available via the Python Package Index (PyPI), facilitating rapid development across domains like web development, data analysis, artificial intelligence, and more.​\n",
        "\n",
        "*   Cross-Platform Compatibility: Python is available on various operating systems, ensuring that code can run seamlessly across different platforms.​"
      ],
      "metadata": {
        "id": "gx6TiI-VeVIB"
      }
    },
    {
      "cell_type": "markdown",
      "source": [
        "Q2) What is an interpreter in Python?"
      ],
      "metadata": {
        "id": "kMB8aKMHeVE8"
      }
    },
    {
      "cell_type": "markdown",
      "source": [
        "An interpreter in Python is a program that reads and executes Python code directly, translating each high-level instruction into machine code at runtime. Unlike compiled languages, where code is transformed into executable files before running, Python's interpreter processes code line by line, which facilitates interactive programming and ease of debugging. This approach allows for rapid development and testing but may result in slower execution compared to compiled languages."
      ],
      "metadata": {
        "id": "d3POD9O-eVB4"
      }
    },
    {
      "cell_type": "markdown",
      "source": [
        "Q3) What are pre-defined keywords in Python?"
      ],
      "metadata": {
        "id": "U3k-gRL5eU-b"
      }
    },
    {
      "cell_type": "markdown",
      "source": [
        "Pre-defined keywords in Python are reserved words that have special meanings and purposes within the language syntax. These keywords form the foundation of Python's syntax and cannot be used for any other purpose, such as naming variables or functions. Examples include if, else, while, for, def, class, import, and return. Each keyword serves a specific function, like defining control flow, declaring functions, or importing modules."
      ],
      "metadata": {
        "id": "eLfiqL1leU7E"
      }
    },
    {
      "cell_type": "markdown",
      "source": [
        "Q4) Can keywords be used as variable names?"
      ],
      "metadata": {
        "id": "amAAubaXeU3e"
      }
    },
    {
      "cell_type": "markdown",
      "source": [
        "No, keywords cannot be used as variable names in Python. Attempting to assign a value to a keyword will result in a syntax error because keywords are integral to the language's structure and are reserved for specific operations. For instance, using if = 5 would raise an error since if is a reserved keyword for conditional statements."
      ],
      "metadata": {
        "id": "1IBMH_HeeU0T"
      }
    },
    {
      "cell_type": "markdown",
      "source": [
        "5) What is mutability in Python?"
      ],
      "metadata": {
        "id": "838x1O23eUwm"
      }
    },
    {
      "cell_type": "markdown",
      "source": [
        "Mutability in Python refers to an object's ability to change its state or contents after its creation. Mutable objects can be modified in place, meaning their elements or attributes can be altered without creating a new object. In contrast, immutable objects cannot be changed once they are created; any modification results in the creation of a new object. Understanding mutability is crucial for managing data structures and avoiding unintended side effects in programs."
      ],
      "metadata": {
        "id": "WpFWKc_LeUtO"
      }
    },
    {
      "cell_type": "markdown",
      "source": [
        "6) Why are lists mutable, but tuples are immutable?"
      ],
      "metadata": {
        "id": "J8MBMyD6eUp7"
      }
    },
    {
      "cell_type": "markdown",
      "source": [
        "Lists in Python are mutable because they are designed to accommodate dynamic collections of items that may need to change during program execution. This mutability allows for operations like adding, removing, or modifying elements within the list. Tuples, on the other hand, are immutable to provide a fixed, unchangeable collection of items, which can be useful for ensuring data integrity and allowing tuples to be used as keys in dictionaries. The immutability of tuples also enables certain performance optimizations within Python."
      ],
      "metadata": {
        "id": "Z1W2y33HeUmY"
      }
    },
    {
      "cell_type": "markdown",
      "source": [
        "7)  What is the difference between\"==\" and \"is\" operators in Python?"
      ],
      "metadata": {
        "id": "uFNkyHPreUjH"
      }
    },
    {
      "cell_type": "markdown",
      "source": [
        "In Python, the == operator checks for value equality, meaning it evaluates whether the values of two objects are the same. In contrast, the is operator checks for identity equality, determining whether two references point to the same object in memory. For example:"
      ],
      "metadata": {
        "id": "ci7R_G7LeUfv"
      }
    },
    {
      "cell_type": "code",
      "source": [
        "a = [1, 2, 3]\n",
        "b = a\n",
        "c = [1, 2, 3]\n",
        "\n",
        "print(a == c)  # True, because their values are equal\n",
        "print(a is c)  # False, because they are different objects\n",
        "print(a is b)  # True, because both refer to the same object\n"
      ],
      "metadata": {
        "colab": {
          "base_uri": "https://localhost:8080/"
        },
        "id": "vU6-Q3qrpXoF",
        "outputId": "43fe9de5-151a-4e8e-9b73-d64485c13ef5"
      },
      "execution_count": 1,
      "outputs": [
        {
          "output_type": "stream",
          "name": "stdout",
          "text": [
            "True\n",
            "False\n",
            "True\n"
          ]
        }
      ]
    },
    {
      "cell_type": "markdown",
      "source": [
        "Understanding this distinction is important to avoid confusion when comparing objects."
      ],
      "metadata": {
        "id": "i9Am4QeWpgw-"
      }
    },
    {
      "cell_type": "markdown",
      "source": [
        "8) What are logical operators in Python?"
      ],
      "metadata": {
        "id": "idy-QTKyeUcn"
      }
    },
    {
      "cell_type": "markdown",
      "source": [
        "Logical operators in Python are used to combine conditional statements and control the flow of logic in programs. The primary logical operators are:\n",
        "\n",
        "*   and: Returns True if both operands are true.​\n",
        "\n",
        "*   or: Returns True if at least one operand is true.​\n",
        "\n",
        "*   not: Returns True if the operand is false, and vice versa.​\n",
        "\n",
        "These operators are fundamental in constructing complex boolean expressions and controlling program execution based on multiple conditions."
      ],
      "metadata": {
        "id": "AiJnn-tDeUZV"
      }
    },
    {
      "cell_type": "markdown",
      "source": [
        "9) What is type casting in Python?"
      ],
      "metadata": {
        "id": "P25ZmAqeeUWY"
      }
    },
    {
      "cell_type": "markdown",
      "source": [
        "Type casting, or type conversion, in Python refers to converting a variable from one data type to another. This can be done using built-in functions like int(), float(), str(), and list(). Type casting is useful when an operation requires a specific data type, and the existing variable is of a different type. For example, converting a string representing a number into an integer allows for arithmetic operations:"
      ],
      "metadata": {
        "id": "hLg7IM0heUSr"
      }
    },
    {
      "cell_type": "code",
      "source": [
        "num_str = \"123\"\n",
        "num_int = int(num_str)\n",
        "print(num_int + 5)  # Outputs: 128\n"
      ],
      "metadata": {
        "colab": {
          "base_uri": "https://localhost:8080/"
        },
        "id": "DQ2GZq5VUSui",
        "outputId": "09503a72-4234-41f8-adff-0f47faa2c4c7"
      },
      "execution_count": 1,
      "outputs": [
        {
          "output_type": "stream",
          "name": "stdout",
          "text": [
            "128\n"
          ]
        }
      ]
    },
    {
      "cell_type": "markdown",
      "source": [
        "10) What is the difference between implicit and explicit type casting?"
      ],
      "metadata": {
        "id": "UGE9e379eUPm"
      }
    },
    {
      "cell_type": "markdown",
      "source": [
        "*   Implicit Type Casting (Coercion): This occurs when Python automatically converts one data type to another without explicit instruction from the programmer. For example, when an integer is added to a float, Python converts the integer to a float to prevent data loss.\n",
        "\n",
        "Example:"
      ],
      "metadata": {
        "id": "pxhyYpHleUL9"
      }
    },
    {
      "cell_type": "code",
      "source": [
        "num_int = 6\n",
        "num_float = 1.2\n",
        "result = num_int + num_float\n",
        "print(result)        # Output: 7.2\n",
        "print(type(result))  # Output: <class 'float'>\n"
      ],
      "metadata": {
        "colab": {
          "base_uri": "https://localhost:8080/"
        },
        "id": "MDcev9odUnf2",
        "outputId": "df2a0feb-19a4-4c71-b866-569da1eee15c"
      },
      "execution_count": 2,
      "outputs": [
        {
          "output_type": "stream",
          "name": "stdout",
          "text": [
            "7.2\n",
            "<class 'float'>\n"
          ]
        }
      ]
    },
    {
      "cell_type": "markdown",
      "source": [
        "In this case, num_int is implicitly converted to a float before the addition.\n",
        "\n",
        "*   Explicit Type Casting: This requires the programmer to manually convert a variable from one data type to another using predefined functions like int(), float(), str(), etc. This is necessary when converting between incompatible types or when precision is critical.\n",
        "\n",
        "Example:"
      ],
      "metadata": {
        "id": "XYMgU-_aUuSg"
      }
    },
    {
      "cell_type": "code",
      "source": [
        "num_str = \"123\"\n",
        "num_int = int(num_str)  # Explicitly converting string to integer\n",
        "print(num_int + 5)      # Output: 128\n"
      ],
      "metadata": {
        "colab": {
          "base_uri": "https://localhost:8080/"
        },
        "id": "4akNK6P2U5HD",
        "outputId": "e0f6e47a-e296-4704-c702-561570179d96"
      },
      "execution_count": 3,
      "outputs": [
        {
          "output_type": "stream",
          "name": "stdout",
          "text": [
            "128\n"
          ]
        }
      ]
    },
    {
      "cell_type": "markdown",
      "source": [
        "Here, the string '123' is explicitly converted to an integer before performing the addition.\n",
        "\n",
        "Understanding the distinction between implicit and explicit type casting is crucial for writing robust Python code. Implicit casting allows Python to automatically handle type conversions in mixed-type operations, while explicit casting gives you control over how data types are converted, ensuring precision and preventing unexpected behavior."
      ],
      "metadata": {
        "id": "WiPm6wjlU-0p"
      }
    },
    {
      "cell_type": "markdown",
      "source": [
        "11) What is the purpose of conditional statements in Python?"
      ],
      "metadata": {
        "id": "wcRZJysIeUIp"
      }
    },
    {
      "cell_type": "markdown",
      "source": [
        "Conditional statements allow a program to execute certain pieces of code based on whether a specific condition is true or false. They enable decision-making in code, allowing different outcomes and behaviors depending on variable states or user input. The primary conditional statements in Python are if, elif, and else."
      ],
      "metadata": {
        "id": "wlV5s0b9eUFG"
      }
    },
    {
      "cell_type": "markdown",
      "source": [
        "12) How does the elif statement work?"
      ],
      "metadata": {
        "id": "C7zmiKRXeUBj"
      }
    },
    {
      "cell_type": "markdown",
      "source": [
        "The elif statement, short for \"else if,\" allows you to check multiple conditions sequentially after an initial if statement. If the if condition evaluates to False, Python checks the elif condition. If it evaluates to True, the corresponding block of code executes. You can include multiple elif statements to handle various conditions, and an optional else statement to catch any cases not covered by the preceding conditions.\n",
        "\n",
        "Example:"
      ],
      "metadata": {
        "id": "F7uszFgLeT99"
      }
    },
    {
      "cell_type": "code",
      "source": [
        "age = 25\n",
        "\n",
        "if age < 13:\n",
        "    print(\"Child\")\n",
        "elif age < 20:\n",
        "    print(\"Teenager\")\n",
        "elif age < 65:\n",
        "    print(\"Adult\")\n",
        "else:\n",
        "    print(\"Senior\")\n"
      ],
      "metadata": {
        "colab": {
          "base_uri": "https://localhost:8080/"
        },
        "id": "V5O0i7qWVSt9",
        "outputId": "7ff28df6-880f-4176-8ff1-5c3e14fffe8c"
      },
      "execution_count": 4,
      "outputs": [
        {
          "output_type": "stream",
          "name": "stdout",
          "text": [
            "Adult\n"
          ]
        }
      ]
    },
    {
      "cell_type": "markdown",
      "source": [
        "In this example, the program prints \"Adult\" because the age variable is 25, which satisfies the third condition."
      ],
      "metadata": {
        "id": "a-R1u1QOVZLV"
      }
    },
    {
      "cell_type": "markdown",
      "source": [
        "13) What is the difference between for and while loops?"
      ],
      "metadata": {
        "id": "SEPu05J7eT4U"
      }
    },
    {
      "cell_type": "markdown",
      "source": [
        "*   for loops: Used for iterating over a sequence (like a list, tuple, dictionary, set, or string). They are ideal when the number of iterations is known or when traversing items in a collection.\n",
        "\n",
        "Example:"
      ],
      "metadata": {
        "id": "g6n9qaBpeTy8"
      }
    },
    {
      "cell_type": "code",
      "source": [
        "fruits = ['apple', 'banana', 'cherry']\n",
        "for fruit in fruits:\n",
        "    print(fruit)\n"
      ],
      "metadata": {
        "colab": {
          "base_uri": "https://localhost:8080/"
        },
        "id": "ODzvN-HRVsZd",
        "outputId": "5a10021b-6436-46c5-a7fc-938fb1fbcab4"
      },
      "execution_count": 5,
      "outputs": [
        {
          "output_type": "stream",
          "name": "stdout",
          "text": [
            "apple\n",
            "banana\n",
            "cherry\n"
          ]
        }
      ]
    },
    {
      "cell_type": "markdown",
      "source": [
        "This loop prints each fruit in the list.\n",
        "\n",
        "*   while loops: Execute a block of code as long as a specified condition is true. They are suitable when the number of iterations is not known in advance and depends on dynamic conditions during runtime.\n",
        "\n",
        "Example:"
      ],
      "metadata": {
        "id": "8xRNje1qVyHS"
      }
    },
    {
      "cell_type": "code",
      "source": [
        "count = 0\n",
        "while count < 5:\n",
        "    print(count)\n",
        "    count += 1\n"
      ],
      "metadata": {
        "colab": {
          "base_uri": "https://localhost:8080/"
        },
        "id": "ChZ-f7uHV5rb",
        "outputId": "21cc2647-e26d-40fb-ff4b-5e611e202f3b"
      },
      "execution_count": 6,
      "outputs": [
        {
          "output_type": "stream",
          "name": "stdout",
          "text": [
            "0\n",
            "1\n",
            "2\n",
            "3\n",
            "4\n"
          ]
        }
      ]
    },
    {
      "cell_type": "markdown",
      "source": [
        "This loop prints numbers from 0 to 4, incrementing count until it reaches 5."
      ],
      "metadata": {
        "id": "QsaNwO_UV-wJ"
      }
    },
    {
      "cell_type": "markdown",
      "source": [
        "14)  Describe a scenario where a while loop is more suitable than a for loop."
      ],
      "metadata": {
        "id": "vUFZl2LJeTtL"
      }
    },
    {
      "cell_type": "markdown",
      "source": [
        "A while loop is more appropriate in situations where the number of iterations is not predetermined and depends on a condition that may change during execution. For example, reading user input until a valid response is received:"
      ],
      "metadata": {
        "id": "5l5sPucDeTne"
      }
    },
    {
      "cell_type": "code",
      "source": [
        "user_input = ''\n",
        "while user_input.lower() != 'yes':\n",
        "    user_input = input(\"Do you want to continue? (yes/no): \")\n",
        "print(\"Continuing...\")\n"
      ],
      "metadata": {
        "colab": {
          "base_uri": "https://localhost:8080/"
        },
        "id": "_TUvEKgpWUeg",
        "outputId": "49bb9c9c-60b5-4e55-999d-dd02f7c87a5f"
      },
      "execution_count": 8,
      "outputs": [
        {
          "output_type": "stream",
          "name": "stdout",
          "text": [
            "Do you want to continue? (yes/no): no\n",
            "Do you want to continue? (yes/no): no\n",
            "Do you want to continue? (yes/no): yes\n",
            "Continuing...\n"
          ]
        }
      ]
    },
    {
      "cell_type": "markdown",
      "source": [
        "In this scenario, the loop continues to prompt the user until they enter 'yes', making a while loop the suitable choice since the number of iterations depends on user input."
      ],
      "metadata": {
        "id": "zHjN8Tr7Wcgm"
      }
    },
    {
      "cell_type": "markdown",
      "source": [
        "#PRACTICAL QUESTIONS\n"
      ],
      "metadata": {
        "id": "C7sbtOPYeTgI"
      }
    },
    {
      "cell_type": "markdown",
      "source": [
        "1) Write a Python program to print \"Hello, World!"
      ],
      "metadata": {
        "id": "skwTK5d4eTT5"
      }
    },
    {
      "cell_type": "code",
      "source": [
        "print(\"Hello, World!\")"
      ],
      "metadata": {
        "colab": {
          "base_uri": "https://localhost:8080/"
        },
        "id": "hD_F7HlKhUgc",
        "outputId": "6a659b70-433b-4fff-bdf0-b307bb6e57b7"
      },
      "execution_count": 9,
      "outputs": [
        {
          "output_type": "stream",
          "name": "stdout",
          "text": [
            "Hello, World!\n"
          ]
        }
      ]
    },
    {
      "cell_type": "markdown",
      "source": [
        "2)  Write a Python program that displays your name and age."
      ],
      "metadata": {
        "id": "R0x6OmTBeS-H"
      }
    },
    {
      "cell_type": "code",
      "source": [
        "name=\"DIVYANSH MISHRA\"\n",
        "age=20\n",
        "print(name)\n",
        "print(age)"
      ],
      "metadata": {
        "colab": {
          "base_uri": "https://localhost:8080/"
        },
        "id": "TU8q3yR-hdSq",
        "outputId": "ee01b6fa-74a9-4d32-e1b6-bcabf65b681c"
      },
      "execution_count": 10,
      "outputs": [
        {
          "output_type": "stream",
          "name": "stdout",
          "text": [
            "DIVYANSH MISHRA\n",
            "20\n"
          ]
        }
      ]
    },
    {
      "cell_type": "markdown",
      "source": [
        "3)  Write code to print all the pre-defined keywords in Python using the keyword library."
      ],
      "metadata": {
        "id": "7JlmGviseSdn"
      }
    },
    {
      "cell_type": "code",
      "source": [
        "help(\"keywords\")\n",
        "#or\n",
        "import keyword\n",
        "print(keyword.kwlist)"
      ],
      "metadata": {
        "colab": {
          "base_uri": "https://localhost:8080/"
        },
        "id": "CSCYEEs2hoPX",
        "outputId": "d3e713e9-3914-4d30-ab01-6542e4568c20"
      },
      "execution_count": 12,
      "outputs": [
        {
          "output_type": "stream",
          "name": "stdout",
          "text": [
            "\n",
            "Here is a list of the Python keywords.  Enter any keyword to get more help.\n",
            "\n",
            "False               class               from                or\n",
            "None                continue            global              pass\n",
            "True                def                 if                  raise\n",
            "and                 del                 import              return\n",
            "as                  elif                in                  try\n",
            "assert              else                is                  while\n",
            "async               except              lambda              with\n",
            "await               finally             nonlocal            yield\n",
            "break               for                 not                 \n",
            "\n",
            "['False', 'None', 'True', 'and', 'as', 'assert', 'async', 'await', 'break', 'class', 'continue', 'def', 'del', 'elif', 'else', 'except', 'finally', 'for', 'from', 'global', 'if', 'import', 'in', 'is', 'lambda', 'nonlocal', 'not', 'or', 'pass', 'raise', 'return', 'try', 'while', 'with', 'yield']\n"
          ]
        }
      ]
    },
    {
      "cell_type": "markdown",
      "source": [
        "4) Write a program that checks if a given word is a Python keyword."
      ],
      "metadata": {
        "id": "oB7MVNh9hpMd"
      }
    },
    {
      "cell_type": "code",
      "source": [
        "import keyword\n",
        "word = input(\"Enter a word to check if it's a Python keyword: \")\n",
        "if keyword.iskeyword(word):\n",
        "    print(f\"'{word}' is a Python keyword.\")\n",
        "else:\n",
        "    print(f\"'{word}' is not a Python keyword.\")\n",
        "\n",
        "#or\n",
        "keyword.iskeyword(word)"
      ],
      "metadata": {
        "colab": {
          "base_uri": "https://localhost:8080/"
        },
        "id": "8m5kKpmChrWZ",
        "outputId": "46bb325d-6412-4e75-e553-64ebc6d20764"
      },
      "execution_count": 15,
      "outputs": [
        {
          "output_type": "stream",
          "name": "stdout",
          "text": [
            "Enter a word to check if it's a Python keyword: if\n",
            "'if' is a Python keyword.\n"
          ]
        },
        {
          "output_type": "execute_result",
          "data": {
            "text/plain": [
              "True"
            ]
          },
          "metadata": {},
          "execution_count": 15
        }
      ]
    },
    {
      "cell_type": "markdown",
      "source": [
        "5) Create a list and tuple in Python, and demonstrate how attempting to change an element works differently for each."
      ],
      "metadata": {
        "id": "hbBur6VIhsIl"
      }
    },
    {
      "cell_type": "code",
      "source": [
        "l=[1,2,3,4]\n",
        "t=(1,2,3,4)\n",
        "l[0]=5\n",
        "print(l)"
      ],
      "metadata": {
        "colab": {
          "base_uri": "https://localhost:8080/"
        },
        "id": "1v_f5zCvhszB",
        "outputId": "19711739-4007-4f7b-8d7c-48f15ae0db98"
      },
      "execution_count": 18,
      "outputs": [
        {
          "output_type": "stream",
          "name": "stdout",
          "text": [
            "[5, 2, 3, 4]\n"
          ]
        }
      ]
    },
    {
      "cell_type": "code",
      "source": [
        "l=[1,2,3,4]\n",
        "t=(1,2,3,4)\n",
        "t[0]=5\n",
        "print(t)"
      ],
      "metadata": {
        "colab": {
          "base_uri": "https://localhost:8080/",
          "height": 200
        },
        "id": "ZrXj1rqkmrbl",
        "outputId": "62a82f34-9c1c-46c6-af27-dee5127db194"
      },
      "execution_count": 20,
      "outputs": [
        {
          "output_type": "error",
          "ename": "TypeError",
          "evalue": "'tuple' object does not support item assignment",
          "traceback": [
            "\u001b[0;31m---------------------------------------------------------------------------\u001b[0m",
            "\u001b[0;31mTypeError\u001b[0m                                 Traceback (most recent call last)",
            "\u001b[0;32m<ipython-input-20-c37f9242e27e>\u001b[0m in \u001b[0;36m<cell line: 0>\u001b[0;34m()\u001b[0m\n\u001b[1;32m      1\u001b[0m \u001b[0ml\u001b[0m\u001b[0;34m=\u001b[0m\u001b[0;34m[\u001b[0m\u001b[0;36m1\u001b[0m\u001b[0;34m,\u001b[0m\u001b[0;36m2\u001b[0m\u001b[0;34m,\u001b[0m\u001b[0;36m3\u001b[0m\u001b[0;34m,\u001b[0m\u001b[0;36m4\u001b[0m\u001b[0;34m]\u001b[0m\u001b[0;34m\u001b[0m\u001b[0;34m\u001b[0m\u001b[0m\n\u001b[1;32m      2\u001b[0m \u001b[0mt\u001b[0m\u001b[0;34m=\u001b[0m\u001b[0;34m(\u001b[0m\u001b[0;36m1\u001b[0m\u001b[0;34m,\u001b[0m\u001b[0;36m2\u001b[0m\u001b[0;34m,\u001b[0m\u001b[0;36m3\u001b[0m\u001b[0;34m,\u001b[0m\u001b[0;36m4\u001b[0m\u001b[0;34m)\u001b[0m\u001b[0;34m\u001b[0m\u001b[0;34m\u001b[0m\u001b[0m\n\u001b[0;32m----> 3\u001b[0;31m \u001b[0mt\u001b[0m\u001b[0;34m[\u001b[0m\u001b[0;36m0\u001b[0m\u001b[0;34m]\u001b[0m\u001b[0;34m=\u001b[0m\u001b[0;36m5\u001b[0m\u001b[0;34m\u001b[0m\u001b[0;34m\u001b[0m\u001b[0m\n\u001b[0m\u001b[1;32m      4\u001b[0m \u001b[0mprint\u001b[0m\u001b[0;34m(\u001b[0m\u001b[0mt\u001b[0m\u001b[0;34m)\u001b[0m\u001b[0;34m\u001b[0m\u001b[0;34m\u001b[0m\u001b[0m\n",
            "\u001b[0;31mTypeError\u001b[0m: 'tuple' object does not support item assignment"
          ]
        }
      ]
    },
    {
      "cell_type": "markdown",
      "source": [
        "so here tuple resist any type of modification so it has shown error for appending it"
      ],
      "metadata": {
        "id": "Ru9DqKW5wIG8"
      }
    },
    {
      "cell_type": "markdown",
      "source": [
        "6) Write a function to demonstrate the behavior of mutable and immutable arguments."
      ],
      "metadata": {
        "id": "aDNvVCXfhtS9"
      }
    },
    {
      "cell_type": "code",
      "source": [
        "def demonstrate_mutability(mutable_arg, immutable_arg):\n",
        "    mutable_arg.append(4)  # Modifies the original list\n",
        "    immutable_arg = immutable_arg + (4,)  # Creates a new tuple\n",
        "\n",
        "    print(\"Inside function:\")\n",
        "    print(\"Mutable argument:\", mutable_arg)\n",
        "    print(\"Immutable argument:\", immutable_arg)\n",
        "\n",
        "# Example usage\n",
        "my_list = [1, 2, 3]\n",
        "my_tuple = (1, 2, 3)\n",
        "\n",
        "demonstrate_mutability(my_list, my_tuple)\n",
        "\n",
        "print(\"\\nOutside function:\")\n",
        "print(\"Mutable argument:\", my_list)  # The list has been changed\n",
        "print(\"Immutable argument:\", my_tuple) # The original tuple remains unchanged\n"
      ],
      "metadata": {
        "colab": {
          "base_uri": "https://localhost:8080/"
        },
        "id": "awEQAiq-ht1l",
        "outputId": "13dc1984-5578-465e-c0e3-73345cdaed60"
      },
      "execution_count": 48,
      "outputs": [
        {
          "output_type": "stream",
          "name": "stdout",
          "text": [
            "Inside function:\n",
            "Mutable argument: [1, 2, 3, 4]\n",
            "Immutable argument: (1, 2, 3, 4)\n",
            "\n",
            "Outside function:\n",
            "Mutable argument: [1, 2, 3, 4]\n",
            "Immutable argument: (1, 2, 3)\n"
          ]
        }
      ]
    },
    {
      "cell_type": "markdown",
      "source": [
        "7) Write a program that performs basic arithmetic operations on two user-input numbers."
      ],
      "metadata": {
        "id": "5LCHPWxDiHfx"
      }
    },
    {
      "cell_type": "code",
      "source": [
        "num1 = float(input(\"Enter the first number: \"))\n",
        "num2 = float(input(\"Enter the second number: \"))\n",
        "\n",
        "addition = num1 + num2\n",
        "subtraction = num1 - num2\n",
        "multiplication = num1 * num2\n",
        "division = num1 / num2 if num2 != 0 else \"Undefined (division by zero)\"\n",
        "\n",
        "print(f\"Addition: {addition}\")\n",
        "print(f\"Subtraction: {subtraction}\")\n",
        "print(f\"Multiplication: {multiplication}\")\n",
        "print(f\"Division: {division}\")\n"
      ],
      "metadata": {
        "colab": {
          "base_uri": "https://localhost:8080/"
        },
        "id": "K4FYNJYCiIHn",
        "outputId": "c109096a-30bc-4e66-c002-6361949e1a1c"
      },
      "execution_count": 21,
      "outputs": [
        {
          "output_type": "stream",
          "name": "stdout",
          "text": [
            "Enter the first number: 4\n",
            "Enter the second number: 2.5\n",
            "Addition: 6.5\n",
            "Subtraction: 1.5\n",
            "Multiplication: 10.0\n",
            "Division: 1.6\n"
          ]
        }
      ]
    },
    {
      "cell_type": "markdown",
      "source": [
        "8) Write a program to demonstrate the use of logical operators."
      ],
      "metadata": {
        "id": "XgOhcSNWiIkj"
      }
    },
    {
      "cell_type": "code",
      "source": [
        "a = True\n",
        "b = False\n",
        "\n",
        "print(f\"a and b: {a and b}\")  # Logical AND\n",
        "print(f\"a or b: {a or b}\")    # Logical OR\n",
        "print(f\"not a: {not a}\")      # Logical NOT\n"
      ],
      "metadata": {
        "colab": {
          "base_uri": "https://localhost:8080/"
        },
        "id": "xHz1wkHAiJGh",
        "outputId": "50c802f6-dbc3-4c59-9354-1044140d9793"
      },
      "execution_count": 23,
      "outputs": [
        {
          "output_type": "stream",
          "name": "stdout",
          "text": [
            "a and b: False\n",
            "a or b: True\n",
            "not a: False\n"
          ]
        }
      ]
    },
    {
      "cell_type": "markdown",
      "source": [
        "9) Write a Python program to convert user input from string to integer, float, and boolean types."
      ],
      "metadata": {
        "id": "3-UPzM0fiJkv"
      }
    },
    {
      "cell_type": "code",
      "source": [
        "a=input(\"enter a number\")\n",
        "print(int(float(a)))\n",
        "print(float(a))\n",
        "print(bool(a))"
      ],
      "metadata": {
        "colab": {
          "base_uri": "https://localhost:8080/"
        },
        "id": "yH6RBZcdiKMW",
        "outputId": "9235b887-99b8-473f-e9b8-3b8180eb88fa"
      },
      "execution_count": 26,
      "outputs": [
        {
          "output_type": "stream",
          "name": "stdout",
          "text": [
            "enter a number12.5\n",
            "12\n",
            "12.5\n",
            "True\n"
          ]
        }
      ]
    },
    {
      "cell_type": "markdown",
      "source": [
        "10) Write code to demonstrate type casting with list elements."
      ],
      "metadata": {
        "id": "z_l1PNWZiLb6"
      }
    },
    {
      "cell_type": "code",
      "source": [
        "l=[1,2,3,4]\n",
        "print(l)\n",
        "l=list(map(str,l))\n",
        "print(l)\n",
        "#or\n",
        "l=[1,2,3,4]\n",
        "t=tuple(l)\n",
        "print(t)"
      ],
      "metadata": {
        "colab": {
          "base_uri": "https://localhost:8080/"
        },
        "id": "-NUWhXh2iL7X",
        "outputId": "fa91456b-1291-4c6f-9a6a-4bf73c7b711a"
      },
      "execution_count": 29,
      "outputs": [
        {
          "output_type": "stream",
          "name": "stdout",
          "text": [
            "[1, 2, 3, 4]\n",
            "['1', '2', '3', '4']\n",
            "(1, 2, 3, 4)\n"
          ]
        }
      ]
    },
    {
      "cell_type": "markdown",
      "source": [
        "11) Write a program that checks if a number is positive, negative, or zero."
      ],
      "metadata": {
        "id": "yWybcKdqiq92"
      }
    },
    {
      "cell_type": "code",
      "execution_count": 30,
      "metadata": {
        "colab": {
          "base_uri": "https://localhost:8080/"
        },
        "id": "6BDjHw7ReKT2",
        "outputId": "a2a00096-71a9-4d40-9e50-7047b0c5906e"
      },
      "outputs": [
        {
          "output_type": "stream",
          "name": "stdout",
          "text": [
            "enter a number-0\n",
            "zero\n"
          ]
        }
      ],
      "source": [
        "n=input(\"enter a number\")\n",
        "if int(n)>0:\n",
        "  print(\"positive\")\n",
        "elif int(n)<0:\n",
        "  print(\"negative\")\n",
        "else:\n",
        "  print(\"zero\")"
      ]
    },
    {
      "cell_type": "markdown",
      "source": [
        "12) Write a for loop to print numbers from 1 to 10."
      ],
      "metadata": {
        "id": "kjDzAEzgisjD"
      }
    },
    {
      "cell_type": "code",
      "source": [
        "for i in range(1,11):\n",
        "    print(i)"
      ],
      "metadata": {
        "colab": {
          "base_uri": "https://localhost:8080/"
        },
        "id": "FDlpMseTitIw",
        "outputId": "f0b8e61d-f3a1-4392-93f0-582b9da1723f"
      },
      "execution_count": 33,
      "outputs": [
        {
          "output_type": "stream",
          "name": "stdout",
          "text": [
            "1\n",
            "2\n",
            "3\n",
            "4\n",
            "5\n",
            "6\n",
            "7\n",
            "8\n",
            "9\n",
            "10\n"
          ]
        }
      ]
    },
    {
      "cell_type": "markdown",
      "source": [
        "13)  Write a Python program to find the sum of all even numbers between 1 and 50."
      ],
      "metadata": {
        "id": "MS3ML4q_iuj1"
      }
    },
    {
      "cell_type": "code",
      "source": [
        "s=0\n",
        "for i in range(1,51):\n",
        "  if i%2==0:\n",
        "    s=s+i\n",
        "print(\"sum of even nos. between 1 to 50 is:\",s)"
      ],
      "metadata": {
        "colab": {
          "base_uri": "https://localhost:8080/"
        },
        "id": "F6VAifzfivBu",
        "outputId": "f32daa5f-6703-4c9b-e6b9-a6cc349e22a5"
      },
      "execution_count": 39,
      "outputs": [
        {
          "output_type": "stream",
          "name": "stdout",
          "text": [
            "sum of even nos. between 1 to 50 is: 650\n"
          ]
        }
      ]
    },
    {
      "cell_type": "markdown",
      "source": [
        "14) Write a program to reverse a string using a while loop."
      ],
      "metadata": {
        "id": "_nRL6uOsivkk"
      }
    },
    {
      "cell_type": "code",
      "source": [
        "\n",
        "\n",
        "def reverse_string_while(input_string):\n",
        "  reversed_string = \"\"\n",
        "  index = len(input_string) - 1\n",
        "  while index >= 0:\n",
        "    reversed_string += input_string[index]\n",
        "    index -= 1\n",
        "  return reversed_string\n",
        "\n",
        "# Example usage\n",
        "string_to_reverse = input(\"Enter a string: \")\n",
        "reversed_string = reverse_string_while(string_to_reverse)\n",
        "print(f\"Reversed string: {reversed_string}\")\n",
        "\n",
        "#or\n",
        "def reverse_string(input_string):\n",
        "  return input_string[::-1]\n",
        "\n",
        "#or\n",
        "original_str = input(\"Enter a string to reverse: \")\n",
        "reversed_str = ''\n",
        "index = len(original_str) - 1\n",
        "\n",
        "while index >= 0:\n",
        "    reversed_str += original_str[index]\n",
        "    index -= 1\n",
        "\n",
        "print(f\"Reversed string: {reversed_str}\")\n",
        "\n"
      ],
      "metadata": {
        "colab": {
          "base_uri": "https://localhost:8080/"
        },
        "id": "WR29eIXniwAs",
        "outputId": "25124844-b104-4c5e-ab69-af9e5fcf0e27"
      },
      "execution_count": 45,
      "outputs": [
        {
          "output_type": "stream",
          "name": "stdout",
          "text": [
            "Enter a string: jar\n",
            "Reversed string: raj\n",
            "Enter a string to reverse: dog\n",
            "Reversed string: god\n"
          ]
        }
      ]
    },
    {
      "cell_type": "markdown",
      "source": [
        "15)  Write a Python program to calculate the factorial of a number provided by the user using a while loop."
      ],
      "metadata": {
        "id": "bRc4aT52jlo5"
      }
    },
    {
      "cell_type": "code",
      "source": [
        "  n=int(input(\"enter a number\"))\n",
        "  f=1\n",
        "  while n>0:\n",
        "    f=f*n\n",
        "    n=n-1\n",
        "  print(f)"
      ],
      "metadata": {
        "colab": {
          "base_uri": "https://localhost:8080/"
        },
        "id": "PbTSxyoJjmPK",
        "outputId": "498c9553-274f-4895-a38e-c9fcd4a5c3f8"
      },
      "execution_count": 47,
      "outputs": [
        {
          "output_type": "stream",
          "name": "stdout",
          "text": [
            "enter a number5\n",
            "120\n"
          ]
        }
      ]
    }
  ]
}